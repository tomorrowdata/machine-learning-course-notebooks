{
 "cells": [
  {
   "cell_type": "markdown",
   "metadata": {},
   "source": [
    "<div hidden=True>\n",
    "    author: Marco Angius\n",
    "    company: TomorrowData srl\n",
    "    mail: marco.angius@tomorrowdata.io\n",
    "    notebook-version: nov20-2.1\n",
    "</div>"
   ]
  },
  {
   "cell_type": "markdown",
   "metadata": {},
   "source": [
    "# AI for the Industry Domain: Predicting Performance and Availability\n",
    "### A case study with real production data \n",
    "\n",
    "This notebook is meant for showing one of the many possible applications of machine learning concerning the Industry domain. \n",
    "\n",
    "To be more specif we are going to predict two KPIs, **Availability** and **Performance** given some data from a production line machine. We would like to create two models for prediction each one of those KPIs."
   ]
  },
  {
   "cell_type": "markdown",
   "metadata": {},
   "source": [
    "## Alarms Dataset and Telemetry Dataset\n",
    "For this case study real world data is used. Data is available only for the *bottleneck* machine of a production line. The datasets have been already processed in order to make the time discrete (slotted) into hours and remove some sensitive information.\n",
    "\n",
    "Two datasets are provided, one for the alarms and one for the telemetry data of the *bottleneck* machine. \n",
    "\n",
    "### Alarms Dataset\n",
    "This dataset contains alarms' information which has been aggregated hourly. \n",
    "\n",
    "The following attributes are available: \n",
    "- `timestamp`: timestamp value for the record; \n",
    "- `allarme_id`: ID of the alarm which uniquely identifies it;\n",
    "- `allarme_bloccante`: if true, the alarm causes the machine to stop during while active;   \n",
    "- `allarme_durata_media`: mean duration of the alarm;\n",
    "- `allarme_tf_medio`: mean machine stopping time caused by the alarm; \n",
    "- `allarme_numero`: the number of times the alarm occurred; \n",
    "\n",
    "Only years, months, days and hours are specified for the *timestamp* column. A record with timestamp `2020-02-03 15:00:00` refers to an alarm occurred once or multiple times from the `15:00` and the `15:59` of that day;\n",
    "\n",
    "### Telemetry Dataset\n",
    "This dataset contains the telemetry (production, timings, etc...) data which has been aggregated hourly.\n",
    "\n",
    "The following attributes are available: \n",
    "- `timestamp`: timestamp value for the record;\n",
    "- `tel_pezzi_prodotti`: aggregated produced units;\n",
    "- `tel_tempo_attivo`: aggregated active time;\n",
    "- `tel_tempo_fermo`: aggregated down time;\n",
    "- `tel_velocità_nominale`: nominal velocity of the machine;\n",
    "- `disponibilità`: hourly computed KPI;\n",
    "- `efficienza`: hourly computed KPI; \n",
    "\n",
    "Only years, months, days and hours are specified for the *timestamp* column. A record with timestamp `2020-02-03 15:00:00` refers to telemetry data acquired from the `15:00` and the `15:59` of that day and aggregated for discretization purposes;"
   ]
  },
  {
   "cell_type": "markdown",
   "metadata": {},
   "source": [
    "# KPIs: Domain Dependent Knowledge\n",
    "\n",
    "## Availability (Disponibilità)\n",
    "Given the following: \n",
    "- *ActiveTime*: time when the machine is producing units (seconds)\n",
    "- *DownTime*: time when the machine is not producing but was scheduled to do it (seconds)\n",
    "\n",
    "The sum of $Active Time + Down Time$ gives the *planned production time*\n",
    "\n",
    "This Key Performance Indicator is defined as follows: \n",
    "\n",
    "\n",
    "$$ Availability = \\dfrac{ActiveTime}{ActiveTime + DownTime}$$\n",
    "\n",
    "<hr>\n",
    "\n",
    "## Performance (Efficienza)\n",
    "- *ActiveTime*: time when the machine is producing units (seconds)\n",
    "- *ProducedUnits*: produced units in the time interval (units)\n",
    "- *NominalVelocity*: the set nominal velocity (units/seconds)for the machine\n",
    "\n",
    "This Key Performance Indicator is defined as follows: \n",
    "\n",
    "\n",
    "$$ Performance = \\dfrac{ProducedUnits \\div ActiveTime}{NominalVelocity} $$"
   ]
  }
 ],
 "metadata": {
  "kernelspec": {
   "display_name": "Python 3",
   "language": "python",
   "name": "python3"
  },
  "language_info": {
   "codemirror_mode": {
    "name": "ipython",
    "version": 3
   },
   "file_extension": ".py",
   "mimetype": "text/x-python",
   "name": "python",
   "nbconvert_exporter": "python",
   "pygments_lexer": "ipython3",
   "version": "3.7.0"
  },
  "latex_envs": {
   "LaTeX_envs_menu_present": true,
   "autoclose": false,
   "autocomplete": true,
   "bibliofile": "biblio.bib",
   "cite_by": "apalike",
   "current_citInitial": 1,
   "eqLabelWithNumbers": true,
   "eqNumInitial": 1,
   "hotkeys": {
    "equation": "Ctrl-E",
    "itemize": "Ctrl-I"
   },
   "labels_anchors": false,
   "latex_user_defs": false,
   "report_style_numbering": false,
   "user_envs_cfg": false
  },
  "toc": {
   "base_numbering": 1,
   "nav_menu": {},
   "number_sections": true,
   "sideBar": true,
   "skip_h1_title": false,
   "title_cell": "Table of Contents",
   "title_sidebar": "Contents",
   "toc_cell": false,
   "toc_position": {
    "height": "calc(100% - 180px)",
    "left": "10px",
    "top": "150px",
    "width": "465.556px"
   },
   "toc_section_display": true,
   "toc_window_display": true
  },
  "varInspector": {
   "cols": {
    "lenName": 16,
    "lenType": 16,
    "lenVar": 40
   },
   "kernels_config": {
    "python": {
     "delete_cmd_postfix": "",
     "delete_cmd_prefix": "del ",
     "library": "var_list.py",
     "varRefreshCmd": "print(var_dic_list())"
    },
    "r": {
     "delete_cmd_postfix": ") ",
     "delete_cmd_prefix": "rm(",
     "library": "var_list.r",
     "varRefreshCmd": "cat(var_dic_list()) "
    }
   },
   "types_to_exclude": [
    "module",
    "function",
    "builtin_function_or_method",
    "instance",
    "_Feature"
   ],
   "window_display": false
  }
 },
 "nbformat": 4,
 "nbformat_minor": 4
}
