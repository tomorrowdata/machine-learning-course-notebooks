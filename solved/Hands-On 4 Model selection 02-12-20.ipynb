{
 "cells": [
  {
   "cell_type": "markdown",
   "metadata": {},
   "source": [
    "<div hidden=True>\n",
    "    author: Marco Angius\n",
    "    company: TomorrowData srl\n",
    "    mail: marco.angius@tomorrowdata.io\n",
    "    notebook-version: nov20-v2.1\n",
    "    \n",
    "</div>"
   ]
  },
  {
   "cell_type": "markdown",
   "metadata": {},
   "source": [
    "# Hands-on 4: Model Selection\n",
    "### Version 2.1\n",
    "This section aims to give some hints on how evaluating models and selecting parameters. We are going to use supervised models for this scope. We still employ Scikit-learn which offers also a good reference about [this topic](https://scikit-learn.org/stable/model_selection.html#model-selection). \n",
    "\n",
    "The agenda: \n",
    "- Cross Validation \n",
    "- Grid Search\n",
    "- Evaluation Metrics"
   ]
  },
  {
   "cell_type": "markdown",
   "metadata": {},
   "source": [
    "### mglearn library \n",
    "For visualizing the results obtained with our models we are going to employ an existing library made by Andreas C. Muller (author of the book *Introduction to Machine Learning with Python*). The library is available in the [github repository](https://github.com/amueller/mglearn)."
   ]
  },
  {
   "cell_type": "code",
   "execution_count": 1,
   "metadata": {},
   "outputs": [
    {
     "name": "stdout",
     "output_type": "stream",
     "text": [
      "Requirement already satisfied: mglearn==0.1.9 in /home/marco/miniconda3/envs/mlcourse/lib/python3.7/site-packages (0.1.9)\r\n",
      "Requirement already satisfied: pillow in /home/marco/miniconda3/envs/mlcourse/lib/python3.7/site-packages (from mglearn==0.1.9) (8.0.1)\r\n",
      "Requirement already satisfied: numpy in /home/marco/miniconda3/envs/mlcourse/lib/python3.7/site-packages (from mglearn==0.1.9) (1.19.2)\r\n",
      "Requirement already satisfied: cycler in /home/marco/miniconda3/envs/mlcourse/lib/python3.7/site-packages (from mglearn==0.1.9) (0.10.0)\r\n",
      "Requirement already satisfied: joblib in /home/marco/miniconda3/envs/mlcourse/lib/python3.7/site-packages (from mglearn==0.1.9) (0.17.0)\r\n",
      "Requirement already satisfied: scikit-learn in /home/marco/miniconda3/envs/mlcourse/lib/python3.7/site-packages (from mglearn==0.1.9) (0.23.2)\r\n",
      "Requirement already satisfied: imageio in /home/marco/miniconda3/envs/mlcourse/lib/python3.7/site-packages (from mglearn==0.1.9) (2.9.0)\r\n",
      "Requirement already satisfied: matplotlib in /home/marco/miniconda3/envs/mlcourse/lib/python3.7/site-packages (from mglearn==0.1.9) (3.3.2)\r\n",
      "Requirement already satisfied: pandas in /home/marco/miniconda3/envs/mlcourse/lib/python3.7/site-packages (from mglearn==0.1.9) (1.1.3)\r\n",
      "Requirement already satisfied: six in /home/marco/miniconda3/envs/mlcourse/lib/python3.7/site-packages (from cycler->mglearn==0.1.9) (1.15.0)\r\n",
      "Requirement already satisfied: scipy>=0.19.1 in /home/marco/miniconda3/envs/mlcourse/lib/python3.7/site-packages (from scikit-learn->mglearn==0.1.9) (1.5.2)\r\n",
      "Requirement already satisfied: threadpoolctl>=2.0.0 in /home/marco/miniconda3/envs/mlcourse/lib/python3.7/site-packages (from scikit-learn->mglearn==0.1.9) (2.1.0)\r\n",
      "Requirement already satisfied: python-dateutil>=2.1 in /home/marco/miniconda3/envs/mlcourse/lib/python3.7/site-packages (from matplotlib->mglearn==0.1.9) (2.8.1)\r\n",
      "Requirement already satisfied: kiwisolver>=1.0.1 in /home/marco/miniconda3/envs/mlcourse/lib/python3.7/site-packages (from matplotlib->mglearn==0.1.9) (1.3.0)\r\n",
      "Requirement already satisfied: certifi>=2020.06.20 in /home/marco/miniconda3/envs/mlcourse/lib/python3.7/site-packages (from matplotlib->mglearn==0.1.9) (2020.11.8)\r\n",
      "Requirement already satisfied: pyparsing!=2.0.4,!=2.1.2,!=2.1.6,>=2.0.3 in /home/marco/miniconda3/envs/mlcourse/lib/python3.7/site-packages (from matplotlib->mglearn==0.1.9) (2.4.7)\r\n",
      "Requirement already satisfied: pytz>=2017.2 in /home/marco/miniconda3/envs/mlcourse/lib/python3.7/site-packages (from pandas->mglearn==0.1.9) (2020.1)\r\n"
     ]
    }
   ],
   "source": [
    "!pip install mglearn==0.1.9"
   ]
  },
  {
   "cell_type": "code",
   "execution_count": 2,
   "metadata": {},
   "outputs": [],
   "source": [
    "from sklearn.datasets import load_iris, load_digits\n",
    "from sklearn.model_selection import cross_val_score, train_test_split, KFold, GridSearchCV, StratifiedKFold\n",
    "from sklearn.linear_model import LogisticRegression\n",
    "from sklearn.svm import SVC\n",
    "from sklearn.dummy import DummyClassifier\n",
    "from sklearn.tree import DecisionTreeClassifier\n",
    "from sklearn.metrics import f1_score, recall_score, precision_score\n",
    "\n",
    "import pandas as pd\n",
    "import numpy as np\n",
    "import matplotlib.pyplot as plt\n",
    "import mglearn\n",
    "\n",
    "import warnings\n",
    "warnings.simplefilter(action='ignore', category=FutureWarning)\n",
    "warnings.simplefilter(action='ignore', category=DeprecationWarning)"
   ]
  },
  {
   "cell_type": "markdown",
   "metadata": {},
   "source": [
    "## Cross Validation\n",
    "In the previous notebooks we have already used `train_test_split` for keeping part of the data outside the model training in order to observe its generalization capabilities on unseen data. Cross Validation allows for more control over the data granting more stability and allows to use all the available data for the training.\n",
    "\n",
    "It does it by splitting the dataset into *folds* and then using the k-1 folds for training and the left fold for testing, repeating the process until all folds are used as test set. This means that the model is trained k times, then the obtained scores on the single folds and the mean score is given.\n",
    "\n"
   ]
  },
  {
   "cell_type": "code",
   "execution_count": 3,
   "metadata": {},
   "outputs": [
    {
     "data": {
      "image/png": "[encoded data removed]",
      "text/plain": [
       "<Figure size 864x144 with 1 Axes>"
      ]
     },
     "metadata": {
      "needs_background": "light"
     },
     "output_type": "display_data"
    }
   ],
   "source": [
    "mglearn.plots.plot_cross_validation()"
   ]
  },
  {
   "cell_type": "markdown",
   "metadata": {},
   "source": [
    "<div class=\"alert alert-info\" role=\"alert\">\n",
    "    \n",
    "<img src=\"./icons/list.png\"  width=\"20\" height=\"20\" align=\"left\"> &nbsp;  **Exercise 1: Cross-Validation**\n",
    "- load the *iris* dataset \n",
    "- select a model for classification (suggestion: `sklearn.linear_model.LogisticRegression`)\n",
    "- use `scores = cross_val_score(model, X, y, cv=numb_folds)` and check the result \n",
    "- try different *numb_folds* values\n",
    "\n",
    "**Disclaimer**: we are using the test set as validation set just for keep things simple. In the next chapter we will see how to prepare the data properly between training, validation and test.\n",
    "    \n",
    "Why some folds performs perfectly and others are performing worse?\n",
    "    \n",
    "\n",
    "</div>"
   ]
  },
  {
   "cell_type": "code",
   "execution_count": 4,
   "metadata": {
    "deletable": false,
    "editable": false
   },
   "outputs": [],
   "source": [
    "def print_pretty_scores(scores):\n",
    "    print(\"Mean sore on test set: {:.3f}\".format(scores.mean()))\n",
    "    print(\"Std score on test set: {:3f}\".format(scores.std()))\n",
    "    for i, score in enumerate(scores):\n",
    "        print(\"Fold {} - score: {:.3f}\".format(i, score))"
   ]
  },
  {
   "cell_type": "code",
   "execution_count": 5,
   "metadata": {},
   "outputs": [],
   "source": [
    "iris_ds = load_iris()\n",
    "X, y = iris_ds.data, iris_ds.target"
   ]
  },
  {
   "cell_type": "code",
   "execution_count": 13,
   "metadata": {},
   "outputs": [
    {
     "name": "stdout",
     "output_type": "stream",
     "text": [
      ".. _iris_dataset:\n",
      "\n",
      "Iris plants dataset\n",
      "--------------------\n",
      "\n",
      "**Data Set Characteristics:**\n",
      "\n",
      "    :Number of Instances: 150 (50 in each of three classes)\n",
      "    :Number of Attributes: 4 numeric, predictive attributes and the class\n",
      "    :Attribute Information:\n",
      "        - sepal length in cm\n",
      "        - sepal width in cm\n",
      "        - petal length in cm\n",
      "        - petal width in cm\n",
      "        - class:\n",
      "                - Iris-Setosa\n",
      "                - Iris-Versicolour\n",
      "                - Iris-Virginica\n",
      "                \n",
      "    :Summary Statistics:\n",
      "\n",
      "    ============== ==== ==== ======= ===== ====================\n",
      "                    Min  Max   Mean    SD   Class Correlation\n",
      "    ============== ==== ==== ======= ===== ====================\n",
      "    sepal length:   4.3  7.9   5.84   0.83    0.7826\n",
      "    sepal width:    2.0  4.4   3.05   0.43   -0.4194\n",
      "    petal length:   1.0  6.9   3.76   1.76    0.9490  (high!)\n",
      "    petal width:    0.1  2.5   1.20   0.76    0.9565  (high!)\n",
      "    ============== ==== ==== ======= ===== ====================\n",
      "\n",
      "    :Missing Attribute Values: None\n",
      "    :Class Distribution: 33.3% for each of 3 classes.\n",
      "    :Creator: R.A. Fisher\n",
      "    :Donor: Michael Marshall (MARSHALL%PLU@io.arc.nasa.gov)\n",
      "    :Date: July, 1988\n",
      "\n",
      "The famous Iris database, first used by Sir R.A. Fisher. The dataset is taken\n",
      "from Fisher's paper. Note that it's the same as in R, but not as in the UCI\n",
      "Machine Learning Repository, which has two wrong data points.\n",
      "\n",
      "This is perhaps the best known database to be found in the\n",
      "pattern recognition literature.  Fisher's paper is a classic in the field and\n",
      "is referenced frequently to this day.  (See Duda & Hart, for example.)  The\n",
      "data set contains 3 classes of 50 instances each, where each class refers to a\n",
      "type of iris plant.  One class is linearly separable from the other 2; the\n",
      "latter are NOT linearly separable from each other.\n",
      "\n",
      ".. topic:: References\n",
      "\n",
      "   - Fisher, R.A. \"The use of multiple measurements in taxonomic problems\"\n",
      "     Annual Eugenics, 7, Part II, 179-188 (1936); also in \"Contributions to\n",
      "     Mathematical Statistics\" (John Wiley, NY, 1950).\n",
      "   - Duda, R.O., & Hart, P.E. (1973) Pattern Classification and Scene Analysis.\n",
      "     (Q327.D83) John Wiley & Sons.  ISBN 0-471-22361-1.  See page 218.\n",
      "   - Dasarathy, B.V. (1980) \"Nosing Around the Neighborhood: A New System\n",
      "     Structure and Classification Rule for Recognition in Partially Exposed\n",
      "     Environments\".  IEEE Transactions on Pattern Analysis and Machine\n",
      "     Intelligence, Vol. PAMI-2, No. 1, 67-71.\n",
      "   - Gates, G.W. (1972) \"The Reduced Nearest Neighbor Rule\".  IEEE Transactions\n",
      "     on Information Theory, May 1972, 431-433.\n",
      "   - See also: 1988 MLC Proceedings, 54-64.  Cheeseman et al\"s AUTOCLASS II\n",
      "     conceptual clustering system finds 3 classes in the data.\n",
      "   - Many, many more ...\n"
     ]
    }
   ],
   "source": [
    "print(iris_ds.DESCR)"
   ]
  },
  {
   "cell_type": "code",
   "execution_count": 8,
   "metadata": {},
   "outputs": [],
   "source": [
    "from sklearn.preprocessing import MinMaxScaler"
   ]
  },
  {
   "cell_type": "code",
   "execution_count": 9,
   "metadata": {},
   "outputs": [],
   "source": [
    "mms = MinMaxScaler()"
   ]
  },
  {
   "cell_type": "code",
   "execution_count": 10,
   "metadata": {},
   "outputs": [],
   "source": [
    "lr = LogisticRegression()"
   ]
  },
  {
   "cell_type": "code",
   "execution_count": 11,
   "metadata": {},
   "outputs": [],
   "source": [
    "scores = cross_val_score(lr, mms.fit_transform(X), y, cv=5)"
   ]
  },
  {
   "cell_type": "code",
   "execution_count": 12,
   "metadata": {},
   "outputs": [
    {
     "name": "stdout",
     "output_type": "stream",
     "text": [
      "Mean sore on test set: 0.927\n",
      "Std score on test set: 0.057349\n",
      "Fold 0 - score: 0.833\n",
      "Fold 1 - score: 0.967\n",
      "Fold 2 - score: 0.933\n",
      "Fold 3 - score: 0.900\n",
      "Fold 4 - score: 1.000\n"
     ]
    }
   ],
   "source": [
    "print_pretty_scores(scores)"
   ]
  },
  {
   "cell_type": "markdown",
   "metadata": {},
   "source": [
    "<div class=\"alert alert-info\" role=\"alert\">\n",
    "    \n",
    "<img src=\"./icons/list.png\"  width=\"20\" height=\"20\" align=\"left\"> &nbsp;  **Exercise 2: Stratified CV**\n",
    "For classification we might want to preserve the distribution of classes across training and testing. Standard *cross_validation* does not allows this. We can use the `sklearn.model_selection.StratifiedKFold` for taking into account class distributions.\n",
    "\n",
    "- use the iris dataset\n",
    "- instantiate `skf = StratifiedKFold(n_splits)` \n",
    "- use it over the iris dataset by passing the strategy to the `cross_val_score(cv=skf)` \n",
    "- compare the results using `kf = KFold(n_splits, shuffle=False)`\n",
    "\n",
    "What if we do not perform shuffle?\n",
    "\n",
    "</div>"
   ]
  },
  {
   "cell_type": "code",
   "execution_count": 16,
   "metadata": {
    "deletable": false,
    "editable": false,
    "scrolled": true
   },
   "outputs": [
    {
     "data": {
      "text/html": [
       "<div>\n",
       "<style scoped>\n",
       "    .dataframe tbody tr th:only-of-type {\n",
       "        vertical-align: middle;\n",
       "    }\n",
       "\n",
       "    .dataframe tbody tr th {\n",
       "        vertical-align: top;\n",
       "    }\n",
       "\n",
       "    .dataframe thead th {\n",
       "        text-align: right;\n",
       "    }\n",
       "</style>\n",
       "<table border=\"1\" class=\"dataframe\">\n",
       "  <thead>\n",
       "    <tr style=\"text-align: right;\">\n",
       "      <th></th>\n",
       "      <th>count</th>\n",
       "    </tr>\n",
       "    <tr>\n",
       "      <th>classes</th>\n",
       "      <th></th>\n",
       "    </tr>\n",
       "  </thead>\n",
       "  <tbody>\n",
       "    <tr>\n",
       "      <th>0.0</th>\n",
       "      <td>50</td>\n",
       "    </tr>\n",
       "    <tr>\n",
       "      <th>1.0</th>\n",
       "      <td>50</td>\n",
       "    </tr>\n",
       "    <tr>\n",
       "      <th>2.0</th>\n",
       "      <td>50</td>\n",
       "    </tr>\n",
       "  </tbody>\n",
       "</table>\n",
       "</div>"
      ],
      "text/plain": [
       "         count\n",
       "classes       \n",
       "0.0         50\n",
       "1.0         50\n",
       "2.0         50"
      ]
     },
     "execution_count": 16,
     "metadata": {},
     "output_type": "execute_result"
    }
   ],
   "source": [
    "pd.DataFrame(np.concatenate((y.reshape(-1,1), np.ones((len(y), 1))), axis=1), \n",
    "             columns=[\"classes\", \"count\"]).groupby(\"classes\").count()"
   ]
  },
  {
   "cell_type": "code",
   "execution_count": 34,
   "metadata": {},
   "outputs": [],
   "source": [
    "iris_ds = load_iris()\n",
    "X, y = iris_ds.data, iris_ds.target"
   ]
  },
  {
   "cell_type": "code",
   "execution_count": 35,
   "metadata": {},
   "outputs": [],
   "source": [
    "mms = MinMaxScaler()\n",
    "X_mms = mms.fit_transform(X)"
   ]
  },
  {
   "cell_type": "code",
   "execution_count": 36,
   "metadata": {},
   "outputs": [
    {
     "name": "stdout",
     "output_type": "stream",
     "text": [
      "Mean sore on test set: 0.720\n",
      "Std score on test set: 0.247296\n",
      "Fold 0 - score: 1.000\n",
      "Fold 1 - score: 0.867\n",
      "Fold 2 - score: 0.333\n",
      "Fold 3 - score: 0.867\n",
      "Fold 4 - score: 0.533\n"
     ]
    }
   ],
   "source": [
    "scores = cross_val_score(lr, X_mms, y, cv=KFold(n_splits=5, shuffle=False))\n",
    "print_pretty_scores(scores)"
   ]
  },
  {
   "cell_type": "code",
   "execution_count": 37,
   "metadata": {},
   "outputs": [
    {
     "name": "stdout",
     "output_type": "stream",
     "text": [
      "Mean sore on test set: 0.927\n",
      "Std score on test set: 0.057349\n",
      "Fold 0 - score: 0.833\n",
      "Fold 1 - score: 0.967\n",
      "Fold 2 - score: 0.933\n",
      "Fold 3 - score: 0.900\n",
      "Fold 4 - score: 1.000\n"
     ]
    }
   ],
   "source": [
    "scores = cross_val_score(lr, X_mms, y, cv=StratifiedKFold(n_splits=5))\n",
    "print_pretty_scores(scores)"
   ]
  },
  {
   "cell_type": "markdown",
   "metadata": {},
   "source": [
    "<div class=\"alert alert-warning\" role=\"alert\">\n",
    "    \n",
    "<img src=\"./icons/book.png\"  width=\"20\" height=\"20\" align=\"left\"> &nbsp;  **Theory: Large datasets**\n",
    "\n",
    "In cases when datasets are large another useful cross-validation tool is *shuffle-split cv* which uses a different strategy for creating the splits. It creates n splits and allows for selecting the portion of training points and test points which do not need to sum to one. This is like subsampling the initial dataset and allows for controlling the number of splits without affecting the distribution of samples in the training and test sets. \n",
    "\n",
    "In scikit-learn `ShuffleSplit` and `StratifiedShuffleSplit` for classification are available for this purpose.\n",
    "\n",
    "</div>"
   ]
  },
  {
   "cell_type": "markdown",
   "metadata": {},
   "source": [
    "## GridSearch\n",
    "Since now we have used supervised models which number of hyperparameters is limited. There are cases where a model can be tuned with many parameters. We are going to see one of this case with Support Vector Machines and the use of RBF (Radial Basis Function) as a kernel. "
   ]
  },
  {
   "cell_type": "markdown",
   "metadata": {},
   "source": [
    "<div class=\"alert alert-info\" role=\"alert\">\n",
    "    \n",
    "<img src=\"./icons/list.png\"  width=\"20\" height=\"20\" align=\"left\"> &nbsp;  **Exercise 3: Implementation of Grid Search**\n",
    "We keep using the iris dataset (balanced version) for this tasks. \n",
    "\n",
    "- split the iris dataset in training and test using `train_test_split()`\n",
    "- using the provided list of hyper-parameter `gamma` and `C: \n",
    "    - train the `sklearn.svm.SVC()` model using all combinations of the two \n",
    "    - save the best hyper-parameters and the best test score \n",
    "- print the best obtained results\n",
    "\n",
    "</div>"
   ]
  },
  {
   "cell_type": "code",
   "execution_count": 38,
   "metadata": {
    "deletable": false,
    "editable": false
   },
   "outputs": [],
   "source": [
    "X_train, X_test, y_train, y_test = train_test_split(X,y, random_state=7)"
   ]
  },
  {
   "cell_type": "code",
   "execution_count": 39,
   "metadata": {
    "deletable": false,
    "editable": false
   },
   "outputs": [],
   "source": [
    "gamma = [0.001, 0.01, 0.1, 1, 10, 100]\n",
    "C = [0.001, 0.01, 0.1, 1, 10, 100]"
   ]
  },
  {
   "cell_type": "code",
   "execution_count": 42,
   "metadata": {},
   "outputs": [
    {
     "name": "stdout",
     "output_type": "stream",
     "text": [
      "Best score 0.947\n",
      "Model hyperp - Gamma: 0.01 - C: 100\n"
     ]
    }
   ],
   "source": [
    "best_score = - np.inf\n",
    "best_model = (None, None)\n",
    "\n",
    "for g in gamma:\n",
    "    for c in C:\n",
    "        svc = SVC(gamma=g, C=c)\n",
    "        svc.fit(X_train, y_train)\n",
    "        score = svc.score(X_test, y_test)\n",
    "        best_model = (g, c) if score > best_score else best_model\n",
    "        best_score = score if score > best_score else best_score\n",
    "print(\"Best score {:.3f}\".format(best_score))\n",
    "print(\"Model hyperp - Gamma: {} - C: {}\".format(*best_model))"
   ]
  },
  {
   "cell_type": "markdown",
   "metadata": {},
   "source": [
    "### GridSearch with CV\n",
    "What we did before applying Grid Search was to look for the hyper-parameters of our model(s) on the test data.\n",
    "\n",
    "**Using the test data for searching the best hyper-parameter set has to be avoided!**\n",
    "\n",
    "Using the test set leads to being overconfident on selecting the best model (or hyper-parameter set). \n",
    "Indeed, we do not have any information on how the model would behave with new data and due to we used the test for finding the best parameters we cannot use it for evaluating how good is the model. \n",
    "\n",
    "We should split the data further, keeping the test for evaluating the goodness of the model while using another split to select the best combination of hyper-parameters. \n",
    "\n",
    "The new portion we are seeking has to be look on the training data! This split is called **validation set**. We can use cross-validation applied to the training data for deriving different splits of training and validation sets. The best model, the one with best abtained mean score on the different splits is selected. \n",
    "\n",
    "Once selected, all the data from the original training set is used to train the model on the found hyper-parameters. The test set is then used to assess the **generalization** performance of the model to unseen data."
   ]
  },
  {
   "cell_type": "markdown",
   "metadata": {},
   "source": [
    "<div class=\"alert alert-info\" role=\"alert\">\n",
    "    \n",
    "<img src=\"./icons/list.png\"  width=\"20\" height=\"20\" align=\"left\"> &nbsp;  **Exercise 4: GridSearchCV**\n",
    "\n",
    "Scikit-learn implement a model which performs both gridsearch and CV. Use the already defined dictionary which encodes the parameter grid and: \n",
    "- instantiate `gscv = GridSearchCV(model, param_grid, cv)` class passing a `SVC()` model and the parameters\n",
    "- split the iris dataset in train and test sets\n",
    "- fit the model on the training set \n",
    "- analyze the obtained scores with the `show_scores_gscv(gscv)` provided function\n",
    "- evaluate the best model:\n",
    "    - get the model `gscv.best_estimator`\n",
    "    - evaluate score for test set\n",
    "\n",
    "</div>"
   ]
  },
  {
   "cell_type": "code",
   "execution_count": 43,
   "metadata": {
    "deletable": false,
    "editable": false
   },
   "outputs": [],
   "source": [
    "def show_scores_gscv(model):\n",
    "    res = pd.DataFrame(model.cv_results_)\n",
    "    return (\n",
    "        res[res.columns[4:]].drop(columns=\"params\")\n",
    "        .set_index([\"param_gamma\", \"param_C\"])\n",
    "        .sort_values(\"rank_test_score\")[:5]\n",
    "    )"
   ]
  },
  {
   "cell_type": "code",
   "execution_count": 44,
   "metadata": {
    "deletable": false,
    "editable": false
   },
   "outputs": [],
   "source": [
    "param_grid = {'C': [0.001, 0.01, 0.1, 1, 10, 100], 'gamma': [0.001, 0.01, 0.1, 1, 10, 100]}"
   ]
  },
  {
   "cell_type": "code",
   "execution_count": 45,
   "metadata": {
    "deletable": false,
    "editable": false
   },
   "outputs": [],
   "source": [
    "X_train, X_test, y_train, y_test = train_test_split(iris_ds.data, iris_ds.target, random_state=100)"
   ]
  },
  {
   "cell_type": "code",
   "execution_count": 46,
   "metadata": {
    "deletable": false,
    "editable": false
   },
   "outputs": [],
   "source": [
    "gscv = GridSearchCV(SVC(), param_grid, cv=3)"
   ]
  },
  {
   "cell_type": "code",
   "execution_count": 47,
   "metadata": {},
   "outputs": [
    {
     "data": {
      "text/plain": [
       "GridSearchCV(cv=3, estimator=SVC(),\n",
       "             param_grid={'C': [0.001, 0.01, 0.1, 1, 10, 100],\n",
       "                         'gamma': [0.001, 0.01, 0.1, 1, 10, 100]})"
      ]
     },
     "execution_count": 47,
     "metadata": {},
     "output_type": "execute_result"
    }
   ],
   "source": [
    "gscv.fit(X_train, y_train)"
   ]
  },
  {
   "cell_type": "code",
   "execution_count": 48,
   "metadata": {},
   "outputs": [
    {
     "data": {
      "text/html": [
       "<div>\n",
       "<style scoped>\n",
       "    .dataframe tbody tr th:only-of-type {\n",
       "        vertical-align: middle;\n",
       "    }\n",
       "\n",
       "    .dataframe tbody tr th {\n",
       "        vertical-align: top;\n",
       "    }\n",
       "\n",
       "    .dataframe thead th {\n",
       "        text-align: right;\n",
       "    }\n",
       "</style>\n",
       "<table border=\"1\" class=\"dataframe\">\n",
       "  <thead>\n",
       "    <tr style=\"text-align: right;\">\n",
       "      <th></th>\n",
       "      <th></th>\n",
       "      <th>split0_test_score</th>\n",
       "      <th>split1_test_score</th>\n",
       "      <th>split2_test_score</th>\n",
       "      <th>mean_test_score</th>\n",
       "      <th>std_test_score</th>\n",
       "      <th>rank_test_score</th>\n",
       "    </tr>\n",
       "    <tr>\n",
       "      <th>param_gamma</th>\n",
       "      <th>param_C</th>\n",
       "      <th></th>\n",
       "      <th></th>\n",
       "      <th></th>\n",
       "      <th></th>\n",
       "      <th></th>\n",
       "      <th></th>\n",
       "    </tr>\n",
       "  </thead>\n",
       "  <tbody>\n",
       "    <tr>\n",
       "      <th>0.01</th>\n",
       "      <th>100.0</th>\n",
       "      <td>0.921053</td>\n",
       "      <td>0.972973</td>\n",
       "      <td>1.000000</td>\n",
       "      <td>0.964675</td>\n",
       "      <td>0.032760</td>\n",
       "      <td>1</td>\n",
       "    </tr>\n",
       "    <tr>\n",
       "      <th>1.00</th>\n",
       "      <th>1.0</th>\n",
       "      <td>0.921053</td>\n",
       "      <td>0.972973</td>\n",
       "      <td>1.000000</td>\n",
       "      <td>0.964675</td>\n",
       "      <td>0.032760</td>\n",
       "      <td>1</td>\n",
       "    </tr>\n",
       "    <tr>\n",
       "      <th>0.10</th>\n",
       "      <th>100.0</th>\n",
       "      <td>0.921053</td>\n",
       "      <td>0.945946</td>\n",
       "      <td>1.000000</td>\n",
       "      <td>0.955666</td>\n",
       "      <td>0.032955</td>\n",
       "      <td>3</td>\n",
       "    </tr>\n",
       "    <tr>\n",
       "      <th>1.00</th>\n",
       "      <th>10.0</th>\n",
       "      <td>0.921053</td>\n",
       "      <td>0.945946</td>\n",
       "      <td>1.000000</td>\n",
       "      <td>0.955666</td>\n",
       "      <td>0.032955</td>\n",
       "      <td>3</td>\n",
       "    </tr>\n",
       "    <tr>\n",
       "      <th>0.10</th>\n",
       "      <th>10.0</th>\n",
       "      <td>0.921053</td>\n",
       "      <td>0.972973</td>\n",
       "      <td>0.972973</td>\n",
       "      <td>0.955666</td>\n",
       "      <td>0.024475</td>\n",
       "      <td>3</td>\n",
       "    </tr>\n",
       "  </tbody>\n",
       "</table>\n",
       "</div>"
      ],
      "text/plain": [
       "                     split0_test_score  split1_test_score  split2_test_score  \\\n",
       "param_gamma param_C                                                            \n",
       "0.01        100.0             0.921053           0.972973           1.000000   \n",
       "1.00        1.0               0.921053           0.972973           1.000000   \n",
       "0.10        100.0             0.921053           0.945946           1.000000   \n",
       "1.00        10.0              0.921053           0.945946           1.000000   \n",
       "0.10        10.0              0.921053           0.972973           0.972973   \n",
       "\n",
       "                     mean_test_score  std_test_score  rank_test_score  \n",
       "param_gamma param_C                                                    \n",
       "0.01        100.0           0.964675        0.032760                1  \n",
       "1.00        1.0             0.964675        0.032760                1  \n",
       "0.10        100.0           0.955666        0.032955                3  \n",
       "1.00        10.0            0.955666        0.032955                3  \n",
       "0.10        10.0            0.955666        0.024475                3  "
      ]
     },
     "execution_count": 48,
     "metadata": {},
     "output_type": "execute_result"
    }
   ],
   "source": [
    "show_scores_gscv(gscv)"
   ]
  },
  {
   "cell_type": "code",
   "execution_count": 49,
   "metadata": {},
   "outputs": [
    {
     "data": {
      "text/plain": [
       "0.9473684210526315"
      ]
     },
     "execution_count": 49,
     "metadata": {},
     "output_type": "execute_result"
    }
   ],
   "source": [
    "gscv.score(X_test, y_test)"
   ]
  },
  {
   "cell_type": "markdown",
   "metadata": {},
   "source": [
    "## Metrics: unbalancing in classification \n",
    "\n",
    "Let's consider the binary case: it may happen that the problem under study presents much more samples of a class (majority class) with respect to the other class (minority class). An example is when predicting a diagnosis for tumors for which we have the majority of cases to be negative and few samples to be positives. \n",
    "\n",
    "In such cases the dataset is said to be **unbalanced**. \n",
    "\n",
    "The presence of an unbalanced distribution of the classes in the dataset may affect the model training and results. We had a look previously while performing CV in exercise 1 and 2."
   ]
  },
  {
   "cell_type": "markdown",
   "metadata": {},
   "source": [
    "<div class=\"alert alert-info\" role=\"alert\">\n",
    "    \n",
    "<img src=\"./icons/list.png\"  width=\"20\" height=\"20\" align=\"left\"> &nbsp;  **Exercise 5: Unbalanced Cases**\n",
    "Using the provided dataset (the *digits* dataset casted to be binary) check the performances using the `sklearn.metrics.accuracy_score` with:\n",
    "- A dummy classifier `DummyClassifier`\n",
    "- A decision tree classifier `DecisionTreeClassifier`\n",
    "- A logistic regression `LogisticRegression`\n",
    "\n",
    "\n",
    "Why the *Dummy* model is getting an high score ?\n",
    "</div>"
   ]
  },
  {
   "cell_type": "code",
   "execution_count": 50,
   "metadata": {
    "deletable": false,
    "editable": false
   },
   "outputs": [],
   "source": [
    "X, y = load_digits(return_X_y=True)\n",
    "y = y == 3"
   ]
  },
  {
   "cell_type": "code",
   "execution_count": 51,
   "metadata": {
    "deletable": false,
    "editable": false
   },
   "outputs": [],
   "source": [
    "from sklearn.metrics import accuracy_score"
   ]
  },
  {
   "cell_type": "code",
   "execution_count": 52,
   "metadata": {},
   "outputs": [],
   "source": [
    "dummy_model = DummyClassifier(strategy='most_frequent')"
   ]
  },
  {
   "cell_type": "code",
   "execution_count": 53,
   "metadata": {},
   "outputs": [],
   "source": [
    "X_train, X_test, y_train, y_test = train_test_split(X, y, random_state=100)"
   ]
  },
  {
   "cell_type": "code",
   "execution_count": 54,
   "metadata": {},
   "outputs": [],
   "source": [
    "param_grid_rf = {'max_depth': [3, 5, 7, 8, 9], 'criterion': ['gini', 'entropy']}\n",
    "param_grid_lr = {'C': [0.1, 0.4, 1, 2, 5],}"
   ]
  },
  {
   "cell_type": "code",
   "execution_count": 57,
   "metadata": {},
   "outputs": [
    {
     "data": {
      "text/plain": [
       "GridSearchCV(cv=3, estimator=DecisionTreeClassifier(),\n",
       "             param_grid={'criterion': ['gini', 'entropy'],\n",
       "                         'max_depth': [3, 5, 7, 8, 9]})"
      ]
     },
     "execution_count": 57,
     "metadata": {},
     "output_type": "execute_result"
    }
   ],
   "source": [
    "gsdt = GridSearchCV(DecisionTreeClassifier(), param_grid_rf, cv=3)\n",
    "gsdt.fit(X_train, y_train)"
   ]
  },
  {
   "cell_type": "code",
   "execution_count": 58,
   "metadata": {},
   "outputs": [
    {
     "data": {
      "text/plain": [
       "GridSearchCV(cv=3, estimator=LogisticRegression(),\n",
       "             param_grid={'C': [0.1, 0.4, 1, 2, 5]})"
      ]
     },
     "execution_count": 58,
     "metadata": {},
     "output_type": "execute_result"
    }
   ],
   "source": [
    "gslr = GridSearchCV(LogisticRegression(), param_grid_lr, cv=3)\n",
    "gslr.fit(mms.fit_transform(X_train), y_train)"
   ]
  },
  {
   "cell_type": "code",
   "execution_count": 59,
   "metadata": {},
   "outputs": [
    {
     "data": {
      "text/plain": [
       "DummyClassifier(strategy='most_frequent')"
      ]
     },
     "execution_count": 59,
     "metadata": {},
     "output_type": "execute_result"
    }
   ],
   "source": [
    "dummy_model.fit(X_train, y_train)"
   ]
  },
  {
   "cell_type": "code",
   "execution_count": 60,
   "metadata": {},
   "outputs": [
    {
     "name": "stdout",
     "output_type": "stream",
     "text": [
      "Dummy etimator test score: 0.913\n",
      "Decision Tree etimator test score: 0.973\n",
      "Linear Regressor etimator test score: 0.984\n"
     ]
    }
   ],
   "source": [
    "print(\"Dummy etimator test score: {:.3f}\".format(accuracy_score(dummy_model.predict(X_test), y_test))) \n",
    "print(\"Decision Tree etimator test score: {:.3f}\".format(\n",
    "    accuracy_score(gsdt.best_estimator_.predict(X_test), y_test))) \n",
    "print(\"Linear Regressor etimator test score: {:.3f}\".format(\n",
    "    accuracy_score(gslr.best_estimator_.predict(mms.transform(X_test)), y_test))) "
   ]
  },
  {
   "cell_type": "markdown",
   "metadata": {},
   "source": [
    "### Confusion matrix, precision, recall and f-score\n",
    "One way to evaluate unbalanced classification problems is to use a confusion matrix. This allows to check how many points are miss-classified, either a positive class classified as negative or a negative class classified as positive, or correctly classified. The terminology for the confusion matrix is: *True Negative* (TN), *True Positive* (TP), *False Negative* (FN) and *False Positives* (FP).\n",
    "\n",
    "From these it is possible to define the following metrics: \n",
    "- **Precision**: $ \\frac{TP}{TP+FP} $ optimizes the least number of FP miss classified\n",
    "- **Recall**: $ \\frac{TP}{TP+FN} $ optimizes the positive class correctly classified (minority one usually)\n",
    "- **F-score**: $2 * \\frac{precision * recall}{precision + recall} $ harmonic mean of precision and recall\n"
   ]
  },
  {
   "cell_type": "markdown",
   "metadata": {},
   "source": [
    "<div class=\"alert alert-info\" role=\"alert\">\n",
    "    \n",
    "<img src=\"./icons/list.png\"  width=\"20\" height=\"20\" align=\"left\"> &nbsp;  **Exercise 6: Confusion Matrix**\n",
    "\n",
    "- plot the confusion matrix for the three models used before using the `plot_confusion_matric(y_true, y_pred)` provided function\n",
    "- use `recall_score`, `precision_score`, `f1_score` to print the obtained scores\n",
    "\n",
    "Do you have a better idea of which model is performing better ?\n",
    "</div>"
   ]
  },
  {
   "cell_type": "code",
   "execution_count": 61,
   "metadata": {
    "deletable": false,
    "editable": false
   },
   "outputs": [],
   "source": [
    "from sklearn.metrics import confusion_matrix\n",
    "from sklearn.utils.multiclass import unique_labels\n",
    "from sklearn.metrics import recall_score, precision_score, f1_score"
   ]
  },
  {
   "cell_type": "code",
   "execution_count": 62,
   "metadata": {
    "deletable": false,
    "editable": false
   },
   "outputs": [],
   "source": [
    "def plot_confusion_matrix(y_true, y_pred, classes=[\"three\", \"not_three\"],\n",
    "                          normalize=False,\n",
    "                          title=None,\n",
    "                          cmap=plt.cm.Blues):\n",
    "    \"\"\"\n",
    "    This function prints and plots the confusion matrix.\n",
    "    Normalization can be applied by setting `normalize=True`.\n",
    "    \"\"\"\n",
    "    if not title:\n",
    "        if normalize:\n",
    "            title = 'Normalized confusion matrix'\n",
    "        else:\n",
    "            title = 'Confusion matrix, without normalization'\n",
    "\n",
    "    # Compute confusion matrix\n",
    "    cm = confusion_matrix(y_true, y_pred)\n",
    "    # Only use the labels that appear in the data\n",
    "#     classes = classes[unique_labels(np.int0(y_true), np.int0(y_pred))]\n",
    "    if normalize:\n",
    "        cm = cm.astype('float') / cm.sum(axis=1)[:, np.newaxis]\n",
    "        print(\"Normalized confusion matrix\")\n",
    "    else:\n",
    "        print('Confusion matrix, without normalization')\n",
    "\n",
    "    fig, ax = plt.subplots()\n",
    "    im = ax.imshow(cm, interpolation='nearest', cmap=cmap)\n",
    "    ax.figure.colorbar(im, ax=ax)\n",
    "    # We want to show all ticks...\n",
    "    ax.set(xticks=np.arange(cm.shape[1]),\n",
    "           yticks=np.arange(cm.shape[0]),\n",
    "           # ... and label them with the respective list entries\n",
    "           xticklabels=classes, yticklabels=classes,\n",
    "           title=title,\n",
    "           ylabel='True label',\n",
    "           xlabel='Predicted label')\n",
    "\n",
    "    # Rotate the tick labels and set their alignment.\n",
    "    plt.setp(ax.get_xticklabels(), rotation=45, ha=\"right\",\n",
    "             rotation_mode=\"anchor\")\n",
    "\n",
    "    # Loop over data dimensions and create text annotations.\n",
    "    fmt = '.2f' if normalize else 'd'\n",
    "    thresh = cm.max() / 2.\n",
    "    for i in range(cm.shape[0]):\n",
    "        for j in range(cm.shape[1]):\n",
    "            ax.text(j, i, format(cm[i, j], fmt),\n",
    "                    ha=\"center\", va=\"center\",\n",
    "                    color=\"white\" if cm[i, j] > thresh else \"black\")\n",
    "    fig.tight_layout()\n",
    "    return ax"
   ]
  },
  {
   "cell_type": "code",
   "execution_count": 64,
   "metadata": {},
   "outputs": [],
   "source": [
    "pred_dummy = dummy_model.predict(X_test)\n",
    "pred_decision_tree = gsdt.best_estimator_.predict(X_test)\n",
    "pred_lr = gslr.best_estimator_.predict(mms.transform(X_test))"
   ]
  },
  {
   "cell_type": "code",
   "execution_count": 66,
   "metadata": {},
   "outputs": [
    {
     "name": "stdout",
     "output_type": "stream",
     "text": [
      "Confusion matrix, without normalization\n"
     ]
    },
    {
     "data": {
      "image/png": "[encoded data removed]",
      "text/plain": [
       "<Figure size 432x288 with 2 Axes>"
      ]
     },
     "metadata": {
      "needs_background": "light"
     },
     "output_type": "display_data"
    }
   ],
   "source": [
    "ax = plot_confusion_matrix(y_test, pred_dummy, classes=['Negative', 'Positive'])"
   ]
  },
  {
   "cell_type": "code",
   "execution_count": 67,
   "metadata": {},
   "outputs": [
    {
     "name": "stdout",
     "output_type": "stream",
     "text": [
      "Confusion matrix, without normalization\n"
     ]
    },
    {
     "data": {
      "image/png": "[encoded data removed]",
      "text/plain": [
       "<Figure size 432x288 with 2 Axes>"
      ]
     },
     "metadata": {
      "needs_background": "light"
     },
     "output_type": "display_data"
    }
   ],
   "source": [
    "ax = plot_confusion_matrix(y_test, pred_decision_tree, classes=['Negative', 'Positive'])"
   ]
  },
  {
   "cell_type": "code",
   "execution_count": 68,
   "metadata": {},
   "outputs": [
    {
     "name": "stdout",
     "output_type": "stream",
     "text": [
      "Confusion matrix, without normalization\n"
     ]
    },
    {
     "data": {
      "image/png": "[encoded data removed]",
      "text/plain": [
       "<Figure size 432x288 with 2 Axes>"
      ]
     },
     "metadata": {
      "needs_background": "light"
     },
     "output_type": "display_data"
    }
   ],
   "source": [
    "ax = plot_confusion_matrix(y_test, pred_lr, classes=['Negative', 'Positive'])"
   ]
  },
  {
   "cell_type": "markdown",
   "metadata": {},
   "source": [
    "<hr>"
   ]
  },
  {
   "cell_type": "code",
   "execution_count": 69,
   "metadata": {},
   "outputs": [
    {
     "name": "stdout",
     "output_type": "stream",
     "text": [
      "Dummy | Precision: 0.0, Recall: 0.0, F1-Score: 0.0\n"
     ]
    },
    {
     "name": "stderr",
     "output_type": "stream",
     "text": [
      "/home/marco/miniconda3/envs/mlcourse/lib/python3.7/site-packages/sklearn/metrics/_classification.py:1221: UndefinedMetricWarning: Precision is ill-defined and being set to 0.0 due to no predicted samples. Use `zero_division` parameter to control this behavior.\n",
      "  _warn_prf(average, modifier, msg_start, len(result))\n"
     ]
    }
   ],
   "source": [
    "print(\"{} | Precision: {}, Recall: {}, F1-Score: {}\".format('Dummy', precision_score(y_test, pred_dummy), \n",
    "                                                           recall_score(y_test, pred_dummy), \n",
    "                                                           f1_score(y_test, pred_dummy)))"
   ]
  },
  {
   "cell_type": "code",
   "execution_count": 70,
   "metadata": {},
   "outputs": [
    {
     "name": "stdout",
     "output_type": "stream",
     "text": [
      "Tree | Precision: 0.8, Recall: 0.9230769230769231, F1-Score: 0.8571428571428571\n"
     ]
    }
   ],
   "source": [
    "print(\"{} | Precision: {}, Recall: {}, F1-Score: {}\".format('Tree', precision_score(y_test, pred_decision_tree), \n",
    "                                                           recall_score(y_test, pred_decision_tree), \n",
    "                                                           f1_score(y_test, pred_decision_tree)))"
   ]
  },
  {
   "cell_type": "code",
   "execution_count": 72,
   "metadata": {},
   "outputs": [
    {
     "name": "stdout",
     "output_type": "stream",
     "text": [
      "LR | Precision: 0.9444444444444444, Recall: 0.8717948717948718, F1-Score: 0.9066666666666667\n"
     ]
    }
   ],
   "source": [
    "print(\"{} | Precision: {}, Recall: {}, F1-Score: {}\".format('LR', precision_score(y_test, pred_lr), \n",
    "                                                           recall_score(y_test, pred_lr), \n",
    "                                                           f1_score(y_test, pred_lr)))"
   ]
  },
  {
   "cell_type": "markdown",
   "metadata": {
    "deletable": false,
    "editable": false,
    "run_control": {
     "frozen": true
    }
   },
   "source": [
    "<div hidden=True>\n",
    "<img src=\"./icons/list.png\"  width=\"20\" height=\"20\" align=\"left\"> &nbsp; Icon made by <a href=\"https://www.flaticon.com/authors/smashicons\" title=\"Smashicons\">Smashicons</a> from <a href=\"https://www.flaticon.com/\"             title=\"Flaticon\">www.flaticon.com</a>\n",
    "\n",
    "<img src=\"./icons/lightbulb.png\"  width=\"20\" height=\"20\" align=\"left\"> &nbsp;Icon made by <a href=\"https://www.flaticon.com/authors/pixelmeetup\" title=\"Pixelmeetup\">Pixelmeetup</a> from <a href=\"https://www.flaticon.com/\"             title=\"Flaticon\">www.flaticon.com</a>\n",
    "\n",
    "<img src=\"./icons/new.png\"  width=\"20\" height=\"20\" align=\"left\"> &nbsp; Icon made by <a href=\"https://www.flaticon.com/authors/pixel-perfect\" title=\"Pixel perfect\">Pixel perfect</a> from <a href=\"https://www.flaticon.com/\"             title=\"Flaticon\">www.flaticon.com</a>\n",
    "\n",
    "<img src=\"./icons/chemistry.png\"  width=\"20\" height=\"20\" align=\"left\"> &nbsp; Icon made by <a href=\"https://www.flaticon.com/authors/popcorns-arts\" title=\"Icon Pond\">Icon Pond</a> from <a href=\"https://www.flaticon.com/\"             title=\"Flaticon\">www.flaticon.com</a>\n",
    "\n",
    "<img src=\"./icons/book.png\"  width=\"20\" height=\"20\" align=\"left\"> &nbsp; Icon made by <a href=\"https://www.flaticon.com/authors/popcorns-arts\" title=\"Icon Pond\">Icon Pond</a> from <a href=\"https://www.flaticon.com/\"             title=\"Flaticon\">www.flaticon.com</a>\n",
    "    \n",
    "</div>"
   ]
  }
 ],
 "metadata": {
  "kernelspec": {
   "display_name": "Python 3",
   "language": "python",
   "name": "python3"
  },
  "language_info": {
   "codemirror_mode": {
    "name": "ipython",
    "version": 3
   },
   "file_extension": ".py",
   "mimetype": "text/x-python",
   "name": "python",
   "nbconvert_exporter": "python",
   "pygments_lexer": "ipython3",
   "version": "3.7.0"
  },
  "latex_envs": {
   "LaTeX_envs_menu_present": true,
   "autoclose": false,
   "autocomplete": true,
   "bibliofile": "biblio.bib",
   "cite_by": "apalike",
   "current_citInitial": 1,
   "eqLabelWithNumbers": true,
   "eqNumInitial": 1,
   "hotkeys": {
    "equation": "Ctrl-E",
    "itemize": "Ctrl-I"
   },
   "labels_anchors": false,
   "latex_user_defs": false,
   "report_style_numbering": false,
   "user_envs_cfg": false
  },
  "toc": {
   "base_numbering": 1,
   "nav_menu": {},
   "number_sections": true,
   "sideBar": true,
   "skip_h1_title": false,
   "title_cell": "Table of Contents",
   "title_sidebar": "Contents",
   "toc_cell": false,
   "toc_position": {},
   "toc_section_display": true,
   "toc_window_display": false
  },
  "varInspector": {
   "cols": {
    "lenName": 16,
    "lenType": 16,
    "lenVar": 40
   },
   "kernels_config": {
    "python": {
     "delete_cmd_postfix": "",
     "delete_cmd_prefix": "del ",
     "library": "var_list.py",
     "varRefreshCmd": "print(var_dic_list())"
    },
    "r": {
     "delete_cmd_postfix": ") ",
     "delete_cmd_prefix": "rm(",
     "library": "var_list.r",
     "varRefreshCmd": "cat(var_dic_list()) "
    }
   },
   "types_to_exclude": [
    "module",
    "function",
    "builtin_function_or_method",
    "instance",
    "_Feature"
   ],
   "window_display": false
  }
 },
 "nbformat": 4,
 "nbformat_minor": 2
}
