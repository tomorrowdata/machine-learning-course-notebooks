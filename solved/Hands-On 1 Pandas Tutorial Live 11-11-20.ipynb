{
 "cells": [
  {
   "cell_type": "markdown",
   "metadata": {
    "deletable": false,
    "editable": false,
    "run_control": {
     "frozen": true
    }
   },
   "source": [
    "<div hidden=True>\n",
    "    author: Marco Angius\n",
    "    company: TomorrowData srl\n",
    "    mail: marco.angius@tomorrowdata.io\n",
    "    notebook-version: nov20\n",
    "    \n",
    "</div>"
   ]
  },
  {
   "cell_type": "markdown",
   "metadata": {},
   "source": [
    "# Hands-on 1: Python and Pandas\n",
    "\n",
    "This section is meant to learn some basics concepts of Python programming language which are used in the next sections and the following hands-on. After that one important Python library, Pandas, in analyzed in order to learn the fundamental building blocks for the next sessions."
   ]
  },
  {
   "cell_type": "markdown",
   "metadata": {},
   "source": [
    "# Python\n",
    "\n",
    "From the official [site](https://www.python.org/):\n",
    "\n",
    ">**Quick & Easy to Learn**\n",
    "Experienced programmers in any other language can pick up Python very quickly, and beginners find the clean syntax and indentation structure easy to learn. Whet your [appetite with our Python 3 overview](https://docs.python.org/3/tutorial/)\n",
    ">\n",
    ">**Compound Data Types**\n",
    "Lists (known as arrays in other languages) are one of the compound data types that Python understands. Lists can be indexed, sliced and manipulated with other built-in functions. [More about lists in Python 3](https://docs.python.org/3/tutorial/introduction.html#lists)\n",
    ">\n",
    ">**Intuitive Interpretation**\n",
    "Calculations are simple with Python, and expression syntax is straightforward: the operators +, -, * and / work as expected; parentheses `()` can be used for grouping. [More about simple math functions in Python 3](http://docs.python.org/3/tutorial/introduction.html#using-python-as-a-calculator)\n",
    ">\n",
    ">**All the Flow You’d Expect**\n",
    "Python knows the usual control flow statements that other languages speak `if`, `for`, `while` and `range` with some of its own twists, of course. [More control flow tools in Python 3](https://docs.python.org/3/tutorial/controlflow.html)\n",
    ">\n",
    ">**Functions Defined**\n",
    "The core of extensible programming is defining functions. Python allows mandatory and optional arguments, keyword arguments, and even arbitrary argument lists. [More about defining functions in Python 3](https://docs.python.org/3/tutorial/introduction.html#lists)\n",
    ">\n",
    ">```python \n",
    "def fib(n):\n",
    "    a, b = 0, 1\n",
    "    while a < n:\n",
    "        print(a, end=' ')\n",
    "        a, b = b, a+b\n",
    "    print(\"\\nDone!\")\n",
    ">```"
   ]
  },
  {
   "cell_type": "markdown",
   "metadata": {},
   "source": [
    "<div class=\"alert alert-success\" role=\"alert\">\n",
    "    \n",
    "<img src=\"./icons/lightbulb.png\"  width=\"20\" height=\"20\" align=\"left\"> &nbsp; **Python Types**: \n",
    "\n",
    "- `None`: The Python “null” value (only one instance of the None object exists)\n",
    "- `str`: String type; holds Unicode (UTF-8 encoded) strings\n",
    "- `bytes`: Raw ASCII bytes (or Unicode encoded as bytes)\n",
    "- `float`: Double-precision (64-bit) floating-point number (note there is no separate double type)\n",
    "- `bool`: A True or False value\n",
    "- `int`: Arbitrary precision signed integer\n",
    "\n",
    "*NOTE: despite the presence of types, Python employs an Object Models. Every string, number, function etc... is living inside a box called a `Python object`.*\n",
    "\n",
    "</div>"
   ]
  },
  {
   "cell_type": "markdown",
   "metadata": {},
   "source": [
    "## Variable assignement"
   ]
  },
  {
   "cell_type": "code",
   "execution_count": null,
   "metadata": {},
   "outputs": [],
   "source": [
    "a = 5 # int\n",
    "b = \"5\" # string\n",
    "c = None # Null object\n",
    "d = True | False # boolean (the | is the OR boolean operator)"
   ]
  },
  {
   "cell_type": "code",
   "execution_count": null,
   "metadata": {},
   "outputs": [],
   "source": [
    "# possible to assign a variable a different type\n",
    "b = 1.0 # float"
   ]
  },
  {
   "cell_type": "markdown",
   "metadata": {},
   "source": [
    "## Imports"
   ]
  },
  {
   "cell_type": "code",
   "execution_count": null,
   "metadata": {},
   "outputs": [],
   "source": [
    "import string # from the python standard library"
   ]
  },
  {
   "cell_type": "code",
   "execution_count": null,
   "metadata": {},
   "outputs": [],
   "source": [
    "string.hexdigits"
   ]
  },
  {
   "cell_type": "code",
   "execution_count": null,
   "metadata": {},
   "outputs": [],
   "source": [
    "import string as mystring # possible to alias the imported package"
   ]
  },
  {
   "cell_type": "code",
   "execution_count": null,
   "metadata": {},
   "outputs": [],
   "source": [
    "mystring.hexdigits"
   ]
  },
  {
   "cell_type": "markdown",
   "metadata": {},
   "source": [
    "## Binary operators and comparisons"
   ]
  },
  {
   "cell_type": "code",
   "execution_count": null,
   "metadata": {},
   "outputs": [],
   "source": [
    "a = 5 - 7      # sub\n",
    "b = 10 + (-3)  # add \n",
    "c = 18 / 2     # div\n",
    "d = 4 * 3      # mul\n",
    "\n",
    "print(a, b, c, d) "
   ]
  },
  {
   "cell_type": "code",
   "execution_count": null,
   "metadata": {},
   "outputs": [],
   "source": [
    "p = 10 ** 4   # power\n",
    "i = 122 // 3  # divition with integer rouding \n",
    "\n",
    "print(p, type(p)) \n",
    "print(i, type(i))"
   ]
  },
  {
   "cell_type": "code",
   "execution_count": null,
   "metadata": {},
   "outputs": [],
   "source": [
    "# comparisons\n",
    "c1 = a <= b \n",
    "c2 = a > d\n",
    "c3 = b == d\n",
    "\n",
    "print(c1, c2, c3)"
   ]
  },
  {
   "cell_type": "code",
   "execution_count": null,
   "metadata": {},
   "outputs": [],
   "source": [
    "\"t\" in \"tomorrowdata\" # check if a char is in a string"
   ]
  },
  {
   "cell_type": "markdown",
   "metadata": {},
   "source": [
    "## Type casting"
   ]
  },
  {
   "cell_type": "code",
   "execution_count": null,
   "metadata": {},
   "outputs": [],
   "source": [
    "int(\"5\") + 5  # convert string into int or float -> otherwise it raises an exception "
   ]
  },
  {
   "cell_type": "code",
   "execution_count": null,
   "metadata": {},
   "outputs": [],
   "source": [
    "float(122) # convert an int into float"
   ]
  },
  {
   "cell_type": "code",
   "execution_count": null,
   "metadata": {},
   "outputs": [],
   "source": [
    "int(True) # convert a boolean into a int "
   ]
  },
  {
   "cell_type": "code",
   "execution_count": null,
   "metadata": {},
   "outputs": [],
   "source": [
    "str(10.00) # convertig float to string "
   ]
  },
  {
   "cell_type": "code",
   "execution_count": null,
   "metadata": {},
   "outputs": [],
   "source": [
    "str(None), str(True) # converting None or Boolean into string "
   ]
  },
  {
   "cell_type": "markdown",
   "metadata": {},
   "source": [
    "## control flow "
   ]
  },
  {
   "cell_type": "code",
   "execution_count": null,
   "metadata": {},
   "outputs": [],
   "source": [
    "if a == 10:  \n",
    "    print(\"Welcome\")\n",
    "elif b < 10:  # for any additional condition statement an elif can be added!\n",
    "    print(\"Greetings\")\n",
    "elif c > b:\n",
    "    print(\"Farewell\")\n",
    "else: # default in the case none of the above conditions are satisfied\n",
    "    print(\"TomorrowData\")"
   ]
  },
  {
   "cell_type": "code",
   "execution_count": null,
   "metadata": {},
   "outputs": [],
   "source": [
    "# for cycle\n",
    "for s in [\"TomorrowData\", \"Machine\", \"Learning\", \"Course\"]: \n",
    "    print(s)"
   ]
  },
  {
   "cell_type": "code",
   "execution_count": null,
   "metadata": {},
   "outputs": [],
   "source": [
    "while b  < 100: \n",
    "    a -= 1 # same as a = a - 1  \n",
    "    b += 10 # same as b = b + 1 \n",
    "    c *= 3 # same as c = c * 3\n",
    "    d /= 2 # same as d = d / 2\n",
    "print(a, b, c, d)"
   ]
  },
  {
   "cell_type": "markdown",
   "metadata": {},
   "source": [
    "<div class=\"alert alert-success\" role=\"alert\">\n",
    "    \n",
    "<img src=\"./icons/lightbulb.png\"  width=\"20\" height=\"20\" align=\"left\"> &nbsp; **Python Built-In Data Structures**: \n",
    "\n",
    "- `tuple`: fixed length and immutable sequence of Python objects\n",
    "- `list`: variable length and mutable sequence of Python objects\n",
    "- `dict`: a flexible size collection of key-value pairs also called hash map. Key and values are Python objects.\n",
    "- `set`: unordered collection of unique elements. Like dicts but with no values. \n",
    "\n",
    "</div>"
   ]
  },
  {
   "cell_type": "markdown",
   "metadata": {},
   "source": [
    "## List"
   ]
  },
  {
   "cell_type": "code",
   "execution_count": null,
   "metadata": {},
   "outputs": [],
   "source": [
    "mylist1 = list()\n",
    "mylist2 = []"
   ]
  },
  {
   "cell_type": "code",
   "execution_count": null,
   "metadata": {},
   "outputs": [],
   "source": [
    "mylist1 = [\n",
    "    [1, 2, 3],       # other lists\n",
    "    \"tomorrowdata\",  # strings\n",
    "    True,            # bool\n",
    "    list(list()),    # nested lists\n",
    "    mystring         # modules or function\n",
    "]\n",
    "mylist1"
   ]
  },
  {
   "cell_type": "code",
   "execution_count": null,
   "metadata": {},
   "outputs": [],
   "source": [
    "[1, 2, 3] + [\"machine\", \"learning\"] # list concetenation"
   ]
  },
  {
   "cell_type": "code",
   "execution_count": null,
   "metadata": {},
   "outputs": [],
   "source": [
    "mylist1[1] # access element of the list with positional value"
   ]
  },
  {
   "cell_type": "code",
   "execution_count": null,
   "metadata": {},
   "outputs": [],
   "source": [
    "mylist1[2] = False # assign a new value to an existig element of the list \n",
    "mylist1            # lists are indeed mutable!"
   ]
  },
  {
   "cell_type": "code",
   "execution_count": null,
   "metadata": {},
   "outputs": [],
   "source": [
    "mylist1.append(11.24) # the same list object can be extended \n",
    "mylist1"
   ]
  },
  {
   "cell_type": "code",
   "execution_count": null,
   "metadata": {},
   "outputs": [],
   "source": [
    "help(list) # for more details "
   ]
  },
  {
   "cell_type": "markdown",
   "metadata": {},
   "source": [
    "## Dict"
   ]
  },
  {
   "cell_type": "code",
   "execution_count": null,
   "metadata": {},
   "outputs": [],
   "source": [
    "mydict1 = dict()\n",
    "mydict2 = {}"
   ]
  },
  {
   "cell_type": "code",
   "execution_count": null,
   "metadata": {},
   "outputs": [],
   "source": [
    "mydict1 = {\n",
    "    \"key1\": \"tomorrowdata\", # keys can be sting, int or any hashable object  \n",
    "    1: mystring             # vslues can be any python object\n",
    "}\n",
    "mydict1"
   ]
  },
  {
   "cell_type": "code",
   "execution_count": null,
   "metadata": {},
   "outputs": [],
   "source": [
    "mydict1.get(12.2, 'key not found') # use dictionary method for getting a value given a key"
   ]
  },
  {
   "cell_type": "code",
   "execution_count": null,
   "metadata": {},
   "outputs": [],
   "source": [
    "mydict1[\"key1\"] # possible to use the square braket notation"
   ]
  },
  {
   "cell_type": "markdown",
   "metadata": {},
   "source": [
    "## Tuple (optional)"
   ]
  },
  {
   "cell_type": "code",
   "execution_count": null,
   "metadata": {},
   "outputs": [],
   "source": [
    "mytuple1 = ()\n",
    "mytuple2 = tuple()"
   ]
  },
  {
   "cell_type": "code",
   "execution_count": null,
   "metadata": {},
   "outputs": [],
   "source": [
    "mytuple1 = (1, 23.3, True, \"tomorrowdata\", mystring)\n",
    "mytuple1"
   ]
  },
  {
   "cell_type": "code",
   "execution_count": null,
   "metadata": {},
   "outputs": [],
   "source": [
    "mytuple1[2]  # same as lists it is possible to retrieve a value given its position"
   ]
  },
  {
   "cell_type": "code",
   "execution_count": null,
   "metadata": {},
   "outputs": [],
   "source": [
    "mytuple1[2] = False # unlike lists, TUPLE ARE IMMUTABLE OBJECTS!"
   ]
  },
  {
   "cell_type": "code",
   "execution_count": null,
   "metadata": {},
   "outputs": [],
   "source": [
    "{(12, 34): \"keys\"} # tuples can be used as dictionary keys due to immutability "
   ]
  },
  {
   "cell_type": "markdown",
   "metadata": {},
   "source": [
    "## Set (optional)"
   ]
  },
  {
   "cell_type": "code",
   "execution_count": null,
   "metadata": {},
   "outputs": [],
   "source": [
    "myset1 = set()\n",
    "myset2 = {1, 2, 3, 4} # myset2 = {} ?? -> NO!, this is a dictionary  "
   ]
  },
  {
   "cell_type": "code",
   "execution_count": null,
   "metadata": {},
   "outputs": [],
   "source": [
    "myset1 = {\"keys\", (20, \"TD\"), 23.3, True} # any hashable object -> think it as a dict without values\n",
    "myset1"
   ]
  },
  {
   "cell_type": "code",
   "execution_count": null,
   "metadata": {},
   "outputs": [],
   "source": [
    "set([1, 2, 3]) - set([2, 10, 3]) # set difference"
   ]
  },
  {
   "cell_type": "code",
   "execution_count": null,
   "metadata": {},
   "outputs": [],
   "source": [
    "set([1, 2, 3]) | set([2, 10, 3]) # set union"
   ]
  },
  {
   "cell_type": "code",
   "execution_count": null,
   "metadata": {},
   "outputs": [],
   "source": [
    "help(set)"
   ]
  },
  {
   "cell_type": "code",
   "execution_count": null,
   "metadata": {},
   "outputs": [],
   "source": [
    "myset1.intersection()"
   ]
  },
  {
   "cell_type": "markdown",
   "metadata": {},
   "source": [
    "<div class=\"alert alert-success\" role=\"alert\">\n",
    "    \n",
    "<img src=\"./icons/lightbulb.png\"  width=\"20\" height=\"20\" align=\"left\"> &nbsp; **Python Functions**: \n",
    "\n",
    "Functions are one of the most used methods for code organization and reuse.\n",
    "\n",
    "- Function may present *positional* and *keyword* arguments. The latter are used for optional or default values and do not require to specify them in a precise order.\n",
    "\n",
    "- Functions can also return one or more values.\n",
    "\n",
    "- Functions Are Objects: they can be assigned to a variable or included in one of the previously seen data structures such as a list.\n",
    "\n",
    "- Anonymous (Lambda) functions: simple, single element function defined with the `lambda` keyword.\n",
    "\n",
    "\n",
    "</div>"
   ]
  },
  {
   "cell_type": "markdown",
   "metadata": {},
   "source": [
    "## Function definition"
   ]
  },
  {
   "cell_type": "code",
   "execution_count": null,
   "metadata": {},
   "outputs": [],
   "source": [
    "def foo(): \n",
    "    pass"
   ]
  },
  {
   "cell_type": "code",
   "execution_count": null,
   "metadata": {},
   "outputs": [],
   "source": [
    "def foo(a, b):\n",
    "    print(a + b)"
   ]
  },
  {
   "cell_type": "code",
   "execution_count": null,
   "metadata": {},
   "outputs": [],
   "source": [
    "foo(10, 20)"
   ]
  },
  {
   "cell_type": "code",
   "execution_count": null,
   "metadata": {},
   "outputs": [],
   "source": [
    "foo(\"tomorrow\", \"Data\")"
   ]
  },
  {
   "cell_type": "markdown",
   "metadata": {},
   "source": [
    "## Returned values simple"
   ]
  },
  {
   "cell_type": "code",
   "execution_count": null,
   "metadata": {},
   "outputs": [],
   "source": [
    "def foo(a, b, c=None): # both required and optional parameters \n",
    "    return a + b if not c else a + b + c "
   ]
  },
  {
   "cell_type": "code",
   "execution_count": null,
   "metadata": {},
   "outputs": [],
   "source": [
    "foo(1, 2)"
   ]
  },
  {
   "cell_type": "code",
   "execution_count": null,
   "metadata": {},
   "outputs": [],
   "source": [
    "foo(1, 2, 10)         # positional arguments with optional"
   ]
  },
  {
   "cell_type": "code",
   "execution_count": null,
   "metadata": {},
   "outputs": [],
   "source": [
    "foo(c=10, a=2, b=-3)  # all arguments can be keywords"
   ]
  },
  {
   "cell_type": "code",
   "execution_count": null,
   "metadata": {},
   "outputs": [],
   "source": [
    "foo(1, b=20, c=-10)  # positional arguments MUST preceed keywords ones"
   ]
  },
  {
   "cell_type": "markdown",
   "metadata": {},
   "source": [
    "## More complex return values"
   ]
  },
  {
   "cell_type": "code",
   "execution_count": null,
   "metadata": {},
   "outputs": [],
   "source": [
    "# returned values simple\n",
    "def foo(a, b, c): \n",
    "    return a, b, c # function can return multiple values "
   ]
  },
  {
   "cell_type": "code",
   "execution_count": null,
   "metadata": {},
   "outputs": [],
   "source": [
    "a, b, c = foo('ciao ', 'da ', 'tomorrowdata')\n",
    "print(a + b + c)"
   ]
  },
  {
   "cell_type": "code",
   "execution_count": null,
   "metadata": {},
   "outputs": [],
   "source": [
    "def outer_function(a, b): \n",
    "    \"\"\"this is the outer function\"\"\"\n",
    "    print(a, b)\n",
    "    # inner function definition (only available in the outer function scope)\n",
    "    def inner_function(p):\n",
    "        \"\"\"this is the inner function\"\"\"\n",
    "        return p * (a + b)\n",
    "    \n",
    "    return inner_function  # returned values is a function "
   ]
  },
  {
   "cell_type": "code",
   "execution_count": null,
   "metadata": {},
   "outputs": [],
   "source": [
    "f = outer_function(10, 20)"
   ]
  },
  {
   "cell_type": "code",
   "execution_count": null,
   "metadata": {},
   "outputs": [],
   "source": [
    "f(100)"
   ]
  },
  {
   "cell_type": "markdown",
   "metadata": {},
   "source": [
    "## Functions as an object (optional)"
   ]
  },
  {
   "cell_type": "code",
   "execution_count": null,
   "metadata": {},
   "outputs": [],
   "source": [
    "my_foo = foo(20, 10)    # it is possible to assign function to variables -> FUNCTIONS ARE OBJECTS "
   ]
  },
  {
   "cell_type": "code",
   "execution_count": null,
   "metadata": {},
   "outputs": [],
   "source": [
    "my_foo(20)"
   ]
  },
  {
   "cell_type": "markdown",
   "metadata": {},
   "source": [
    "## Anonymous functions (optional)"
   ]
  },
  {
   "cell_type": "code",
   "execution_count": null,
   "metadata": {},
   "outputs": [],
   "source": [
    "my_lambda = lambda x: int(x)/10         # quick definition of a function (one line of code)"
   ]
  },
  {
   "cell_type": "code",
   "execution_count": null,
   "metadata": {},
   "outputs": [],
   "source": [
    "[my_lambda(k) for k in mystring.digits] # this is called list comprehension "
   ]
  },
  {
   "cell_type": "code",
   "execution_count": null,
   "metadata": {},
   "outputs": [],
   "source": [
    "mystring.digits"
   ]
  },
  {
   "cell_type": "markdown",
   "metadata": {},
   "source": [
    "<div class=\"alert alert-success\" role=\"alert\">\n",
    "    \n",
    "<img src=\"./icons/lightbulb.png\"  width=\"20\" height=\"20\" align=\"left\"> &nbsp; **Python Classes**: \n",
    "\n",
    "Python also support Object-Oriented programming paradigm.Because everything in Python is an object is it important to analyze the basic concept around the `class` definition.  \n",
    "\n",
    "- `Attribute Reference`: define and access attributes (or fields) of a class.\n",
    "- `Instantiation`: use function notation and allows for creating an instance of a class.\n",
    "- `Method Objects`: define functions proper of a class which manipulates instance's attributes.\n",
    "\n",
    "</div>"
   ]
  },
  {
   "cell_type": "code",
   "execution_count": null,
   "metadata": {
    "deletable": false,
    "editable": false
   },
   "outputs": [],
   "source": [
    "class Foo(): \n",
    "    def __init__(self): \n",
    "        self.a = 10\n",
    "        self.b = \"tomorrowData\"\n",
    "        \n",
    "    def do_somenting(self): \n",
    "        print(self.b + \" \" + str(self.a))"
   ]
  },
  {
   "cell_type": "markdown",
   "metadata": {},
   "source": [
    "## Class Initialization"
   ]
  },
  {
   "cell_type": "code",
   "execution_count": null,
   "metadata": {},
   "outputs": [],
   "source": [
    "my_foo = Foo() # initialize a new instance of Foo"
   ]
  },
  {
   "cell_type": "code",
   "execution_count": null,
   "metadata": {},
   "outputs": [],
   "source": [
    "my_foo"
   ]
  },
  {
   "cell_type": "markdown",
   "metadata": {},
   "source": [
    "## Class attributes (or fields)"
   ]
  },
  {
   "cell_type": "code",
   "execution_count": null,
   "metadata": {},
   "outputs": [],
   "source": [
    "my_foo.a  # dot is used to access memebers of a class"
   ]
  },
  {
   "cell_type": "markdown",
   "metadata": {},
   "source": [
    "## Class Methods"
   ]
  },
  {
   "cell_type": "code",
   "execution_count": null,
   "metadata": {},
   "outputs": [],
   "source": [
    "my_foo.do_somenting # this is the reference to the Foo.do_something method"
   ]
  },
  {
   "cell_type": "code",
   "execution_count": null,
   "metadata": {},
   "outputs": [],
   "source": [
    "    my_foo.do_somenting() # here we are calling the method"
   ]
  },
  {
   "cell_type": "markdown",
   "metadata": {},
   "source": [
    "<hr>"
   ]
  },
  {
   "cell_type": "markdown",
   "metadata": {},
   "source": [
    "# Pandas\n",
    "\n",
    "From the official [site](https://pandas.pydata.org/): \n",
    "> Pandas is an open source, BSD-licensed library providing high-performance, easy-to-use data structures and data analysis tools for the Python programming language.\n",
    "> Pandas is well suited for many different kinds of data:\n",
    ">- Tabular data with heterogeneously-typed columns, as in an SQL table or Excel spreadsheet\n",
    ">- Ordered and unordered (not necessarily fixed-frequency) time series data.\n",
    ">- Arbitrary matrix data (homogeneously typed or heterogeneous) with row and column labels\n",
    ">- Any other form of observational / statistical data sets. The data actually need not be labeled at all to be placed into a pandas data structure\n",
    "\n",
    "Pandas allows for loading data from different formats (csv, parquet, json, excel...).\n",
    "The two main data structure used in padas are: \n",
    "- `pandas.DataFrame`: 2D labeled, size-mutable structure with heterogeneously-typed columns (tabular data)\n",
    "- `pandas.Series`: 1D labeled homogeneously-typed array (suited for time series)"
   ]
  },
  {
   "cell_type": "code",
   "execution_count": null,
   "metadata": {
    "deletable": false,
    "editable": false
   },
   "outputs": [],
   "source": [
    "import pandas as pd\n",
    "import numpy as np\n",
    "import matplotlib.pyplot as plt"
   ]
  },
  {
   "cell_type": "markdown",
   "metadata": {},
   "source": [
    "<div class=\"alert alert-info\" role=\"alert\">\n",
    "    \n",
    "<img src=\"./icons/list.png\"  width=\"20\" height=\"20\" align=\"left\"> &nbsp;  **Exercise 1: Series**\n",
    "\n",
    "A Series can be considered as an array containing the same values type with labels. Labels represent values of a Series's index. \n",
    "\n",
    "- Define a **Series** object by passing a list of values `pd.Series(list(range(10)))` and store it in a variable named *my_series*.\n",
    "- Update the index of *my_series* by assigning dates to the `my_series.index` attribute.  \n",
    "- Check if an index's value is included in *my_series* using the syntax: `<any-value> in my_series`.\n",
    "- Access one or more values by means of square bracket subscripting `s[<index-value>]`. It is possible to pass a list of index values.\n",
    "- Use `numpy.exp(my_series)` to apply any function to the series.  \n",
    "- Define another **Series** by passing a dictionary of key-value pairs , where the key is the index.\n",
    "\n",
    "</div>"
   ]
  },
  {
   "cell_type": "markdown",
   "metadata": {},
   "source": [
    "<div class=\"alert alert-success\" role=\"alert\">\n",
    "    \n",
    "<img src=\"./icons/lightbulb.png\"  width=\"20\" height=\"20\" align=\"left\"> &nbsp; **Pandas Tip 1**: it is possible to create a range of datetimes values by using the pandas function `pd.date_range()` [API](https://pandas.pydata.org/pandas-docs/stable/reference/api/pandas.date_range.html).\n",
    "\n",
    "The function takes several parameters, the most important: \n",
    "- `start`: start date (example \"2020-10-10\")\n",
    "- `end`: (optional) ending date (example \"2020-10-19\")\n",
    "- `freq`: define the sampling frequency for the defined boundaries. Use \"D\" for days, \"H\" for hours, etc...\n",
    "- `periods`: number of periods to generate (allows for more control)\n",
    "</div>"
   ]
  },
  {
   "cell_type": "code",
   "execution_count": null,
   "metadata": {},
   "outputs": [],
   "source": [
    "my_series = pd.Series(list(range(10)))"
   ]
  },
  {
   "cell_type": "code",
   "execution_count": null,
   "metadata": {},
   "outputs": [],
   "source": [
    "my_series"
   ]
  },
  {
   "cell_type": "code",
   "execution_count": null,
   "metadata": {},
   "outputs": [],
   "source": [
    "pd.date_range(start=\"2020-10-10\", periods=10, freq='D')"
   ]
  },
  {
   "cell_type": "code",
   "execution_count": null,
   "metadata": {},
   "outputs": [],
   "source": [
    "my_series.index = pd.date_range(start=\"2020-10-10\", periods=10, freq='D')"
   ]
  },
  {
   "cell_type": "code",
   "execution_count": null,
   "metadata": {},
   "outputs": [],
   "source": [
    "my_series"
   ]
  },
  {
   "cell_type": "code",
   "execution_count": null,
   "metadata": {},
   "outputs": [],
   "source": [
    "\"2020-10-10\" in my_series"
   ]
  },
  {
   "cell_type": "code",
   "execution_count": null,
   "metadata": {},
   "outputs": [],
   "source": [
    "my_series['2020-10-10':'2020-10-12']"
   ]
  },
  {
   "cell_type": "code",
   "execution_count": null,
   "metadata": {},
   "outputs": [],
   "source": [
    "np.exp2(my_series)"
   ]
  },
  {
   "cell_type": "code",
   "execution_count": null,
   "metadata": {},
   "outputs": [],
   "source": [
    "pd.Series({\"2020-10-20\": \"tomorrow\", \"2020-10-21\": \"data\"})"
   ]
  },
  {
   "cell_type": "markdown",
   "metadata": {},
   "source": [
    "<div class=\"alert alert-info\" role=\"alert\">\n",
    "    \n",
    "<img src=\"./icons/list.png\"  width=\"20\" height=\"20\" align=\"left\"> &nbsp;  **Exercise 2: DataFrames**\n",
    "\n",
    "A DataFrame is a table and can be thought as a collection of Series sharing all the same index. The main concepts of a DataFrame are *raws* and *columns*, which are both indexed. \n",
    "\n",
    "- Define a `DataFrame` object by passing a dictionary of key-values pairs, where values is a list or an array of the same size (a dictionary is already provided). Assign the new instance to a variable called *my_frame*.\n",
    "\n",
    "- Set the index of the new Dataframe with the provided *timestamp* array.\n",
    "\n",
    "- Check for missing values. Use the method `my_frame.isna()`. \n",
    "\n",
    "- Fill missing values with the `my_frame.fillna()` method. It is also possible to drop missing values with `my_frame.dropna()`.\n",
    "\n",
    "- Define a new index with the `dp.date_range()` function, with a range from *'2020-10-01'* to *2020-11-02* and daily frequency.\n",
    "\n",
    "- Update the index of the *my_frame* using the `my_frame.reindex()` method. \n",
    "\n",
    "- Are there missing values after reindexing ? Check the [reindex](https://pandas.pydata.org/pandas-docs/stable/reference/api/pandas.DataFrame.reindex.html) official api for possible solutions. \n",
    "\n",
    "</div>"
   ]
  },
  {
   "cell_type": "markdown",
   "metadata": {},
   "source": [
    "<div class=\"alert alert-success\" role=\"alert\">\n",
    "    \n",
    "<img src=\"./icons/lightbulb.png\"  width=\"20\" height=\"20\" align=\"left\"> &nbsp; **Pandas Tip 2**: it is possible to specify the index while instantiating either a **Series** or a **DataFrame** with the `index` parameter. For a **DataFrame** it is also possible to specify column names with the `columns` parameter. \n",
    "\n",
    "</div>"
   ]
  },
  {
   "cell_type": "code",
   "execution_count": null,
   "metadata": {
    "deletable": false,
    "editable": false
   },
   "outputs": [],
   "source": [
    "samples = 30\n",
    "frame_dict = {\n",
    "    'Temperature': [x if int(x) != 23 else None for x in np.random.normal(loc=22, scale=3, size=samples)],\n",
    "    'Humidity': [x if int(x) != 57 else None for x in np.random.normal(loc=55, scale=5, size=samples)]\n",
    "}\n",
    "timestamp = pd.date_range(start='2020-10-01', periods=samples, freq='D')"
   ]
  },
  {
   "cell_type": "code",
   "execution_count": null,
   "metadata": {},
   "outputs": [],
   "source": [
    "my_frame = pd.DataFrame(frame_dict, index=timestamp)"
   ]
  },
  {
   "cell_type": "code",
   "execution_count": null,
   "metadata": {},
   "outputs": [],
   "source": [
    "my_frame.index"
   ]
  },
  {
   "cell_type": "code",
   "execution_count": null,
   "metadata": {},
   "outputs": [],
   "source": [
    "(my_frame.isna()).sum()"
   ]
  },
  {
   "cell_type": "code",
   "execution_count": null,
   "metadata": {},
   "outputs": [],
   "source": [
    "my_frame_dropped = my_frame.dropna()"
   ]
  },
  {
   "cell_type": "code",
   "execution_count": null,
   "metadata": {},
   "outputs": [],
   "source": [
    "# my_frame.fillna(value=2)"
   ]
  },
  {
   "cell_type": "code",
   "execution_count": null,
   "metadata": {},
   "outputs": [],
   "source": [
    "timestamp2 = pd.date_range(start='2020-10-01', end='2020-11-02', freq='12H')"
   ]
  },
  {
   "cell_type": "code",
   "execution_count": null,
   "metadata": {
    "scrolled": false
   },
   "outputs": [],
   "source": [
    "my_frame = my_frame_dropped.reindex(timestamp2, method='bfill')"
   ]
  },
  {
   "cell_type": "code",
   "execution_count": null,
   "metadata": {},
   "outputs": [],
   "source": [
    "my_frame.asfreq('H', method='bfill')"
   ]
  },
  {
   "cell_type": "code",
   "execution_count": null,
   "metadata": {},
   "outputs": [],
   "source": [
    "pd.Series(['Tomorrowdata', 23.0, mystring, foo, [[1, 2, 3]]])"
   ]
  },
  {
   "cell_type": "markdown",
   "metadata": {},
   "source": [
    "<hr>"
   ]
  },
  {
   "cell_type": "markdown",
   "metadata": {},
   "source": [
    "## Load and Manipulate DataFrames with pandas\n",
    "\n",
    "The examples provided in this notebook are based on data coming from the BTP (*Bureau of Transportation Statistics*) concerning **Air Carrier Statistics** of U.S Carriers retrieved [here](https://www.transtats.bts.gov/tables.asp?Table_ID=258&SYS_Table_Name=T_T100D_MARKET_US_CARRIER_ONLY). \n",
    "\n",
    "In detail the dataset is based on the *T-100 Domestic Market*: \n",
    "> This table contains domestic market data reported by U.S. air carriers, including carrier, origin, destination, and service class for enplaned passengers, freight and mail when both origin and destination airports are located within the boundaries of the United States and its territories.\n",
    "</div>\n",
    "\n",
    "## T-100 Domestic Market Dataset\n",
    "\n",
    "\n",
    "Details of selectable fields for the downloaded table can be found [here](https://www.transtats.bts.gov/DL_SelectFields.asp). \n",
    "\n",
    "The pre-downloaded data has the following columns: \n",
    "1. UniqueCarrier\n",
    "2. UniqueCarrierName\n",
    "3. CarrierRegion\n",
    "4. OriginAirportID\n",
    "5. Origin\n",
    "6. OriginCityName\n",
    "7. DestAirportID\n",
    "8. Dest\n",
    "9. DestCityName\n",
    "10. Month\n",
    "11. Passengeres\n",
    "12. Freight\n",
    "13. Mail\n",
    "14. Distance\n",
    "\n",
    "Only 2019 data has been downloaded in zip format. "
   ]
  },
  {
   "cell_type": "markdown",
   "metadata": {},
   "source": [
    "<hr>"
   ]
  },
  {
   "cell_type": "markdown",
   "metadata": {},
   "source": [
    "<div class=\"alert alert-info\" role=\"alert\">\n",
    "    \n",
    "<img src=\"./icons/list.png\"  width=\"20\" height=\"20\" align=\"left\"> &nbsp;  **Exercise 3**\n",
    "- load the *t100_domestic_market* dataset using the `pd.read_csv()`.\n",
    "- display information about the dataframe using `df.info()`.\n",
    "- show the first 5 rows of the dataframe using `df.head()`.\n",
    "\n",
    "Do columns contain null values?\n",
    "\n",
    "</div>"
   ]
  },
  {
   "cell_type": "markdown",
   "metadata": {},
   "source": [
    "<div class=\"alert alert-success\" role=\"alert\">\n",
    "    \n",
    "<img src=\"./icons/lightbulb.png\"  width=\"20\" height=\"20\" align=\"left\"> &nbsp; **Jupyter Notebooks Tip 1**: you can press `<tab>` to autocomplete or list the possible methods for an object.\n",
    "\n",
    "</div>"
   ]
  },
  {
   "cell_type": "code",
   "execution_count": null,
   "metadata": {},
   "outputs": [],
   "source": [
    "AIRLINE_DATA = \"./t100_domestic_market_bts.zip\""
   ]
  },
  {
   "cell_type": "code",
   "execution_count": null,
   "metadata": {},
   "outputs": [],
   "source": [
    "df = pd.read_csv(AIRLINE_DATA) "
   ]
  },
  {
   "cell_type": "code",
   "execution_count": null,
   "metadata": {},
   "outputs": [],
   "source": [
    "df.info()"
   ]
  },
  {
   "cell_type": "code",
   "execution_count": null,
   "metadata": {},
   "outputs": [],
   "source": [
    "df.head()"
   ]
  },
  {
   "cell_type": "markdown",
   "metadata": {},
   "source": [
    "<div class=\"alert alert-success\" role=\"alert\">\n",
    "    \n",
    "<img src=\"./icons/lightbulb.png\"  width=\"20\" height=\"20\" align=\"left\"> &nbsp; **Pandas Tip 3**: it is possible to show statistics about the current dataframe `df.describe()` for numerical-only features. \n",
    "It provides: \n",
    "<ul>\n",
    "    <li>count: number of non-null samples in the dataframe for the given column</li>\n",
    "    <li>mean: mean values for the given column</li>\n",
    "    <li>std: standard deviation for the given column</li>\n",
    "    <li>min/max: min/max values for the given column</li>\n",
    "    <li>25%, 50%, 75%: percentiles for the given column</li>\n",
    "</ul>\n",
    "\n",
    "Percentiles are useful to check under which value a specified subset (percentage) of the observed data falls.\n",
    "\n",
    "</div>"
   ]
  },
  {
   "cell_type": "code",
   "execution_count": null,
   "metadata": {},
   "outputs": [],
   "source": [
    "df.describe(percentiles=[0.5, 0.8, .95])"
   ]
  },
  {
   "cell_type": "markdown",
   "metadata": {},
   "source": [
    "<hr>"
   ]
  },
  {
   "cell_type": "markdown",
   "metadata": {},
   "source": [
    "<div class=\"alert alert-warning\" role=\"alert\">\n",
    "    \n",
    "<img src=\"./icons/new.png\"  width=\"20\" height=\"20\" align=\"left\"> &nbsp;  **NumPy** \n",
    "\n",
    "[NumPy](https://numpy.org/) is the fundamental package for scientific computing with Python. It contains among other things:\n",
    "- a powerful N-dimensional array object called `ndarray`\n",
    "- mathematical functions for fast operations\n",
    "- tools for integrating C/C++ and Fortran code\n",
    "- useful linear algebra, Fourier transform, and random number capabilities\n",
    "\n",
    "Besides its obvious scientific uses, NumPy can also be used as an efficient multi-dimensional container of generic data. Arbitrary data-types can be defined. This allows NumPy to seamlessly and speedily integrate with a wide variety of databases.\n",
    "\n",
    "</div>"
   ]
  },
  {
   "cell_type": "markdown",
   "metadata": {},
   "source": [
    "\n",
    "<div align=\"center\">Example of slicing in pandas (same while using numpy arrays).</div>\n",
    "<img src=\"./images/nparray_slicing.png\"  width=\"900\" height=\"600\" align=\"center\">"
   ]
  },
  {
   "cell_type": "markdown",
   "metadata": {},
   "source": [
    "<div class=\"alert alert-info\" role=\"alert\">\n",
    "    \n",
    "<img src=\"./icons/list.png\"  width=\"20\" height=\"20\" align=\"left\"> &nbsp;  **Exercise 4**\n",
    "\n",
    "As you have probably observed there is a strange column named `Unnamed: 11`. We can drop it! \n",
    "- drop the column using `df.drop()`. Use the *inplace* parameter if you want!\n",
    "\n",
    "<br>\n",
    "\n",
    "The general syntax for slicing a collection in python is `[start:stop:step]`. If start or stop is omitted the default value is the first or last element respectively.  \n",
    "\n",
    "\n",
    "- show the first five rows to see if the column is still present. Use slicing `df[:5]`.\n",
    "- what if we want to show the last 5 rows? \n",
    "\n",
    "<br>\n",
    "\n",
    "Once indexed, it is possible to locate rows by means of their integer position (use `DataFrame.iloc[]`) or by means of the index value (use `df.loc[]`). \n",
    "\n",
    "- set an index, for example the *UNIQUE_CARRIER* column. Use `df.set_index()`.\n",
    "- now try to find all rows related with the carrier id *27Q*. \n",
    "\n",
    "</div>"
   ]
  },
  {
   "cell_type": "markdown",
   "metadata": {},
   "source": [
    "<div class=\"alert alert-success\" role=\"alert\">\n",
    "    \n",
    "<img src=\"./icons/lightbulb.png\"  width=\"20\" height=\"20\" align=\"left\"> &nbsp; **Jupyter Notebooks Tip 2**: you can press `<left-shift> + <tab>` while the cursor is in between a function parenthesis to show the doc related with it\n",
    "\n",
    "</div>"
   ]
  },
  {
   "cell_type": "code",
   "execution_count": null,
   "metadata": {},
   "outputs": [],
   "source": [
    "df.drop(columns=[\"Unnamed: 11\"], inplace=True)"
   ]
  },
  {
   "cell_type": "code",
   "execution_count": null,
   "metadata": {},
   "outputs": [],
   "source": [
    "df[:10]"
   ]
  },
  {
   "cell_type": "code",
   "execution_count": null,
   "metadata": {},
   "outputs": [],
   "source": [
    "df[-10::2]"
   ]
  },
  {
   "cell_type": "code",
   "execution_count": null,
   "metadata": {},
   "outputs": [],
   "source": [
    "df[<start>:<stop>:<step>]"
   ]
  },
  {
   "cell_type": "code",
   "execution_count": null,
   "metadata": {},
   "outputs": [],
   "source": [
    "df.iloc[0:10, 1:]"
   ]
  },
  {
   "cell_type": "code",
   "execution_count": null,
   "metadata": {},
   "outputs": [],
   "source": [
    "df.loc[:20, [\"FREIGHT\", \"MAIL\"]]"
   ]
  },
  {
   "cell_type": "code",
   "execution_count": null,
   "metadata": {},
   "outputs": [],
   "source": [
    "df = df.set_index(\"UNIQUE_CARRIER\")"
   ]
  },
  {
   "cell_type": "code",
   "execution_count": null,
   "metadata": {},
   "outputs": [],
   "source": [
    "df"
   ]
  },
  {
   "cell_type": "code",
   "execution_count": null,
   "metadata": {},
   "outputs": [],
   "source": [
    "df.loc['27Q']"
   ]
  },
  {
   "cell_type": "markdown",
   "metadata": {},
   "source": [
    "<hr>"
   ]
  },
  {
   "cell_type": "markdown",
   "metadata": {},
   "source": [
    "<div class=\"alert alert-info\" role=\"alert\">\n",
    "    \n",
    "<img src=\"./icons/list.png\"  width=\"20\" height=\"20\" align=\"left\"> &nbsp;  **Exercise 5** \n",
    "\n",
    "A column in a panda *DataFrame* can contain whatever type, also python list or dictionaries.\n",
    "\n",
    "It is also possible to select a single column or a subset of the columns. In any case, when a single column is selected what is returned is a `pandas.Series` object. Instead when multiple columns are selected a `pandas.DataFrame` is returned.\n",
    "\n",
    "- select the *UNIQUE_CARRIER_NAME* column. Use `df[\"column_name\"]` for selecting a single column.\n",
    "- select multiple columns by passing a list of column names instead of a single column name.\n",
    "\n",
    "There is another option available for selecting specific rows. This is done by means of a conditional statement. \n",
    "\n",
    "- Check what `df[\"PASSENGERS\"] > 0` returns and save it on a variable. Do you have a clue of what is going on under the hood?\n",
    "- Then try to select only the rows which satisfies the above condition. Use the variable as argument for the square bracket notation `df[]`.\n",
    "\n",
    "</div>"
   ]
  },
  {
   "cell_type": "code",
   "execution_count": null,
   "metadata": {},
   "outputs": [],
   "source": [
    "df = df.reset_index()"
   ]
  },
  {
   "cell_type": "code",
   "execution_count": null,
   "metadata": {},
   "outputs": [],
   "source": [
    "df"
   ]
  },
  {
   "cell_type": "code",
   "execution_count": null,
   "metadata": {},
   "outputs": [],
   "source": [
    "df[['UNIQUE_CARRIER']]"
   ]
  },
  {
   "cell_type": "code",
   "execution_count": null,
   "metadata": {},
   "outputs": [],
   "source": [
    "df[['UNIQUE_CARRIER', 'PASSENGERS']]"
   ]
  },
  {
   "cell_type": "code",
   "execution_count": null,
   "metadata": {},
   "outputs": [],
   "source": [
    "# df['PASSENGERS'] > 0"
   ]
  },
  {
   "cell_type": "code",
   "execution_count": null,
   "metadata": {},
   "outputs": [],
   "source": [
    "df[df['PASSENGERS'] > 0]"
   ]
  },
  {
   "cell_type": "markdown",
   "metadata": {},
   "source": [
    "<hr>"
   ]
  },
  {
   "cell_type": "markdown",
   "metadata": {},
   "source": [
    "<div class=\"alert alert-info\" role=\"alert\">\n",
    "    \n",
    "<img src=\"./icons/list.png\"  width=\"20\" height=\"20\" align=\"left\"> &nbsp;  **Exercise 6** \n",
    "\n",
    "It is possible to add a column to an existing *DataFrame*. This is useful if we want to compute some statistics or we need some custom filter criteria.\n",
    "\n",
    "- assigning a new column to an existing DataFrame. Use the syntax `df[\"new_column\"] = ...` to assign a new object to a column. Sum the *PASSENGERS*, *FREIGHT* and *MAIL* columns and assign the summed values to a new column.\n",
    "- check the results of the new column by getting some samples (try `df.sample(n_sample)`. \n",
    "- get the *UNIQUE_CARRIER* values for which the value of the new column is grater than 10'000. Use `Series.unique()` to keep only unique values of a Series object.\n",
    "- it is possible to count the unique values with the `df.value_counts()` method.\n",
    "\n",
    "Keep in mind that the assigned object should be either a `pandas.Series` or a `numpy.array` object (also python lists are possible). \n",
    "\n",
    "</div>"
   ]
  },
  {
   "cell_type": "code",
   "execution_count": null,
   "metadata": {},
   "outputs": [],
   "source": [
    "df.PASSENGERS"
   ]
  },
  {
   "cell_type": "code",
   "execution_count": null,
   "metadata": {},
   "outputs": [],
   "source": [
    "df['SUM_'] = (df.PASSENGERS + df.MAIL + df.FREIGHT)"
   ]
  },
  {
   "cell_type": "code",
   "execution_count": null,
   "metadata": {},
   "outputs": [],
   "source": [
    "df.SUM_"
   ]
  },
  {
   "cell_type": "code",
   "execution_count": null,
   "metadata": {},
   "outputs": [],
   "source": [
    "df.info()"
   ]
  },
  {
   "cell_type": "code",
   "execution_count": null,
   "metadata": {},
   "outputs": [],
   "source": [
    "df_small = df.sample(100)"
   ]
  },
  {
   "cell_type": "code",
   "execution_count": null,
   "metadata": {},
   "outputs": [],
   "source": [
    "df.UNIQUE_CARRIER.unique() # numpy array"
   ]
  },
  {
   "cell_type": "code",
   "execution_count": null,
   "metadata": {},
   "outputs": [],
   "source": [
    "df.UNIQUE_CARRIER.value_counts()"
   ]
  },
  {
   "cell_type": "markdown",
   "metadata": {},
   "source": [
    "<hr>"
   ]
  },
  {
   "cell_type": "markdown",
   "metadata": {},
   "source": [
    "## Group by operations\n",
    "Like in SQL it is possible to perform *group by* operations on a *DataFrame*. This is performed by means of `DataFrame.groupby` method which accept a single column or a list of columns. The returned type is a `DataFrameGroupBy` which has methods to perform operations over the grouped entries. The API for the **GroupBy** objects can be found [here](https://pandas.pydata.org/pandas-docs/stable/reference/groupby.html) while the reference user-guide can be found [here](https://pandas.pydata.org/pandas-docs/stable/user_guide/groupby.html)."
   ]
  },
  {
   "cell_type": "markdown",
   "metadata": {},
   "source": [
    "<div class=\"alert alert-info\" role=\"alert\">\n",
    "    \n",
    "<img src=\"./icons/list.png\"  width=\"20\" height=\"20\" align=\"left\"> &nbsp;  **Exercise 7** \n",
    "\n",
    "- find the number of entries for each carrier. Use `DataFrameGroupBy.count()`.\n",
    "- find the total distance for each of the carrier. Use `DataFrameGroupBy.sum()`.\n",
    "\n",
    "Which is the carrier with the highest distance?\n",
    "\n",
    "</div>"
   ]
  },
  {
   "cell_type": "markdown",
   "metadata": {},
   "source": [
    "<div class=\"alert alert-success\" role=\"alert\">\n",
    "    \n",
    "<img src=\"./icons/lightbulb.png\"  width=\"20\" height=\"20\" align=\"left\"> &nbsp; **Pandas Tip 4**: due to `df.groupby()` applies only to columns and not index it is needed to reset the current index. Use `df.reset_index()` to achieve the goal. \n",
    "\n",
    "</div>"
   ]
  },
  {
   "cell_type": "code",
   "execution_count": null,
   "metadata": {},
   "outputs": [],
   "source": [
    "df.groupby([\"UNIQUE_CARRIER\"])[[\"PASSENGERS\"]].count()"
   ]
  },
  {
   "cell_type": "code",
   "execution_count": null,
   "metadata": {},
   "outputs": [],
   "source": [
    "df.groupby(\"UNIQUE_CARRIER\")[[\"DISTANCE\"]].sum().sort_values(\"DISTANCE\", ascending=False)"
   ]
  },
  {
   "cell_type": "code",
   "execution_count": null,
   "metadata": {},
   "outputs": [],
   "source": [
    "df.groupby(\"UNIQUE_CARRIER\")[[\"DISTANCE\"]].mean().sort_values(\"DISTANCE\", ascending=False)"
   ]
  },
  {
   "cell_type": "markdown",
   "metadata": {},
   "source": [
    "<hr>"
   ]
  },
  {
   "cell_type": "markdown",
   "metadata": {},
   "source": [
    "## Combining and Merging\n",
    "It is possible to combine data in pandas in different ways: \n",
    "1. `pandas.merge` connects rows in DataFrames based on one or more keys. This will be familiar to users of SQL or other relational databases, as it implements database join operations.\n",
    "2. `pandas.concat` concatenates or “stacks” together objects along an axis.\n",
    "\n",
    "[Here](https://pandas.pydata.org/pandas-docs/stable/user_guide/merging.html#joining-on-index) it can be found a full guide on options available for the two methods. "
   ]
  },
  {
   "cell_type": "code",
   "execution_count": null,
   "metadata": {
    "deletable": false,
    "editable": false
   },
   "outputs": [],
   "source": [
    "# preparing mock dataframe for next exercise\n",
    "df_left = df.drop(columns=[\"ORIGIN\", \"DEST\"])\n",
    "df_right = df[[\"ORIGIN_AIRPORT_ID\", \"ORIGIN\"]].drop_duplicates()\n",
    "df_right_dest = df[[\"DEST_AIRPORT_ID\", \"DEST\"]].drop_duplicates().sample(frac=0.7)\n",
    "df_dropped = df[[\"ORIGIN\", \"DEST\"]]"
   ]
  },
  {
   "cell_type": "markdown",
   "metadata": {},
   "source": [
    "<div class=\"alert alert-info\" role=\"alert\">\n",
    "    \n",
    "<img src=\"./icons/list.png\"  width=\"20\" height=\"20\" align=\"left\"> &nbsp;  **Exercise 8** \n",
    "\n",
    "- reconcile the information about the origin airport name by merging the prepared left and right dataset with the `pd.merge` pandas api. Merge by **ORIGIN_AIRPORT_ID**\n",
    "- add the dropped columns *df_dropped* to the *df_left* dataframe in order to reconstruct the original one. Use the `pd.concat` pandas api specifying the `axis` where is wanted to perform the concatenation. \n",
    "- from the **df** datataframe create two new dataframes taking the first and last 10 rows using the already seen slicing operator. Then create a new dataframe adding the two derived ones. Check the result\n",
    "\n",
    "</div>"
   ]
  },
  {
   "cell_type": "markdown",
   "metadata": {},
   "source": [
    "<div class=\"alert alert-success\" role=\"alert\">\n",
    "    \n",
    "<img src=\"./icons/lightbulb.png\"  width=\"20\" height=\"20\" align=\"left\"> &nbsp; **Pandas Tip 5**: the `pd.merge` methods takes the left and right dataframes to be merged as parameters. In addition the `on=<columns>` parameter allows for specifying the key for the merge operation otherwise overlapping columns name are taken.\n",
    "\n",
    "The `how=<left|right|inner|outer>` parameter allows for settings the merging strategy which by default is set to *inner*. \n",
    "</div>"
   ]
  },
  {
   "cell_type": "markdown",
   "metadata": {},
   "source": [
    "<div class=\"alert alert-success\" role=\"alert\">\n",
    "    \n",
    "<img src=\"./icons/lightbulb.png\"  width=\"20\" height=\"20\" align=\"left\"> &nbsp; **Pandas Tip 6**: some pandas operations like `df.min`, `df.max` or `pd.concat` allows for specifying the axis where to perform such operation. There are two major aces in pandas: \n",
    "\n",
    "- axis 0: representing the rows (index)\n",
    "- axis 1: representing the columns\n",
    "\n",
    "</div>"
   ]
  },
  {
   "cell_type": "code",
   "execution_count": null,
   "metadata": {},
   "outputs": [],
   "source": [
    "pd.merge(df_left, df_right, on='ORIGIN_AIRPORT_ID')"
   ]
  },
  {
   "cell_type": "code",
   "execution_count": null,
   "metadata": {},
   "outputs": [],
   "source": [
    "df_left.info()"
   ]
  },
  {
   "cell_type": "code",
   "execution_count": null,
   "metadata": {},
   "outputs": [],
   "source": [
    "df_dropped.info()"
   ]
  },
  {
   "cell_type": "code",
   "execution_count": null,
   "metadata": {},
   "outputs": [],
   "source": [
    "(\n",
    "    pd.concat([df_left, df_dropped], axis=1)\n",
    "     .sort_index(axis=1) # sort columns\n",
    ")"
   ]
  },
  {
   "cell_type": "code",
   "execution_count": null,
   "metadata": {},
   "outputs": [],
   "source": [
    "df_top, df_bottom = df[:10], df[-10:]"
   ]
  },
  {
   "cell_type": "code",
   "execution_count": null,
   "metadata": {},
   "outputs": [],
   "source": [
    "pd.concat([df_top, df_bottom], axis=0)"
   ]
  },
  {
   "cell_type": "markdown",
   "metadata": {},
   "source": [
    "<hr>"
   ]
  },
  {
   "cell_type": "markdown",
   "metadata": {},
   "source": [
    "## Plotting results\n",
    "Sometimes it is better to visualize the results we have processed. Pandas *DataFrame* has a `DataFrame.plot()` method which allows for this purpose. The plotting library used by pandas is **matplotlib**. "
   ]
  },
  {
   "cell_type": "markdown",
   "metadata": {},
   "source": [
    "<div class=\"alert alert-info\" role=\"alert\">\n",
    "    \n",
    "<img src=\"./icons/list.png\"  width=\"20\" height=\"20\" align=\"left\"> &nbsp;  **Exercise 9** \n",
    "\n",
    "- show the number of flies for the different months of the year.\n",
    "- add the title and change the size of the plot.\n",
    "\n",
    "</div>"
   ]
  },
  {
   "cell_type": "markdown",
   "metadata": {},
   "source": [
    "<div class=\"alert alert-success\" role=\"alert\">\n",
    "    \n",
    "<img src=\"./icons/lightbulb.png\"  width=\"20\" height=\"20\" align=\"left\"> &nbsp; **MatplotLib Tip 1**: You can create a new figure with the `f = plt.figure(figsize=[10, 5])` and use it to add a subplot `ax = f.add_subplot()` which returns an *Axes* object. \n",
    "\n",
    "Please note:\n",
    "- The subplot can be passed to `DataFrame.plot()` call. \n",
    "- The referenced *Axes* object can then be used to set properties of the plot such as the title.\n",
    "\n",
    "For more references see the [official api](https://matplotlib.org/3.1.1/api/axes_api.html#axis-labels-title-and-legend) doc for Axes.\n",
    "\n",
    "</div>"
   ]
  },
  {
   "cell_type": "code",
   "execution_count": null,
   "metadata": {},
   "outputs": [],
   "source": [
    "df.groupby(\"MONTH\").count()\n"
   ]
  },
  {
   "cell_type": "code",
   "execution_count": null,
   "metadata": {},
   "outputs": [],
   "source": [
    "monthly_flies = (\n",
    "    df.groupby(\"MONTH\")\n",
    "    .count()\n",
    "    .loc[:, [\"UNIQUE_CARRIER\"]] # select a column\n",
    "    .rename({\"UNIQUE_CARRIER\": \"COUNT\"}, axis=1) # rename columns with axis=1\n",
    "    .reset_index() # reset the MONTH index\n",
    ")"
   ]
  },
  {
   "cell_type": "code",
   "execution_count": null,
   "metadata": {},
   "outputs": [],
   "source": [
    "ax = monthly_flies.set_index(\"MONTH\").plot(figsize=(10, 5))\n",
    "_ = ax.set_title(\"Number of flights by month\")\n",
    "_ = ax.set_xticklabels([\"Jen\", \"Feb\", \"Mar\", \"Apr\", \"May\", \"Jun\"])"
   ]
  },
  {
   "cell_type": "code",
   "execution_count": null,
   "metadata": {},
   "outputs": [],
   "source": [
    "ax = monthly_flies.set_index(\"MONTH\").plot(figsize=(10, 5), kind=\"bar\")\n",
    "_ = ax.set_title(\"Number of flights by month\")\n",
    "_ = ax.set_xticklabels([\"Jen\", \"Feb\", \"Mar\", \"Apr\", \"May\", \"Jun\"])"
   ]
  },
  {
   "cell_type": "code",
   "execution_count": null,
   "metadata": {},
   "outputs": [],
   "source": [
    "f = plt.figure(figsize=[10, 5])\n",
    "ax = f.add_subplot()\n",
    "_ = monthly_flies.set_index(\"MONTH\").plot(ax=ax)\n",
    "_ = ax.set_title(\"Number of flights by month\")\n",
    "_ = ax.set_xticklabels([\"Jen\", \"Feb\", \"Mar\", \"Apr\", \"May\", \"Jun\"])"
   ]
  },
  {
   "cell_type": "code",
   "execution_count": null,
   "metadata": {},
   "outputs": [],
   "source": [
    "df.to_csv(\"./my_example.csv\")"
   ]
  },
  {
   "cell_type": "code",
   "execution_count": null,
   "metadata": {},
   "outputs": [],
   "source": [
    "! ls "
   ]
  },
  {
   "cell_type": "code",
   "execution_count": null,
   "metadata": {},
   "outputs": [],
   "source": [
    "! cat my_example.csv | head -n 10"
   ]
  },
  {
   "cell_type": "markdown",
   "metadata": {},
   "source": [
    "## Homeworks"
   ]
  },
  {
   "cell_type": "code",
   "execution_count": null,
   "metadata": {},
   "outputs": [],
   "source": [
    "AIRLINE_DATA = \"./t100_domestic_market_bts.zip\""
   ]
  },
  {
   "cell_type": "code",
   "execution_count": null,
   "metadata": {},
   "outputs": [],
   "source": [
    "df = pd.read_csv(AIRLINE_DATA) "
   ]
  },
  {
   "cell_type": "code",
   "execution_count": 196,
   "metadata": {},
   "outputs": [
    {
     "data": {
      "text/html": [
       "<div>\n",
       "<style scoped>\n",
       "    .dataframe tbody tr th:only-of-type {\n",
       "        vertical-align: middle;\n",
       "    }\n",
       "\n",
       "    .dataframe tbody tr th {\n",
       "        vertical-align: top;\n",
       "    }\n",
       "\n",
       "    .dataframe thead th {\n",
       "        text-align: right;\n",
       "    }\n",
       "</style>\n",
       "<table border=\"1\" class=\"dataframe\">\n",
       "  <thead>\n",
       "    <tr style=\"text-align: right;\">\n",
       "      <th></th>\n",
       "      <th>UNIQUE_CARRIER</th>\n",
       "      <th>PASSENGERS</th>\n",
       "      <th>FREIGHT</th>\n",
       "      <th>MAIL</th>\n",
       "      <th>DISTANCE</th>\n",
       "      <th>UNIQUE_CARRIER_NAME</th>\n",
       "      <th>ORIGIN_AIRPORT_ID</th>\n",
       "      <th>ORIGIN</th>\n",
       "      <th>DEST_AIRPORT_ID</th>\n",
       "      <th>DEST</th>\n",
       "      <th>MONTH</th>\n",
       "      <th>SUM_</th>\n",
       "      <th>ROUTE</th>\n",
       "    </tr>\n",
       "  </thead>\n",
       "  <tbody>\n",
       "    <tr>\n",
       "      <th>0</th>\n",
       "      <td>27Q</td>\n",
       "      <td>0.0</td>\n",
       "      <td>0.0</td>\n",
       "      <td>0.0</td>\n",
       "      <td>35.0</td>\n",
       "      <td>Jet Aviation Flight Services, Inc.</td>\n",
       "      <td>15030</td>\n",
       "      <td>SUA</td>\n",
       "      <td>14027</td>\n",
       "      <td>PBI</td>\n",
       "      <td>1</td>\n",
       "      <td>0.0</td>\n",
       "      <td>15030_14027</td>\n",
       "    </tr>\n",
       "    <tr>\n",
       "      <th>1</th>\n",
       "      <td>27Q</td>\n",
       "      <td>0.0</td>\n",
       "      <td>0.0</td>\n",
       "      <td>0.0</td>\n",
       "      <td>160.0</td>\n",
       "      <td>Jet Aviation Flight Services, Inc.</td>\n",
       "      <td>15070</td>\n",
       "      <td>SWF</td>\n",
       "      <td>10540</td>\n",
       "      <td>BED</td>\n",
       "      <td>1</td>\n",
       "      <td>0.0</td>\n",
       "      <td>15070_10540</td>\n",
       "    </tr>\n",
       "    <tr>\n",
       "      <th>2</th>\n",
       "      <td>27Q</td>\n",
       "      <td>0.0</td>\n",
       "      <td>0.0</td>\n",
       "      <td>0.0</td>\n",
       "      <td>740.0</td>\n",
       "      <td>Jet Aviation Flight Services, Inc.</td>\n",
       "      <td>15167</td>\n",
       "      <td>TEB</td>\n",
       "      <td>11376</td>\n",
       "      <td>DPA</td>\n",
       "      <td>1</td>\n",
       "      <td>0.0</td>\n",
       "      <td>15167_11376</td>\n",
       "    </tr>\n",
       "    <tr>\n",
       "      <th>3</th>\n",
       "      <td>27Q</td>\n",
       "      <td>0.0</td>\n",
       "      <td>0.0</td>\n",
       "      <td>0.0</td>\n",
       "      <td>9.0</td>\n",
       "      <td>Jet Aviation Flight Services, Inc.</td>\n",
       "      <td>15167</td>\n",
       "      <td>TEB</td>\n",
       "      <td>15346</td>\n",
       "      <td>TSS</td>\n",
       "      <td>1</td>\n",
       "      <td>0.0</td>\n",
       "      <td>15167_15346</td>\n",
       "    </tr>\n",
       "    <tr>\n",
       "      <th>4</th>\n",
       "      <td>27Q</td>\n",
       "      <td>0.0</td>\n",
       "      <td>0.0</td>\n",
       "      <td>0.0</td>\n",
       "      <td>44.0</td>\n",
       "      <td>Jet Aviation Flight Services, Inc.</td>\n",
       "      <td>15447</td>\n",
       "      <td>UGN</td>\n",
       "      <td>13232</td>\n",
       "      <td>MDW</td>\n",
       "      <td>1</td>\n",
       "      <td>0.0</td>\n",
       "      <td>15447_13232</td>\n",
       "    </tr>\n",
       "    <tr>\n",
       "      <th>...</th>\n",
       "      <td>...</td>\n",
       "      <td>...</td>\n",
       "      <td>...</td>\n",
       "      <td>...</td>\n",
       "      <td>...</td>\n",
       "      <td>...</td>\n",
       "      <td>...</td>\n",
       "      <td>...</td>\n",
       "      <td>...</td>\n",
       "      <td>...</td>\n",
       "      <td>...</td>\n",
       "      <td>...</td>\n",
       "      <td>...</td>\n",
       "    </tr>\n",
       "    <tr>\n",
       "      <th>122430</th>\n",
       "      <td>DL</td>\n",
       "      <td>94927.0</td>\n",
       "      <td>48063.0</td>\n",
       "      <td>35613.0</td>\n",
       "      <td>404.0</td>\n",
       "      <td>Delta Air Lines Inc.</td>\n",
       "      <td>10397</td>\n",
       "      <td>ATL</td>\n",
       "      <td>13204</td>\n",
       "      <td>MCO</td>\n",
       "      <td>5</td>\n",
       "      <td>178603.0</td>\n",
       "      <td>10397_13204</td>\n",
       "    </tr>\n",
       "    <tr>\n",
       "      <th>122431</th>\n",
       "      <td>DL</td>\n",
       "      <td>95102.0</td>\n",
       "      <td>125165.0</td>\n",
       "      <td>6280.0</td>\n",
       "      <td>404.0</td>\n",
       "      <td>Delta Air Lines Inc.</td>\n",
       "      <td>13204</td>\n",
       "      <td>MCO</td>\n",
       "      <td>10397</td>\n",
       "      <td>ATL</td>\n",
       "      <td>5</td>\n",
       "      <td>226547.0</td>\n",
       "      <td>13204_10397</td>\n",
       "    </tr>\n",
       "    <tr>\n",
       "      <th>122432</th>\n",
       "      <td>DL</td>\n",
       "      <td>96619.0</td>\n",
       "      <td>64551.0</td>\n",
       "      <td>28077.0</td>\n",
       "      <td>404.0</td>\n",
       "      <td>Delta Air Lines Inc.</td>\n",
       "      <td>10397</td>\n",
       "      <td>ATL</td>\n",
       "      <td>13204</td>\n",
       "      <td>MCO</td>\n",
       "      <td>3</td>\n",
       "      <td>189247.0</td>\n",
       "      <td>10397_13204</td>\n",
       "    </tr>\n",
       "    <tr>\n",
       "      <th>122433</th>\n",
       "      <td>AS</td>\n",
       "      <td>97011.0</td>\n",
       "      <td>473666.0</td>\n",
       "      <td>55963.0</td>\n",
       "      <td>1448.0</td>\n",
       "      <td>Alaska Airlines Inc.</td>\n",
       "      <td>14747</td>\n",
       "      <td>SEA</td>\n",
       "      <td>10299</td>\n",
       "      <td>ANC</td>\n",
       "      <td>6</td>\n",
       "      <td>626640.0</td>\n",
       "      <td>14747_10299</td>\n",
       "    </tr>\n",
       "    <tr>\n",
       "      <th>122434</th>\n",
       "      <td>DL</td>\n",
       "      <td>97329.0</td>\n",
       "      <td>210292.0</td>\n",
       "      <td>5431.0</td>\n",
       "      <td>404.0</td>\n",
       "      <td>Delta Air Lines Inc.</td>\n",
       "      <td>13204</td>\n",
       "      <td>MCO</td>\n",
       "      <td>10397</td>\n",
       "      <td>ATL</td>\n",
       "      <td>3</td>\n",
       "      <td>313052.0</td>\n",
       "      <td>13204_10397</td>\n",
       "    </tr>\n",
       "  </tbody>\n",
       "</table>\n",
       "<p>122435 rows × 13 columns</p>\n",
       "</div>"
      ],
      "text/plain": [
       "       UNIQUE_CARRIER  PASSENGERS   FREIGHT     MAIL  DISTANCE  \\\n",
       "0                 27Q         0.0       0.0      0.0      35.0   \n",
       "1                 27Q         0.0       0.0      0.0     160.0   \n",
       "2                 27Q         0.0       0.0      0.0     740.0   \n",
       "3                 27Q         0.0       0.0      0.0       9.0   \n",
       "4                 27Q         0.0       0.0      0.0      44.0   \n",
       "...               ...         ...       ...      ...       ...   \n",
       "122430             DL     94927.0   48063.0  35613.0     404.0   \n",
       "122431             DL     95102.0  125165.0   6280.0     404.0   \n",
       "122432             DL     96619.0   64551.0  28077.0     404.0   \n",
       "122433             AS     97011.0  473666.0  55963.0    1448.0   \n",
       "122434             DL     97329.0  210292.0   5431.0     404.0   \n",
       "\n",
       "                       UNIQUE_CARRIER_NAME  ORIGIN_AIRPORT_ID ORIGIN  \\\n",
       "0       Jet Aviation Flight Services, Inc.              15030    SUA   \n",
       "1       Jet Aviation Flight Services, Inc.              15070    SWF   \n",
       "2       Jet Aviation Flight Services, Inc.              15167    TEB   \n",
       "3       Jet Aviation Flight Services, Inc.              15167    TEB   \n",
       "4       Jet Aviation Flight Services, Inc.              15447    UGN   \n",
       "...                                    ...                ...    ...   \n",
       "122430                Delta Air Lines Inc.              10397    ATL   \n",
       "122431                Delta Air Lines Inc.              13204    MCO   \n",
       "122432                Delta Air Lines Inc.              10397    ATL   \n",
       "122433                Alaska Airlines Inc.              14747    SEA   \n",
       "122434                Delta Air Lines Inc.              13204    MCO   \n",
       "\n",
       "        DEST_AIRPORT_ID DEST  MONTH      SUM_        ROUTE  \n",
       "0                 14027  PBI      1       0.0  15030_14027  \n",
       "1                 10540  BED      1       0.0  15070_10540  \n",
       "2                 11376  DPA      1       0.0  15167_11376  \n",
       "3                 15346  TSS      1       0.0  15167_15346  \n",
       "4                 13232  MDW      1       0.0  15447_13232  \n",
       "...                 ...  ...    ...       ...          ...  \n",
       "122430            13204  MCO      5  178603.0  10397_13204  \n",
       "122431            10397  ATL      5  226547.0  13204_10397  \n",
       "122432            13204  MCO      3  189247.0  10397_13204  \n",
       "122433            10299  ANC      6  626640.0  14747_10299  \n",
       "122434            10397  ATL      3  313052.0  13204_10397  \n",
       "\n",
       "[122435 rows x 13 columns]"
      ]
     },
     "execution_count": 196,
     "metadata": {},
     "output_type": "execute_result"
    }
   ],
   "source": [
    "df"
   ]
  },
  {
   "cell_type": "markdown",
   "metadata": {},
   "source": [
    "<div class=\"alert alert-danger\" role=\"alert\">\n",
    "    \n",
    "<img src=\"../icons/chemistry.png\"  width=\"20\" height=\"20\" align=\"left\"> &nbsp;  **Task 1**:  Plot the top 5 carriers based on their total distance.\n",
    "[**SOLUTION**](./solutions/handson1/solution_1.py)\n",
    "\n",
    "</div>"
   ]
  },
  {
   "cell_type": "code",
   "execution_count": 197,
   "metadata": {},
   "outputs": [],
   "source": [
    "top_5_distance = (\n",
    "    df[[\"UNIQUE_CARRIER\", \"DISTANCE\"]] # select only the carrier code and the distance\n",
    "    .groupby(\"UNIQUE_CARRIER\")         # group by distance and apply an aggregation operator\n",
    "    .sum()\n",
    "    .sort_values(\"DISTANCE\", ascending=False) # sort the aggregated value \n",
    "    .iloc[:5]\n",
    ")"
   ]
  },
  {
   "cell_type": "code",
   "execution_count": 198,
   "metadata": {},
   "outputs": [
    {
     "data": {
      "text/html": [
       "<div>\n",
       "<style scoped>\n",
       "    .dataframe tbody tr th:only-of-type {\n",
       "        vertical-align: middle;\n",
       "    }\n",
       "\n",
       "    .dataframe tbody tr th {\n",
       "        vertical-align: top;\n",
       "    }\n",
       "\n",
       "    .dataframe thead th {\n",
       "        text-align: right;\n",
       "    }\n",
       "</style>\n",
       "<table border=\"1\" class=\"dataframe\">\n",
       "  <thead>\n",
       "    <tr style=\"text-align: right;\">\n",
       "      <th></th>\n",
       "      <th>DISTANCE</th>\n",
       "    </tr>\n",
       "    <tr>\n",
       "      <th>UNIQUE_CARRIER</th>\n",
       "      <th></th>\n",
       "    </tr>\n",
       "  </thead>\n",
       "  <tbody>\n",
       "    <tr>\n",
       "      <th>WN</th>\n",
       "      <td>23148649.0</td>\n",
       "    </tr>\n",
       "    <tr>\n",
       "      <th>UA</th>\n",
       "      <td>7976645.0</td>\n",
       "    </tr>\n",
       "    <tr>\n",
       "      <th>DL</th>\n",
       "      <td>6496899.0</td>\n",
       "    </tr>\n",
       "    <tr>\n",
       "      <th>AA</th>\n",
       "      <td>5057492.0</td>\n",
       "    </tr>\n",
       "    <tr>\n",
       "      <th>OO</th>\n",
       "      <td>4636976.0</td>\n",
       "    </tr>\n",
       "  </tbody>\n",
       "</table>\n",
       "</div>"
      ],
      "text/plain": [
       "                  DISTANCE\n",
       "UNIQUE_CARRIER            \n",
       "WN              23148649.0\n",
       "UA               7976645.0\n",
       "DL               6496899.0\n",
       "AA               5057492.0\n",
       "OO               4636976.0"
      ]
     },
     "execution_count": 198,
     "metadata": {},
     "output_type": "execute_result"
    }
   ],
   "source": [
    "top_5_distance"
   ]
  },
  {
   "cell_type": "code",
   "execution_count": 199,
   "metadata": {},
   "outputs": [
    {
     "data": {
      "text/plain": [
       "<AxesSubplot:xlabel='UNIQUE_CARRIER'>"
      ]
     },
     "execution_count": 199,
     "metadata": {},
     "output_type": "execute_result"
    },
    {
     "data": {
      "image/png": "[encoded data removed]",
      "text/plain": [
       "<Figure size 720x360 with 1 Axes>"
      ]
     },
     "metadata": {
      "needs_background": "light"
     },
     "output_type": "display_data"
    }
   ],
   "source": [
    "f = plt.figure(figsize=[10, 5])\n",
    "ax = f.add_subplot()\n",
    "top_5_distance.plot(kind=\"bar\", ax=ax)"
   ]
  },
  {
   "cell_type": "markdown",
   "metadata": {},
   "source": [
    "<div class=\"alert alert-danger\" role=\"alert\">\n",
    "    \n",
    "<img src=\"../icons/chemistry.png\"  width=\"20\" height=\"20\" align=\"left\"> &nbsp;  **Task 2**:  Plot the top 5 destinations based on the total number of passengers in April.\n",
    "[**SOLUTION**](./solutions/handson1/solution_2.py)\n",
    "</div>"
   ]
  },
  {
   "cell_type": "code",
   "execution_count": 200,
   "metadata": {},
   "outputs": [],
   "source": [
    "top_5_passengers_april = (\n",
    "    df[[\"DEST_AIRPORT_ID\", \"PASSENGERS\", \"MONTH\"]] # select the required columns\n",
    "    .groupby([\"DEST_AIRPORT_ID\", \"MONTH\"])         # group by destination airport id and month\n",
    "    .sum()\n",
    "    .query(\"MONTH == 4\")                        # filter out all other months except april\n",
    "    .sort_values(\"PASSENGERS\", ascending=False) # sort the aggregated value \n",
    "    .iloc[:5]\n",
    ")"
   ]
  },
  {
   "cell_type": "code",
   "execution_count": 201,
   "metadata": {},
   "outputs": [
    {
     "data": {
      "text/html": [
       "<div>\n",
       "<style scoped>\n",
       "    .dataframe tbody tr th:only-of-type {\n",
       "        vertical-align: middle;\n",
       "    }\n",
       "\n",
       "    .dataframe tbody tr th {\n",
       "        vertical-align: top;\n",
       "    }\n",
       "\n",
       "    .dataframe thead th {\n",
       "        text-align: right;\n",
       "    }\n",
       "</style>\n",
       "<table border=\"1\" class=\"dataframe\">\n",
       "  <thead>\n",
       "    <tr style=\"text-align: right;\">\n",
       "      <th></th>\n",
       "      <th></th>\n",
       "      <th>PASSENGERS</th>\n",
       "    </tr>\n",
       "    <tr>\n",
       "      <th>DEST_AIRPORT_ID</th>\n",
       "      <th>MONTH</th>\n",
       "      <th></th>\n",
       "    </tr>\n",
       "  </thead>\n",
       "  <tbody>\n",
       "    <tr>\n",
       "      <th>10397</th>\n",
       "      <th>4</th>\n",
       "      <td>3963395.0</td>\n",
       "    </tr>\n",
       "    <tr>\n",
       "      <th>13930</th>\n",
       "      <th>4</th>\n",
       "      <td>2805922.0</td>\n",
       "    </tr>\n",
       "    <tr>\n",
       "      <th>12892</th>\n",
       "      <th>4</th>\n",
       "      <td>2487713.0</td>\n",
       "    </tr>\n",
       "    <tr>\n",
       "      <th>11292</th>\n",
       "      <th>4</th>\n",
       "      <td>2460279.0</td>\n",
       "    </tr>\n",
       "    <tr>\n",
       "      <th>11298</th>\n",
       "      <th>4</th>\n",
       "      <td>2403091.0</td>\n",
       "    </tr>\n",
       "  </tbody>\n",
       "</table>\n",
       "</div>"
      ],
      "text/plain": [
       "                       PASSENGERS\n",
       "DEST_AIRPORT_ID MONTH            \n",
       "10397           4       3963395.0\n",
       "13930           4       2805922.0\n",
       "12892           4       2487713.0\n",
       "11292           4       2460279.0\n",
       "11298           4       2403091.0"
      ]
     },
     "execution_count": 201,
     "metadata": {},
     "output_type": "execute_result"
    }
   ],
   "source": [
    "top_5_passengers_april"
   ]
  },
  {
   "cell_type": "code",
   "execution_count": 202,
   "metadata": {},
   "outputs": [
    {
     "data": {
      "text/plain": [
       "<AxesSubplot:xlabel='DEST_AIRPORT_ID,MONTH'>"
      ]
     },
     "execution_count": 202,
     "metadata": {},
     "output_type": "execute_result"
    },
    {
     "data": {
      "image/png": "[encoded data removed]",
      "text/plain": [
       "<Figure size 720x360 with 1 Axes>"
      ]
     },
     "metadata": {
      "needs_background": "light"
     },
     "output_type": "display_data"
    }
   ],
   "source": [
    "f = plt.figure(figsize=[10, 5])\n",
    "ax = f.add_subplot()\n",
    "top_5_passengers_april.plot(kind=\"bar\", ax=ax)"
   ]
  },
  {
   "cell_type": "markdown",
   "metadata": {},
   "source": [
    "<div class=\"alert alert-danger\" role=\"alert\">\n",
    "    \n",
    "<img src=\"../icons/chemistry.png\"  width=\"20\" height=\"20\" align=\"left\"> &nbsp;  **Task 3**:  Check the most crowded route (origin - destination) for *PASSENGERS*, *FREIGHT* and *MAIL*.\n",
    "[**SOLUTION**](./solutions/handson1/solution_3.py)\n",
    "</div>"
   ]
  },
  {
   "cell_type": "code",
   "execution_count": 203,
   "metadata": {},
   "outputs": [],
   "source": [
    "# create a new feature (column) for the dataset using the origin and destination\n",
    "df[\"ROUTE\"] = (\n",
    "    df[[\"ORIGIN_AIRPORT_ID\", \"DEST_AIRPORT_ID\"]]\n",
    "    .apply(lambda x: \"_\".join([str(y) for y in x]), axis=1, raw=True)\n",
    ")"
   ]
  },
  {
   "cell_type": "code",
   "execution_count": 204,
   "metadata": {},
   "outputs": [
    {
     "data": {
      "text/plain": [
       "0         15030_14027\n",
       "1         15070_10540\n",
       "2         15167_11376\n",
       "3         15167_15346\n",
       "4         15447_13232\n",
       "             ...     \n",
       "122430    10397_13204\n",
       "122431    13204_10397\n",
       "122432    10397_13204\n",
       "122433    14747_10299\n",
       "122434    13204_10397\n",
       "Name: ROUTE, Length: 122435, dtype: object"
      ]
     },
     "execution_count": 204,
     "metadata": {},
     "output_type": "execute_result"
    }
   ],
   "source": [
    "df.ROUTE"
   ]
  },
  {
   "cell_type": "code",
   "execution_count": 205,
   "metadata": {},
   "outputs": [],
   "source": [
    "aggreg_most_crowded = (\n",
    "    df[[\"ROUTE\", \"MAIL\", \"FREIGHT\", \"PASSENGERS\"]] # select the required columns\n",
    "    .groupby([\"ROUTE\"])                            # group by the new ROUTE column \n",
    "    .sum()\n",
    ")"
   ]
  },
  {
   "cell_type": "code",
   "execution_count": 206,
   "metadata": {},
   "outputs": [
    {
     "data": {
      "text/html": [
       "<div>\n",
       "<style scoped>\n",
       "    .dataframe tbody tr th:only-of-type {\n",
       "        vertical-align: middle;\n",
       "    }\n",
       "\n",
       "    .dataframe tbody tr th {\n",
       "        vertical-align: top;\n",
       "    }\n",
       "\n",
       "    .dataframe thead th {\n",
       "        text-align: right;\n",
       "    }\n",
       "</style>\n",
       "<table border=\"1\" class=\"dataframe\">\n",
       "  <thead>\n",
       "    <tr style=\"text-align: right;\">\n",
       "      <th></th>\n",
       "      <th>MAIL</th>\n",
       "      <th>FREIGHT</th>\n",
       "      <th>PASSENGERS</th>\n",
       "    </tr>\n",
       "    <tr>\n",
       "      <th>ROUTE</th>\n",
       "      <th></th>\n",
       "      <th></th>\n",
       "      <th></th>\n",
       "    </tr>\n",
       "  </thead>\n",
       "  <tbody>\n",
       "    <tr>\n",
       "      <th>10005_11214</th>\n",
       "      <td>0.0</td>\n",
       "      <td>25.0</td>\n",
       "      <td>1.0</td>\n",
       "    </tr>\n",
       "    <tr>\n",
       "      <th>10005_11630</th>\n",
       "      <td>0.0</td>\n",
       "      <td>1585.0</td>\n",
       "      <td>14.0</td>\n",
       "    </tr>\n",
       "    <tr>\n",
       "      <th>10009_10170</th>\n",
       "      <td>0.0</td>\n",
       "      <td>0.0</td>\n",
       "      <td>9.0</td>\n",
       "    </tr>\n",
       "    <tr>\n",
       "      <th>10009_13934</th>\n",
       "      <td>0.0</td>\n",
       "      <td>0.0</td>\n",
       "      <td>2.0</td>\n",
       "    </tr>\n",
       "    <tr>\n",
       "      <th>10011_10011</th>\n",
       "      <td>0.0</td>\n",
       "      <td>0.0</td>\n",
       "      <td>2210.0</td>\n",
       "    </tr>\n",
       "    <tr>\n",
       "      <th>...</th>\n",
       "      <td>...</td>\n",
       "      <td>...</td>\n",
       "      <td>...</td>\n",
       "    </tr>\n",
       "    <tr>\n",
       "      <th>16853_14081</th>\n",
       "      <td>0.0</td>\n",
       "      <td>0.0</td>\n",
       "      <td>1.0</td>\n",
       "    </tr>\n",
       "    <tr>\n",
       "      <th>16856_12197</th>\n",
       "      <td>0.0</td>\n",
       "      <td>0.0</td>\n",
       "      <td>8.0</td>\n",
       "    </tr>\n",
       "    <tr>\n",
       "      <th>16857_14683</th>\n",
       "      <td>0.0</td>\n",
       "      <td>154.0</td>\n",
       "      <td>0.0</td>\n",
       "    </tr>\n",
       "    <tr>\n",
       "      <th>16860_11203</th>\n",
       "      <td>0.0</td>\n",
       "      <td>1685.0</td>\n",
       "      <td>0.0</td>\n",
       "    </tr>\n",
       "    <tr>\n",
       "      <th>16861_15167</th>\n",
       "      <td>0.0</td>\n",
       "      <td>0.0</td>\n",
       "      <td>0.0</td>\n",
       "    </tr>\n",
       "  </tbody>\n",
       "</table>\n",
       "<p>18938 rows × 3 columns</p>\n",
       "</div>"
      ],
      "text/plain": [
       "             MAIL  FREIGHT  PASSENGERS\n",
       "ROUTE                                 \n",
       "10005_11214   0.0     25.0         1.0\n",
       "10005_11630   0.0   1585.0        14.0\n",
       "10009_10170   0.0      0.0         9.0\n",
       "10009_13934   0.0      0.0         2.0\n",
       "10011_10011   0.0      0.0      2210.0\n",
       "...           ...      ...         ...\n",
       "16853_14081   0.0      0.0         1.0\n",
       "16856_12197   0.0      0.0         8.0\n",
       "16857_14683   0.0    154.0         0.0\n",
       "16860_11203   0.0   1685.0         0.0\n",
       "16861_15167   0.0      0.0         0.0\n",
       "\n",
       "[18938 rows x 3 columns]"
      ]
     },
     "execution_count": 206,
     "metadata": {},
     "output_type": "execute_result"
    }
   ],
   "source": [
    "aggreg_most_crowded"
   ]
  },
  {
   "cell_type": "code",
   "execution_count": 212,
   "metadata": {},
   "outputs": [],
   "source": [
    "# get the top 1 route and take the index\n",
    "idx_mail = aggreg_most_crowded.MAIL.sort_values(ascending=False).index[0]"
   ]
  },
  {
   "cell_type": "code",
   "execution_count": null,
   "metadata": {},
   "outputs": [],
   "source": [
    "df.append()"
   ]
  },
  {
   "cell_type": "code",
   "execution_count": 213,
   "metadata": {},
   "outputs": [
    {
     "data": {
      "text/plain": [
       "ORIGIN    ANC\n",
       "DEST      BET\n",
       "Name: 10299_10551, dtype: object"
      ]
     },
     "execution_count": 213,
     "metadata": {},
     "output_type": "execute_result"
    }
   ],
   "source": [
    "# use the original dataset with the route column, set ROOUTE as index and locate the one of interest\n",
    "df.set_index(\"ROUTE\").loc[idx_mail][[\"ORIGIN\", \"DEST\"]].iloc[0]"
   ]
  },
  {
   "cell_type": "code",
   "execution_count": 214,
   "metadata": {},
   "outputs": [
    {
     "data": {
      "text/plain": [
       "ORIGIN    LAX\n",
       "DEST      SFO\n",
       "Name: 12892_14771, dtype: object"
      ]
     },
     "execution_count": 214,
     "metadata": {},
     "output_type": "execute_result"
    }
   ],
   "source": [
    "idx_pass = aggreg_most_crowded.PASSENGERS.sort_values(ascending=False).index[0]\n",
    "df.set_index(\"ROUTE\").loc[idx_pass][[\"ORIGIN\", \"DEST\"]].iloc[0]"
   ]
  },
  {
   "cell_type": "code",
   "execution_count": 215,
   "metadata": {},
   "outputs": [
    {
     "data": {
      "text/plain": [
       "ORIGIN    ANC\n",
       "DEST      SDF\n",
       "Name: 10299_14730, dtype: object"
      ]
     },
     "execution_count": 215,
     "metadata": {},
     "output_type": "execute_result"
    }
   ],
   "source": [
    "idx_freight = aggreg_most_crowded.FREIGHT.sort_values(ascending=False).index[0]\n",
    "df.set_index(\"ROUTE\").loc[idx_freight][[\"ORIGIN\", \"DEST\"]].iloc[0]"
   ]
  },
  {
   "cell_type": "markdown",
   "metadata": {},
   "source": [
    "<div class=\"alert alert-danger\" role=\"alert\">\n",
    "    \n",
    "<img src=\"../icons/chemistry.png\"  width=\"20\" height=\"20\" align=\"left\"> &nbsp;  **Task 4**:  Check if the number of outgoing passengers equals the total number of incoming passengers in all airports.\n",
    "[**SOLUTION**](./solutions/handson1/solution_4.py)\n",
    "\n",
    "</div>"
   ]
  },
  {
   "cell_type": "code",
   "execution_count": 216,
   "metadata": {},
   "outputs": [],
   "source": [
    "# outgoing df\n",
    "df_outgoing = df[[\"ORIGIN_AIRPORT_ID\", \"PASSENGERS\"]].groupby(\"ORIGIN_AIRPORT_ID\").sum()\n",
    "df_outgoing = df_outgoing.reset_index().rename({\"PASSENGERS\": \"OUTGOING\"}, axis=1)\n",
    "\n",
    "# incoming df\n",
    "df_incoming =  df[[\"DEST_AIRPORT_ID\", \"PASSENGERS\"]].groupby(\"DEST_AIRPORT_ID\").sum()\n",
    "df_incoming = df_incoming.reset_index().rename({\"PASSENGERS\": \"INCOMING\"}, axis=1)"
   ]
  },
  {
   "cell_type": "code",
   "execution_count": 218,
   "metadata": {},
   "outputs": [
    {
     "data": {
      "text/html": [
       "<div>\n",
       "<style scoped>\n",
       "    .dataframe tbody tr th:only-of-type {\n",
       "        vertical-align: middle;\n",
       "    }\n",
       "\n",
       "    .dataframe tbody tr th {\n",
       "        vertical-align: top;\n",
       "    }\n",
       "\n",
       "    .dataframe thead th {\n",
       "        text-align: right;\n",
       "    }\n",
       "</style>\n",
       "<table border=\"1\" class=\"dataframe\">\n",
       "  <thead>\n",
       "    <tr style=\"text-align: right;\">\n",
       "      <th></th>\n",
       "      <th>DEST_AIRPORT_ID</th>\n",
       "      <th>INCOMING</th>\n",
       "    </tr>\n",
       "  </thead>\n",
       "  <tbody>\n",
       "    <tr>\n",
       "      <th>0</th>\n",
       "      <td>10005</td>\n",
       "      <td>25.0</td>\n",
       "    </tr>\n",
       "    <tr>\n",
       "      <th>1</th>\n",
       "      <td>10009</td>\n",
       "      <td>13.0</td>\n",
       "    </tr>\n",
       "    <tr>\n",
       "      <th>2</th>\n",
       "      <td>10011</td>\n",
       "      <td>8487.0</td>\n",
       "    </tr>\n",
       "    <tr>\n",
       "      <th>3</th>\n",
       "      <td>10016</td>\n",
       "      <td>67.0</td>\n",
       "    </tr>\n",
       "    <tr>\n",
       "      <th>4</th>\n",
       "      <td>10033</td>\n",
       "      <td>0.0</td>\n",
       "    </tr>\n",
       "    <tr>\n",
       "      <th>...</th>\n",
       "      <td>...</td>\n",
       "      <td>...</td>\n",
       "    </tr>\n",
       "    <tr>\n",
       "      <th>1088</th>\n",
       "      <td>16853</td>\n",
       "      <td>1.0</td>\n",
       "    </tr>\n",
       "    <tr>\n",
       "      <th>1089</th>\n",
       "      <td>16856</td>\n",
       "      <td>7.0</td>\n",
       "    </tr>\n",
       "    <tr>\n",
       "      <th>1090</th>\n",
       "      <td>16857</td>\n",
       "      <td>0.0</td>\n",
       "    </tr>\n",
       "    <tr>\n",
       "      <th>1091</th>\n",
       "      <td>16860</td>\n",
       "      <td>0.0</td>\n",
       "    </tr>\n",
       "    <tr>\n",
       "      <th>1092</th>\n",
       "      <td>16861</td>\n",
       "      <td>2.0</td>\n",
       "    </tr>\n",
       "  </tbody>\n",
       "</table>\n",
       "<p>1093 rows × 2 columns</p>\n",
       "</div>"
      ],
      "text/plain": [
       "      DEST_AIRPORT_ID  INCOMING\n",
       "0               10005      25.0\n",
       "1               10009      13.0\n",
       "2               10011    8487.0\n",
       "3               10016      67.0\n",
       "4               10033       0.0\n",
       "...               ...       ...\n",
       "1088            16853       1.0\n",
       "1089            16856       7.0\n",
       "1090            16857       0.0\n",
       "1091            16860       0.0\n",
       "1092            16861       2.0\n",
       "\n",
       "[1093 rows x 2 columns]"
      ]
     },
     "execution_count": 218,
     "metadata": {},
     "output_type": "execute_result"
    }
   ],
   "source": [
    "df_incoming"
   ]
  },
  {
   "cell_type": "code",
   "execution_count": 219,
   "metadata": {},
   "outputs": [],
   "source": [
    "# merge the two crafted dataframe using  the left_on and the rigth_on parameter of the merge\n",
    "# pay attention the merging strategy is inner join\n",
    "df_out_incom = pd.merge(df_outgoing, df_incoming, left_on=\"ORIGIN_AIRPORT_ID\", right_on=\"DEST_AIRPORT_ID\")"
   ]
  },
  {
   "cell_type": "code",
   "execution_count": 220,
   "metadata": {},
   "outputs": [
    {
     "data": {
      "text/html": [
       "<div>\n",
       "<style scoped>\n",
       "    .dataframe tbody tr th:only-of-type {\n",
       "        vertical-align: middle;\n",
       "    }\n",
       "\n",
       "    .dataframe tbody tr th {\n",
       "        vertical-align: top;\n",
       "    }\n",
       "\n",
       "    .dataframe thead th {\n",
       "        text-align: right;\n",
       "    }\n",
       "</style>\n",
       "<table border=\"1\" class=\"dataframe\">\n",
       "  <thead>\n",
       "    <tr style=\"text-align: right;\">\n",
       "      <th></th>\n",
       "      <th>ORIGIN_AIRPORT_ID</th>\n",
       "      <th>OUTGOING</th>\n",
       "      <th>DEST_AIRPORT_ID</th>\n",
       "      <th>INCOMING</th>\n",
       "    </tr>\n",
       "  </thead>\n",
       "  <tbody>\n",
       "    <tr>\n",
       "      <th>0</th>\n",
       "      <td>10005</td>\n",
       "      <td>15.0</td>\n",
       "      <td>10005</td>\n",
       "      <td>25.0</td>\n",
       "    </tr>\n",
       "    <tr>\n",
       "      <th>1</th>\n",
       "      <td>10009</td>\n",
       "      <td>11.0</td>\n",
       "      <td>10009</td>\n",
       "      <td>13.0</td>\n",
       "    </tr>\n",
       "    <tr>\n",
       "      <th>2</th>\n",
       "      <td>10011</td>\n",
       "      <td>8422.0</td>\n",
       "      <td>10011</td>\n",
       "      <td>8487.0</td>\n",
       "    </tr>\n",
       "    <tr>\n",
       "      <th>3</th>\n",
       "      <td>10016</td>\n",
       "      <td>9.0</td>\n",
       "      <td>10016</td>\n",
       "      <td>67.0</td>\n",
       "    </tr>\n",
       "    <tr>\n",
       "      <th>4</th>\n",
       "      <td>10033</td>\n",
       "      <td>0.0</td>\n",
       "      <td>10033</td>\n",
       "      <td>0.0</td>\n",
       "    </tr>\n",
       "    <tr>\n",
       "      <th>...</th>\n",
       "      <td>...</td>\n",
       "      <td>...</td>\n",
       "      <td>...</td>\n",
       "      <td>...</td>\n",
       "    </tr>\n",
       "    <tr>\n",
       "      <th>1051</th>\n",
       "      <td>16853</td>\n",
       "      <td>1.0</td>\n",
       "      <td>16853</td>\n",
       "      <td>1.0</td>\n",
       "    </tr>\n",
       "    <tr>\n",
       "      <th>1052</th>\n",
       "      <td>16856</td>\n",
       "      <td>8.0</td>\n",
       "      <td>16856</td>\n",
       "      <td>7.0</td>\n",
       "    </tr>\n",
       "    <tr>\n",
       "      <th>1053</th>\n",
       "      <td>16857</td>\n",
       "      <td>0.0</td>\n",
       "      <td>16857</td>\n",
       "      <td>0.0</td>\n",
       "    </tr>\n",
       "    <tr>\n",
       "      <th>1054</th>\n",
       "      <td>16860</td>\n",
       "      <td>0.0</td>\n",
       "      <td>16860</td>\n",
       "      <td>0.0</td>\n",
       "    </tr>\n",
       "    <tr>\n",
       "      <th>1055</th>\n",
       "      <td>16861</td>\n",
       "      <td>0.0</td>\n",
       "      <td>16861</td>\n",
       "      <td>2.0</td>\n",
       "    </tr>\n",
       "  </tbody>\n",
       "</table>\n",
       "<p>1056 rows × 4 columns</p>\n",
       "</div>"
      ],
      "text/plain": [
       "      ORIGIN_AIRPORT_ID  OUTGOING  DEST_AIRPORT_ID  INCOMING\n",
       "0                 10005      15.0            10005      25.0\n",
       "1                 10009      11.0            10009      13.0\n",
       "2                 10011    8422.0            10011    8487.0\n",
       "3                 10016       9.0            10016      67.0\n",
       "4                 10033       0.0            10033       0.0\n",
       "...                 ...       ...              ...       ...\n",
       "1051              16853       1.0            16853       1.0\n",
       "1052              16856       8.0            16856       7.0\n",
       "1053              16857       0.0            16857       0.0\n",
       "1054              16860       0.0            16860       0.0\n",
       "1055              16861       0.0            16861       2.0\n",
       "\n",
       "[1056 rows x 4 columns]"
      ]
     },
     "execution_count": 220,
     "metadata": {},
     "output_type": "execute_result"
    }
   ],
   "source": [
    "df_out_incom"
   ]
  },
  {
   "cell_type": "code",
   "execution_count": 222,
   "metadata": {},
   "outputs": [
    {
     "data": {
      "text/html": [
       "<div>\n",
       "<style scoped>\n",
       "    .dataframe tbody tr th:only-of-type {\n",
       "        vertical-align: middle;\n",
       "    }\n",
       "\n",
       "    .dataframe tbody tr th {\n",
       "        vertical-align: top;\n",
       "    }\n",
       "\n",
       "    .dataframe thead th {\n",
       "        text-align: right;\n",
       "    }\n",
       "</style>\n",
       "<table border=\"1\" class=\"dataframe\">\n",
       "  <thead>\n",
       "    <tr style=\"text-align: right;\">\n",
       "      <th></th>\n",
       "      <th>ORIGIN_AIRPORT_ID</th>\n",
       "      <th>OUTGOING</th>\n",
       "      <th>DEST_AIRPORT_ID</th>\n",
       "      <th>INCOMING</th>\n",
       "      <th>DIFF</th>\n",
       "    </tr>\n",
       "  </thead>\n",
       "  <tbody>\n",
       "    <tr>\n",
       "      <th>4</th>\n",
       "      <td>10033</td>\n",
       "      <td>0.0</td>\n",
       "      <td>10033</td>\n",
       "      <td>0.0</td>\n",
       "      <td>0.0</td>\n",
       "    </tr>\n",
       "    <tr>\n",
       "      <th>8</th>\n",
       "      <td>10088</td>\n",
       "      <td>2.0</td>\n",
       "      <td>10088</td>\n",
       "      <td>2.0</td>\n",
       "      <td>0.0</td>\n",
       "    </tr>\n",
       "    <tr>\n",
       "      <th>23</th>\n",
       "      <td>10172</td>\n",
       "      <td>0.0</td>\n",
       "      <td>10172</td>\n",
       "      <td>0.0</td>\n",
       "      <td>0.0</td>\n",
       "    </tr>\n",
       "    <tr>\n",
       "      <th>45</th>\n",
       "      <td>10298</td>\n",
       "      <td>0.0</td>\n",
       "      <td>10298</td>\n",
       "      <td>0.0</td>\n",
       "      <td>0.0</td>\n",
       "    </tr>\n",
       "    <tr>\n",
       "      <th>49</th>\n",
       "      <td>10309</td>\n",
       "      <td>4.0</td>\n",
       "      <td>10309</td>\n",
       "      <td>4.0</td>\n",
       "      <td>0.0</td>\n",
       "    </tr>\n",
       "    <tr>\n",
       "      <th>...</th>\n",
       "      <td>...</td>\n",
       "      <td>...</td>\n",
       "      <td>...</td>\n",
       "      <td>...</td>\n",
       "      <td>...</td>\n",
       "    </tr>\n",
       "    <tr>\n",
       "      <th>1039</th>\n",
       "      <td>16668</td>\n",
       "      <td>0.0</td>\n",
       "      <td>16668</td>\n",
       "      <td>0.0</td>\n",
       "      <td>0.0</td>\n",
       "    </tr>\n",
       "    <tr>\n",
       "      <th>1047</th>\n",
       "      <td>16843</td>\n",
       "      <td>8.0</td>\n",
       "      <td>16843</td>\n",
       "      <td>8.0</td>\n",
       "      <td>0.0</td>\n",
       "    </tr>\n",
       "    <tr>\n",
       "      <th>1051</th>\n",
       "      <td>16853</td>\n",
       "      <td>1.0</td>\n",
       "      <td>16853</td>\n",
       "      <td>1.0</td>\n",
       "      <td>0.0</td>\n",
       "    </tr>\n",
       "    <tr>\n",
       "      <th>1053</th>\n",
       "      <td>16857</td>\n",
       "      <td>0.0</td>\n",
       "      <td>16857</td>\n",
       "      <td>0.0</td>\n",
       "      <td>0.0</td>\n",
       "    </tr>\n",
       "    <tr>\n",
       "      <th>1054</th>\n",
       "      <td>16860</td>\n",
       "      <td>0.0</td>\n",
       "      <td>16860</td>\n",
       "      <td>0.0</td>\n",
       "      <td>0.0</td>\n",
       "    </tr>\n",
       "  </tbody>\n",
       "</table>\n",
       "<p>139 rows × 5 columns</p>\n",
       "</div>"
      ],
      "text/plain": [
       "      ORIGIN_AIRPORT_ID  OUTGOING  DEST_AIRPORT_ID  INCOMING  DIFF\n",
       "4                 10033       0.0            10033       0.0   0.0\n",
       "8                 10088       2.0            10088       2.0   0.0\n",
       "23                10172       0.0            10172       0.0   0.0\n",
       "45                10298       0.0            10298       0.0   0.0\n",
       "49                10309       4.0            10309       4.0   0.0\n",
       "...                 ...       ...              ...       ...   ...\n",
       "1039              16668       0.0            16668       0.0   0.0\n",
       "1047              16843       8.0            16843       8.0   0.0\n",
       "1051              16853       1.0            16853       1.0   0.0\n",
       "1053              16857       0.0            16857       0.0   0.0\n",
       "1054              16860       0.0            16860       0.0   0.0\n",
       "\n",
       "[139 rows x 5 columns]"
      ]
     },
     "execution_count": 222,
     "metadata": {},
     "output_type": "execute_result"
    }
   ],
   "source": [
    "df_out_incom[\"DIFF\"] = df_out_incom[\"OUTGOING\"] - df_out_incom[\"INCOMING\"]\n",
    "\n",
    "df_out_incom.query(\"DIFF == 0\")"
   ]
  },
  {
   "cell_type": "markdown",
   "metadata": {
    "deletable": false,
    "editable": false,
    "run_control": {
     "frozen": true
    }
   },
   "source": [
    "<div hidden=True>\n",
    "    <img src=\"./icons/list.png\"  width=\"20\" height=\"20\" align=\"left\"> &nbsp; Icon made by <a href=\"https://www.flaticon.com/authors/smashicons\" title=\"Smashicons\">Smashicons</a> from <a href=\"https://www.flaticon.com/\"             title=\"Flaticon\">www.flaticon.com</a>\n",
    "\n",
    "\n",
    "<img src=\"./icons/lightbulb.png\"  width=\"20\" height=\"20\" align=\"left\"> &nbsp;Icon made by <a href=\"https://www.flaticon.com/authors/pixelmeetup\" title=\"Pixelmeetup\">Pixelmeetup</a> from <a href=\"https://www.flaticon.com/\"             title=\"Flaticon\">www.flaticon.com</a>\n",
    "\n",
    "<img src=\"./icons/new.png\"  width=\"20\" height=\"20\" align=\"left\"> &nbsp; Icon made by <a href=\"https://www.flaticon.com/authors/pixel-perfect\" title=\"Pixel perfect\">Pixel perfect</a> from <a href=\"https://www.flaticon.com/\"             title=\"Flaticon\">www.flaticon.com</a>\n",
    "\n",
    "<img src=\"./icons/chemistry.png\"  width=\"20\" height=\"20\" align=\"left\"> &nbsp; Icon made by <a href=\"https://www.flaticon.com/authors/popcorns-arts\" title=\"Icon Pond\">Icon Pond</a> from <a href=\"https://www.flaticon.com/\"             title=\"Flaticon\">www.flaticon.com</a></div>\n",
    "\n",
    "</div>"
   ]
  }
 ],
 "metadata": {
  "kernelspec": {
   "display_name": "Python 3",
   "language": "python",
   "name": "python3"
  },
  "language_info": {
   "codemirror_mode": {
    "name": "ipython",
    "version": 3
   },
   "file_extension": ".py",
   "mimetype": "text/x-python",
   "name": "python",
   "nbconvert_exporter": "python",
   "pygments_lexer": "ipython3",
   "version": "3.7.0"
  },
  "latex_envs": {
   "LaTeX_envs_menu_present": true,
   "autoclose": false,
   "autocomplete": true,
   "bibliofile": "biblio.bib",
   "cite_by": "apalike",
   "current_citInitial": 1,
   "eqLabelWithNumbers": true,
   "eqNumInitial": 1,
   "hotkeys": {
    "equation": "Ctrl-E",
    "itemize": "Ctrl-I"
   },
   "labels_anchors": false,
   "latex_user_defs": false,
   "report_style_numbering": false,
   "user_envs_cfg": false
  },
  "toc": {
   "base_numbering": 1,
   "nav_menu": {},
   "number_sections": true,
   "sideBar": true,
   "skip_h1_title": false,
   "title_cell": "Table of Contents",
   "title_sidebar": "Contents",
   "toc_cell": false,
   "toc_position": {
    "height": "calc(100% - 180px)",
    "left": "10px",
    "top": "150px",
    "width": "296.594px"
   },
   "toc_section_display": true,
   "toc_window_display": true
  },
  "varInspector": {
   "cols": {
    "lenName": 16,
    "lenType": 16,
    "lenVar": 40
   },
   "kernels_config": {
    "python": {
     "delete_cmd_postfix": "",
     "delete_cmd_prefix": "del ",
     "library": "var_list.py",
     "varRefreshCmd": "print(var_dic_list())"
    },
    "r": {
     "delete_cmd_postfix": ") ",
     "delete_cmd_prefix": "rm(",
     "library": "var_list.r",
     "varRefreshCmd": "cat(var_dic_list()) "
    }
   },
   "types_to_exclude": [
    "module",
    "function",
    "builtin_function_or_method",
    "instance",
    "_Feature"
   ],
   "window_display": false
  }
 },
 "nbformat": 4,
 "nbformat_minor": 2
}
