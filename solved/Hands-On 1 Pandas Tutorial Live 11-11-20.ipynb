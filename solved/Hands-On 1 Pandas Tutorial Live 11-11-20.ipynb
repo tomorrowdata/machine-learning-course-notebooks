{
 "cells": [
  {
   "cell_type": "markdown",
   "metadata": {
    "deletable": false,
    "editable": false,
    "run_control": {
     "frozen": true
    }
   },
   "source": [
    "<div hidden=True>\n",
    "    author: Marco Angius\n",
    "    company: TomorrowData srl\n",
    "    mail: marco.angius@tomorrowdata.io\n",
    "    notebook-version: nov20\n",
    "    \n",
    "</div>"
   ]
  },
  {
   "cell_type": "markdown",
   "metadata": {},
   "source": [
    "# Hands-on 1: Python and Pandas\n",
    "\n",
    "This section is meant to learn some basics concepts of Python programming language which are used in the next sections and the following hands-on. After that one important Python library, Pandas, in analyzed in order to learn the fundamental building blocks for the next sessions."
   ]
  },
  {
   "cell_type": "markdown",
   "metadata": {},
   "source": [
    "# Python\n",
    "\n",
    "From the official [site](https://www.python.org/):\n",
    "\n",
    ">**Quick & Easy to Learn**\n",
    "Experienced programmers in any other language can pick up Python very quickly, and beginners find the clean syntax and indentation structure easy to learn. Whet your [appetite with our Python 3 overview](https://docs.python.org/3/tutorial/)\n",
    ">\n",
    ">**Compound Data Types**\n",
    "Lists (known as arrays in other languages) are one of the compound data types that Python understands. Lists can be indexed, sliced and manipulated with other built-in functions. [More about lists in Python 3](https://docs.python.org/3/tutorial/introduction.html#lists)\n",
    ">\n",
    ">**Intuitive Interpretation**\n",
    "Calculations are simple with Python, and expression syntax is straightforward: the operators +, -, * and / work as expected; parentheses `()` can be used for grouping. [More about simple math functions in Python 3](http://docs.python.org/3/tutorial/introduction.html#using-python-as-a-calculator)\n",
    ">\n",
    ">**All the Flow You’d Expect**\n",
    "Python knows the usual control flow statements that other languages speak `if`, `for`, `while` and `range` with some of its own twists, of course. [More control flow tools in Python 3](https://docs.python.org/3/tutorial/controlflow.html)\n",
    ">\n",
    ">**Functions Defined**\n",
    "The core of extensible programming is defining functions. Python allows mandatory and optional arguments, keyword arguments, and even arbitrary argument lists. [More about defining functions in Python 3](https://docs.python.org/3/tutorial/introduction.html#lists)\n",
    ">\n",
    ">```python \n",
    "def fib(n):\n",
    "    a, b = 0, 1\n",
    "    while a < n:\n",
    "        print(a, end=' ')\n",
    "        a, b = b, a+b\n",
    "    print(\"\\nDone!\")\n",
    ">```"
   ]
  },
  {
   "cell_type": "markdown",
   "metadata": {},
   "source": [
    "<div class=\"alert alert-success\" role=\"alert\">\n",
    "    \n",
    "<img src=\"./icons/lightbulb.png\"  width=\"20\" height=\"20\" align=\"left\"> &nbsp; **Python Types**: \n",
    "\n",
    "- `None`: The Python “null” value (only one instance of the None object exists)\n",
    "- `str`: String type; holds Unicode (UTF-8 encoded) strings\n",
    "- `bytes`: Raw ASCII bytes (or Unicode encoded as bytes)\n",
    "- `float`: Double-precision (64-bit) floating-point number (note there is no separate double type)\n",
    "- `bool`: A True or False value\n",
    "- `int`: Arbitrary precision signed integer\n",
    "\n",
    "*NOTE: despite the presence of types, Python employs an Object Models. Every string, number, function etc... is living inside a box called a `Python object`.*\n",
    "\n",
    "</div>"
   ]
  },
  {
   "cell_type": "markdown",
   "metadata": {},
   "source": [
    "## Variable assignement"
   ]
  },
  {
   "cell_type": "code",
   "execution_count": 1,
   "metadata": {},
   "outputs": [],
   "source": [
    "a = 5 # int\n",
    "b = \"5\" # string\n",
    "c = None # Null object\n",
    "d = True | False # boolean (the | is the OR boolean operator)"
   ]
  },
  {
   "cell_type": "code",
   "execution_count": 2,
   "metadata": {},
   "outputs": [],
   "source": [
    "# possible to assign a variable a different type\n",
    "b = 1.0 # float"
   ]
  },
  {
   "cell_type": "markdown",
   "metadata": {},
   "source": [
    "## Imports"
   ]
  },
  {
   "cell_type": "code",
   "execution_count": 3,
   "metadata": {},
   "outputs": [],
   "source": [
    "import string # from the python standard library"
   ]
  },
  {
   "cell_type": "code",
   "execution_count": 4,
   "metadata": {},
   "outputs": [
    {
     "data": {
      "text/plain": [
       "'0123456789abcdefABCDEF'"
      ]
     },
     "execution_count": 4,
     "metadata": {},
     "output_type": "execute_result"
    }
   ],
   "source": [
    "string.hexdigits"
   ]
  },
  {
   "cell_type": "code",
   "execution_count": 5,
   "metadata": {},
   "outputs": [],
   "source": [
    "import string as mystring # possible to alias the imported package"
   ]
  },
  {
   "cell_type": "code",
   "execution_count": 6,
   "metadata": {},
   "outputs": [
    {
     "data": {
      "text/plain": [
       "'0123456789abcdefABCDEF'"
      ]
     },
     "execution_count": 6,
     "metadata": {},
     "output_type": "execute_result"
    }
   ],
   "source": [
    "mystring.hexdigits"
   ]
  },
  {
   "cell_type": "markdown",
   "metadata": {},
   "source": [
    "## Binary operators and comparisons"
   ]
  },
  {
   "cell_type": "code",
   "execution_count": 7,
   "metadata": {},
   "outputs": [
    {
     "name": "stdout",
     "output_type": "stream",
     "text": [
      "-2 7 9.0 12\n"
     ]
    }
   ],
   "source": [
    "a = 5 - 7      # sub\n",
    "b = 10 + (-3)  # add \n",
    "c = 18 / 2     # div\n",
    "d = 4 * 3      # mul\n",
    "\n",
    "print(a, b, c, d) "
   ]
  },
  {
   "cell_type": "code",
   "execution_count": 8,
   "metadata": {},
   "outputs": [
    {
     "name": "stdout",
     "output_type": "stream",
     "text": [
      "10000 <class 'int'>\n",
      "40 <class 'int'>\n"
     ]
    }
   ],
   "source": [
    "p = 10 ** 4   # power\n",
    "i = 122 // 3  # divition with integer rouding \n",
    "\n",
    "print(p, type(p)) \n",
    "print(i, type(i))"
   ]
  },
  {
   "cell_type": "code",
   "execution_count": 9,
   "metadata": {},
   "outputs": [
    {
     "name": "stdout",
     "output_type": "stream",
     "text": [
      "True False False\n"
     ]
    }
   ],
   "source": [
    "# comparisons\n",
    "c1 = a <= b \n",
    "c2 = a > d\n",
    "c3 = b == d\n",
    "\n",
    "print(c1, c2, c3)"
   ]
  },
  {
   "cell_type": "code",
   "execution_count": 10,
   "metadata": {},
   "outputs": [
    {
     "data": {
      "text/plain": [
       "True"
      ]
     },
     "execution_count": 10,
     "metadata": {},
     "output_type": "execute_result"
    }
   ],
   "source": [
    "\"t\" in \"tomorrowdata\" # check if a char is in a string"
   ]
  },
  {
   "cell_type": "markdown",
   "metadata": {},
   "source": [
    "## Type casting"
   ]
  },
  {
   "cell_type": "code",
   "execution_count": 13,
   "metadata": {},
   "outputs": [
    {
     "data": {
      "text/plain": [
       "10"
      ]
     },
     "execution_count": 13,
     "metadata": {},
     "output_type": "execute_result"
    }
   ],
   "source": [
    "int(\"5\") + 5  # convert string into int or float -> otherwise it raises an exception "
   ]
  },
  {
   "cell_type": "code",
   "execution_count": 14,
   "metadata": {},
   "outputs": [
    {
     "data": {
      "text/plain": [
       "122.0"
      ]
     },
     "execution_count": 14,
     "metadata": {},
     "output_type": "execute_result"
    }
   ],
   "source": [
    "float(122) # convert an int into float"
   ]
  },
  {
   "cell_type": "code",
   "execution_count": 15,
   "metadata": {},
   "outputs": [
    {
     "data": {
      "text/plain": [
       "1"
      ]
     },
     "execution_count": 15,
     "metadata": {},
     "output_type": "execute_result"
    }
   ],
   "source": [
    "int(True) # convert a boolean into a int "
   ]
  },
  {
   "cell_type": "code",
   "execution_count": 16,
   "metadata": {},
   "outputs": [
    {
     "data": {
      "text/plain": [
       "'10.0'"
      ]
     },
     "execution_count": 16,
     "metadata": {},
     "output_type": "execute_result"
    }
   ],
   "source": [
    "str(10.00) # convertig float to string "
   ]
  },
  {
   "cell_type": "code",
   "execution_count": 17,
   "metadata": {},
   "outputs": [
    {
     "data": {
      "text/plain": [
       "('None', 'True')"
      ]
     },
     "execution_count": 17,
     "metadata": {},
     "output_type": "execute_result"
    }
   ],
   "source": [
    "str(None), str(True) # converting None or Boolean into string "
   ]
  },
  {
   "cell_type": "markdown",
   "metadata": {},
   "source": [
    "## control flow "
   ]
  },
  {
   "cell_type": "code",
   "execution_count": 18,
   "metadata": {},
   "outputs": [
    {
     "name": "stdout",
     "output_type": "stream",
     "text": [
      "Greetings\n"
     ]
    }
   ],
   "source": [
    "if a == 10:  \n",
    "    print(\"Welcome\")\n",
    "elif b < 10:  # for any additional condition statement an elif can be added!\n",
    "    print(\"Greetings\")\n",
    "elif c > b:\n",
    "    print(\"Farewell\")\n",
    "else: # default in the case none of the above conditions are satisfied\n",
    "    print(\"TomorrowData\")"
   ]
  },
  {
   "cell_type": "code",
   "execution_count": 20,
   "metadata": {},
   "outputs": [
    {
     "name": "stdout",
     "output_type": "stream",
     "text": [
      "TomorrowData\n",
      "Machine\n",
      "Learning\n",
      "Course\n"
     ]
    }
   ],
   "source": [
    "# for cycle\n",
    "for s in [\"TomorrowData\", \"Machine\", \"Learning\", \"Course\"]: \n",
    "    print(s)"
   ]
  },
  {
   "cell_type": "code",
   "execution_count": 21,
   "metadata": {},
   "outputs": [
    {
     "name": "stdout",
     "output_type": "stream",
     "text": [
      "-12 107 531441.0 0.01171875\n"
     ]
    }
   ],
   "source": [
    "while b  < 100: \n",
    "    a -= 1 # same as a = a - 1  \n",
    "    b += 10 # same as b = b + 1 \n",
    "    c *= 3 # same as c = c * 3\n",
    "    d /= 2 # same as d = d / 2\n",
    "print(a, b, c, d)"
   ]
  },
  {
   "cell_type": "markdown",
   "metadata": {},
   "source": [
    "<div class=\"alert alert-success\" role=\"alert\">\n",
    "    \n",
    "<img src=\"./icons/lightbulb.png\"  width=\"20\" height=\"20\" align=\"left\"> &nbsp; **Python Built-In Data Structures**: \n",
    "\n",
    "- `tuple`: fixed length and immutable sequence of Python objects\n",
    "- `list`: variable length and mutable sequence of Python objects\n",
    "- `dict`: a flexible size collection of key-value pairs also called hash map. Key and values are Python objects.\n",
    "- `set`: unordered collection of unique elements. Like dicts but with no values. \n",
    "\n",
    "</div>"
   ]
  },
  {
   "cell_type": "markdown",
   "metadata": {},
   "source": [
    "## List"
   ]
  },
  {
   "cell_type": "code",
   "execution_count": 23,
   "metadata": {},
   "outputs": [],
   "source": [
    "mylist1 = list()\n",
    "mylist2 = []"
   ]
  },
  {
   "cell_type": "code",
   "execution_count": 25,
   "metadata": {},
   "outputs": [
    {
     "data": {
      "text/plain": [
       "[[1, 2, 3],\n",
       " 'tomorrowdata',\n",
       " True,\n",
       " [],\n",
       " <module 'string' from '/home/marco/miniconda3/envs/handson-ml/lib/python3.7/string.py'>]"
      ]
     },
     "execution_count": 25,
     "metadata": {},
     "output_type": "execute_result"
    }
   ],
   "source": [
    "mylist1 = [\n",
    "    [1, 2, 3],       # other lists\n",
    "    \"tomorrowdata\",  # strings\n",
    "    True,            # bool\n",
    "    list(list()),    # nested lists\n",
    "    mystring         # modules or function\n",
    "]\n",
    "mylist1"
   ]
  },
  {
   "cell_type": "code",
   "execution_count": 26,
   "metadata": {},
   "outputs": [
    {
     "data": {
      "text/plain": [
       "[1, 2, 3, 'machine', 'learning']"
      ]
     },
     "execution_count": 26,
     "metadata": {},
     "output_type": "execute_result"
    }
   ],
   "source": [
    "[1, 2, 3] + [\"machine\", \"learning\"] # list concetenation"
   ]
  },
  {
   "cell_type": "code",
   "execution_count": 28,
   "metadata": {},
   "outputs": [
    {
     "data": {
      "text/plain": [
       "'tomorrowdata'"
      ]
     },
     "execution_count": 28,
     "metadata": {},
     "output_type": "execute_result"
    }
   ],
   "source": [
    "mylist1[1] # access element of the list with positional value"
   ]
  },
  {
   "cell_type": "code",
   "execution_count": 30,
   "metadata": {},
   "outputs": [
    {
     "data": {
      "text/plain": [
       "[[1, 2, 3],\n",
       " 'tomorrowdata',\n",
       " False,\n",
       " [],\n",
       " <module 'string' from '/home/marco/miniconda3/envs/handson-ml/lib/python3.7/string.py'>]"
      ]
     },
     "execution_count": 30,
     "metadata": {},
     "output_type": "execute_result"
    }
   ],
   "source": [
    "mylist1[2] = False # assign a new value to an existig element of the list \n",
    "mylist1            # lists are indeed mutable!"
   ]
  },
  {
   "cell_type": "code",
   "execution_count": 31,
   "metadata": {},
   "outputs": [
    {
     "data": {
      "text/plain": [
       "[[1, 2, 3],\n",
       " 'tomorrowdata',\n",
       " False,\n",
       " [],\n",
       " <module 'string' from '/home/marco/miniconda3/envs/handson-ml/lib/python3.7/string.py'>,\n",
       " 11.24]"
      ]
     },
     "execution_count": 31,
     "metadata": {},
     "output_type": "execute_result"
    }
   ],
   "source": [
    "mylist1.append(11.24) # the same list object can be extended \n",
    "mylist1"
   ]
  },
  {
   "cell_type": "code",
   "execution_count": 33,
   "metadata": {},
   "outputs": [
    {
     "name": "stdout",
     "output_type": "stream",
     "text": [
      "Help on class list in module builtins:\n",
      "\n",
      "class list(object)\n",
      " |  list(iterable=(), /)\n",
      " |  \n",
      " |  Built-in mutable sequence.\n",
      " |  \n",
      " |  If no argument is given, the constructor creates a new empty list.\n",
      " |  The argument must be an iterable if specified.\n",
      " |  \n",
      " |  Methods defined here:\n",
      " |  \n",
      " |  __add__(self, value, /)\n",
      " |      Return self+value.\n",
      " |  \n",
      " |  __contains__(self, key, /)\n",
      " |      Return key in self.\n",
      " |  \n",
      " |  __delitem__(self, key, /)\n",
      " |      Delete self[key].\n",
      " |  \n",
      " |  __eq__(self, value, /)\n",
      " |      Return self==value.\n",
      " |  \n",
      " |  __ge__(self, value, /)\n",
      " |      Return self>=value.\n",
      " |  \n",
      " |  __getattribute__(self, name, /)\n",
      " |      Return getattr(self, name).\n",
      " |  \n",
      " |  __getitem__(...)\n",
      " |      x.__getitem__(y) <==> x[y]\n",
      " |  \n",
      " |  __gt__(self, value, /)\n",
      " |      Return self>value.\n",
      " |  \n",
      " |  __iadd__(self, value, /)\n",
      " |      Implement self+=value.\n",
      " |  \n",
      " |  __imul__(self, value, /)\n",
      " |      Implement self*=value.\n",
      " |  \n",
      " |  __init__(self, /, *args, **kwargs)\n",
      " |      Initialize self.  See help(type(self)) for accurate signature.\n",
      " |  \n",
      " |  __iter__(self, /)\n",
      " |      Implement iter(self).\n",
      " |  \n",
      " |  __le__(self, value, /)\n",
      " |      Return self<=value.\n",
      " |  \n",
      " |  __len__(self, /)\n",
      " |      Return len(self).\n",
      " |  \n",
      " |  __lt__(self, value, /)\n",
      " |      Return self<value.\n",
      " |  \n",
      " |  __mul__(self, value, /)\n",
      " |      Return self*value.\n",
      " |  \n",
      " |  __ne__(self, value, /)\n",
      " |      Return self!=value.\n",
      " |  \n",
      " |  __repr__(self, /)\n",
      " |      Return repr(self).\n",
      " |  \n",
      " |  __reversed__(self, /)\n",
      " |      Return a reverse iterator over the list.\n",
      " |  \n",
      " |  __rmul__(self, value, /)\n",
      " |      Return value*self.\n",
      " |  \n",
      " |  __setitem__(self, key, value, /)\n",
      " |      Set self[key] to value.\n",
      " |  \n",
      " |  __sizeof__(self, /)\n",
      " |      Return the size of the list in memory, in bytes.\n",
      " |  \n",
      " |  append(self, object, /)\n",
      " |      Append object to the end of the list.\n",
      " |  \n",
      " |  clear(self, /)\n",
      " |      Remove all items from list.\n",
      " |  \n",
      " |  copy(self, /)\n",
      " |      Return a shallow copy of the list.\n",
      " |  \n",
      " |  count(self, value, /)\n",
      " |      Return number of occurrences of value.\n",
      " |  \n",
      " |  extend(self, iterable, /)\n",
      " |      Extend list by appending elements from the iterable.\n",
      " |  \n",
      " |  index(self, value, start=0, stop=9223372036854775807, /)\n",
      " |      Return first index of value.\n",
      " |      \n",
      " |      Raises ValueError if the value is not present.\n",
      " |  \n",
      " |  insert(self, index, object, /)\n",
      " |      Insert object before index.\n",
      " |  \n",
      " |  pop(self, index=-1, /)\n",
      " |      Remove and return item at index (default last).\n",
      " |      \n",
      " |      Raises IndexError if list is empty or index is out of range.\n",
      " |  \n",
      " |  remove(self, value, /)\n",
      " |      Remove first occurrence of value.\n",
      " |      \n",
      " |      Raises ValueError if the value is not present.\n",
      " |  \n",
      " |  reverse(self, /)\n",
      " |      Reverse *IN PLACE*.\n",
      " |  \n",
      " |  sort(self, /, *, key=None, reverse=False)\n",
      " |      Stable sort *IN PLACE*.\n",
      " |  \n",
      " |  ----------------------------------------------------------------------\n",
      " |  Static methods defined here:\n",
      " |  \n",
      " |  __new__(*args, **kwargs) from builtins.type\n",
      " |      Create and return a new object.  See help(type) for accurate signature.\n",
      " |  \n",
      " |  ----------------------------------------------------------------------\n",
      " |  Data and other attributes defined here:\n",
      " |  \n",
      " |  __hash__ = None\n",
      "\n"
     ]
    }
   ],
   "source": [
    "help(list) # for more details "
   ]
  },
  {
   "cell_type": "markdown",
   "metadata": {},
   "source": [
    "## Dict"
   ]
  },
  {
   "cell_type": "code",
   "execution_count": 34,
   "metadata": {},
   "outputs": [],
   "source": [
    "mydict1 = dict()\n",
    "mydict2 = {}"
   ]
  },
  {
   "cell_type": "code",
   "execution_count": 35,
   "metadata": {},
   "outputs": [
    {
     "data": {
      "text/plain": [
       "{'key1': 'tomorrowdata',\n",
       " 1: <module 'string' from '/home/marco/miniconda3/envs/handson-ml/lib/python3.7/string.py'>}"
      ]
     },
     "execution_count": 35,
     "metadata": {},
     "output_type": "execute_result"
    }
   ],
   "source": [
    "mydict1 = {\n",
    "    \"key1\": \"tomorrowdata\", # keys can be sting, int or any hashable object  \n",
    "    1: mystring             # vslues can be any python object\n",
    "}\n",
    "mydict1"
   ]
  },
  {
   "cell_type": "code",
   "execution_count": 36,
   "metadata": {},
   "outputs": [
    {
     "data": {
      "text/plain": [
       "'key not found'"
      ]
     },
     "execution_count": 36,
     "metadata": {},
     "output_type": "execute_result"
    }
   ],
   "source": [
    "mydict1.get(12.2, 'key not found') # use dictionary method for getting a value given a key"
   ]
  },
  {
   "cell_type": "code",
   "execution_count": 39,
   "metadata": {},
   "outputs": [
    {
     "data": {
      "text/plain": [
       "'tomorrowdata'"
      ]
     },
     "execution_count": 39,
     "metadata": {},
     "output_type": "execute_result"
    }
   ],
   "source": [
    "mydict1[\"key1\"] # possible to use the square braket notation"
   ]
  },
  {
   "cell_type": "markdown",
   "metadata": {},
   "source": [
    "## Tuple (optional)"
   ]
  },
  {
   "cell_type": "code",
   "execution_count": 85,
   "metadata": {},
   "outputs": [],
   "source": [
    "mytuple1 = ()\n",
    "mytuple2 = tuple()"
   ]
  },
  {
   "cell_type": "code",
   "execution_count": 87,
   "metadata": {},
   "outputs": [
    {
     "data": {
      "text/plain": [
       "(1,\n",
       " 23.3,\n",
       " True,\n",
       " 'tomorrowdata',\n",
       " <module 'string' from '/home/marco/miniconda3/envs/handson-ml/lib/python3.7/string.py'>)"
      ]
     },
     "execution_count": 87,
     "metadata": {},
     "output_type": "execute_result"
    }
   ],
   "source": [
    "mytuple1 = (1, 23.3, True, \"tomorrowdata\", mystring)\n",
    "mytuple1"
   ]
  },
  {
   "cell_type": "code",
   "execution_count": 89,
   "metadata": {},
   "outputs": [
    {
     "data": {
      "text/plain": [
       "True"
      ]
     },
     "execution_count": 89,
     "metadata": {},
     "output_type": "execute_result"
    }
   ],
   "source": [
    "mytuple1[2]  # same as lists it is possible to retrieve a value given its position"
   ]
  },
  {
   "cell_type": "code",
   "execution_count": 90,
   "metadata": {},
   "outputs": [
    {
     "ename": "TypeError",
     "evalue": "'tuple' object does not support item assignment",
     "output_type": "error",
     "traceback": [
      "\u001b[0;31m---------------------------------------------------------------------------\u001b[0m",
      "\u001b[0;31mTypeError\u001b[0m                                 Traceback (most recent call last)",
      "\u001b[0;32m<ipython-input-90-a9135400fbf3>\u001b[0m in \u001b[0;36m<module>\u001b[0;34m\u001b[0m\n\u001b[0;32m----> 1\u001b[0;31m \u001b[0mmytuple1\u001b[0m\u001b[0;34m[\u001b[0m\u001b[0;36m2\u001b[0m\u001b[0;34m]\u001b[0m \u001b[0;34m=\u001b[0m \u001b[0;32mFalse\u001b[0m \u001b[0;31m# unlike lists, TUPLE ARE IMMUTABLE OBJECTS!\u001b[0m\u001b[0;34m\u001b[0m\u001b[0m\n\u001b[0m",
      "\u001b[0;31mTypeError\u001b[0m: 'tuple' object does not support item assignment"
     ]
    }
   ],
   "source": [
    "mytuple1[2] = False # unlike lists, TUPLE ARE IMMUTABLE OBJECTS!"
   ]
  },
  {
   "cell_type": "code",
   "execution_count": 91,
   "metadata": {},
   "outputs": [
    {
     "data": {
      "text/plain": [
       "{(12, 34): 'keys'}"
      ]
     },
     "execution_count": 91,
     "metadata": {},
     "output_type": "execute_result"
    }
   ],
   "source": [
    "{(12, 34): \"keys\"} # tuples can be used as dictionary keys due to immutability "
   ]
  },
  {
   "cell_type": "markdown",
   "metadata": {},
   "source": [
    "## Set (optional)"
   ]
  },
  {
   "cell_type": "code",
   "execution_count": 92,
   "metadata": {},
   "outputs": [],
   "source": [
    "myset1 = set()\n",
    "myset2 = {1, 2, 3, 4} # myset2 = {} ?? -> NO!, this is a dictionary  "
   ]
  },
  {
   "cell_type": "code",
   "execution_count": 94,
   "metadata": {},
   "outputs": [
    {
     "data": {
      "text/plain": [
       "{(20, 'TD'), 23.3, True, 'keys'}"
      ]
     },
     "execution_count": 94,
     "metadata": {},
     "output_type": "execute_result"
    }
   ],
   "source": [
    "myset1 = {\"keys\", (20, \"TD\"), 23.3, True} # any hashable object -> think it as a dict without values\n",
    "myset1"
   ]
  },
  {
   "cell_type": "code",
   "execution_count": 95,
   "metadata": {},
   "outputs": [
    {
     "data": {
      "text/plain": [
       "{1}"
      ]
     },
     "execution_count": 95,
     "metadata": {},
     "output_type": "execute_result"
    }
   ],
   "source": [
    "set([1, 2, 3]) - set([2, 10, 3]) # set difference"
   ]
  },
  {
   "cell_type": "code",
   "execution_count": 96,
   "metadata": {},
   "outputs": [
    {
     "data": {
      "text/plain": [
       "{1, 2, 3, 10}"
      ]
     },
     "execution_count": 96,
     "metadata": {},
     "output_type": "execute_result"
    }
   ],
   "source": [
    "set([1, 2, 3]) | set([2, 10, 3]) # set union"
   ]
  },
  {
   "cell_type": "code",
   "execution_count": 97,
   "metadata": {},
   "outputs": [
    {
     "name": "stdout",
     "output_type": "stream",
     "text": [
      "Help on class set in module builtins:\n",
      "\n",
      "class set(object)\n",
      " |  set() -> new empty set object\n",
      " |  set(iterable) -> new set object\n",
      " |  \n",
      " |  Build an unordered collection of unique elements.\n",
      " |  \n",
      " |  Methods defined here:\n",
      " |  \n",
      " |  __and__(self, value, /)\n",
      " |      Return self&value.\n",
      " |  \n",
      " |  __contains__(...)\n",
      " |      x.__contains__(y) <==> y in x.\n",
      " |  \n",
      " |  __eq__(self, value, /)\n",
      " |      Return self==value.\n",
      " |  \n",
      " |  __ge__(self, value, /)\n",
      " |      Return self>=value.\n",
      " |  \n",
      " |  __getattribute__(self, name, /)\n",
      " |      Return getattr(self, name).\n",
      " |  \n",
      " |  __gt__(self, value, /)\n",
      " |      Return self>value.\n",
      " |  \n",
      " |  __iand__(self, value, /)\n",
      " |      Return self&=value.\n",
      " |  \n",
      " |  __init__(self, /, *args, **kwargs)\n",
      " |      Initialize self.  See help(type(self)) for accurate signature.\n",
      " |  \n",
      " |  __ior__(self, value, /)\n",
      " |      Return self|=value.\n",
      " |  \n",
      " |  __isub__(self, value, /)\n",
      " |      Return self-=value.\n",
      " |  \n",
      " |  __iter__(self, /)\n",
      " |      Implement iter(self).\n",
      " |  \n",
      " |  __ixor__(self, value, /)\n",
      " |      Return self^=value.\n",
      " |  \n",
      " |  __le__(self, value, /)\n",
      " |      Return self<=value.\n",
      " |  \n",
      " |  __len__(self, /)\n",
      " |      Return len(self).\n",
      " |  \n",
      " |  __lt__(self, value, /)\n",
      " |      Return self<value.\n",
      " |  \n",
      " |  __ne__(self, value, /)\n",
      " |      Return self!=value.\n",
      " |  \n",
      " |  __or__(self, value, /)\n",
      " |      Return self|value.\n",
      " |  \n",
      " |  __rand__(self, value, /)\n",
      " |      Return value&self.\n",
      " |  \n",
      " |  __reduce__(...)\n",
      " |      Return state information for pickling.\n",
      " |  \n",
      " |  __repr__(self, /)\n",
      " |      Return repr(self).\n",
      " |  \n",
      " |  __ror__(self, value, /)\n",
      " |      Return value|self.\n",
      " |  \n",
      " |  __rsub__(self, value, /)\n",
      " |      Return value-self.\n",
      " |  \n",
      " |  __rxor__(self, value, /)\n",
      " |      Return value^self.\n",
      " |  \n",
      " |  __sizeof__(...)\n",
      " |      S.__sizeof__() -> size of S in memory, in bytes\n",
      " |  \n",
      " |  __sub__(self, value, /)\n",
      " |      Return self-value.\n",
      " |  \n",
      " |  __xor__(self, value, /)\n",
      " |      Return self^value.\n",
      " |  \n",
      " |  add(...)\n",
      " |      Add an element to a set.\n",
      " |      \n",
      " |      This has no effect if the element is already present.\n",
      " |  \n",
      " |  clear(...)\n",
      " |      Remove all elements from this set.\n",
      " |  \n",
      " |  copy(...)\n",
      " |      Return a shallow copy of a set.\n",
      " |  \n",
      " |  difference(...)\n",
      " |      Return the difference of two or more sets as a new set.\n",
      " |      \n",
      " |      (i.e. all elements that are in this set but not the others.)\n",
      " |  \n",
      " |  difference_update(...)\n",
      " |      Remove all elements of another set from this set.\n",
      " |  \n",
      " |  discard(...)\n",
      " |      Remove an element from a set if it is a member.\n",
      " |      \n",
      " |      If the element is not a member, do nothing.\n",
      " |  \n",
      " |  intersection(...)\n",
      " |      Return the intersection of two sets as a new set.\n",
      " |      \n",
      " |      (i.e. all elements that are in both sets.)\n",
      " |  \n",
      " |  intersection_update(...)\n",
      " |      Update a set with the intersection of itself and another.\n",
      " |  \n",
      " |  isdisjoint(...)\n",
      " |      Return True if two sets have a null intersection.\n",
      " |  \n",
      " |  issubset(...)\n",
      " |      Report whether another set contains this set.\n",
      " |  \n",
      " |  issuperset(...)\n",
      " |      Report whether this set contains another set.\n",
      " |  \n",
      " |  pop(...)\n",
      " |      Remove and return an arbitrary set element.\n",
      " |      Raises KeyError if the set is empty.\n",
      " |  \n",
      " |  remove(...)\n",
      " |      Remove an element from a set; it must be a member.\n",
      " |      \n",
      " |      If the element is not a member, raise a KeyError.\n",
      " |  \n",
      " |  symmetric_difference(...)\n",
      " |      Return the symmetric difference of two sets as a new set.\n",
      " |      \n",
      " |      (i.e. all elements that are in exactly one of the sets.)\n",
      " |  \n",
      " |  symmetric_difference_update(...)\n",
      " |      Update a set with the symmetric difference of itself and another.\n",
      " |  \n",
      " |  union(...)\n",
      " |      Return the union of sets as a new set.\n",
      " |      \n",
      " |      (i.e. all elements that are in either set.)\n",
      " |  \n",
      " |  update(...)\n",
      " |      Update a set with the union of itself and others.\n",
      " |  \n",
      " |  ----------------------------------------------------------------------\n",
      " |  Static methods defined here:\n",
      " |  \n",
      " |  __new__(*args, **kwargs) from builtins.type\n",
      " |      Create and return a new object.  See help(type) for accurate signature.\n",
      " |  \n",
      " |  ----------------------------------------------------------------------\n",
      " |  Data and other attributes defined here:\n",
      " |  \n",
      " |  __hash__ = None\n",
      "\n"
     ]
    }
   ],
   "source": [
    "help(set)"
   ]
  },
  {
   "cell_type": "code",
   "execution_count": null,
   "metadata": {},
   "outputs": [],
   "source": [
    "myset1.intersection()"
   ]
  },
  {
   "cell_type": "markdown",
   "metadata": {},
   "source": [
    "<div class=\"alert alert-success\" role=\"alert\">\n",
    "    \n",
    "<img src=\"./icons/lightbulb.png\"  width=\"20\" height=\"20\" align=\"left\"> &nbsp; **Python Functions**: \n",
    "\n",
    "Functions are one of the most used methods for code organization and reuse.\n",
    "\n",
    "- Function may present *positional* and *keyword* arguments. The latter are used for optional or default values and do not require to specify them in a precise order.\n",
    "\n",
    "- Functions can also return one or more values.\n",
    "\n",
    "- Functions Are Objects: they can be assigned to a variable or included in one of the previously seen data structures such as a list.\n",
    "\n",
    "- Anonymous (Lambda) functions: simple, single element function defined with the `lambda` keyword.\n",
    "\n",
    "\n",
    "</div>"
   ]
  },
  {
   "cell_type": "markdown",
   "metadata": {},
   "source": [
    "## Function definition"
   ]
  },
  {
   "cell_type": "code",
   "execution_count": 40,
   "metadata": {},
   "outputs": [],
   "source": [
    "def foo(): \n",
    "    pass"
   ]
  },
  {
   "cell_type": "code",
   "execution_count": 41,
   "metadata": {},
   "outputs": [],
   "source": [
    "def foo(a, b):\n",
    "    print(a + b)"
   ]
  },
  {
   "cell_type": "code",
   "execution_count": 42,
   "metadata": {},
   "outputs": [
    {
     "name": "stdout",
     "output_type": "stream",
     "text": [
      "30\n"
     ]
    }
   ],
   "source": [
    "foo(10, 20)"
   ]
  },
  {
   "cell_type": "code",
   "execution_count": 43,
   "metadata": {},
   "outputs": [
    {
     "name": "stdout",
     "output_type": "stream",
     "text": [
      "tomorrowData\n"
     ]
    }
   ],
   "source": [
    "foo(\"tomorrow\", \"Data\")"
   ]
  },
  {
   "cell_type": "markdown",
   "metadata": {},
   "source": [
    "## Returned values simple"
   ]
  },
  {
   "cell_type": "code",
   "execution_count": 45,
   "metadata": {},
   "outputs": [],
   "source": [
    "def foo(a, b, c=None): # both required and optional parameters \n",
    "    return a + b if not c else a + b + c "
   ]
  },
  {
   "cell_type": "code",
   "execution_count": 46,
   "metadata": {},
   "outputs": [
    {
     "data": {
      "text/plain": [
       "3"
      ]
     },
     "execution_count": 46,
     "metadata": {},
     "output_type": "execute_result"
    }
   ],
   "source": [
    "foo(1, 2)"
   ]
  },
  {
   "cell_type": "code",
   "execution_count": 48,
   "metadata": {},
   "outputs": [
    {
     "data": {
      "text/plain": [
       "13"
      ]
     },
     "execution_count": 48,
     "metadata": {},
     "output_type": "execute_result"
    }
   ],
   "source": [
    "foo(1, 2, 10)         # positional arguments with optional"
   ]
  },
  {
   "cell_type": "code",
   "execution_count": 49,
   "metadata": {},
   "outputs": [
    {
     "data": {
      "text/plain": [
       "9"
      ]
     },
     "execution_count": 49,
     "metadata": {},
     "output_type": "execute_result"
    }
   ],
   "source": [
    "foo(c=10, a=2, b=-3)  # all arguments can be keywords"
   ]
  },
  {
   "cell_type": "code",
   "execution_count": 51,
   "metadata": {},
   "outputs": [
    {
     "data": {
      "text/plain": [
       "11"
      ]
     },
     "execution_count": 51,
     "metadata": {},
     "output_type": "execute_result"
    }
   ],
   "source": [
    "foo(1, b=20, c=-10)  # positional arguments MUST preceed keywords ones"
   ]
  },
  {
   "cell_type": "markdown",
   "metadata": {},
   "source": [
    "## More complex return values"
   ]
  },
  {
   "cell_type": "code",
   "execution_count": 52,
   "metadata": {},
   "outputs": [],
   "source": [
    "# returned values simple\n",
    "def foo(a, b, c): \n",
    "    return a, b, c # function can return multiple values "
   ]
  },
  {
   "cell_type": "code",
   "execution_count": 53,
   "metadata": {},
   "outputs": [
    {
     "name": "stdout",
     "output_type": "stream",
     "text": [
      "ciao da tomorrowdata\n"
     ]
    }
   ],
   "source": [
    "a, b, c = foo('ciao ', 'da ', 'tomorrowdata')\n",
    "print(a + b + c)"
   ]
  },
  {
   "cell_type": "code",
   "execution_count": 81,
   "metadata": {},
   "outputs": [],
   "source": [
    "def outer_function(a, b): \n",
    "    \"\"\"this is the outer function\"\"\"\n",
    "    print(a, b)\n",
    "    # inner function definition (only available in the outer function scope)\n",
    "    def inner_function(p):\n",
    "        \"\"\"this is the inner function\"\"\"\n",
    "        return p * (a + b)\n",
    "    \n",
    "    return inner_function  # returned values is a function "
   ]
  },
  {
   "cell_type": "code",
   "execution_count": 82,
   "metadata": {},
   "outputs": [
    {
     "name": "stdout",
     "output_type": "stream",
     "text": [
      "10 20\n"
     ]
    }
   ],
   "source": [
    "f = outer_function(10, 20)"
   ]
  },
  {
   "cell_type": "code",
   "execution_count": 84,
   "metadata": {},
   "outputs": [
    {
     "data": {
      "text/plain": [
       "3000"
      ]
     },
     "execution_count": 84,
     "metadata": {},
     "output_type": "execute_result"
    }
   ],
   "source": [
    "f(100)"
   ]
  },
  {
   "cell_type": "markdown",
   "metadata": {},
   "source": [
    "## Functions as an object (optional)"
   ]
  },
  {
   "cell_type": "code",
   "execution_count": 59,
   "metadata": {},
   "outputs": [],
   "source": [
    "my_foo = foo(20, 10)    # it is possible to assign function to variables -> FUNCTIONS ARE OBJECTS "
   ]
  },
  {
   "cell_type": "code",
   "execution_count": 60,
   "metadata": {},
   "outputs": [
    {
     "data": {
      "text/plain": [
       "600"
      ]
     },
     "execution_count": 60,
     "metadata": {},
     "output_type": "execute_result"
    }
   ],
   "source": [
    "my_foo(20)"
   ]
  },
  {
   "cell_type": "markdown",
   "metadata": {},
   "source": [
    "## Anonymous functions (optional)"
   ]
  },
  {
   "cell_type": "code",
   "execution_count": 63,
   "metadata": {},
   "outputs": [],
   "source": [
    "my_lambda = lambda x: int(x)/10         # quick definition of a function (one line of code)"
   ]
  },
  {
   "cell_type": "code",
   "execution_count": 64,
   "metadata": {},
   "outputs": [
    {
     "data": {
      "text/plain": [
       "[0.0, 0.1, 0.2, 0.3, 0.4, 0.5, 0.6, 0.7, 0.8, 0.9]"
      ]
     },
     "execution_count": 64,
     "metadata": {},
     "output_type": "execute_result"
    }
   ],
   "source": [
    "[my_lambda(k) for k in mystring.digits] # this is called list comprehension "
   ]
  },
  {
   "cell_type": "code",
   "execution_count": 62,
   "metadata": {},
   "outputs": [
    {
     "data": {
      "text/plain": [
       "'0123456789'"
      ]
     },
     "execution_count": 62,
     "metadata": {},
     "output_type": "execute_result"
    }
   ],
   "source": [
    "mystring.digits"
   ]
  },
  {
   "cell_type": "markdown",
   "metadata": {},
   "source": [
    "<div class=\"alert alert-success\" role=\"alert\">\n",
    "    \n",
    "<img src=\"./icons/lightbulb.png\"  width=\"20\" height=\"20\" align=\"left\"> &nbsp; **Python Classes**: \n",
    "\n",
    "Python also support Object-Oriented programming paradigm.Because everything in Python is an object is it important to analyze the basic concept around the `class` definition.  \n",
    "\n",
    "- `Attribute Reference`: define and access attributes (or fields) of a class.\n",
    "- `Instantiation`: use function notation and allows for creating an instance of a class.\n",
    "- `Method Objects`: define functions proper of a class which manipulates instance's attributes.\n",
    "\n",
    "</div>"
   ]
  },
  {
   "cell_type": "code",
   "execution_count": 66,
   "metadata": {
    "deletable": false,
    "editable": false
   },
   "outputs": [],
   "source": [
    "class Foo(): \n",
    "    def __init__(self): \n",
    "        self.a = 10\n",
    "        self.b = \"tomorrowData\"\n",
    "        \n",
    "    def do_somenting(self): \n",
    "        print(self.b + \" \" + str(self.a))"
   ]
  },
  {
   "cell_type": "markdown",
   "metadata": {},
   "source": [
    "## Class Initialization"
   ]
  },
  {
   "cell_type": "code",
   "execution_count": 67,
   "metadata": {},
   "outputs": [],
   "source": [
    "my_foo = Foo() # initialize a new instance of Foo"
   ]
  },
  {
   "cell_type": "code",
   "execution_count": 69,
   "metadata": {},
   "outputs": [
    {
     "data": {
      "text/plain": [
       "<__main__.Foo at 0x7f3ef9b5c080>"
      ]
     },
     "execution_count": 69,
     "metadata": {},
     "output_type": "execute_result"
    }
   ],
   "source": [
    "my_foo"
   ]
  },
  {
   "cell_type": "markdown",
   "metadata": {},
   "source": [
    "## Class attributes (or fields)"
   ]
  },
  {
   "cell_type": "code",
   "execution_count": 71,
   "metadata": {},
   "outputs": [
    {
     "data": {
      "text/plain": [
       "10"
      ]
     },
     "execution_count": 71,
     "metadata": {},
     "output_type": "execute_result"
    }
   ],
   "source": [
    "my_foo.a  # dot is used to access memebers of a class"
   ]
  },
  {
   "cell_type": "markdown",
   "metadata": {},
   "source": [
    "## Class Methods"
   ]
  },
  {
   "cell_type": "code",
   "execution_count": 72,
   "metadata": {},
   "outputs": [
    {
     "data": {
      "text/plain": [
       "<bound method Foo.do_somenting of <__main__.Foo object at 0x7f3ef9b5c080>>"
      ]
     },
     "execution_count": 72,
     "metadata": {},
     "output_type": "execute_result"
    }
   ],
   "source": [
    "my_foo.do_somenting # this is the reference to the Foo.do_something method"
   ]
  },
  {
   "cell_type": "code",
   "execution_count": 73,
   "metadata": {},
   "outputs": [
    {
     "name": "stdout",
     "output_type": "stream",
     "text": [
      "tomorrowData 10\n"
     ]
    }
   ],
   "source": [
    "    my_foo.do_somenting() # here we are calling the method"
   ]
  },
  {
   "cell_type": "markdown",
   "metadata": {},
   "source": [
    "<hr>"
   ]
  },
  {
   "cell_type": "markdown",
   "metadata": {},
   "source": [
    "# Pandas\n",
    "\n",
    "From the official [site](https://pandas.pydata.org/): \n",
    "> Pandas is an open source, BSD-licensed library providing high-performance, easy-to-use data structures and data analysis tools for the Python programming language.\n",
    "> Pandas is well suited for many different kinds of data:\n",
    ">- Tabular data with heterogeneously-typed columns, as in an SQL table or Excel spreadsheet\n",
    ">- Ordered and unordered (not necessarily fixed-frequency) time series data.\n",
    ">- Arbitrary matrix data (homogeneously typed or heterogeneous) with row and column labels\n",
    ">- Any other form of observational / statistical data sets. The data actually need not be labeled at all to be placed into a pandas data structure\n",
    "\n",
    "Pandas allows for loading data from different formats (csv, parquet, json, excel...).\n",
    "The two main data structure used in padas are: \n",
    "- `pandas.DataFrame`: 2D labeled, size-mutable structure with heterogeneously-typed columns (tabular data)\n",
    "- `pandas.Series`: 1D labeled homogeneously-typed array (suited for time series)"
   ]
  },
  {
   "cell_type": "code",
   "execution_count": 98,
   "metadata": {
    "deletable": false,
    "editable": false
   },
   "outputs": [],
   "source": [
    "import pandas as pd\n",
    "import numpy as np\n",
    "import matplotlib.pyplot as plt"
   ]
  },
  {
   "cell_type": "markdown",
   "metadata": {},
   "source": [
    "<div class=\"alert alert-info\" role=\"alert\">\n",
    "    \n",
    "<img src=\"./icons/list.png\"  width=\"20\" height=\"20\" align=\"left\"> &nbsp;  **Exercise 1: Series**\n",
    "\n",
    "A Series can be considered as an array containing the same values type with labels. Labels represent values of a Series's index. \n",
    "\n",
    "- Define a **Series** object by passing a list of values `pd.Series(list(range(10)))` and store it in a variable named *my_series*.\n",
    "- Update the index of *my_series* by assigning dates to the `my_series.index` attribute.  \n",
    "- Check if an index's value is included in *my_series* using the syntax: `<any-value> in my_series`.\n",
    "- Access one or more values by means of square bracket subscripting `s[<index-value>]`. It is possible to pass a list of index values.\n",
    "- Use `numpy.exp(my_series)` to apply any function to the series.  \n",
    "- Define another **Series** by passing a dictionary of key-value pairs , where the key is the index.\n",
    "\n",
    "</div>"
   ]
  },
  {
   "cell_type": "markdown",
   "metadata": {},
   "source": [
    "<div class=\"alert alert-success\" role=\"alert\">\n",
    "    \n",
    "<img src=\"./icons/lightbulb.png\"  width=\"20\" height=\"20\" align=\"left\"> &nbsp; **Pandas Tip 1**: it is possible to create a range of datetimes values by using the pandas function `pd.date_range()` [API](https://pandas.pydata.org/pandas-docs/stable/reference/api/pandas.date_range.html).\n",
    "\n",
    "The function takes several parameters, the most important: \n",
    "- `start`: start date (example \"2020-10-10\")\n",
    "- `end`: (optional) ending date (example \"2020-10-19\")\n",
    "- `freq`: define the sampling frequency for the defined boundaries. Use \"D\" for days, \"H\" for hours, etc...\n",
    "- `periods`: number of periods to generate (allows for more control)\n",
    "</div>"
   ]
  },
  {
   "cell_type": "code",
   "execution_count": 99,
   "metadata": {},
   "outputs": [],
   "source": [
    "my_series = pd.Series(list(range(10)))"
   ]
  },
  {
   "cell_type": "code",
   "execution_count": 100,
   "metadata": {},
   "outputs": [
    {
     "data": {
      "text/plain": [
       "0    0\n",
       "1    1\n",
       "2    2\n",
       "3    3\n",
       "4    4\n",
       "5    5\n",
       "6    6\n",
       "7    7\n",
       "8    8\n",
       "9    9\n",
       "dtype: int64"
      ]
     },
     "execution_count": 100,
     "metadata": {},
     "output_type": "execute_result"
    }
   ],
   "source": [
    "my_series"
   ]
  },
  {
   "cell_type": "code",
   "execution_count": 102,
   "metadata": {},
   "outputs": [
    {
     "data": {
      "text/plain": [
       "DatetimeIndex(['2020-10-10', '2020-10-11', '2020-10-12', '2020-10-13',\n",
       "               '2020-10-14', '2020-10-15', '2020-10-16', '2020-10-17',\n",
       "               '2020-10-18', '2020-10-19'],\n",
       "              dtype='datetime64[ns]', freq='D')"
      ]
     },
     "execution_count": 102,
     "metadata": {},
     "output_type": "execute_result"
    }
   ],
   "source": [
    "pd.date_range(start=\"2020-10-10\", periods=10, freq='D')"
   ]
  },
  {
   "cell_type": "code",
   "execution_count": 103,
   "metadata": {},
   "outputs": [],
   "source": [
    "my_series.index = pd.date_range(start=\"2020-10-10\", periods=10, freq='D')"
   ]
  },
  {
   "cell_type": "code",
   "execution_count": 104,
   "metadata": {},
   "outputs": [
    {
     "data": {
      "text/plain": [
       "2020-10-10    0\n",
       "2020-10-11    1\n",
       "2020-10-12    2\n",
       "2020-10-13    3\n",
       "2020-10-14    4\n",
       "2020-10-15    5\n",
       "2020-10-16    6\n",
       "2020-10-17    7\n",
       "2020-10-18    8\n",
       "2020-10-19    9\n",
       "Freq: D, dtype: int64"
      ]
     },
     "execution_count": 104,
     "metadata": {},
     "output_type": "execute_result"
    }
   ],
   "source": [
    "my_series"
   ]
  },
  {
   "cell_type": "code",
   "execution_count": 105,
   "metadata": {},
   "outputs": [
    {
     "data": {
      "text/plain": [
       "True"
      ]
     },
     "execution_count": 105,
     "metadata": {},
     "output_type": "execute_result"
    }
   ],
   "source": [
    "\"2020-10-10\" in my_series"
   ]
  },
  {
   "cell_type": "code",
   "execution_count": 112,
   "metadata": {},
   "outputs": [
    {
     "data": {
      "text/plain": [
       "2020-10-10    0\n",
       "2020-10-11    1\n",
       "2020-10-12    2\n",
       "Freq: D, dtype: int64"
      ]
     },
     "execution_count": 112,
     "metadata": {},
     "output_type": "execute_result"
    }
   ],
   "source": [
    "my_series['2020-10-10':'2020-10-12']"
   ]
  },
  {
   "cell_type": "code",
   "execution_count": 114,
   "metadata": {},
   "outputs": [
    {
     "data": {
      "text/plain": [
       "2020-10-10      1.0\n",
       "2020-10-11      2.0\n",
       "2020-10-12      4.0\n",
       "2020-10-13      8.0\n",
       "2020-10-14     16.0\n",
       "2020-10-15     32.0\n",
       "2020-10-16     64.0\n",
       "2020-10-17    128.0\n",
       "2020-10-18    256.0\n",
       "2020-10-19    512.0\n",
       "Freq: D, dtype: float64"
      ]
     },
     "execution_count": 114,
     "metadata": {},
     "output_type": "execute_result"
    }
   ],
   "source": [
    "np.exp2(my_series)"
   ]
  },
  {
   "cell_type": "code",
   "execution_count": 117,
   "metadata": {},
   "outputs": [
    {
     "data": {
      "text/plain": [
       "2020-10-20    tomorrow\n",
       "2020-10-21        data\n",
       "dtype: object"
      ]
     },
     "execution_count": 117,
     "metadata": {},
     "output_type": "execute_result"
    }
   ],
   "source": [
    "pd.Series({\"2020-10-20\": \"tomorrow\", \"2020-10-21\": \"data\"})"
   ]
  },
  {
   "cell_type": "markdown",
   "metadata": {},
   "source": [
    "<div class=\"alert alert-info\" role=\"alert\">\n",
    "    \n",
    "<img src=\"./icons/list.png\"  width=\"20\" height=\"20\" align=\"left\"> &nbsp;  **Exercise 2: DataFrames**\n",
    "\n",
    "A DataFrame is a table and can be thought as a collection of Series sharing all the same index. The main concepts of a DataFrame are *raws* and *columns*, which are both indexed. \n",
    "\n",
    "- Define a `DataFrame` object by passing a dictionary of key-values pairs, where values is a list or an array of the same size (a dictionary is already provided). Assign the new instance to a variable called *my_frame*.\n",
    "\n",
    "- Set the index of the new Dataframe with the provided *timestamp* array.\n",
    "\n",
    "- Check for missing values. Use the method `my_frame.isna()`. \n",
    "\n",
    "- Fill missing values with the `my_frame.fillna()` method. It is also possible to drop missing values with `my_frame.dropna()`.\n",
    "\n",
    "- Define a new index with the `dp.date_range()` function, with a range from *'2020-10-01'* to *2020-11-02* and daily frequency.\n",
    "\n",
    "- Update the index of the *my_frame* using the `my_frame.reindex()` method. \n",
    "\n",
    "- Are there missing values after reindexing ? Check the [reindex](https://pandas.pydata.org/pandas-docs/stable/reference/api/pandas.DataFrame.reindex.html) official api for possible solutions. \n",
    "\n",
    "</div>"
   ]
  },
  {
   "cell_type": "markdown",
   "metadata": {},
   "source": [
    "<div class=\"alert alert-success\" role=\"alert\">\n",
    "    \n",
    "<img src=\"./icons/lightbulb.png\"  width=\"20\" height=\"20\" align=\"left\"> &nbsp; **Pandas Tip 2**: it is possible to specify the index while instantiating either a **Series** or a **DataFrame** with the `index` parameter. For a **DataFrame** it is also possible to specify column names with the `columns` parameter. \n",
    "\n",
    "</div>"
   ]
  },
  {
   "cell_type": "code",
   "execution_count": 143,
   "metadata": {
    "deletable": false,
    "editable": false
   },
   "outputs": [],
   "source": [
    "samples = 30\n",
    "frame_dict = {\n",
    "    'Temperature': [x if int(x) != 23 else None for x in np.random.normal(loc=22, scale=3, size=samples)],\n",
    "    'Humidity': [x if int(x) != 57 else None for x in np.random.normal(loc=55, scale=5, size=samples)]\n",
    "}\n",
    "timestamp = pd.date_range(start='2020-10-01', periods=samples, freq='D')"
   ]
  },
  {
   "cell_type": "code",
   "execution_count": 177,
   "metadata": {},
   "outputs": [],
   "source": [
    "my_frame = pd.DataFrame(frame_dict, index=timestamp)"
   ]
  },
  {
   "cell_type": "code",
   "execution_count": 178,
   "metadata": {},
   "outputs": [
    {
     "data": {
      "text/plain": [
       "DatetimeIndex(['2020-10-01', '2020-10-02', '2020-10-03', '2020-10-04',\n",
       "               '2020-10-05', '2020-10-06', '2020-10-07', '2020-10-08',\n",
       "               '2020-10-09', '2020-10-10', '2020-10-11', '2020-10-12',\n",
       "               '2020-10-13', '2020-10-14', '2020-10-15', '2020-10-16',\n",
       "               '2020-10-17', '2020-10-18', '2020-10-19', '2020-10-20',\n",
       "               '2020-10-21', '2020-10-22', '2020-10-23', '2020-10-24',\n",
       "               '2020-10-25', '2020-10-26', '2020-10-27', '2020-10-28',\n",
       "               '2020-10-29', '2020-10-30'],\n",
       "              dtype='datetime64[ns]', freq='D')"
      ]
     },
     "execution_count": 178,
     "metadata": {},
     "output_type": "execute_result"
    }
   ],
   "source": [
    "my_frame.index"
   ]
  },
  {
   "cell_type": "code",
   "execution_count": 179,
   "metadata": {},
   "outputs": [
    {
     "data": {
      "text/plain": [
       "Temperature    5\n",
       "Humidity       2\n",
       "dtype: int64"
      ]
     },
     "execution_count": 179,
     "metadata": {},
     "output_type": "execute_result"
    }
   ],
   "source": [
    "(my_frame.isna()).sum()"
   ]
  },
  {
   "cell_type": "code",
   "execution_count": 180,
   "metadata": {},
   "outputs": [],
   "source": [
    "my_frame_dropped = my_frame.dropna()"
   ]
  },
  {
   "cell_type": "code",
   "execution_count": 181,
   "metadata": {},
   "outputs": [],
   "source": [
    "# my_frame.fillna(value=2)"
   ]
  },
  {
   "cell_type": "code",
   "execution_count": 182,
   "metadata": {},
   "outputs": [],
   "source": [
    "timestamp2 = pd.date_range(start='2020-10-01', end='2020-11-02', freq='12H')"
   ]
  },
  {
   "cell_type": "code",
   "execution_count": 185,
   "metadata": {
    "scrolled": false
   },
   "outputs": [],
   "source": [
    "my_frame = my_frame_dropped.reindex(timestamp2, method='bfill')"
   ]
  },
  {
   "cell_type": "code",
   "execution_count": 188,
   "metadata": {},
   "outputs": [
    {
     "data": {
      "text/html": [
       "<div>\n",
       "<style scoped>\n",
       "    .dataframe tbody tr th:only-of-type {\n",
       "        vertical-align: middle;\n",
       "    }\n",
       "\n",
       "    .dataframe tbody tr th {\n",
       "        vertical-align: top;\n",
       "    }\n",
       "\n",
       "    .dataframe thead th {\n",
       "        text-align: right;\n",
       "    }\n",
       "</style>\n",
       "<table border=\"1\" class=\"dataframe\">\n",
       "  <thead>\n",
       "    <tr style=\"text-align: right;\">\n",
       "      <th></th>\n",
       "      <th>Temperature</th>\n",
       "      <th>Humidity</th>\n",
       "    </tr>\n",
       "  </thead>\n",
       "  <tbody>\n",
       "    <tr>\n",
       "      <td>2020-10-01 00:00:00</td>\n",
       "      <td>24.119613</td>\n",
       "      <td>63.790075</td>\n",
       "    </tr>\n",
       "    <tr>\n",
       "      <td>2020-10-01 01:00:00</td>\n",
       "      <td>24.119613</td>\n",
       "      <td>63.790075</td>\n",
       "    </tr>\n",
       "    <tr>\n",
       "      <td>2020-10-01 02:00:00</td>\n",
       "      <td>24.119613</td>\n",
       "      <td>63.790075</td>\n",
       "    </tr>\n",
       "    <tr>\n",
       "      <td>2020-10-01 03:00:00</td>\n",
       "      <td>24.119613</td>\n",
       "      <td>63.790075</td>\n",
       "    </tr>\n",
       "    <tr>\n",
       "      <td>2020-10-01 04:00:00</td>\n",
       "      <td>24.119613</td>\n",
       "      <td>63.790075</td>\n",
       "    </tr>\n",
       "    <tr>\n",
       "      <td>...</td>\n",
       "      <td>...</td>\n",
       "      <td>...</td>\n",
       "    </tr>\n",
       "    <tr>\n",
       "      <td>2020-11-01 20:00:00</td>\n",
       "      <td>NaN</td>\n",
       "      <td>NaN</td>\n",
       "    </tr>\n",
       "    <tr>\n",
       "      <td>2020-11-01 21:00:00</td>\n",
       "      <td>NaN</td>\n",
       "      <td>NaN</td>\n",
       "    </tr>\n",
       "    <tr>\n",
       "      <td>2020-11-01 22:00:00</td>\n",
       "      <td>NaN</td>\n",
       "      <td>NaN</td>\n",
       "    </tr>\n",
       "    <tr>\n",
       "      <td>2020-11-01 23:00:00</td>\n",
       "      <td>NaN</td>\n",
       "      <td>NaN</td>\n",
       "    </tr>\n",
       "    <tr>\n",
       "      <td>2020-11-02 00:00:00</td>\n",
       "      <td>NaN</td>\n",
       "      <td>NaN</td>\n",
       "    </tr>\n",
       "  </tbody>\n",
       "</table>\n",
       "<p>769 rows × 2 columns</p>\n",
       "</div>"
      ],
      "text/plain": [
       "                     Temperature   Humidity\n",
       "2020-10-01 00:00:00    24.119613  63.790075\n",
       "2020-10-01 01:00:00    24.119613  63.790075\n",
       "2020-10-01 02:00:00    24.119613  63.790075\n",
       "2020-10-01 03:00:00    24.119613  63.790075\n",
       "2020-10-01 04:00:00    24.119613  63.790075\n",
       "...                          ...        ...\n",
       "2020-11-01 20:00:00          NaN        NaN\n",
       "2020-11-01 21:00:00          NaN        NaN\n",
       "2020-11-01 22:00:00          NaN        NaN\n",
       "2020-11-01 23:00:00          NaN        NaN\n",
       "2020-11-02 00:00:00          NaN        NaN\n",
       "\n",
       "[769 rows x 2 columns]"
      ]
     },
     "execution_count": 188,
     "metadata": {},
     "output_type": "execute_result"
    }
   ],
   "source": [
    "my_frame.asfreq('H', method='bfill')"
   ]
  },
  {
   "cell_type": "code",
   "execution_count": 190,
   "metadata": {},
   "outputs": [
    {
     "data": {
      "text/plain": [
       "0                                         Tomorrowdata\n",
       "1                                                   23\n",
       "2    <module 'string' from '/home/marco/miniconda3/...\n",
       "3                     <function foo at 0x7f3ef9fb7598>\n",
       "4                                          [[1, 2, 3]]\n",
       "dtype: object"
      ]
     },
     "execution_count": 190,
     "metadata": {},
     "output_type": "execute_result"
    }
   ],
   "source": [
    "pd.Series(['Tomorrowdata', 23.0, mystring, foo, [[1, 2, 3]]])"
   ]
  },
  {
   "cell_type": "markdown",
   "metadata": {},
   "source": [
    "<hr>"
   ]
  },
  {
   "cell_type": "markdown",
   "metadata": {},
   "source": [
    "## Load and Manipulate DataFrames with pandas\n",
    "\n",
    "The examples provided in this notebook are based on data coming from the BTP (*Bureau of Transportation Statistics*) concerning **Air Carrier Statistics** of U.S Carriers retrieved [here](https://www.transtats.bts.gov/tables.asp?Table_ID=258&SYS_Table_Name=T_T100D_MARKET_US_CARRIER_ONLY). \n",
    "\n",
    "In detail the dataset is based on the *T-100 Domestic Market*: \n",
    "> This table contains domestic market data reported by U.S. air carriers, including carrier, origin, destination, and service class for enplaned passengers, freight and mail when both origin and destination airports are located within the boundaries of the United States and its territories.\n",
    "</div>\n",
    "\n",
    "## T-100 Domestic Market Dataset\n",
    "\n",
    "\n",
    "Details of selectable fields for the downloaded table can be found [here](https://www.transtats.bts.gov/DL_SelectFields.asp). \n",
    "\n",
    "The pre-downloaded data has the following columns: \n",
    "1. UniqueCarrier\n",
    "2. UniqueCarrierName\n",
    "3. CarrierRegion\n",
    "4. OriginAirportID\n",
    "5. Origin\n",
    "6. OriginCityName\n",
    "7. DestAirportID\n",
    "8. Dest\n",
    "9. DestCityName\n",
    "10. Month\n",
    "11. Passengeres\n",
    "12. Freight\n",
    "13. Mail\n",
    "14. Distance\n",
    "\n",
    "Only 2019 data has been downloaded in zip format. "
   ]
  },
  {
   "cell_type": "markdown",
   "metadata": {},
   "source": [
    "<hr>"
   ]
  },
  {
   "cell_type": "markdown",
   "metadata": {},
   "source": [
    "<div class=\"alert alert-info\" role=\"alert\">\n",
    "    \n",
    "<img src=\"./icons/list.png\"  width=\"20\" height=\"20\" align=\"left\"> &nbsp;  **Exercise 3**\n",
    "- load the *t100_domestic_market* dataset using the `pd.read_csv()`.\n",
    "- display information about the dataframe using `df.info()`.\n",
    "- show the first 5 rows of the dataframe using `df.head()`.\n",
    "\n",
    "Do columns contain null values?\n",
    "\n",
    "</div>"
   ]
  },
  {
   "cell_type": "markdown",
   "metadata": {},
   "source": [
    "<div class=\"alert alert-success\" role=\"alert\">\n",
    "    \n",
    "<img src=\"./icons/lightbulb.png\"  width=\"20\" height=\"20\" align=\"left\"> &nbsp; **Jupyter Notebooks Tip 1**: you can press `<tab>` to autocomplete or list the possible methods for an object.\n",
    "\n",
    "</div>"
   ]
  },
  {
   "cell_type": "code",
   "execution_count": 191,
   "metadata": {
    "deletable": false,
    "editable": false
   },
   "outputs": [],
   "source": [
    "AIRLINE_DATA = \"./t100_domestic_market_bts.zip\""
   ]
  },
  {
   "cell_type": "code",
   "execution_count": 192,
   "metadata": {},
   "outputs": [],
   "source": [
    "df = pd.read_csv(AIRLINE_DATA) "
   ]
  },
  {
   "cell_type": "code",
   "execution_count": 194,
   "metadata": {},
   "outputs": [
    {
     "name": "stdout",
     "output_type": "stream",
     "text": [
      "<class 'pandas.core.frame.DataFrame'>\n",
      "RangeIndex: 122435 entries, 0 to 122434\n",
      "Data columns (total 12 columns):\n",
      "PASSENGERS             122435 non-null float64\n",
      "FREIGHT                122435 non-null float64\n",
      "MAIL                   122435 non-null float64\n",
      "DISTANCE               122435 non-null float64\n",
      "UNIQUE_CARRIER         122435 non-null object\n",
      "UNIQUE_CARRIER_NAME    122435 non-null object\n",
      "ORIGIN_AIRPORT_ID      122435 non-null int64\n",
      "ORIGIN                 122435 non-null object\n",
      "DEST_AIRPORT_ID        122435 non-null int64\n",
      "DEST                   122435 non-null object\n",
      "MONTH                  122435 non-null int64\n",
      "Unnamed: 11            0 non-null float64\n",
      "dtypes: float64(5), int64(3), object(4)\n",
      "memory usage: 11.2+ MB\n"
     ]
    }
   ],
   "source": [
    "df.info()"
   ]
  },
  {
   "cell_type": "code",
   "execution_count": 197,
   "metadata": {},
   "outputs": [
    {
     "data": {
      "text/html": [
       "<div>\n",
       "<style scoped>\n",
       "    .dataframe tbody tr th:only-of-type {\n",
       "        vertical-align: middle;\n",
       "    }\n",
       "\n",
       "    .dataframe tbody tr th {\n",
       "        vertical-align: top;\n",
       "    }\n",
       "\n",
       "    .dataframe thead th {\n",
       "        text-align: right;\n",
       "    }\n",
       "</style>\n",
       "<table border=\"1\" class=\"dataframe\">\n",
       "  <thead>\n",
       "    <tr style=\"text-align: right;\">\n",
       "      <th></th>\n",
       "      <th>PASSENGERS</th>\n",
       "      <th>FREIGHT</th>\n",
       "      <th>MAIL</th>\n",
       "      <th>DISTANCE</th>\n",
       "      <th>UNIQUE_CARRIER</th>\n",
       "      <th>UNIQUE_CARRIER_NAME</th>\n",
       "      <th>ORIGIN_AIRPORT_ID</th>\n",
       "      <th>ORIGIN</th>\n",
       "      <th>DEST_AIRPORT_ID</th>\n",
       "      <th>DEST</th>\n",
       "      <th>MONTH</th>\n",
       "      <th>Unnamed: 11</th>\n",
       "    </tr>\n",
       "  </thead>\n",
       "  <tbody>\n",
       "    <tr>\n",
       "      <td>0</td>\n",
       "      <td>0.0</td>\n",
       "      <td>0.0</td>\n",
       "      <td>0.0</td>\n",
       "      <td>35.0</td>\n",
       "      <td>27Q</td>\n",
       "      <td>Jet Aviation Flight Services, Inc.</td>\n",
       "      <td>15030</td>\n",
       "      <td>SUA</td>\n",
       "      <td>14027</td>\n",
       "      <td>PBI</td>\n",
       "      <td>1</td>\n",
       "      <td>NaN</td>\n",
       "    </tr>\n",
       "    <tr>\n",
       "      <td>1</td>\n",
       "      <td>0.0</td>\n",
       "      <td>0.0</td>\n",
       "      <td>0.0</td>\n",
       "      <td>160.0</td>\n",
       "      <td>27Q</td>\n",
       "      <td>Jet Aviation Flight Services, Inc.</td>\n",
       "      <td>15070</td>\n",
       "      <td>SWF</td>\n",
       "      <td>10540</td>\n",
       "      <td>BED</td>\n",
       "      <td>1</td>\n",
       "      <td>NaN</td>\n",
       "    </tr>\n",
       "    <tr>\n",
       "      <td>2</td>\n",
       "      <td>0.0</td>\n",
       "      <td>0.0</td>\n",
       "      <td>0.0</td>\n",
       "      <td>740.0</td>\n",
       "      <td>27Q</td>\n",
       "      <td>Jet Aviation Flight Services, Inc.</td>\n",
       "      <td>15167</td>\n",
       "      <td>TEB</td>\n",
       "      <td>11376</td>\n",
       "      <td>DPA</td>\n",
       "      <td>1</td>\n",
       "      <td>NaN</td>\n",
       "    </tr>\n",
       "    <tr>\n",
       "      <td>3</td>\n",
       "      <td>0.0</td>\n",
       "      <td>0.0</td>\n",
       "      <td>0.0</td>\n",
       "      <td>9.0</td>\n",
       "      <td>27Q</td>\n",
       "      <td>Jet Aviation Flight Services, Inc.</td>\n",
       "      <td>15167</td>\n",
       "      <td>TEB</td>\n",
       "      <td>15346</td>\n",
       "      <td>TSS</td>\n",
       "      <td>1</td>\n",
       "      <td>NaN</td>\n",
       "    </tr>\n",
       "    <tr>\n",
       "      <td>4</td>\n",
       "      <td>0.0</td>\n",
       "      <td>0.0</td>\n",
       "      <td>0.0</td>\n",
       "      <td>44.0</td>\n",
       "      <td>27Q</td>\n",
       "      <td>Jet Aviation Flight Services, Inc.</td>\n",
       "      <td>15447</td>\n",
       "      <td>UGN</td>\n",
       "      <td>13232</td>\n",
       "      <td>MDW</td>\n",
       "      <td>1</td>\n",
       "      <td>NaN</td>\n",
       "    </tr>\n",
       "  </tbody>\n",
       "</table>\n",
       "</div>"
      ],
      "text/plain": [
       "   PASSENGERS  FREIGHT  MAIL  DISTANCE UNIQUE_CARRIER  \\\n",
       "0         0.0      0.0   0.0      35.0            27Q   \n",
       "1         0.0      0.0   0.0     160.0            27Q   \n",
       "2         0.0      0.0   0.0     740.0            27Q   \n",
       "3         0.0      0.0   0.0       9.0            27Q   \n",
       "4         0.0      0.0   0.0      44.0            27Q   \n",
       "\n",
       "                  UNIQUE_CARRIER_NAME  ORIGIN_AIRPORT_ID ORIGIN  \\\n",
       "0  Jet Aviation Flight Services, Inc.              15030    SUA   \n",
       "1  Jet Aviation Flight Services, Inc.              15070    SWF   \n",
       "2  Jet Aviation Flight Services, Inc.              15167    TEB   \n",
       "3  Jet Aviation Flight Services, Inc.              15167    TEB   \n",
       "4  Jet Aviation Flight Services, Inc.              15447    UGN   \n",
       "\n",
       "   DEST_AIRPORT_ID DEST  MONTH  Unnamed: 11  \n",
       "0            14027  PBI      1          NaN  \n",
       "1            10540  BED      1          NaN  \n",
       "2            11376  DPA      1          NaN  \n",
       "3            15346  TSS      1          NaN  \n",
       "4            13232  MDW      1          NaN  "
      ]
     },
     "execution_count": 197,
     "metadata": {},
     "output_type": "execute_result"
    }
   ],
   "source": [
    "df.head()"
   ]
  },
  {
   "cell_type": "markdown",
   "metadata": {},
   "source": [
    "<div class=\"alert alert-success\" role=\"alert\">\n",
    "    \n",
    "<img src=\"./icons/lightbulb.png\"  width=\"20\" height=\"20\" align=\"left\"> &nbsp; **Pandas Tip 3**: it is possible to show statistics about the current dataframe `df.describe()` for numerical-only features. \n",
    "It provides: \n",
    "<ul>\n",
    "    <li>count: number of non-null samples in the dataframe for the given column</li>\n",
    "    <li>mean: mean values for the given column</li>\n",
    "    <li>std: standard deviation for the given column</li>\n",
    "    <li>min/max: min/max values for the given column</li>\n",
    "    <li>25%, 50%, 75%: percentiles for the given column</li>\n",
    "</ul>\n",
    "\n",
    "Percentiles are useful to check under which value a specified subset (percentage) of the observed data falls.\n",
    "\n",
    "</div>"
   ]
  },
  {
   "cell_type": "code",
   "execution_count": 199,
   "metadata": {},
   "outputs": [
    {
     "data": {
      "text/html": [
       "<div>\n",
       "<style scoped>\n",
       "    .dataframe tbody tr th:only-of-type {\n",
       "        vertical-align: middle;\n",
       "    }\n",
       "\n",
       "    .dataframe tbody tr th {\n",
       "        vertical-align: top;\n",
       "    }\n",
       "\n",
       "    .dataframe thead th {\n",
       "        text-align: right;\n",
       "    }\n",
       "</style>\n",
       "<table border=\"1\" class=\"dataframe\">\n",
       "  <thead>\n",
       "    <tr style=\"text-align: right;\">\n",
       "      <th></th>\n",
       "      <th>PASSENGERS</th>\n",
       "      <th>FREIGHT</th>\n",
       "      <th>MAIL</th>\n",
       "      <th>DISTANCE</th>\n",
       "      <th>ORIGIN_AIRPORT_ID</th>\n",
       "      <th>DEST_AIRPORT_ID</th>\n",
       "      <th>MONTH</th>\n",
       "      <th>Unnamed: 11</th>\n",
       "    </tr>\n",
       "  </thead>\n",
       "  <tbody>\n",
       "    <tr>\n",
       "      <td>count</td>\n",
       "      <td>122435.000000</td>\n",
       "      <td>1.224350e+05</td>\n",
       "      <td>1.224350e+05</td>\n",
       "      <td>122435.000000</td>\n",
       "      <td>122435.000000</td>\n",
       "      <td>122435.000000</td>\n",
       "      <td>122435.000000</td>\n",
       "      <td>0.0</td>\n",
       "    </tr>\n",
       "    <tr>\n",
       "      <td>mean</td>\n",
       "      <td>3232.662025</td>\n",
       "      <td>1.008341e+05</td>\n",
       "      <td>4.675152e+03</td>\n",
       "      <td>787.566358</td>\n",
       "      <td>12766.261682</td>\n",
       "      <td>12780.499081</td>\n",
       "      <td>3.524825</td>\n",
       "      <td>NaN</td>\n",
       "    </tr>\n",
       "    <tr>\n",
       "      <td>std</td>\n",
       "      <td>6770.493279</td>\n",
       "      <td>6.383384e+05</td>\n",
       "      <td>3.807605e+04</td>\n",
       "      <td>674.420724</td>\n",
       "      <td>1586.412352</td>\n",
       "      <td>1580.330650</td>\n",
       "      <td>1.721591</td>\n",
       "      <td>NaN</td>\n",
       "    </tr>\n",
       "    <tr>\n",
       "      <td>min</td>\n",
       "      <td>0.000000</td>\n",
       "      <td>0.000000e+00</td>\n",
       "      <td>0.000000e+00</td>\n",
       "      <td>0.000000</td>\n",
       "      <td>10005.000000</td>\n",
       "      <td>10005.000000</td>\n",
       "      <td>1.000000</td>\n",
       "      <td>NaN</td>\n",
       "    </tr>\n",
       "    <tr>\n",
       "      <td>50%</td>\n",
       "      <td>407.000000</td>\n",
       "      <td>0.000000e+00</td>\n",
       "      <td>0.000000e+00</td>\n",
       "      <td>617.000000</td>\n",
       "      <td>12889.000000</td>\n",
       "      <td>12892.000000</td>\n",
       "      <td>4.000000</td>\n",
       "      <td>NaN</td>\n",
       "    </tr>\n",
       "    <tr>\n",
       "      <td>80%</td>\n",
       "      <td>4449.000000</td>\n",
       "      <td>4.981400e+03</td>\n",
       "      <td>0.000000e+00</td>\n",
       "      <td>1214.000000</td>\n",
       "      <td>14492.000000</td>\n",
       "      <td>14492.000000</td>\n",
       "      <td>5.000000</td>\n",
       "      <td>NaN</td>\n",
       "    </tr>\n",
       "    <tr>\n",
       "      <td>95%</td>\n",
       "      <td>15178.300000</td>\n",
       "      <td>3.879707e+05</td>\n",
       "      <td>1.420060e+04</td>\n",
       "      <td>2242.000000</td>\n",
       "      <td>15096.000000</td>\n",
       "      <td>15096.000000</td>\n",
       "      <td>6.000000</td>\n",
       "      <td>NaN</td>\n",
       "    </tr>\n",
       "    <tr>\n",
       "      <td>max</td>\n",
       "      <td>97329.000000</td>\n",
       "      <td>3.844231e+07</td>\n",
       "      <td>2.155015e+06</td>\n",
       "      <td>8253.000000</td>\n",
       "      <td>16861.000000</td>\n",
       "      <td>16861.000000</td>\n",
       "      <td>6.000000</td>\n",
       "      <td>NaN</td>\n",
       "    </tr>\n",
       "  </tbody>\n",
       "</table>\n",
       "</div>"
      ],
      "text/plain": [
       "          PASSENGERS       FREIGHT          MAIL       DISTANCE  \\\n",
       "count  122435.000000  1.224350e+05  1.224350e+05  122435.000000   \n",
       "mean     3232.662025  1.008341e+05  4.675152e+03     787.566358   \n",
       "std      6770.493279  6.383384e+05  3.807605e+04     674.420724   \n",
       "min         0.000000  0.000000e+00  0.000000e+00       0.000000   \n",
       "50%       407.000000  0.000000e+00  0.000000e+00     617.000000   \n",
       "80%      4449.000000  4.981400e+03  0.000000e+00    1214.000000   \n",
       "95%     15178.300000  3.879707e+05  1.420060e+04    2242.000000   \n",
       "max     97329.000000  3.844231e+07  2.155015e+06    8253.000000   \n",
       "\n",
       "       ORIGIN_AIRPORT_ID  DEST_AIRPORT_ID          MONTH  Unnamed: 11  \n",
       "count      122435.000000    122435.000000  122435.000000          0.0  \n",
       "mean        12766.261682     12780.499081       3.524825          NaN  \n",
       "std          1586.412352      1580.330650       1.721591          NaN  \n",
       "min         10005.000000     10005.000000       1.000000          NaN  \n",
       "50%         12889.000000     12892.000000       4.000000          NaN  \n",
       "80%         14492.000000     14492.000000       5.000000          NaN  \n",
       "95%         15096.000000     15096.000000       6.000000          NaN  \n",
       "max         16861.000000     16861.000000       6.000000          NaN  "
      ]
     },
     "execution_count": 199,
     "metadata": {},
     "output_type": "execute_result"
    }
   ],
   "source": [
    "df.describe(percentiles=[0.5, 0.8, .95])"
   ]
  },
  {
   "cell_type": "markdown",
   "metadata": {},
   "source": [
    "<hr>"
   ]
  },
  {
   "cell_type": "markdown",
   "metadata": {},
   "source": [
    "<div class=\"alert alert-warning\" role=\"alert\">\n",
    "    \n",
    "<img src=\"./icons/new.png\"  width=\"20\" height=\"20\" align=\"left\"> &nbsp;  **NumPy** \n",
    "\n",
    "[NumPy](https://numpy.org/) is the fundamental package for scientific computing with Python. It contains among other things:\n",
    "- a powerful N-dimensional array object called `ndarray`\n",
    "- mathematical functions for fast operations\n",
    "- tools for integrating C/C++ and Fortran code\n",
    "- useful linear algebra, Fourier transform, and random number capabilities\n",
    "\n",
    "Besides its obvious scientific uses, NumPy can also be used as an efficient multi-dimensional container of generic data. Arbitrary data-types can be defined. This allows NumPy to seamlessly and speedily integrate with a wide variety of databases.\n",
    "\n",
    "</div>"
   ]
  },
  {
   "cell_type": "markdown",
   "metadata": {},
   "source": [
    "\n",
    "<div align=\"center\">Example of slicing in pandas (same while using numpy arrays).</div>\n",
    "<img src=\"./images/nparray_slicing.png\"  width=\"900\" height=\"600\" align=\"center\">"
   ]
  },
  {
   "cell_type": "markdown",
   "metadata": {},
   "source": [
    "<div class=\"alert alert-info\" role=\"alert\">\n",
    "    \n",
    "<img src=\"./icons/list.png\"  width=\"20\" height=\"20\" align=\"left\"> &nbsp;  **Exercise 4**\n",
    "\n",
    "As you have probably observed there is a strange column named `Unnamed: 11`. We can drop it! \n",
    "- drop the column using `df.drop()`. Use the *inplace* parameter if you want!\n",
    "\n",
    "<br>\n",
    "\n",
    "The general syntax for slicing a collection in python is `[start:stop:step]`. If start or stop is omitted the default value is the first or last element respectively.  \n",
    "\n",
    "\n",
    "- show the first five rows to see if the column is still present. Use slicing `df[:5]`.\n",
    "- what if we want to show the last 5 rows? \n",
    "\n",
    "<br>\n",
    "\n",
    "Once indexed, it is possible to locate rows by means of their integer position (use `DataFrame.iloc[]`) or by means of the index value (use `df.loc[]`). \n",
    "\n",
    "- set an index, for example the *UNIQUE_CARRIER* column. Use `df.set_index()`.\n",
    "- now try to find all rows related with the carrier id *27Q*. \n",
    "\n",
    "</div>"
   ]
  },
  {
   "cell_type": "markdown",
   "metadata": {},
   "source": [
    "<div class=\"alert alert-success\" role=\"alert\">\n",
    "    \n",
    "<img src=\"./icons/lightbulb.png\"  width=\"20\" height=\"20\" align=\"left\"> &nbsp; **Jupyter Notebooks Tip 2**: you can press `<left-shift> + <tab>` while the cursor is in between a function parenthesis to show the doc related with it\n",
    "\n",
    "</div>"
   ]
  },
  {
   "cell_type": "code",
   "execution_count": 201,
   "metadata": {},
   "outputs": [],
   "source": [
    "df.drop(columns=[\"Unnamed: 11\"], inplace=True)"
   ]
  },
  {
   "cell_type": "code",
   "execution_count": 204,
   "metadata": {},
   "outputs": [
    {
     "data": {
      "text/html": [
       "<div>\n",
       "<style scoped>\n",
       "    .dataframe tbody tr th:only-of-type {\n",
       "        vertical-align: middle;\n",
       "    }\n",
       "\n",
       "    .dataframe tbody tr th {\n",
       "        vertical-align: top;\n",
       "    }\n",
       "\n",
       "    .dataframe thead th {\n",
       "        text-align: right;\n",
       "    }\n",
       "</style>\n",
       "<table border=\"1\" class=\"dataframe\">\n",
       "  <thead>\n",
       "    <tr style=\"text-align: right;\">\n",
       "      <th></th>\n",
       "      <th>PASSENGERS</th>\n",
       "      <th>FREIGHT</th>\n",
       "      <th>MAIL</th>\n",
       "      <th>DISTANCE</th>\n",
       "      <th>UNIQUE_CARRIER</th>\n",
       "      <th>UNIQUE_CARRIER_NAME</th>\n",
       "      <th>ORIGIN_AIRPORT_ID</th>\n",
       "      <th>ORIGIN</th>\n",
       "      <th>DEST_AIRPORT_ID</th>\n",
       "      <th>DEST</th>\n",
       "      <th>MONTH</th>\n",
       "    </tr>\n",
       "  </thead>\n",
       "  <tbody>\n",
       "    <tr>\n",
       "      <td>0</td>\n",
       "      <td>0.0</td>\n",
       "      <td>0.0</td>\n",
       "      <td>0.0</td>\n",
       "      <td>35.0</td>\n",
       "      <td>27Q</td>\n",
       "      <td>Jet Aviation Flight Services, Inc.</td>\n",
       "      <td>15030</td>\n",
       "      <td>SUA</td>\n",
       "      <td>14027</td>\n",
       "      <td>PBI</td>\n",
       "      <td>1</td>\n",
       "    </tr>\n",
       "    <tr>\n",
       "      <td>1</td>\n",
       "      <td>0.0</td>\n",
       "      <td>0.0</td>\n",
       "      <td>0.0</td>\n",
       "      <td>160.0</td>\n",
       "      <td>27Q</td>\n",
       "      <td>Jet Aviation Flight Services, Inc.</td>\n",
       "      <td>15070</td>\n",
       "      <td>SWF</td>\n",
       "      <td>10540</td>\n",
       "      <td>BED</td>\n",
       "      <td>1</td>\n",
       "    </tr>\n",
       "    <tr>\n",
       "      <td>2</td>\n",
       "      <td>0.0</td>\n",
       "      <td>0.0</td>\n",
       "      <td>0.0</td>\n",
       "      <td>740.0</td>\n",
       "      <td>27Q</td>\n",
       "      <td>Jet Aviation Flight Services, Inc.</td>\n",
       "      <td>15167</td>\n",
       "      <td>TEB</td>\n",
       "      <td>11376</td>\n",
       "      <td>DPA</td>\n",
       "      <td>1</td>\n",
       "    </tr>\n",
       "    <tr>\n",
       "      <td>3</td>\n",
       "      <td>0.0</td>\n",
       "      <td>0.0</td>\n",
       "      <td>0.0</td>\n",
       "      <td>9.0</td>\n",
       "      <td>27Q</td>\n",
       "      <td>Jet Aviation Flight Services, Inc.</td>\n",
       "      <td>15167</td>\n",
       "      <td>TEB</td>\n",
       "      <td>15346</td>\n",
       "      <td>TSS</td>\n",
       "      <td>1</td>\n",
       "    </tr>\n",
       "    <tr>\n",
       "      <td>4</td>\n",
       "      <td>0.0</td>\n",
       "      <td>0.0</td>\n",
       "      <td>0.0</td>\n",
       "      <td>44.0</td>\n",
       "      <td>27Q</td>\n",
       "      <td>Jet Aviation Flight Services, Inc.</td>\n",
       "      <td>15447</td>\n",
       "      <td>UGN</td>\n",
       "      <td>13232</td>\n",
       "      <td>MDW</td>\n",
       "      <td>1</td>\n",
       "    </tr>\n",
       "    <tr>\n",
       "      <td>5</td>\n",
       "      <td>0.0</td>\n",
       "      <td>0.0</td>\n",
       "      <td>0.0</td>\n",
       "      <td>36.0</td>\n",
       "      <td>27Q</td>\n",
       "      <td>Jet Aviation Flight Services, Inc.</td>\n",
       "      <td>15498</td>\n",
       "      <td>UT1</td>\n",
       "      <td>14869</td>\n",
       "      <td>SLC</td>\n",
       "      <td>1</td>\n",
       "    </tr>\n",
       "    <tr>\n",
       "      <td>6</td>\n",
       "      <td>0.0</td>\n",
       "      <td>0.0</td>\n",
       "      <td>0.0</td>\n",
       "      <td>1616.0</td>\n",
       "      <td>27Q</td>\n",
       "      <td>Jet Aviation Flight Services, Inc.</td>\n",
       "      <td>15167</td>\n",
       "      <td>TEB</td>\n",
       "      <td>14843</td>\n",
       "      <td>SJU</td>\n",
       "      <td>1</td>\n",
       "    </tr>\n",
       "    <tr>\n",
       "      <td>7</td>\n",
       "      <td>0.0</td>\n",
       "      <td>0.0</td>\n",
       "      <td>0.0</td>\n",
       "      <td>477.0</td>\n",
       "      <td>WL</td>\n",
       "      <td>Caribbean Sun Airlines, Inc. d/b/a World Atlan...</td>\n",
       "      <td>10185</td>\n",
       "      <td>AEX</td>\n",
       "      <td>10747</td>\n",
       "      <td>BRO</td>\n",
       "      <td>1</td>\n",
       "    </tr>\n",
       "    <tr>\n",
       "      <td>8</td>\n",
       "      <td>0.0</td>\n",
       "      <td>0.0</td>\n",
       "      <td>0.0</td>\n",
       "      <td>374.0</td>\n",
       "      <td>WL</td>\n",
       "      <td>Caribbean Sun Airlines, Inc. d/b/a World Atlan...</td>\n",
       "      <td>10185</td>\n",
       "      <td>AEX</td>\n",
       "      <td>14683</td>\n",
       "      <td>SAT</td>\n",
       "      <td>1</td>\n",
       "    </tr>\n",
       "    <tr>\n",
       "      <td>9</td>\n",
       "      <td>0.0</td>\n",
       "      <td>0.0</td>\n",
       "      <td>0.0</td>\n",
       "      <td>477.0</td>\n",
       "      <td>WL</td>\n",
       "      <td>Caribbean Sun Airlines, Inc. d/b/a World Atlan...</td>\n",
       "      <td>10747</td>\n",
       "      <td>BRO</td>\n",
       "      <td>10185</td>\n",
       "      <td>AEX</td>\n",
       "      <td>1</td>\n",
       "    </tr>\n",
       "  </tbody>\n",
       "</table>\n",
       "</div>"
      ],
      "text/plain": [
       "   PASSENGERS  FREIGHT  MAIL  DISTANCE UNIQUE_CARRIER  \\\n",
       "0         0.0      0.0   0.0      35.0            27Q   \n",
       "1         0.0      0.0   0.0     160.0            27Q   \n",
       "2         0.0      0.0   0.0     740.0            27Q   \n",
       "3         0.0      0.0   0.0       9.0            27Q   \n",
       "4         0.0      0.0   0.0      44.0            27Q   \n",
       "5         0.0      0.0   0.0      36.0            27Q   \n",
       "6         0.0      0.0   0.0    1616.0            27Q   \n",
       "7         0.0      0.0   0.0     477.0             WL   \n",
       "8         0.0      0.0   0.0     374.0             WL   \n",
       "9         0.0      0.0   0.0     477.0             WL   \n",
       "\n",
       "                                 UNIQUE_CARRIER_NAME  ORIGIN_AIRPORT_ID  \\\n",
       "0                 Jet Aviation Flight Services, Inc.              15030   \n",
       "1                 Jet Aviation Flight Services, Inc.              15070   \n",
       "2                 Jet Aviation Flight Services, Inc.              15167   \n",
       "3                 Jet Aviation Flight Services, Inc.              15167   \n",
       "4                 Jet Aviation Flight Services, Inc.              15447   \n",
       "5                 Jet Aviation Flight Services, Inc.              15498   \n",
       "6                 Jet Aviation Flight Services, Inc.              15167   \n",
       "7  Caribbean Sun Airlines, Inc. d/b/a World Atlan...              10185   \n",
       "8  Caribbean Sun Airlines, Inc. d/b/a World Atlan...              10185   \n",
       "9  Caribbean Sun Airlines, Inc. d/b/a World Atlan...              10747   \n",
       "\n",
       "  ORIGIN  DEST_AIRPORT_ID DEST  MONTH  \n",
       "0    SUA            14027  PBI      1  \n",
       "1    SWF            10540  BED      1  \n",
       "2    TEB            11376  DPA      1  \n",
       "3    TEB            15346  TSS      1  \n",
       "4    UGN            13232  MDW      1  \n",
       "5    UT1            14869  SLC      1  \n",
       "6    TEB            14843  SJU      1  \n",
       "7    AEX            10747  BRO      1  \n",
       "8    AEX            14683  SAT      1  \n",
       "9    BRO            10185  AEX      1  "
      ]
     },
     "execution_count": 204,
     "metadata": {},
     "output_type": "execute_result"
    }
   ],
   "source": [
    "df[:10]"
   ]
  },
  {
   "cell_type": "code",
   "execution_count": 210,
   "metadata": {},
   "outputs": [
    {
     "data": {
      "text/html": [
       "<div>\n",
       "<style scoped>\n",
       "    .dataframe tbody tr th:only-of-type {\n",
       "        vertical-align: middle;\n",
       "    }\n",
       "\n",
       "    .dataframe tbody tr th {\n",
       "        vertical-align: top;\n",
       "    }\n",
       "\n",
       "    .dataframe thead th {\n",
       "        text-align: right;\n",
       "    }\n",
       "</style>\n",
       "<table border=\"1\" class=\"dataframe\">\n",
       "  <thead>\n",
       "    <tr style=\"text-align: right;\">\n",
       "      <th></th>\n",
       "      <th>PASSENGERS</th>\n",
       "      <th>FREIGHT</th>\n",
       "      <th>MAIL</th>\n",
       "      <th>DISTANCE</th>\n",
       "      <th>UNIQUE_CARRIER</th>\n",
       "      <th>UNIQUE_CARRIER_NAME</th>\n",
       "      <th>ORIGIN_AIRPORT_ID</th>\n",
       "      <th>ORIGIN</th>\n",
       "      <th>DEST_AIRPORT_ID</th>\n",
       "      <th>DEST</th>\n",
       "      <th>MONTH</th>\n",
       "    </tr>\n",
       "  </thead>\n",
       "  <tbody>\n",
       "    <tr>\n",
       "      <td>122425</td>\n",
       "      <td>89017.0</td>\n",
       "      <td>41784.0</td>\n",
       "      <td>35131.0</td>\n",
       "      <td>404.0</td>\n",
       "      <td>DL</td>\n",
       "      <td>Delta Air Lines Inc.</td>\n",
       "      <td>10397</td>\n",
       "      <td>ATL</td>\n",
       "      <td>13204</td>\n",
       "      <td>MCO</td>\n",
       "      <td>4</td>\n",
       "    </tr>\n",
       "    <tr>\n",
       "      <td>122427</td>\n",
       "      <td>91315.0</td>\n",
       "      <td>92093.0</td>\n",
       "      <td>15741.0</td>\n",
       "      <td>404.0</td>\n",
       "      <td>DL</td>\n",
       "      <td>Delta Air Lines Inc.</td>\n",
       "      <td>13204</td>\n",
       "      <td>MCO</td>\n",
       "      <td>10397</td>\n",
       "      <td>ATL</td>\n",
       "      <td>6</td>\n",
       "    </tr>\n",
       "    <tr>\n",
       "      <td>122429</td>\n",
       "      <td>93322.0</td>\n",
       "      <td>138684.0</td>\n",
       "      <td>2829.0</td>\n",
       "      <td>404.0</td>\n",
       "      <td>DL</td>\n",
       "      <td>Delta Air Lines Inc.</td>\n",
       "      <td>13204</td>\n",
       "      <td>MCO</td>\n",
       "      <td>10397</td>\n",
       "      <td>ATL</td>\n",
       "      <td>4</td>\n",
       "    </tr>\n",
       "    <tr>\n",
       "      <td>122431</td>\n",
       "      <td>95102.0</td>\n",
       "      <td>125165.0</td>\n",
       "      <td>6280.0</td>\n",
       "      <td>404.0</td>\n",
       "      <td>DL</td>\n",
       "      <td>Delta Air Lines Inc.</td>\n",
       "      <td>13204</td>\n",
       "      <td>MCO</td>\n",
       "      <td>10397</td>\n",
       "      <td>ATL</td>\n",
       "      <td>5</td>\n",
       "    </tr>\n",
       "    <tr>\n",
       "      <td>122433</td>\n",
       "      <td>97011.0</td>\n",
       "      <td>473666.0</td>\n",
       "      <td>55963.0</td>\n",
       "      <td>1448.0</td>\n",
       "      <td>AS</td>\n",
       "      <td>Alaska Airlines Inc.</td>\n",
       "      <td>14747</td>\n",
       "      <td>SEA</td>\n",
       "      <td>10299</td>\n",
       "      <td>ANC</td>\n",
       "      <td>6</td>\n",
       "    </tr>\n",
       "  </tbody>\n",
       "</table>\n",
       "</div>"
      ],
      "text/plain": [
       "        PASSENGERS   FREIGHT     MAIL  DISTANCE UNIQUE_CARRIER  \\\n",
       "122425     89017.0   41784.0  35131.0     404.0             DL   \n",
       "122427     91315.0   92093.0  15741.0     404.0             DL   \n",
       "122429     93322.0  138684.0   2829.0     404.0             DL   \n",
       "122431     95102.0  125165.0   6280.0     404.0             DL   \n",
       "122433     97011.0  473666.0  55963.0    1448.0             AS   \n",
       "\n",
       "         UNIQUE_CARRIER_NAME  ORIGIN_AIRPORT_ID ORIGIN  DEST_AIRPORT_ID DEST  \\\n",
       "122425  Delta Air Lines Inc.              10397    ATL            13204  MCO   \n",
       "122427  Delta Air Lines Inc.              13204    MCO            10397  ATL   \n",
       "122429  Delta Air Lines Inc.              13204    MCO            10397  ATL   \n",
       "122431  Delta Air Lines Inc.              13204    MCO            10397  ATL   \n",
       "122433  Alaska Airlines Inc.              14747    SEA            10299  ANC   \n",
       "\n",
       "        MONTH  \n",
       "122425      4  \n",
       "122427      6  \n",
       "122429      4  \n",
       "122431      5  \n",
       "122433      6  "
      ]
     },
     "execution_count": 210,
     "metadata": {},
     "output_type": "execute_result"
    }
   ],
   "source": [
    "df[-10::2]"
   ]
  },
  {
   "cell_type": "code",
   "execution_count": null,
   "metadata": {},
   "outputs": [],
   "source": [
    "df[<start>:<stop>:<step>]"
   ]
  },
  {
   "cell_type": "code",
   "execution_count": 206,
   "metadata": {},
   "outputs": [
    {
     "data": {
      "text/html": [
       "<div>\n",
       "<style scoped>\n",
       "    .dataframe tbody tr th:only-of-type {\n",
       "        vertical-align: middle;\n",
       "    }\n",
       "\n",
       "    .dataframe tbody tr th {\n",
       "        vertical-align: top;\n",
       "    }\n",
       "\n",
       "    .dataframe thead th {\n",
       "        text-align: right;\n",
       "    }\n",
       "</style>\n",
       "<table border=\"1\" class=\"dataframe\">\n",
       "  <thead>\n",
       "    <tr style=\"text-align: right;\">\n",
       "      <th></th>\n",
       "      <th>FREIGHT</th>\n",
       "      <th>MAIL</th>\n",
       "      <th>DISTANCE</th>\n",
       "      <th>UNIQUE_CARRIER</th>\n",
       "      <th>UNIQUE_CARRIER_NAME</th>\n",
       "      <th>ORIGIN_AIRPORT_ID</th>\n",
       "      <th>ORIGIN</th>\n",
       "      <th>DEST_AIRPORT_ID</th>\n",
       "      <th>DEST</th>\n",
       "      <th>MONTH</th>\n",
       "    </tr>\n",
       "  </thead>\n",
       "  <tbody>\n",
       "    <tr>\n",
       "      <td>0</td>\n",
       "      <td>0.0</td>\n",
       "      <td>0.0</td>\n",
       "      <td>35.0</td>\n",
       "      <td>27Q</td>\n",
       "      <td>Jet Aviation Flight Services, Inc.</td>\n",
       "      <td>15030</td>\n",
       "      <td>SUA</td>\n",
       "      <td>14027</td>\n",
       "      <td>PBI</td>\n",
       "      <td>1</td>\n",
       "    </tr>\n",
       "    <tr>\n",
       "      <td>1</td>\n",
       "      <td>0.0</td>\n",
       "      <td>0.0</td>\n",
       "      <td>160.0</td>\n",
       "      <td>27Q</td>\n",
       "      <td>Jet Aviation Flight Services, Inc.</td>\n",
       "      <td>15070</td>\n",
       "      <td>SWF</td>\n",
       "      <td>10540</td>\n",
       "      <td>BED</td>\n",
       "      <td>1</td>\n",
       "    </tr>\n",
       "    <tr>\n",
       "      <td>2</td>\n",
       "      <td>0.0</td>\n",
       "      <td>0.0</td>\n",
       "      <td>740.0</td>\n",
       "      <td>27Q</td>\n",
       "      <td>Jet Aviation Flight Services, Inc.</td>\n",
       "      <td>15167</td>\n",
       "      <td>TEB</td>\n",
       "      <td>11376</td>\n",
       "      <td>DPA</td>\n",
       "      <td>1</td>\n",
       "    </tr>\n",
       "    <tr>\n",
       "      <td>3</td>\n",
       "      <td>0.0</td>\n",
       "      <td>0.0</td>\n",
       "      <td>9.0</td>\n",
       "      <td>27Q</td>\n",
       "      <td>Jet Aviation Flight Services, Inc.</td>\n",
       "      <td>15167</td>\n",
       "      <td>TEB</td>\n",
       "      <td>15346</td>\n",
       "      <td>TSS</td>\n",
       "      <td>1</td>\n",
       "    </tr>\n",
       "    <tr>\n",
       "      <td>4</td>\n",
       "      <td>0.0</td>\n",
       "      <td>0.0</td>\n",
       "      <td>44.0</td>\n",
       "      <td>27Q</td>\n",
       "      <td>Jet Aviation Flight Services, Inc.</td>\n",
       "      <td>15447</td>\n",
       "      <td>UGN</td>\n",
       "      <td>13232</td>\n",
       "      <td>MDW</td>\n",
       "      <td>1</td>\n",
       "    </tr>\n",
       "    <tr>\n",
       "      <td>5</td>\n",
       "      <td>0.0</td>\n",
       "      <td>0.0</td>\n",
       "      <td>36.0</td>\n",
       "      <td>27Q</td>\n",
       "      <td>Jet Aviation Flight Services, Inc.</td>\n",
       "      <td>15498</td>\n",
       "      <td>UT1</td>\n",
       "      <td>14869</td>\n",
       "      <td>SLC</td>\n",
       "      <td>1</td>\n",
       "    </tr>\n",
       "    <tr>\n",
       "      <td>6</td>\n",
       "      <td>0.0</td>\n",
       "      <td>0.0</td>\n",
       "      <td>1616.0</td>\n",
       "      <td>27Q</td>\n",
       "      <td>Jet Aviation Flight Services, Inc.</td>\n",
       "      <td>15167</td>\n",
       "      <td>TEB</td>\n",
       "      <td>14843</td>\n",
       "      <td>SJU</td>\n",
       "      <td>1</td>\n",
       "    </tr>\n",
       "    <tr>\n",
       "      <td>7</td>\n",
       "      <td>0.0</td>\n",
       "      <td>0.0</td>\n",
       "      <td>477.0</td>\n",
       "      <td>WL</td>\n",
       "      <td>Caribbean Sun Airlines, Inc. d/b/a World Atlan...</td>\n",
       "      <td>10185</td>\n",
       "      <td>AEX</td>\n",
       "      <td>10747</td>\n",
       "      <td>BRO</td>\n",
       "      <td>1</td>\n",
       "    </tr>\n",
       "    <tr>\n",
       "      <td>8</td>\n",
       "      <td>0.0</td>\n",
       "      <td>0.0</td>\n",
       "      <td>374.0</td>\n",
       "      <td>WL</td>\n",
       "      <td>Caribbean Sun Airlines, Inc. d/b/a World Atlan...</td>\n",
       "      <td>10185</td>\n",
       "      <td>AEX</td>\n",
       "      <td>14683</td>\n",
       "      <td>SAT</td>\n",
       "      <td>1</td>\n",
       "    </tr>\n",
       "    <tr>\n",
       "      <td>9</td>\n",
       "      <td>0.0</td>\n",
       "      <td>0.0</td>\n",
       "      <td>477.0</td>\n",
       "      <td>WL</td>\n",
       "      <td>Caribbean Sun Airlines, Inc. d/b/a World Atlan...</td>\n",
       "      <td>10747</td>\n",
       "      <td>BRO</td>\n",
       "      <td>10185</td>\n",
       "      <td>AEX</td>\n",
       "      <td>1</td>\n",
       "    </tr>\n",
       "  </tbody>\n",
       "</table>\n",
       "</div>"
      ],
      "text/plain": [
       "   FREIGHT  MAIL  DISTANCE UNIQUE_CARRIER  \\\n",
       "0      0.0   0.0      35.0            27Q   \n",
       "1      0.0   0.0     160.0            27Q   \n",
       "2      0.0   0.0     740.0            27Q   \n",
       "3      0.0   0.0       9.0            27Q   \n",
       "4      0.0   0.0      44.0            27Q   \n",
       "5      0.0   0.0      36.0            27Q   \n",
       "6      0.0   0.0    1616.0            27Q   \n",
       "7      0.0   0.0     477.0             WL   \n",
       "8      0.0   0.0     374.0             WL   \n",
       "9      0.0   0.0     477.0             WL   \n",
       "\n",
       "                                 UNIQUE_CARRIER_NAME  ORIGIN_AIRPORT_ID  \\\n",
       "0                 Jet Aviation Flight Services, Inc.              15030   \n",
       "1                 Jet Aviation Flight Services, Inc.              15070   \n",
       "2                 Jet Aviation Flight Services, Inc.              15167   \n",
       "3                 Jet Aviation Flight Services, Inc.              15167   \n",
       "4                 Jet Aviation Flight Services, Inc.              15447   \n",
       "5                 Jet Aviation Flight Services, Inc.              15498   \n",
       "6                 Jet Aviation Flight Services, Inc.              15167   \n",
       "7  Caribbean Sun Airlines, Inc. d/b/a World Atlan...              10185   \n",
       "8  Caribbean Sun Airlines, Inc. d/b/a World Atlan...              10185   \n",
       "9  Caribbean Sun Airlines, Inc. d/b/a World Atlan...              10747   \n",
       "\n",
       "  ORIGIN  DEST_AIRPORT_ID DEST  MONTH  \n",
       "0    SUA            14027  PBI      1  \n",
       "1    SWF            10540  BED      1  \n",
       "2    TEB            11376  DPA      1  \n",
       "3    TEB            15346  TSS      1  \n",
       "4    UGN            13232  MDW      1  \n",
       "5    UT1            14869  SLC      1  \n",
       "6    TEB            14843  SJU      1  \n",
       "7    AEX            10747  BRO      1  \n",
       "8    AEX            14683  SAT      1  \n",
       "9    BRO            10185  AEX      1  "
      ]
     },
     "execution_count": 206,
     "metadata": {},
     "output_type": "execute_result"
    }
   ],
   "source": [
    "df.iloc[0:10, 1:]"
   ]
  },
  {
   "cell_type": "code",
   "execution_count": 207,
   "metadata": {},
   "outputs": [
    {
     "data": {
      "text/html": [
       "<div>\n",
       "<style scoped>\n",
       "    .dataframe tbody tr th:only-of-type {\n",
       "        vertical-align: middle;\n",
       "    }\n",
       "\n",
       "    .dataframe tbody tr th {\n",
       "        vertical-align: top;\n",
       "    }\n",
       "\n",
       "    .dataframe thead th {\n",
       "        text-align: right;\n",
       "    }\n",
       "</style>\n",
       "<table border=\"1\" class=\"dataframe\">\n",
       "  <thead>\n",
       "    <tr style=\"text-align: right;\">\n",
       "      <th></th>\n",
       "      <th>FREIGHT</th>\n",
       "      <th>MAIL</th>\n",
       "    </tr>\n",
       "  </thead>\n",
       "  <tbody>\n",
       "    <tr>\n",
       "      <td>0</td>\n",
       "      <td>0.0</td>\n",
       "      <td>0.0</td>\n",
       "    </tr>\n",
       "    <tr>\n",
       "      <td>1</td>\n",
       "      <td>0.0</td>\n",
       "      <td>0.0</td>\n",
       "    </tr>\n",
       "    <tr>\n",
       "      <td>2</td>\n",
       "      <td>0.0</td>\n",
       "      <td>0.0</td>\n",
       "    </tr>\n",
       "    <tr>\n",
       "      <td>3</td>\n",
       "      <td>0.0</td>\n",
       "      <td>0.0</td>\n",
       "    </tr>\n",
       "    <tr>\n",
       "      <td>4</td>\n",
       "      <td>0.0</td>\n",
       "      <td>0.0</td>\n",
       "    </tr>\n",
       "    <tr>\n",
       "      <td>5</td>\n",
       "      <td>0.0</td>\n",
       "      <td>0.0</td>\n",
       "    </tr>\n",
       "    <tr>\n",
       "      <td>6</td>\n",
       "      <td>0.0</td>\n",
       "      <td>0.0</td>\n",
       "    </tr>\n",
       "    <tr>\n",
       "      <td>7</td>\n",
       "      <td>0.0</td>\n",
       "      <td>0.0</td>\n",
       "    </tr>\n",
       "    <tr>\n",
       "      <td>8</td>\n",
       "      <td>0.0</td>\n",
       "      <td>0.0</td>\n",
       "    </tr>\n",
       "    <tr>\n",
       "      <td>9</td>\n",
       "      <td>0.0</td>\n",
       "      <td>0.0</td>\n",
       "    </tr>\n",
       "    <tr>\n",
       "      <td>10</td>\n",
       "      <td>0.0</td>\n",
       "      <td>0.0</td>\n",
       "    </tr>\n",
       "    <tr>\n",
       "      <td>11</td>\n",
       "      <td>0.0</td>\n",
       "      <td>0.0</td>\n",
       "    </tr>\n",
       "    <tr>\n",
       "      <td>12</td>\n",
       "      <td>0.0</td>\n",
       "      <td>0.0</td>\n",
       "    </tr>\n",
       "    <tr>\n",
       "      <td>13</td>\n",
       "      <td>0.0</td>\n",
       "      <td>0.0</td>\n",
       "    </tr>\n",
       "    <tr>\n",
       "      <td>14</td>\n",
       "      <td>0.0</td>\n",
       "      <td>0.0</td>\n",
       "    </tr>\n",
       "    <tr>\n",
       "      <td>15</td>\n",
       "      <td>0.0</td>\n",
       "      <td>0.0</td>\n",
       "    </tr>\n",
       "    <tr>\n",
       "      <td>16</td>\n",
       "      <td>0.0</td>\n",
       "      <td>0.0</td>\n",
       "    </tr>\n",
       "    <tr>\n",
       "      <td>17</td>\n",
       "      <td>0.0</td>\n",
       "      <td>0.0</td>\n",
       "    </tr>\n",
       "    <tr>\n",
       "      <td>18</td>\n",
       "      <td>0.0</td>\n",
       "      <td>0.0</td>\n",
       "    </tr>\n",
       "    <tr>\n",
       "      <td>19</td>\n",
       "      <td>0.0</td>\n",
       "      <td>0.0</td>\n",
       "    </tr>\n",
       "    <tr>\n",
       "      <td>20</td>\n",
       "      <td>0.0</td>\n",
       "      <td>0.0</td>\n",
       "    </tr>\n",
       "  </tbody>\n",
       "</table>\n",
       "</div>"
      ],
      "text/plain": [
       "    FREIGHT  MAIL\n",
       "0       0.0   0.0\n",
       "1       0.0   0.0\n",
       "2       0.0   0.0\n",
       "3       0.0   0.0\n",
       "4       0.0   0.0\n",
       "5       0.0   0.0\n",
       "6       0.0   0.0\n",
       "7       0.0   0.0\n",
       "8       0.0   0.0\n",
       "9       0.0   0.0\n",
       "10      0.0   0.0\n",
       "11      0.0   0.0\n",
       "12      0.0   0.0\n",
       "13      0.0   0.0\n",
       "14      0.0   0.0\n",
       "15      0.0   0.0\n",
       "16      0.0   0.0\n",
       "17      0.0   0.0\n",
       "18      0.0   0.0\n",
       "19      0.0   0.0\n",
       "20      0.0   0.0"
      ]
     },
     "execution_count": 207,
     "metadata": {},
     "output_type": "execute_result"
    }
   ],
   "source": [
    "df.loc[:20, [\"FREIGHT\", \"MAIL\"]]"
   ]
  },
  {
   "cell_type": "code",
   "execution_count": 211,
   "metadata": {},
   "outputs": [],
   "source": [
    "df = df.set_index(\"UNIQUE_CARRIER\")"
   ]
  },
  {
   "cell_type": "code",
   "execution_count": 212,
   "metadata": {},
   "outputs": [
    {
     "data": {
      "text/html": [
       "<div>\n",
       "<style scoped>\n",
       "    .dataframe tbody tr th:only-of-type {\n",
       "        vertical-align: middle;\n",
       "    }\n",
       "\n",
       "    .dataframe tbody tr th {\n",
       "        vertical-align: top;\n",
       "    }\n",
       "\n",
       "    .dataframe thead th {\n",
       "        text-align: right;\n",
       "    }\n",
       "</style>\n",
       "<table border=\"1\" class=\"dataframe\">\n",
       "  <thead>\n",
       "    <tr style=\"text-align: right;\">\n",
       "      <th></th>\n",
       "      <th>PASSENGERS</th>\n",
       "      <th>FREIGHT</th>\n",
       "      <th>MAIL</th>\n",
       "      <th>DISTANCE</th>\n",
       "      <th>UNIQUE_CARRIER_NAME</th>\n",
       "      <th>ORIGIN_AIRPORT_ID</th>\n",
       "      <th>ORIGIN</th>\n",
       "      <th>DEST_AIRPORT_ID</th>\n",
       "      <th>DEST</th>\n",
       "      <th>MONTH</th>\n",
       "    </tr>\n",
       "    <tr>\n",
       "      <th>UNIQUE_CARRIER</th>\n",
       "      <th></th>\n",
       "      <th></th>\n",
       "      <th></th>\n",
       "      <th></th>\n",
       "      <th></th>\n",
       "      <th></th>\n",
       "      <th></th>\n",
       "      <th></th>\n",
       "      <th></th>\n",
       "      <th></th>\n",
       "    </tr>\n",
       "  </thead>\n",
       "  <tbody>\n",
       "    <tr>\n",
       "      <td>27Q</td>\n",
       "      <td>0.0</td>\n",
       "      <td>0.0</td>\n",
       "      <td>0.0</td>\n",
       "      <td>35.0</td>\n",
       "      <td>Jet Aviation Flight Services, Inc.</td>\n",
       "      <td>15030</td>\n",
       "      <td>SUA</td>\n",
       "      <td>14027</td>\n",
       "      <td>PBI</td>\n",
       "      <td>1</td>\n",
       "    </tr>\n",
       "    <tr>\n",
       "      <td>27Q</td>\n",
       "      <td>0.0</td>\n",
       "      <td>0.0</td>\n",
       "      <td>0.0</td>\n",
       "      <td>160.0</td>\n",
       "      <td>Jet Aviation Flight Services, Inc.</td>\n",
       "      <td>15070</td>\n",
       "      <td>SWF</td>\n",
       "      <td>10540</td>\n",
       "      <td>BED</td>\n",
       "      <td>1</td>\n",
       "    </tr>\n",
       "    <tr>\n",
       "      <td>27Q</td>\n",
       "      <td>0.0</td>\n",
       "      <td>0.0</td>\n",
       "      <td>0.0</td>\n",
       "      <td>740.0</td>\n",
       "      <td>Jet Aviation Flight Services, Inc.</td>\n",
       "      <td>15167</td>\n",
       "      <td>TEB</td>\n",
       "      <td>11376</td>\n",
       "      <td>DPA</td>\n",
       "      <td>1</td>\n",
       "    </tr>\n",
       "    <tr>\n",
       "      <td>27Q</td>\n",
       "      <td>0.0</td>\n",
       "      <td>0.0</td>\n",
       "      <td>0.0</td>\n",
       "      <td>9.0</td>\n",
       "      <td>Jet Aviation Flight Services, Inc.</td>\n",
       "      <td>15167</td>\n",
       "      <td>TEB</td>\n",
       "      <td>15346</td>\n",
       "      <td>TSS</td>\n",
       "      <td>1</td>\n",
       "    </tr>\n",
       "    <tr>\n",
       "      <td>27Q</td>\n",
       "      <td>0.0</td>\n",
       "      <td>0.0</td>\n",
       "      <td>0.0</td>\n",
       "      <td>44.0</td>\n",
       "      <td>Jet Aviation Flight Services, Inc.</td>\n",
       "      <td>15447</td>\n",
       "      <td>UGN</td>\n",
       "      <td>13232</td>\n",
       "      <td>MDW</td>\n",
       "      <td>1</td>\n",
       "    </tr>\n",
       "    <tr>\n",
       "      <td>...</td>\n",
       "      <td>...</td>\n",
       "      <td>...</td>\n",
       "      <td>...</td>\n",
       "      <td>...</td>\n",
       "      <td>...</td>\n",
       "      <td>...</td>\n",
       "      <td>...</td>\n",
       "      <td>...</td>\n",
       "      <td>...</td>\n",
       "      <td>...</td>\n",
       "    </tr>\n",
       "    <tr>\n",
       "      <td>DL</td>\n",
       "      <td>94927.0</td>\n",
       "      <td>48063.0</td>\n",
       "      <td>35613.0</td>\n",
       "      <td>404.0</td>\n",
       "      <td>Delta Air Lines Inc.</td>\n",
       "      <td>10397</td>\n",
       "      <td>ATL</td>\n",
       "      <td>13204</td>\n",
       "      <td>MCO</td>\n",
       "      <td>5</td>\n",
       "    </tr>\n",
       "    <tr>\n",
       "      <td>DL</td>\n",
       "      <td>95102.0</td>\n",
       "      <td>125165.0</td>\n",
       "      <td>6280.0</td>\n",
       "      <td>404.0</td>\n",
       "      <td>Delta Air Lines Inc.</td>\n",
       "      <td>13204</td>\n",
       "      <td>MCO</td>\n",
       "      <td>10397</td>\n",
       "      <td>ATL</td>\n",
       "      <td>5</td>\n",
       "    </tr>\n",
       "    <tr>\n",
       "      <td>DL</td>\n",
       "      <td>96619.0</td>\n",
       "      <td>64551.0</td>\n",
       "      <td>28077.0</td>\n",
       "      <td>404.0</td>\n",
       "      <td>Delta Air Lines Inc.</td>\n",
       "      <td>10397</td>\n",
       "      <td>ATL</td>\n",
       "      <td>13204</td>\n",
       "      <td>MCO</td>\n",
       "      <td>3</td>\n",
       "    </tr>\n",
       "    <tr>\n",
       "      <td>AS</td>\n",
       "      <td>97011.0</td>\n",
       "      <td>473666.0</td>\n",
       "      <td>55963.0</td>\n",
       "      <td>1448.0</td>\n",
       "      <td>Alaska Airlines Inc.</td>\n",
       "      <td>14747</td>\n",
       "      <td>SEA</td>\n",
       "      <td>10299</td>\n",
       "      <td>ANC</td>\n",
       "      <td>6</td>\n",
       "    </tr>\n",
       "    <tr>\n",
       "      <td>DL</td>\n",
       "      <td>97329.0</td>\n",
       "      <td>210292.0</td>\n",
       "      <td>5431.0</td>\n",
       "      <td>404.0</td>\n",
       "      <td>Delta Air Lines Inc.</td>\n",
       "      <td>13204</td>\n",
       "      <td>MCO</td>\n",
       "      <td>10397</td>\n",
       "      <td>ATL</td>\n",
       "      <td>3</td>\n",
       "    </tr>\n",
       "  </tbody>\n",
       "</table>\n",
       "<p>122435 rows × 10 columns</p>\n",
       "</div>"
      ],
      "text/plain": [
       "                PASSENGERS   FREIGHT     MAIL  DISTANCE  \\\n",
       "UNIQUE_CARRIER                                            \n",
       "27Q                    0.0       0.0      0.0      35.0   \n",
       "27Q                    0.0       0.0      0.0     160.0   \n",
       "27Q                    0.0       0.0      0.0     740.0   \n",
       "27Q                    0.0       0.0      0.0       9.0   \n",
       "27Q                    0.0       0.0      0.0      44.0   \n",
       "...                    ...       ...      ...       ...   \n",
       "DL                 94927.0   48063.0  35613.0     404.0   \n",
       "DL                 95102.0  125165.0   6280.0     404.0   \n",
       "DL                 96619.0   64551.0  28077.0     404.0   \n",
       "AS                 97011.0  473666.0  55963.0    1448.0   \n",
       "DL                 97329.0  210292.0   5431.0     404.0   \n",
       "\n",
       "                               UNIQUE_CARRIER_NAME  ORIGIN_AIRPORT_ID ORIGIN  \\\n",
       "UNIQUE_CARRIER                                                                 \n",
       "27Q             Jet Aviation Flight Services, Inc.              15030    SUA   \n",
       "27Q             Jet Aviation Flight Services, Inc.              15070    SWF   \n",
       "27Q             Jet Aviation Flight Services, Inc.              15167    TEB   \n",
       "27Q             Jet Aviation Flight Services, Inc.              15167    TEB   \n",
       "27Q             Jet Aviation Flight Services, Inc.              15447    UGN   \n",
       "...                                            ...                ...    ...   \n",
       "DL                            Delta Air Lines Inc.              10397    ATL   \n",
       "DL                            Delta Air Lines Inc.              13204    MCO   \n",
       "DL                            Delta Air Lines Inc.              10397    ATL   \n",
       "AS                            Alaska Airlines Inc.              14747    SEA   \n",
       "DL                            Delta Air Lines Inc.              13204    MCO   \n",
       "\n",
       "                DEST_AIRPORT_ID DEST  MONTH  \n",
       "UNIQUE_CARRIER                               \n",
       "27Q                       14027  PBI      1  \n",
       "27Q                       10540  BED      1  \n",
       "27Q                       11376  DPA      1  \n",
       "27Q                       15346  TSS      1  \n",
       "27Q                       13232  MDW      1  \n",
       "...                         ...  ...    ...  \n",
       "DL                        13204  MCO      5  \n",
       "DL                        10397  ATL      5  \n",
       "DL                        13204  MCO      3  \n",
       "AS                        10299  ANC      6  \n",
       "DL                        10397  ATL      3  \n",
       "\n",
       "[122435 rows x 10 columns]"
      ]
     },
     "execution_count": 212,
     "metadata": {},
     "output_type": "execute_result"
    }
   ],
   "source": [
    "df"
   ]
  },
  {
   "cell_type": "code",
   "execution_count": 213,
   "metadata": {},
   "outputs": [
    {
     "data": {
      "text/html": [
       "<div>\n",
       "<style scoped>\n",
       "    .dataframe tbody tr th:only-of-type {\n",
       "        vertical-align: middle;\n",
       "    }\n",
       "\n",
       "    .dataframe tbody tr th {\n",
       "        vertical-align: top;\n",
       "    }\n",
       "\n",
       "    .dataframe thead th {\n",
       "        text-align: right;\n",
       "    }\n",
       "</style>\n",
       "<table border=\"1\" class=\"dataframe\">\n",
       "  <thead>\n",
       "    <tr style=\"text-align: right;\">\n",
       "      <th></th>\n",
       "      <th>PASSENGERS</th>\n",
       "      <th>FREIGHT</th>\n",
       "      <th>MAIL</th>\n",
       "      <th>DISTANCE</th>\n",
       "      <th>UNIQUE_CARRIER_NAME</th>\n",
       "      <th>ORIGIN_AIRPORT_ID</th>\n",
       "      <th>ORIGIN</th>\n",
       "      <th>DEST_AIRPORT_ID</th>\n",
       "      <th>DEST</th>\n",
       "      <th>MONTH</th>\n",
       "    </tr>\n",
       "    <tr>\n",
       "      <th>UNIQUE_CARRIER</th>\n",
       "      <th></th>\n",
       "      <th></th>\n",
       "      <th></th>\n",
       "      <th></th>\n",
       "      <th></th>\n",
       "      <th></th>\n",
       "      <th></th>\n",
       "      <th></th>\n",
       "      <th></th>\n",
       "      <th></th>\n",
       "    </tr>\n",
       "  </thead>\n",
       "  <tbody>\n",
       "    <tr>\n",
       "      <td>27Q</td>\n",
       "      <td>0.0</td>\n",
       "      <td>0.0</td>\n",
       "      <td>0.0</td>\n",
       "      <td>35.0</td>\n",
       "      <td>Jet Aviation Flight Services, Inc.</td>\n",
       "      <td>15030</td>\n",
       "      <td>SUA</td>\n",
       "      <td>14027</td>\n",
       "      <td>PBI</td>\n",
       "      <td>1</td>\n",
       "    </tr>\n",
       "    <tr>\n",
       "      <td>27Q</td>\n",
       "      <td>0.0</td>\n",
       "      <td>0.0</td>\n",
       "      <td>0.0</td>\n",
       "      <td>160.0</td>\n",
       "      <td>Jet Aviation Flight Services, Inc.</td>\n",
       "      <td>15070</td>\n",
       "      <td>SWF</td>\n",
       "      <td>10540</td>\n",
       "      <td>BED</td>\n",
       "      <td>1</td>\n",
       "    </tr>\n",
       "    <tr>\n",
       "      <td>27Q</td>\n",
       "      <td>0.0</td>\n",
       "      <td>0.0</td>\n",
       "      <td>0.0</td>\n",
       "      <td>740.0</td>\n",
       "      <td>Jet Aviation Flight Services, Inc.</td>\n",
       "      <td>15167</td>\n",
       "      <td>TEB</td>\n",
       "      <td>11376</td>\n",
       "      <td>DPA</td>\n",
       "      <td>1</td>\n",
       "    </tr>\n",
       "    <tr>\n",
       "      <td>27Q</td>\n",
       "      <td>0.0</td>\n",
       "      <td>0.0</td>\n",
       "      <td>0.0</td>\n",
       "      <td>9.0</td>\n",
       "      <td>Jet Aviation Flight Services, Inc.</td>\n",
       "      <td>15167</td>\n",
       "      <td>TEB</td>\n",
       "      <td>15346</td>\n",
       "      <td>TSS</td>\n",
       "      <td>1</td>\n",
       "    </tr>\n",
       "    <tr>\n",
       "      <td>27Q</td>\n",
       "      <td>0.0</td>\n",
       "      <td>0.0</td>\n",
       "      <td>0.0</td>\n",
       "      <td>44.0</td>\n",
       "      <td>Jet Aviation Flight Services, Inc.</td>\n",
       "      <td>15447</td>\n",
       "      <td>UGN</td>\n",
       "      <td>13232</td>\n",
       "      <td>MDW</td>\n",
       "      <td>1</td>\n",
       "    </tr>\n",
       "    <tr>\n",
       "      <td>...</td>\n",
       "      <td>...</td>\n",
       "      <td>...</td>\n",
       "      <td>...</td>\n",
       "      <td>...</td>\n",
       "      <td>...</td>\n",
       "      <td>...</td>\n",
       "      <td>...</td>\n",
       "      <td>...</td>\n",
       "      <td>...</td>\n",
       "      <td>...</td>\n",
       "    </tr>\n",
       "    <tr>\n",
       "      <td>27Q</td>\n",
       "      <td>19.0</td>\n",
       "      <td>0.0</td>\n",
       "      <td>0.0</td>\n",
       "      <td>1098.0</td>\n",
       "      <td>Jet Aviation Flight Services, Inc.</td>\n",
       "      <td>15167</td>\n",
       "      <td>TEB</td>\n",
       "      <td>13303</td>\n",
       "      <td>MIA</td>\n",
       "      <td>3</td>\n",
       "    </tr>\n",
       "    <tr>\n",
       "      <td>27Q</td>\n",
       "      <td>19.0</td>\n",
       "      <td>0.0</td>\n",
       "      <td>0.0</td>\n",
       "      <td>1972.0</td>\n",
       "      <td>Jet Aviation Flight Services, Inc.</td>\n",
       "      <td>15167</td>\n",
       "      <td>TEB</td>\n",
       "      <td>14869</td>\n",
       "      <td>SLC</td>\n",
       "      <td>2</td>\n",
       "    </tr>\n",
       "    <tr>\n",
       "      <td>27Q</td>\n",
       "      <td>19.0</td>\n",
       "      <td>0.0</td>\n",
       "      <td>0.0</td>\n",
       "      <td>796.0</td>\n",
       "      <td>Jet Aviation Flight Services, Inc.</td>\n",
       "      <td>10849</td>\n",
       "      <td>BZN</td>\n",
       "      <td>13796</td>\n",
       "      <td>OAK</td>\n",
       "      <td>1</td>\n",
       "    </tr>\n",
       "    <tr>\n",
       "      <td>27Q</td>\n",
       "      <td>19.0</td>\n",
       "      <td>0.0</td>\n",
       "      <td>0.0</td>\n",
       "      <td>190.0</td>\n",
       "      <td>Jet Aviation Flight Services, Inc.</td>\n",
       "      <td>15167</td>\n",
       "      <td>TEB</td>\n",
       "      <td>10721</td>\n",
       "      <td>BOS</td>\n",
       "      <td>5</td>\n",
       "    </tr>\n",
       "    <tr>\n",
       "      <td>27Q</td>\n",
       "      <td>30.0</td>\n",
       "      <td>0.0</td>\n",
       "      <td>0.0</td>\n",
       "      <td>1175.0</td>\n",
       "      <td>Jet Aviation Flight Services, Inc.</td>\n",
       "      <td>13898</td>\n",
       "      <td>OPF</td>\n",
       "      <td>13232</td>\n",
       "      <td>MDW</td>\n",
       "      <td>1</td>\n",
       "    </tr>\n",
       "  </tbody>\n",
       "</table>\n",
       "<p>1814 rows × 10 columns</p>\n",
       "</div>"
      ],
      "text/plain": [
       "                PASSENGERS  FREIGHT  MAIL  DISTANCE  \\\n",
       "UNIQUE_CARRIER                                        \n",
       "27Q                    0.0      0.0   0.0      35.0   \n",
       "27Q                    0.0      0.0   0.0     160.0   \n",
       "27Q                    0.0      0.0   0.0     740.0   \n",
       "27Q                    0.0      0.0   0.0       9.0   \n",
       "27Q                    0.0      0.0   0.0      44.0   \n",
       "...                    ...      ...   ...       ...   \n",
       "27Q                   19.0      0.0   0.0    1098.0   \n",
       "27Q                   19.0      0.0   0.0    1972.0   \n",
       "27Q                   19.0      0.0   0.0     796.0   \n",
       "27Q                   19.0      0.0   0.0     190.0   \n",
       "27Q                   30.0      0.0   0.0    1175.0   \n",
       "\n",
       "                               UNIQUE_CARRIER_NAME  ORIGIN_AIRPORT_ID ORIGIN  \\\n",
       "UNIQUE_CARRIER                                                                 \n",
       "27Q             Jet Aviation Flight Services, Inc.              15030    SUA   \n",
       "27Q             Jet Aviation Flight Services, Inc.              15070    SWF   \n",
       "27Q             Jet Aviation Flight Services, Inc.              15167    TEB   \n",
       "27Q             Jet Aviation Flight Services, Inc.              15167    TEB   \n",
       "27Q             Jet Aviation Flight Services, Inc.              15447    UGN   \n",
       "...                                            ...                ...    ...   \n",
       "27Q             Jet Aviation Flight Services, Inc.              15167    TEB   \n",
       "27Q             Jet Aviation Flight Services, Inc.              15167    TEB   \n",
       "27Q             Jet Aviation Flight Services, Inc.              10849    BZN   \n",
       "27Q             Jet Aviation Flight Services, Inc.              15167    TEB   \n",
       "27Q             Jet Aviation Flight Services, Inc.              13898    OPF   \n",
       "\n",
       "                DEST_AIRPORT_ID DEST  MONTH  \n",
       "UNIQUE_CARRIER                               \n",
       "27Q                       14027  PBI      1  \n",
       "27Q                       10540  BED      1  \n",
       "27Q                       11376  DPA      1  \n",
       "27Q                       15346  TSS      1  \n",
       "27Q                       13232  MDW      1  \n",
       "...                         ...  ...    ...  \n",
       "27Q                       13303  MIA      3  \n",
       "27Q                       14869  SLC      2  \n",
       "27Q                       13796  OAK      1  \n",
       "27Q                       10721  BOS      5  \n",
       "27Q                       13232  MDW      1  \n",
       "\n",
       "[1814 rows x 10 columns]"
      ]
     },
     "execution_count": 213,
     "metadata": {},
     "output_type": "execute_result"
    }
   ],
   "source": [
    "df.loc['27Q']"
   ]
  },
  {
   "cell_type": "markdown",
   "metadata": {},
   "source": [
    "<hr>"
   ]
  },
  {
   "cell_type": "markdown",
   "metadata": {},
   "source": [
    "<div class=\"alert alert-info\" role=\"alert\">\n",
    "    \n",
    "<img src=\"./icons/list.png\"  width=\"20\" height=\"20\" align=\"left\"> &nbsp;  **Exercise 5** \n",
    "\n",
    "A column in a panda *DataFrame* can contain whatever type, also python list or dictionaries.\n",
    "\n",
    "It is also possible to select a single column or a subset of the columns. In any case, when a single column is selected what is returned is a `pandas.Series` object. Instead when multiple columns are selected a `pandas.DataFrame` is returned.\n",
    "\n",
    "- select the *UNIQUE_CARRIER_NAME* column. Use `df[\"column_name\"]` for selecting a single column.\n",
    "- select multiple columns by passing a list of column names instead of a single column name.\n",
    "\n",
    "There is another option available for selecting specific rows. This is done by means of a conditional statement. \n",
    "\n",
    "- Check what `df[\"PASSENGERS\"] > 0` returns and save it on a variable. Do you have a clue of what is going on under the hood?\n",
    "- Then try to select only the rows which satisfies the above condition. Use the variable as argument for the square bracket notation `df[]`.\n",
    "\n",
    "</div>"
   ]
  },
  {
   "cell_type": "code",
   "execution_count": 215,
   "metadata": {},
   "outputs": [],
   "source": [
    "df = df.reset_index()"
   ]
  },
  {
   "cell_type": "code",
   "execution_count": 216,
   "metadata": {},
   "outputs": [
    {
     "data": {
      "text/html": [
       "<div>\n",
       "<style scoped>\n",
       "    .dataframe tbody tr th:only-of-type {\n",
       "        vertical-align: middle;\n",
       "    }\n",
       "\n",
       "    .dataframe tbody tr th {\n",
       "        vertical-align: top;\n",
       "    }\n",
       "\n",
       "    .dataframe thead th {\n",
       "        text-align: right;\n",
       "    }\n",
       "</style>\n",
       "<table border=\"1\" class=\"dataframe\">\n",
       "  <thead>\n",
       "    <tr style=\"text-align: right;\">\n",
       "      <th></th>\n",
       "      <th>UNIQUE_CARRIER</th>\n",
       "      <th>PASSENGERS</th>\n",
       "      <th>FREIGHT</th>\n",
       "      <th>MAIL</th>\n",
       "      <th>DISTANCE</th>\n",
       "      <th>UNIQUE_CARRIER_NAME</th>\n",
       "      <th>ORIGIN_AIRPORT_ID</th>\n",
       "      <th>ORIGIN</th>\n",
       "      <th>DEST_AIRPORT_ID</th>\n",
       "      <th>DEST</th>\n",
       "      <th>MONTH</th>\n",
       "    </tr>\n",
       "  </thead>\n",
       "  <tbody>\n",
       "    <tr>\n",
       "      <td>0</td>\n",
       "      <td>27Q</td>\n",
       "      <td>0.0</td>\n",
       "      <td>0.0</td>\n",
       "      <td>0.0</td>\n",
       "      <td>35.0</td>\n",
       "      <td>Jet Aviation Flight Services, Inc.</td>\n",
       "      <td>15030</td>\n",
       "      <td>SUA</td>\n",
       "      <td>14027</td>\n",
       "      <td>PBI</td>\n",
       "      <td>1</td>\n",
       "    </tr>\n",
       "    <tr>\n",
       "      <td>1</td>\n",
       "      <td>27Q</td>\n",
       "      <td>0.0</td>\n",
       "      <td>0.0</td>\n",
       "      <td>0.0</td>\n",
       "      <td>160.0</td>\n",
       "      <td>Jet Aviation Flight Services, Inc.</td>\n",
       "      <td>15070</td>\n",
       "      <td>SWF</td>\n",
       "      <td>10540</td>\n",
       "      <td>BED</td>\n",
       "      <td>1</td>\n",
       "    </tr>\n",
       "    <tr>\n",
       "      <td>2</td>\n",
       "      <td>27Q</td>\n",
       "      <td>0.0</td>\n",
       "      <td>0.0</td>\n",
       "      <td>0.0</td>\n",
       "      <td>740.0</td>\n",
       "      <td>Jet Aviation Flight Services, Inc.</td>\n",
       "      <td>15167</td>\n",
       "      <td>TEB</td>\n",
       "      <td>11376</td>\n",
       "      <td>DPA</td>\n",
       "      <td>1</td>\n",
       "    </tr>\n",
       "    <tr>\n",
       "      <td>3</td>\n",
       "      <td>27Q</td>\n",
       "      <td>0.0</td>\n",
       "      <td>0.0</td>\n",
       "      <td>0.0</td>\n",
       "      <td>9.0</td>\n",
       "      <td>Jet Aviation Flight Services, Inc.</td>\n",
       "      <td>15167</td>\n",
       "      <td>TEB</td>\n",
       "      <td>15346</td>\n",
       "      <td>TSS</td>\n",
       "      <td>1</td>\n",
       "    </tr>\n",
       "    <tr>\n",
       "      <td>4</td>\n",
       "      <td>27Q</td>\n",
       "      <td>0.0</td>\n",
       "      <td>0.0</td>\n",
       "      <td>0.0</td>\n",
       "      <td>44.0</td>\n",
       "      <td>Jet Aviation Flight Services, Inc.</td>\n",
       "      <td>15447</td>\n",
       "      <td>UGN</td>\n",
       "      <td>13232</td>\n",
       "      <td>MDW</td>\n",
       "      <td>1</td>\n",
       "    </tr>\n",
       "    <tr>\n",
       "      <td>...</td>\n",
       "      <td>...</td>\n",
       "      <td>...</td>\n",
       "      <td>...</td>\n",
       "      <td>...</td>\n",
       "      <td>...</td>\n",
       "      <td>...</td>\n",
       "      <td>...</td>\n",
       "      <td>...</td>\n",
       "      <td>...</td>\n",
       "      <td>...</td>\n",
       "      <td>...</td>\n",
       "    </tr>\n",
       "    <tr>\n",
       "      <td>122430</td>\n",
       "      <td>DL</td>\n",
       "      <td>94927.0</td>\n",
       "      <td>48063.0</td>\n",
       "      <td>35613.0</td>\n",
       "      <td>404.0</td>\n",
       "      <td>Delta Air Lines Inc.</td>\n",
       "      <td>10397</td>\n",
       "      <td>ATL</td>\n",
       "      <td>13204</td>\n",
       "      <td>MCO</td>\n",
       "      <td>5</td>\n",
       "    </tr>\n",
       "    <tr>\n",
       "      <td>122431</td>\n",
       "      <td>DL</td>\n",
       "      <td>95102.0</td>\n",
       "      <td>125165.0</td>\n",
       "      <td>6280.0</td>\n",
       "      <td>404.0</td>\n",
       "      <td>Delta Air Lines Inc.</td>\n",
       "      <td>13204</td>\n",
       "      <td>MCO</td>\n",
       "      <td>10397</td>\n",
       "      <td>ATL</td>\n",
       "      <td>5</td>\n",
       "    </tr>\n",
       "    <tr>\n",
       "      <td>122432</td>\n",
       "      <td>DL</td>\n",
       "      <td>96619.0</td>\n",
       "      <td>64551.0</td>\n",
       "      <td>28077.0</td>\n",
       "      <td>404.0</td>\n",
       "      <td>Delta Air Lines Inc.</td>\n",
       "      <td>10397</td>\n",
       "      <td>ATL</td>\n",
       "      <td>13204</td>\n",
       "      <td>MCO</td>\n",
       "      <td>3</td>\n",
       "    </tr>\n",
       "    <tr>\n",
       "      <td>122433</td>\n",
       "      <td>AS</td>\n",
       "      <td>97011.0</td>\n",
       "      <td>473666.0</td>\n",
       "      <td>55963.0</td>\n",
       "      <td>1448.0</td>\n",
       "      <td>Alaska Airlines Inc.</td>\n",
       "      <td>14747</td>\n",
       "      <td>SEA</td>\n",
       "      <td>10299</td>\n",
       "      <td>ANC</td>\n",
       "      <td>6</td>\n",
       "    </tr>\n",
       "    <tr>\n",
       "      <td>122434</td>\n",
       "      <td>DL</td>\n",
       "      <td>97329.0</td>\n",
       "      <td>210292.0</td>\n",
       "      <td>5431.0</td>\n",
       "      <td>404.0</td>\n",
       "      <td>Delta Air Lines Inc.</td>\n",
       "      <td>13204</td>\n",
       "      <td>MCO</td>\n",
       "      <td>10397</td>\n",
       "      <td>ATL</td>\n",
       "      <td>3</td>\n",
       "    </tr>\n",
       "  </tbody>\n",
       "</table>\n",
       "<p>122435 rows × 11 columns</p>\n",
       "</div>"
      ],
      "text/plain": [
       "       UNIQUE_CARRIER  PASSENGERS   FREIGHT     MAIL  DISTANCE  \\\n",
       "0                 27Q         0.0       0.0      0.0      35.0   \n",
       "1                 27Q         0.0       0.0      0.0     160.0   \n",
       "2                 27Q         0.0       0.0      0.0     740.0   \n",
       "3                 27Q         0.0       0.0      0.0       9.0   \n",
       "4                 27Q         0.0       0.0      0.0      44.0   \n",
       "...               ...         ...       ...      ...       ...   \n",
       "122430             DL     94927.0   48063.0  35613.0     404.0   \n",
       "122431             DL     95102.0  125165.0   6280.0     404.0   \n",
       "122432             DL     96619.0   64551.0  28077.0     404.0   \n",
       "122433             AS     97011.0  473666.0  55963.0    1448.0   \n",
       "122434             DL     97329.0  210292.0   5431.0     404.0   \n",
       "\n",
       "                       UNIQUE_CARRIER_NAME  ORIGIN_AIRPORT_ID ORIGIN  \\\n",
       "0       Jet Aviation Flight Services, Inc.              15030    SUA   \n",
       "1       Jet Aviation Flight Services, Inc.              15070    SWF   \n",
       "2       Jet Aviation Flight Services, Inc.              15167    TEB   \n",
       "3       Jet Aviation Flight Services, Inc.              15167    TEB   \n",
       "4       Jet Aviation Flight Services, Inc.              15447    UGN   \n",
       "...                                    ...                ...    ...   \n",
       "122430                Delta Air Lines Inc.              10397    ATL   \n",
       "122431                Delta Air Lines Inc.              13204    MCO   \n",
       "122432                Delta Air Lines Inc.              10397    ATL   \n",
       "122433                Alaska Airlines Inc.              14747    SEA   \n",
       "122434                Delta Air Lines Inc.              13204    MCO   \n",
       "\n",
       "        DEST_AIRPORT_ID DEST  MONTH  \n",
       "0                 14027  PBI      1  \n",
       "1                 10540  BED      1  \n",
       "2                 11376  DPA      1  \n",
       "3                 15346  TSS      1  \n",
       "4                 13232  MDW      1  \n",
       "...                 ...  ...    ...  \n",
       "122430            13204  MCO      5  \n",
       "122431            10397  ATL      5  \n",
       "122432            13204  MCO      3  \n",
       "122433            10299  ANC      6  \n",
       "122434            10397  ATL      3  \n",
       "\n",
       "[122435 rows x 11 columns]"
      ]
     },
     "execution_count": 216,
     "metadata": {},
     "output_type": "execute_result"
    }
   ],
   "source": [
    "df"
   ]
  },
  {
   "cell_type": "code",
   "execution_count": 218,
   "metadata": {},
   "outputs": [
    {
     "data": {
      "text/html": [
       "<div>\n",
       "<style scoped>\n",
       "    .dataframe tbody tr th:only-of-type {\n",
       "        vertical-align: middle;\n",
       "    }\n",
       "\n",
       "    .dataframe tbody tr th {\n",
       "        vertical-align: top;\n",
       "    }\n",
       "\n",
       "    .dataframe thead th {\n",
       "        text-align: right;\n",
       "    }\n",
       "</style>\n",
       "<table border=\"1\" class=\"dataframe\">\n",
       "  <thead>\n",
       "    <tr style=\"text-align: right;\">\n",
       "      <th></th>\n",
       "      <th>UNIQUE_CARRIER</th>\n",
       "    </tr>\n",
       "  </thead>\n",
       "  <tbody>\n",
       "    <tr>\n",
       "      <td>0</td>\n",
       "      <td>27Q</td>\n",
       "    </tr>\n",
       "    <tr>\n",
       "      <td>1</td>\n",
       "      <td>27Q</td>\n",
       "    </tr>\n",
       "    <tr>\n",
       "      <td>2</td>\n",
       "      <td>27Q</td>\n",
       "    </tr>\n",
       "    <tr>\n",
       "      <td>3</td>\n",
       "      <td>27Q</td>\n",
       "    </tr>\n",
       "    <tr>\n",
       "      <td>4</td>\n",
       "      <td>27Q</td>\n",
       "    </tr>\n",
       "    <tr>\n",
       "      <td>...</td>\n",
       "      <td>...</td>\n",
       "    </tr>\n",
       "    <tr>\n",
       "      <td>122430</td>\n",
       "      <td>DL</td>\n",
       "    </tr>\n",
       "    <tr>\n",
       "      <td>122431</td>\n",
       "      <td>DL</td>\n",
       "    </tr>\n",
       "    <tr>\n",
       "      <td>122432</td>\n",
       "      <td>DL</td>\n",
       "    </tr>\n",
       "    <tr>\n",
       "      <td>122433</td>\n",
       "      <td>AS</td>\n",
       "    </tr>\n",
       "    <tr>\n",
       "      <td>122434</td>\n",
       "      <td>DL</td>\n",
       "    </tr>\n",
       "  </tbody>\n",
       "</table>\n",
       "<p>122435 rows × 1 columns</p>\n",
       "</div>"
      ],
      "text/plain": [
       "       UNIQUE_CARRIER\n",
       "0                 27Q\n",
       "1                 27Q\n",
       "2                 27Q\n",
       "3                 27Q\n",
       "4                 27Q\n",
       "...               ...\n",
       "122430             DL\n",
       "122431             DL\n",
       "122432             DL\n",
       "122433             AS\n",
       "122434             DL\n",
       "\n",
       "[122435 rows x 1 columns]"
      ]
     },
     "execution_count": 218,
     "metadata": {},
     "output_type": "execute_result"
    }
   ],
   "source": [
    "df[['UNIQUE_CARRIER']]"
   ]
  },
  {
   "cell_type": "code",
   "execution_count": 219,
   "metadata": {},
   "outputs": [
    {
     "data": {
      "text/html": [
       "<div>\n",
       "<style scoped>\n",
       "    .dataframe tbody tr th:only-of-type {\n",
       "        vertical-align: middle;\n",
       "    }\n",
       "\n",
       "    .dataframe tbody tr th {\n",
       "        vertical-align: top;\n",
       "    }\n",
       "\n",
       "    .dataframe thead th {\n",
       "        text-align: right;\n",
       "    }\n",
       "</style>\n",
       "<table border=\"1\" class=\"dataframe\">\n",
       "  <thead>\n",
       "    <tr style=\"text-align: right;\">\n",
       "      <th></th>\n",
       "      <th>UNIQUE_CARRIER</th>\n",
       "      <th>PASSENGERS</th>\n",
       "    </tr>\n",
       "  </thead>\n",
       "  <tbody>\n",
       "    <tr>\n",
       "      <td>0</td>\n",
       "      <td>27Q</td>\n",
       "      <td>0.0</td>\n",
       "    </tr>\n",
       "    <tr>\n",
       "      <td>1</td>\n",
       "      <td>27Q</td>\n",
       "      <td>0.0</td>\n",
       "    </tr>\n",
       "    <tr>\n",
       "      <td>2</td>\n",
       "      <td>27Q</td>\n",
       "      <td>0.0</td>\n",
       "    </tr>\n",
       "    <tr>\n",
       "      <td>3</td>\n",
       "      <td>27Q</td>\n",
       "      <td>0.0</td>\n",
       "    </tr>\n",
       "    <tr>\n",
       "      <td>4</td>\n",
       "      <td>27Q</td>\n",
       "      <td>0.0</td>\n",
       "    </tr>\n",
       "    <tr>\n",
       "      <td>...</td>\n",
       "      <td>...</td>\n",
       "      <td>...</td>\n",
       "    </tr>\n",
       "    <tr>\n",
       "      <td>122430</td>\n",
       "      <td>DL</td>\n",
       "      <td>94927.0</td>\n",
       "    </tr>\n",
       "    <tr>\n",
       "      <td>122431</td>\n",
       "      <td>DL</td>\n",
       "      <td>95102.0</td>\n",
       "    </tr>\n",
       "    <tr>\n",
       "      <td>122432</td>\n",
       "      <td>DL</td>\n",
       "      <td>96619.0</td>\n",
       "    </tr>\n",
       "    <tr>\n",
       "      <td>122433</td>\n",
       "      <td>AS</td>\n",
       "      <td>97011.0</td>\n",
       "    </tr>\n",
       "    <tr>\n",
       "      <td>122434</td>\n",
       "      <td>DL</td>\n",
       "      <td>97329.0</td>\n",
       "    </tr>\n",
       "  </tbody>\n",
       "</table>\n",
       "<p>122435 rows × 2 columns</p>\n",
       "</div>"
      ],
      "text/plain": [
       "       UNIQUE_CARRIER  PASSENGERS\n",
       "0                 27Q         0.0\n",
       "1                 27Q         0.0\n",
       "2                 27Q         0.0\n",
       "3                 27Q         0.0\n",
       "4                 27Q         0.0\n",
       "...               ...         ...\n",
       "122430             DL     94927.0\n",
       "122431             DL     95102.0\n",
       "122432             DL     96619.0\n",
       "122433             AS     97011.0\n",
       "122434             DL     97329.0\n",
       "\n",
       "[122435 rows x 2 columns]"
      ]
     },
     "execution_count": 219,
     "metadata": {},
     "output_type": "execute_result"
    }
   ],
   "source": [
    "df[['UNIQUE_CARRIER', 'PASSENGERS']]"
   ]
  },
  {
   "cell_type": "code",
   "execution_count": 222,
   "metadata": {},
   "outputs": [],
   "source": [
    "# df['PASSENGERS'] > 0"
   ]
  },
  {
   "cell_type": "code",
   "execution_count": 224,
   "metadata": {},
   "outputs": [
    {
     "data": {
      "text/html": [
       "<div>\n",
       "<style scoped>\n",
       "    .dataframe tbody tr th:only-of-type {\n",
       "        vertical-align: middle;\n",
       "    }\n",
       "\n",
       "    .dataframe tbody tr th {\n",
       "        vertical-align: top;\n",
       "    }\n",
       "\n",
       "    .dataframe thead th {\n",
       "        text-align: right;\n",
       "    }\n",
       "</style>\n",
       "<table border=\"1\" class=\"dataframe\">\n",
       "  <thead>\n",
       "    <tr style=\"text-align: right;\">\n",
       "      <th></th>\n",
       "      <th>UNIQUE_CARRIER</th>\n",
       "      <th>PASSENGERS</th>\n",
       "      <th>FREIGHT</th>\n",
       "      <th>MAIL</th>\n",
       "      <th>DISTANCE</th>\n",
       "      <th>UNIQUE_CARRIER_NAME</th>\n",
       "      <th>ORIGIN_AIRPORT_ID</th>\n",
       "      <th>ORIGIN</th>\n",
       "      <th>DEST_AIRPORT_ID</th>\n",
       "      <th>DEST</th>\n",
       "      <th>MONTH</th>\n",
       "    </tr>\n",
       "  </thead>\n",
       "  <tbody>\n",
       "    <tr>\n",
       "      <td>20853</td>\n",
       "      <td>27Q</td>\n",
       "      <td>1.0</td>\n",
       "      <td>0.0</td>\n",
       "      <td>0.0</td>\n",
       "      <td>2449.0</td>\n",
       "      <td>Jet Aviation Flight Services, Inc.</td>\n",
       "      <td>15167</td>\n",
       "      <td>TEB</td>\n",
       "      <td>10800</td>\n",
       "      <td>BUR</td>\n",
       "      <td>1</td>\n",
       "    </tr>\n",
       "    <tr>\n",
       "      <td>20854</td>\n",
       "      <td>27Q</td>\n",
       "      <td>1.0</td>\n",
       "      <td>0.0</td>\n",
       "      <td>0.0</td>\n",
       "      <td>197.0</td>\n",
       "      <td>Jet Aviation Flight Services, Inc.</td>\n",
       "      <td>15167</td>\n",
       "      <td>TEB</td>\n",
       "      <td>13296</td>\n",
       "      <td>MHT</td>\n",
       "      <td>1</td>\n",
       "    </tr>\n",
       "    <tr>\n",
       "      <td>20855</td>\n",
       "      <td>27Q</td>\n",
       "      <td>1.0</td>\n",
       "      <td>0.0</td>\n",
       "      <td>0.0</td>\n",
       "      <td>1098.0</td>\n",
       "      <td>Jet Aviation Flight Services, Inc.</td>\n",
       "      <td>15167</td>\n",
       "      <td>TEB</td>\n",
       "      <td>13303</td>\n",
       "      <td>MIA</td>\n",
       "      <td>1</td>\n",
       "    </tr>\n",
       "    <tr>\n",
       "      <td>20856</td>\n",
       "      <td>27Q</td>\n",
       "      <td>1.0</td>\n",
       "      <td>0.0</td>\n",
       "      <td>0.0</td>\n",
       "      <td>1090.0</td>\n",
       "      <td>Jet Aviation Flight Services, Inc.</td>\n",
       "      <td>15167</td>\n",
       "      <td>TEB</td>\n",
       "      <td>13898</td>\n",
       "      <td>OPF</td>\n",
       "      <td>1</td>\n",
       "    </tr>\n",
       "    <tr>\n",
       "      <td>20857</td>\n",
       "      <td>27Q</td>\n",
       "      <td>1.0</td>\n",
       "      <td>0.0</td>\n",
       "      <td>0.0</td>\n",
       "      <td>428.0</td>\n",
       "      <td>Jet Aviation Flight Services, Inc.</td>\n",
       "      <td>15167</td>\n",
       "      <td>TEB</td>\n",
       "      <td>14492</td>\n",
       "      <td>RDU</td>\n",
       "      <td>1</td>\n",
       "    </tr>\n",
       "    <tr>\n",
       "      <td>...</td>\n",
       "      <td>...</td>\n",
       "      <td>...</td>\n",
       "      <td>...</td>\n",
       "      <td>...</td>\n",
       "      <td>...</td>\n",
       "      <td>...</td>\n",
       "      <td>...</td>\n",
       "      <td>...</td>\n",
       "      <td>...</td>\n",
       "      <td>...</td>\n",
       "      <td>...</td>\n",
       "    </tr>\n",
       "    <tr>\n",
       "      <td>122430</td>\n",
       "      <td>DL</td>\n",
       "      <td>94927.0</td>\n",
       "      <td>48063.0</td>\n",
       "      <td>35613.0</td>\n",
       "      <td>404.0</td>\n",
       "      <td>Delta Air Lines Inc.</td>\n",
       "      <td>10397</td>\n",
       "      <td>ATL</td>\n",
       "      <td>13204</td>\n",
       "      <td>MCO</td>\n",
       "      <td>5</td>\n",
       "    </tr>\n",
       "    <tr>\n",
       "      <td>122431</td>\n",
       "      <td>DL</td>\n",
       "      <td>95102.0</td>\n",
       "      <td>125165.0</td>\n",
       "      <td>6280.0</td>\n",
       "      <td>404.0</td>\n",
       "      <td>Delta Air Lines Inc.</td>\n",
       "      <td>13204</td>\n",
       "      <td>MCO</td>\n",
       "      <td>10397</td>\n",
       "      <td>ATL</td>\n",
       "      <td>5</td>\n",
       "    </tr>\n",
       "    <tr>\n",
       "      <td>122432</td>\n",
       "      <td>DL</td>\n",
       "      <td>96619.0</td>\n",
       "      <td>64551.0</td>\n",
       "      <td>28077.0</td>\n",
       "      <td>404.0</td>\n",
       "      <td>Delta Air Lines Inc.</td>\n",
       "      <td>10397</td>\n",
       "      <td>ATL</td>\n",
       "      <td>13204</td>\n",
       "      <td>MCO</td>\n",
       "      <td>3</td>\n",
       "    </tr>\n",
       "    <tr>\n",
       "      <td>122433</td>\n",
       "      <td>AS</td>\n",
       "      <td>97011.0</td>\n",
       "      <td>473666.0</td>\n",
       "      <td>55963.0</td>\n",
       "      <td>1448.0</td>\n",
       "      <td>Alaska Airlines Inc.</td>\n",
       "      <td>14747</td>\n",
       "      <td>SEA</td>\n",
       "      <td>10299</td>\n",
       "      <td>ANC</td>\n",
       "      <td>6</td>\n",
       "    </tr>\n",
       "    <tr>\n",
       "      <td>122434</td>\n",
       "      <td>DL</td>\n",
       "      <td>97329.0</td>\n",
       "      <td>210292.0</td>\n",
       "      <td>5431.0</td>\n",
       "      <td>404.0</td>\n",
       "      <td>Delta Air Lines Inc.</td>\n",
       "      <td>13204</td>\n",
       "      <td>MCO</td>\n",
       "      <td>10397</td>\n",
       "      <td>ATL</td>\n",
       "      <td>3</td>\n",
       "    </tr>\n",
       "  </tbody>\n",
       "</table>\n",
       "<p>101582 rows × 11 columns</p>\n",
       "</div>"
      ],
      "text/plain": [
       "       UNIQUE_CARRIER  PASSENGERS   FREIGHT     MAIL  DISTANCE  \\\n",
       "20853             27Q         1.0       0.0      0.0    2449.0   \n",
       "20854             27Q         1.0       0.0      0.0     197.0   \n",
       "20855             27Q         1.0       0.0      0.0    1098.0   \n",
       "20856             27Q         1.0       0.0      0.0    1090.0   \n",
       "20857             27Q         1.0       0.0      0.0     428.0   \n",
       "...               ...         ...       ...      ...       ...   \n",
       "122430             DL     94927.0   48063.0  35613.0     404.0   \n",
       "122431             DL     95102.0  125165.0   6280.0     404.0   \n",
       "122432             DL     96619.0   64551.0  28077.0     404.0   \n",
       "122433             AS     97011.0  473666.0  55963.0    1448.0   \n",
       "122434             DL     97329.0  210292.0   5431.0     404.0   \n",
       "\n",
       "                       UNIQUE_CARRIER_NAME  ORIGIN_AIRPORT_ID ORIGIN  \\\n",
       "20853   Jet Aviation Flight Services, Inc.              15167    TEB   \n",
       "20854   Jet Aviation Flight Services, Inc.              15167    TEB   \n",
       "20855   Jet Aviation Flight Services, Inc.              15167    TEB   \n",
       "20856   Jet Aviation Flight Services, Inc.              15167    TEB   \n",
       "20857   Jet Aviation Flight Services, Inc.              15167    TEB   \n",
       "...                                    ...                ...    ...   \n",
       "122430                Delta Air Lines Inc.              10397    ATL   \n",
       "122431                Delta Air Lines Inc.              13204    MCO   \n",
       "122432                Delta Air Lines Inc.              10397    ATL   \n",
       "122433                Alaska Airlines Inc.              14747    SEA   \n",
       "122434                Delta Air Lines Inc.              13204    MCO   \n",
       "\n",
       "        DEST_AIRPORT_ID DEST  MONTH  \n",
       "20853             10800  BUR      1  \n",
       "20854             13296  MHT      1  \n",
       "20855             13303  MIA      1  \n",
       "20856             13898  OPF      1  \n",
       "20857             14492  RDU      1  \n",
       "...                 ...  ...    ...  \n",
       "122430            13204  MCO      5  \n",
       "122431            10397  ATL      5  \n",
       "122432            13204  MCO      3  \n",
       "122433            10299  ANC      6  \n",
       "122434            10397  ATL      3  \n",
       "\n",
       "[101582 rows x 11 columns]"
      ]
     },
     "execution_count": 224,
     "metadata": {},
     "output_type": "execute_result"
    }
   ],
   "source": [
    "df[df['PASSENGERS'] > 0]"
   ]
  },
  {
   "cell_type": "markdown",
   "metadata": {},
   "source": [
    "<hr>"
   ]
  },
  {
   "cell_type": "markdown",
   "metadata": {},
   "source": [
    "<div class=\"alert alert-info\" role=\"alert\">\n",
    "    \n",
    "<img src=\"./icons/list.png\"  width=\"20\" height=\"20\" align=\"left\"> &nbsp;  **Exercise 6** \n",
    "\n",
    "It is possible to add a column to an existing *DataFrame*. This is useful if we want to compute some statistics or we need some custom filter criteria.\n",
    "\n",
    "- assigning a new column to an existing DataFrame. Use the syntax `df[\"new_column\"] = ...` to assign a new object to a column. Sum the *PASSENGERS*, *FREIGHT* and *MAIL* columns and assign the summed values to a new column.\n",
    "- check the results of the new column by getting some samples (try `df.sample(n_sample)`. \n",
    "- get the *UNIQUE_CARRIER* values for which the value of the new column is grater than 10'000. Use `Series.unique()` to keep only unique values of a Series object.\n",
    "- it is possible to count the unique values with the `df.value_counts()` method.\n",
    "\n",
    "Keep in mind that the assigned object should be either a `pandas.Series` or a `numpy.array` object (also python lists are possible). \n",
    "\n",
    "</div>"
   ]
  },
  {
   "cell_type": "code",
   "execution_count": 225,
   "metadata": {},
   "outputs": [
    {
     "data": {
      "text/plain": [
       "0             0.0\n",
       "1             0.0\n",
       "2             0.0\n",
       "3             0.0\n",
       "4             0.0\n",
       "           ...   \n",
       "122430    94927.0\n",
       "122431    95102.0\n",
       "122432    96619.0\n",
       "122433    97011.0\n",
       "122434    97329.0\n",
       "Name: PASSENGERS, Length: 122435, dtype: float64"
      ]
     },
     "execution_count": 225,
     "metadata": {},
     "output_type": "execute_result"
    }
   ],
   "source": [
    "df.PASSENGERS"
   ]
  },
  {
   "cell_type": "code",
   "execution_count": 226,
   "metadata": {},
   "outputs": [],
   "source": [
    "df['SUM_'] = (df.PASSENGERS + df.MAIL + df.FREIGHT)"
   ]
  },
  {
   "cell_type": "code",
   "execution_count": 227,
   "metadata": {},
   "outputs": [
    {
     "data": {
      "text/plain": [
       "0              0.0\n",
       "1              0.0\n",
       "2              0.0\n",
       "3              0.0\n",
       "4              0.0\n",
       "            ...   \n",
       "122430    178603.0\n",
       "122431    226547.0\n",
       "122432    189247.0\n",
       "122433    626640.0\n",
       "122434    313052.0\n",
       "Name: SUM_, Length: 122435, dtype: float64"
      ]
     },
     "execution_count": 227,
     "metadata": {},
     "output_type": "execute_result"
    }
   ],
   "source": [
    "df.SUM_"
   ]
  },
  {
   "cell_type": "code",
   "execution_count": 228,
   "metadata": {},
   "outputs": [
    {
     "name": "stdout",
     "output_type": "stream",
     "text": [
      "<class 'pandas.core.frame.DataFrame'>\n",
      "RangeIndex: 122435 entries, 0 to 122434\n",
      "Data columns (total 12 columns):\n",
      "UNIQUE_CARRIER         122435 non-null object\n",
      "PASSENGERS             122435 non-null float64\n",
      "FREIGHT                122435 non-null float64\n",
      "MAIL                   122435 non-null float64\n",
      "DISTANCE               122435 non-null float64\n",
      "UNIQUE_CARRIER_NAME    122435 non-null object\n",
      "ORIGIN_AIRPORT_ID      122435 non-null int64\n",
      "ORIGIN                 122435 non-null object\n",
      "DEST_AIRPORT_ID        122435 non-null int64\n",
      "DEST                   122435 non-null object\n",
      "MONTH                  122435 non-null int64\n",
      "SUM_                   122435 non-null float64\n",
      "dtypes: float64(5), int64(3), object(4)\n",
      "memory usage: 11.2+ MB\n"
     ]
    }
   ],
   "source": [
    "df.info()"
   ]
  },
  {
   "cell_type": "code",
   "execution_count": 230,
   "metadata": {},
   "outputs": [],
   "source": [
    "df_small = df.sample(100)"
   ]
  },
  {
   "cell_type": "code",
   "execution_count": 236,
   "metadata": {},
   "outputs": [
    {
     "data": {
      "text/plain": [
       "array(['27Q', 'WL', '1SQ', '7H', '8C', '8V', 'AA', 'AS', 'AX', 'C5', 'CH',\n",
       "       'ELL', 'EM', '8E', 'KO', 'V8', '1BQ', '1RQ', '2E', '2O', '5V',\n",
       "       'AMQ', 'FX', 'PFQ', 'YV', 'K3', 'Z3', '5Y', '4W', 'GV', 'KD', 'N8',\n",
       "       'NC', 'Q5', 'SNK', '3AQ', '3EQ', '7S', 'AN', 'LF', 'ABX', 'DL',\n",
       "       'WN', '9K', 'F9', 'M6', 'GL', 'KAQ', '1TQ', '1YQ', '9S', 'GCH',\n",
       "       'PO', 'U7', 'X9', 'PM', 'UA', 'WI', 'GFQ', 'H6', 'L2', '5X', 'HBQ',\n",
       "       'KAH', 'KH', 'KLQ', '0WQ', '3F', '9E', '2LQ', 'K2', 'AAT', '2HQ',\n",
       "       'YR', 'ZW', 'RVQ', 'J5', 'MW', '0MQ', 'X4', '37Q', '4B', 'EV',\n",
       "       'PT', 'OH', 'OO', '04Q', 'MQ', 'YX', 'XP', 'I4', '1AQ', '3DQ',\n",
       "       'NK', 'QX', 'SEB', 'KS', 'KAT', 'B6', 'CP', 'G7', 'G4', '38Q',\n",
       "       'SY', '22Q', '34Q', 'HA', '2EQ', '3M', '1EQ', 'VI', '3BQ', 'WST',\n",
       "       '1WQ', 'NEW', '1QQ', 'Z3Q'], dtype=object)"
      ]
     },
     "execution_count": 236,
     "metadata": {},
     "output_type": "execute_result"
    }
   ],
   "source": [
    "df.UNIQUE_CARRIER.unique() # numpy array"
   ]
  },
  {
   "cell_type": "code",
   "execution_count": 232,
   "metadata": {},
   "outputs": [
    {
     "data": {
      "text/plain": [
       "WN     20177\n",
       "OO      8192\n",
       "UA      6324\n",
       "DL      6265\n",
       "FX      5326\n",
       "       ...  \n",
       "WST        4\n",
       "PM         3\n",
       "3BQ        2\n",
       "XP         1\n",
       "34Q        1\n",
       "Name: UNIQUE_CARRIER, Length: 117, dtype: int64"
      ]
     },
     "execution_count": 232,
     "metadata": {},
     "output_type": "execute_result"
    }
   ],
   "source": [
    "df.UNIQUE_CARRIER.value_counts()"
   ]
  },
  {
   "cell_type": "markdown",
   "metadata": {},
   "source": [
    "<hr>"
   ]
  },
  {
   "cell_type": "markdown",
   "metadata": {},
   "source": [
    "## Group by operations\n",
    "Like in SQL it is possible to perform *group by* operations on a *DataFrame*. This is performed by means of `DataFrame.groupby` method which accept a single column or a list of columns. The returned type is a `DataFrameGroupBy` which has methods to perform operations over the grouped entries. The API for the **GroupBy** objects can be found [here](https://pandas.pydata.org/pandas-docs/stable/reference/groupby.html) while the reference user-guide can be found [here](https://pandas.pydata.org/pandas-docs/stable/user_guide/groupby.html)."
   ]
  },
  {
   "cell_type": "markdown",
   "metadata": {},
   "source": [
    "<div class=\"alert alert-info\" role=\"alert\">\n",
    "    \n",
    "<img src=\"./icons/list.png\"  width=\"20\" height=\"20\" align=\"left\"> &nbsp;  **Exercise 7** \n",
    "\n",
    "- find the number of entries for each carrier. Use `DataFrameGroupBy.count()`.\n",
    "- find the total distance for each of the carrier. Use `DataFrameGroupBy.sum()`.\n",
    "\n",
    "Which is the carrier with the highest distance?\n",
    "\n",
    "</div>"
   ]
  },
  {
   "cell_type": "markdown",
   "metadata": {},
   "source": [
    "<div class=\"alert alert-success\" role=\"alert\">\n",
    "    \n",
    "<img src=\"./icons/lightbulb.png\"  width=\"20\" height=\"20\" align=\"left\"> &nbsp; **Pandas Tip 4**: due to `df.groupby()` applies only to columns and not index it is needed to reset the current index. Use `df.reset_index()` to achieve the goal. \n",
    "\n",
    "</div>"
   ]
  },
  {
   "cell_type": "code",
   "execution_count": 240,
   "metadata": {},
   "outputs": [
    {
     "data": {
      "text/html": [
       "<div>\n",
       "<style scoped>\n",
       "    .dataframe tbody tr th:only-of-type {\n",
       "        vertical-align: middle;\n",
       "    }\n",
       "\n",
       "    .dataframe tbody tr th {\n",
       "        vertical-align: top;\n",
       "    }\n",
       "\n",
       "    .dataframe thead th {\n",
       "        text-align: right;\n",
       "    }\n",
       "</style>\n",
       "<table border=\"1\" class=\"dataframe\">\n",
       "  <thead>\n",
       "    <tr style=\"text-align: right;\">\n",
       "      <th></th>\n",
       "      <th>PASSENGERS</th>\n",
       "    </tr>\n",
       "    <tr>\n",
       "      <th>UNIQUE_CARRIER</th>\n",
       "      <th></th>\n",
       "    </tr>\n",
       "  </thead>\n",
       "  <tbody>\n",
       "    <tr>\n",
       "      <td>04Q</td>\n",
       "      <td>792</td>\n",
       "    </tr>\n",
       "    <tr>\n",
       "      <td>0MQ</td>\n",
       "      <td>126</td>\n",
       "    </tr>\n",
       "    <tr>\n",
       "      <td>0WQ</td>\n",
       "      <td>189</td>\n",
       "    </tr>\n",
       "    <tr>\n",
       "      <td>1AQ</td>\n",
       "      <td>192</td>\n",
       "    </tr>\n",
       "    <tr>\n",
       "      <td>1BQ</td>\n",
       "      <td>23</td>\n",
       "    </tr>\n",
       "    <tr>\n",
       "      <td>...</td>\n",
       "      <td>...</td>\n",
       "    </tr>\n",
       "    <tr>\n",
       "      <td>YV</td>\n",
       "      <td>2342</td>\n",
       "    </tr>\n",
       "    <tr>\n",
       "      <td>YX</td>\n",
       "      <td>3990</td>\n",
       "    </tr>\n",
       "    <tr>\n",
       "      <td>Z3</td>\n",
       "      <td>153</td>\n",
       "    </tr>\n",
       "    <tr>\n",
       "      <td>Z3Q</td>\n",
       "      <td>10</td>\n",
       "    </tr>\n",
       "    <tr>\n",
       "      <td>ZW</td>\n",
       "      <td>1322</td>\n",
       "    </tr>\n",
       "  </tbody>\n",
       "</table>\n",
       "<p>117 rows × 1 columns</p>\n",
       "</div>"
      ],
      "text/plain": [
       "                PASSENGERS\n",
       "UNIQUE_CARRIER            \n",
       "04Q                    792\n",
       "0MQ                    126\n",
       "0WQ                    189\n",
       "1AQ                    192\n",
       "1BQ                     23\n",
       "...                    ...\n",
       "YV                    2342\n",
       "YX                    3990\n",
       "Z3                     153\n",
       "Z3Q                     10\n",
       "ZW                    1322\n",
       "\n",
       "[117 rows x 1 columns]"
      ]
     },
     "execution_count": 240,
     "metadata": {},
     "output_type": "execute_result"
    }
   ],
   "source": [
    "df.groupby([\"UNIQUE_CARRIER\"])[[\"PASSENGERS\"]].count()"
   ]
  },
  {
   "cell_type": "code",
   "execution_count": 247,
   "metadata": {},
   "outputs": [
    {
     "data": {
      "text/html": [
       "<div>\n",
       "<style scoped>\n",
       "    .dataframe tbody tr th:only-of-type {\n",
       "        vertical-align: middle;\n",
       "    }\n",
       "\n",
       "    .dataframe tbody tr th {\n",
       "        vertical-align: top;\n",
       "    }\n",
       "\n",
       "    .dataframe thead th {\n",
       "        text-align: right;\n",
       "    }\n",
       "</style>\n",
       "<table border=\"1\" class=\"dataframe\">\n",
       "  <thead>\n",
       "    <tr style=\"text-align: right;\">\n",
       "      <th></th>\n",
       "      <th>DISTANCE</th>\n",
       "    </tr>\n",
       "    <tr>\n",
       "      <th>UNIQUE_CARRIER</th>\n",
       "      <th></th>\n",
       "    </tr>\n",
       "  </thead>\n",
       "  <tbody>\n",
       "    <tr>\n",
       "      <td>WN</td>\n",
       "      <td>23148649.0</td>\n",
       "    </tr>\n",
       "    <tr>\n",
       "      <td>UA</td>\n",
       "      <td>7976645.0</td>\n",
       "    </tr>\n",
       "    <tr>\n",
       "      <td>DL</td>\n",
       "      <td>6496899.0</td>\n",
       "    </tr>\n",
       "    <tr>\n",
       "      <td>AA</td>\n",
       "      <td>5057492.0</td>\n",
       "    </tr>\n",
       "    <tr>\n",
       "      <td>OO</td>\n",
       "      <td>4636976.0</td>\n",
       "    </tr>\n",
       "    <tr>\n",
       "      <td>...</td>\n",
       "      <td>...</td>\n",
       "    </tr>\n",
       "    <tr>\n",
       "      <td>1QQ</td>\n",
       "      <td>540.0</td>\n",
       "    </tr>\n",
       "    <tr>\n",
       "      <td>WST</td>\n",
       "      <td>320.0</td>\n",
       "    </tr>\n",
       "    <tr>\n",
       "      <td>GCH</td>\n",
       "      <td>295.0</td>\n",
       "    </tr>\n",
       "    <tr>\n",
       "      <td>NEW</td>\n",
       "      <td>204.0</td>\n",
       "    </tr>\n",
       "    <tr>\n",
       "      <td>XP</td>\n",
       "      <td>0.0</td>\n",
       "    </tr>\n",
       "  </tbody>\n",
       "</table>\n",
       "<p>117 rows × 1 columns</p>\n",
       "</div>"
      ],
      "text/plain": [
       "                  DISTANCE\n",
       "UNIQUE_CARRIER            \n",
       "WN              23148649.0\n",
       "UA               7976645.0\n",
       "DL               6496899.0\n",
       "AA               5057492.0\n",
       "OO               4636976.0\n",
       "...                    ...\n",
       "1QQ                  540.0\n",
       "WST                  320.0\n",
       "GCH                  295.0\n",
       "NEW                  204.0\n",
       "XP                     0.0\n",
       "\n",
       "[117 rows x 1 columns]"
      ]
     },
     "execution_count": 247,
     "metadata": {},
     "output_type": "execute_result"
    }
   ],
   "source": [
    "df.groupby(\"UNIQUE_CARRIER\")[[\"DISTANCE\"]].sum().sort_values(\"DISTANCE\", ascending=False)"
   ]
  },
  {
   "cell_type": "code",
   "execution_count": 248,
   "metadata": {},
   "outputs": [
    {
     "data": {
      "text/html": [
       "<div>\n",
       "<style scoped>\n",
       "    .dataframe tbody tr th:only-of-type {\n",
       "        vertical-align: middle;\n",
       "    }\n",
       "\n",
       "    .dataframe tbody tr th {\n",
       "        vertical-align: top;\n",
       "    }\n",
       "\n",
       "    .dataframe thead th {\n",
       "        text-align: right;\n",
       "    }\n",
       "</style>\n",
       "<table border=\"1\" class=\"dataframe\">\n",
       "  <thead>\n",
       "    <tr style=\"text-align: right;\">\n",
       "      <th></th>\n",
       "      <th>DISTANCE</th>\n",
       "    </tr>\n",
       "    <tr>\n",
       "      <th>UNIQUE_CARRIER</th>\n",
       "      <th></th>\n",
       "    </tr>\n",
       "  </thead>\n",
       "  <tbody>\n",
       "    <tr>\n",
       "      <td>N8</td>\n",
       "      <td>3073.703704</td>\n",
       "    </tr>\n",
       "    <tr>\n",
       "      <td>PFQ</td>\n",
       "      <td>2856.518519</td>\n",
       "    </tr>\n",
       "    <tr>\n",
       "      <td>34Q</td>\n",
       "      <td>2378.000000</td>\n",
       "    </tr>\n",
       "    <tr>\n",
       "      <td>HA</td>\n",
       "      <td>2045.775773</td>\n",
       "    </tr>\n",
       "    <tr>\n",
       "      <td>WI</td>\n",
       "      <td>1689.600000</td>\n",
       "    </tr>\n",
       "    <tr>\n",
       "      <td>...</td>\n",
       "      <td>...</td>\n",
       "    </tr>\n",
       "    <tr>\n",
       "      <td>X4</td>\n",
       "      <td>37.400000</td>\n",
       "    </tr>\n",
       "    <tr>\n",
       "      <td>VI</td>\n",
       "      <td>34.268293</td>\n",
       "    </tr>\n",
       "    <tr>\n",
       "      <td>2E</td>\n",
       "      <td>24.847826</td>\n",
       "    </tr>\n",
       "    <tr>\n",
       "      <td>NEW</td>\n",
       "      <td>17.000000</td>\n",
       "    </tr>\n",
       "    <tr>\n",
       "      <td>XP</td>\n",
       "      <td>0.000000</td>\n",
       "    </tr>\n",
       "  </tbody>\n",
       "</table>\n",
       "<p>117 rows × 1 columns</p>\n",
       "</div>"
      ],
      "text/plain": [
       "                   DISTANCE\n",
       "UNIQUE_CARRIER             \n",
       "N8              3073.703704\n",
       "PFQ             2856.518519\n",
       "34Q             2378.000000\n",
       "HA              2045.775773\n",
       "WI              1689.600000\n",
       "...                     ...\n",
       "X4                37.400000\n",
       "VI                34.268293\n",
       "2E                24.847826\n",
       "NEW               17.000000\n",
       "XP                 0.000000\n",
       "\n",
       "[117 rows x 1 columns]"
      ]
     },
     "execution_count": 248,
     "metadata": {},
     "output_type": "execute_result"
    }
   ],
   "source": [
    "df.groupby(\"UNIQUE_CARRIER\")[[\"DISTANCE\"]].mean().sort_values(\"DISTANCE\", ascending=False)"
   ]
  },
  {
   "cell_type": "markdown",
   "metadata": {},
   "source": [
    "<hr>"
   ]
  },
  {
   "cell_type": "markdown",
   "metadata": {},
   "source": [
    "## Combining and Merging\n",
    "It is possible to combine data in pandas in different ways: \n",
    "1. `pandas.merge` connects rows in DataFrames based on one or more keys. This will be familiar to users of SQL or other relational databases, as it implements database join operations.\n",
    "2. `pandas.concat` concatenates or “stacks” together objects along an axis.\n",
    "\n",
    "[Here](https://pandas.pydata.org/pandas-docs/stable/user_guide/merging.html#joining-on-index) it can be found a full guide on options available for the two methods. "
   ]
  },
  {
   "cell_type": "code",
   "execution_count": 249,
   "metadata": {
    "deletable": false,
    "editable": false
   },
   "outputs": [],
   "source": [
    "# preparing mock dataframe for next exercise\n",
    "df_left = df.drop(columns=[\"ORIGIN\", \"DEST\"])\n",
    "df_right = df[[\"ORIGIN_AIRPORT_ID\", \"ORIGIN\"]].drop_duplicates()\n",
    "df_right_dest = df[[\"DEST_AIRPORT_ID\", \"DEST\"]].drop_duplicates().sample(frac=0.7)\n",
    "df_dropped = df[[\"ORIGIN\", \"DEST\"]]"
   ]
  },
  {
   "cell_type": "markdown",
   "metadata": {},
   "source": [
    "<div class=\"alert alert-info\" role=\"alert\">\n",
    "    \n",
    "<img src=\"./icons/list.png\"  width=\"20\" height=\"20\" align=\"left\"> &nbsp;  **Exercise 8** \n",
    "\n",
    "- reconcile the information about the origin airport name by merging the prepared left and right dataset with the `pd.merge` pandas api. Merge by **ORIGIN_AIRPORT_ID**\n",
    "- add the dropped columns *df_dropped* to the *df_left* dataframe in order to reconstruct the original one. Use the `pd.concat` pandas api specifying the `axis` where is wanted to perform the concatenation. \n",
    "- from the **df** datataframe create two new dataframes taking the first and last 10 rows using the already seen slicing operator. Then create a new dataframe adding the two derived ones. Check the result\n",
    "\n",
    "</div>"
   ]
  },
  {
   "cell_type": "markdown",
   "metadata": {},
   "source": [
    "<div class=\"alert alert-success\" role=\"alert\">\n",
    "    \n",
    "<img src=\"./icons/lightbulb.png\"  width=\"20\" height=\"20\" align=\"left\"> &nbsp; **Pandas Tip 5**: the `pd.merge` methods takes the left and right dataframes to be merged as parameters. In addition the `on=<columns>` parameter allows for specifying the key for the merge operation otherwise overlapping columns name are taken.\n",
    "\n",
    "The `how=<left|right|inner|outer>` parameter allows for settings the merging strategy which by default is set to *inner*. \n",
    "</div>"
   ]
  },
  {
   "cell_type": "markdown",
   "metadata": {},
   "source": [
    "<div class=\"alert alert-success\" role=\"alert\">\n",
    "    \n",
    "<img src=\"./icons/lightbulb.png\"  width=\"20\" height=\"20\" align=\"left\"> &nbsp; **Pandas Tip 6**: some pandas operations like `df.min`, `df.max` or `pd.concat` allows for specifying the axis where to perform such operation. There are two major aces in pandas: \n",
    "\n",
    "- axis 0: representing the rows (index)\n",
    "- axis 1: representing the columns\n",
    "\n",
    "</div>"
   ]
  },
  {
   "cell_type": "code",
   "execution_count": 250,
   "metadata": {},
   "outputs": [
    {
     "data": {
      "text/html": [
       "<div>\n",
       "<style scoped>\n",
       "    .dataframe tbody tr th:only-of-type {\n",
       "        vertical-align: middle;\n",
       "    }\n",
       "\n",
       "    .dataframe tbody tr th {\n",
       "        vertical-align: top;\n",
       "    }\n",
       "\n",
       "    .dataframe thead th {\n",
       "        text-align: right;\n",
       "    }\n",
       "</style>\n",
       "<table border=\"1\" class=\"dataframe\">\n",
       "  <thead>\n",
       "    <tr style=\"text-align: right;\">\n",
       "      <th></th>\n",
       "      <th>UNIQUE_CARRIER</th>\n",
       "      <th>PASSENGERS</th>\n",
       "      <th>FREIGHT</th>\n",
       "      <th>MAIL</th>\n",
       "      <th>DISTANCE</th>\n",
       "      <th>UNIQUE_CARRIER_NAME</th>\n",
       "      <th>ORIGIN_AIRPORT_ID</th>\n",
       "      <th>DEST_AIRPORT_ID</th>\n",
       "      <th>MONTH</th>\n",
       "      <th>SUM_</th>\n",
       "      <th>ORIGIN</th>\n",
       "    </tr>\n",
       "  </thead>\n",
       "  <tbody>\n",
       "    <tr>\n",
       "      <td>0</td>\n",
       "      <td>27Q</td>\n",
       "      <td>0.0</td>\n",
       "      <td>0.0</td>\n",
       "      <td>0.0</td>\n",
       "      <td>35.0</td>\n",
       "      <td>Jet Aviation Flight Services, Inc.</td>\n",
       "      <td>15030</td>\n",
       "      <td>14027</td>\n",
       "      <td>1</td>\n",
       "      <td>0.0</td>\n",
       "      <td>SUA</td>\n",
       "    </tr>\n",
       "    <tr>\n",
       "      <td>1</td>\n",
       "      <td>LF</td>\n",
       "      <td>0.0</td>\n",
       "      <td>0.0</td>\n",
       "      <td>0.0</td>\n",
       "      <td>56.0</td>\n",
       "      <td>CFM Inc d/b/a Contour Airlines d/b/a One Jet S...</td>\n",
       "      <td>15030</td>\n",
       "      <td>10519</td>\n",
       "      <td>3</td>\n",
       "      <td>0.0</td>\n",
       "      <td>SUA</td>\n",
       "    </tr>\n",
       "    <tr>\n",
       "      <td>2</td>\n",
       "      <td>2LQ</td>\n",
       "      <td>0.0</td>\n",
       "      <td>0.0</td>\n",
       "      <td>0.0</td>\n",
       "      <td>77.0</td>\n",
       "      <td>Tropic Ocean Airways LLC</td>\n",
       "      <td>15030</td>\n",
       "      <td>11697</td>\n",
       "      <td>3</td>\n",
       "      <td>0.0</td>\n",
       "      <td>SUA</td>\n",
       "    </tr>\n",
       "    <tr>\n",
       "      <td>3</td>\n",
       "      <td>2LQ</td>\n",
       "      <td>0.0</td>\n",
       "      <td>0.0</td>\n",
       "      <td>0.0</td>\n",
       "      <td>77.0</td>\n",
       "      <td>Tropic Ocean Airways LLC</td>\n",
       "      <td>15030</td>\n",
       "      <td>11697</td>\n",
       "      <td>2</td>\n",
       "      <td>0.0</td>\n",
       "      <td>SUA</td>\n",
       "    </tr>\n",
       "    <tr>\n",
       "      <td>4</td>\n",
       "      <td>27Q</td>\n",
       "      <td>1.0</td>\n",
       "      <td>0.0</td>\n",
       "      <td>0.0</td>\n",
       "      <td>1169.0</td>\n",
       "      <td>Jet Aviation Flight Services, Inc.</td>\n",
       "      <td>15030</td>\n",
       "      <td>10721</td>\n",
       "      <td>3</td>\n",
       "      <td>1.0</td>\n",
       "      <td>SUA</td>\n",
       "    </tr>\n",
       "    <tr>\n",
       "      <td>...</td>\n",
       "      <td>...</td>\n",
       "      <td>...</td>\n",
       "      <td>...</td>\n",
       "      <td>...</td>\n",
       "      <td>...</td>\n",
       "      <td>...</td>\n",
       "      <td>...</td>\n",
       "      <td>...</td>\n",
       "      <td>...</td>\n",
       "      <td>...</td>\n",
       "      <td>...</td>\n",
       "    </tr>\n",
       "    <tr>\n",
       "      <td>122430</td>\n",
       "      <td>MQ</td>\n",
       "      <td>2166.0</td>\n",
       "      <td>5.0</td>\n",
       "      <td>0.0</td>\n",
       "      <td>270.0</td>\n",
       "      <td>Envoy Air</td>\n",
       "      <td>10728</td>\n",
       "      <td>11298</td>\n",
       "      <td>4</td>\n",
       "      <td>2171.0</td>\n",
       "      <td>BPT</td>\n",
       "    </tr>\n",
       "    <tr>\n",
       "      <td>122431</td>\n",
       "      <td>MQ</td>\n",
       "      <td>2200.0</td>\n",
       "      <td>23.0</td>\n",
       "      <td>1.0</td>\n",
       "      <td>270.0</td>\n",
       "      <td>Envoy Air</td>\n",
       "      <td>10728</td>\n",
       "      <td>11298</td>\n",
       "      <td>1</td>\n",
       "      <td>2224.0</td>\n",
       "      <td>BPT</td>\n",
       "    </tr>\n",
       "    <tr>\n",
       "      <td>122432</td>\n",
       "      <td>MQ</td>\n",
       "      <td>2336.0</td>\n",
       "      <td>205.0</td>\n",
       "      <td>0.0</td>\n",
       "      <td>270.0</td>\n",
       "      <td>Envoy Air</td>\n",
       "      <td>10728</td>\n",
       "      <td>11298</td>\n",
       "      <td>3</td>\n",
       "      <td>2541.0</td>\n",
       "      <td>BPT</td>\n",
       "    </tr>\n",
       "    <tr>\n",
       "      <td>122433</td>\n",
       "      <td>MQ</td>\n",
       "      <td>2413.0</td>\n",
       "      <td>77.0</td>\n",
       "      <td>0.0</td>\n",
       "      <td>270.0</td>\n",
       "      <td>Envoy Air</td>\n",
       "      <td>10728</td>\n",
       "      <td>11298</td>\n",
       "      <td>6</td>\n",
       "      <td>2490.0</td>\n",
       "      <td>BPT</td>\n",
       "    </tr>\n",
       "    <tr>\n",
       "      <td>122434</td>\n",
       "      <td>MQ</td>\n",
       "      <td>2657.0</td>\n",
       "      <td>9.0</td>\n",
       "      <td>1.0</td>\n",
       "      <td>270.0</td>\n",
       "      <td>Envoy Air</td>\n",
       "      <td>10728</td>\n",
       "      <td>11298</td>\n",
       "      <td>5</td>\n",
       "      <td>2667.0</td>\n",
       "      <td>BPT</td>\n",
       "    </tr>\n",
       "  </tbody>\n",
       "</table>\n",
       "<p>122435 rows × 11 columns</p>\n",
       "</div>"
      ],
      "text/plain": [
       "       UNIQUE_CARRIER  PASSENGERS  FREIGHT  MAIL  DISTANCE  \\\n",
       "0                 27Q         0.0      0.0   0.0      35.0   \n",
       "1                  LF         0.0      0.0   0.0      56.0   \n",
       "2                 2LQ         0.0      0.0   0.0      77.0   \n",
       "3                 2LQ         0.0      0.0   0.0      77.0   \n",
       "4                 27Q         1.0      0.0   0.0    1169.0   \n",
       "...               ...         ...      ...   ...       ...   \n",
       "122430             MQ      2166.0      5.0   0.0     270.0   \n",
       "122431             MQ      2200.0     23.0   1.0     270.0   \n",
       "122432             MQ      2336.0    205.0   0.0     270.0   \n",
       "122433             MQ      2413.0     77.0   0.0     270.0   \n",
       "122434             MQ      2657.0      9.0   1.0     270.0   \n",
       "\n",
       "                                      UNIQUE_CARRIER_NAME  ORIGIN_AIRPORT_ID  \\\n",
       "0                      Jet Aviation Flight Services, Inc.              15030   \n",
       "1       CFM Inc d/b/a Contour Airlines d/b/a One Jet S...              15030   \n",
       "2                                Tropic Ocean Airways LLC              15030   \n",
       "3                                Tropic Ocean Airways LLC              15030   \n",
       "4                      Jet Aviation Flight Services, Inc.              15030   \n",
       "...                                                   ...                ...   \n",
       "122430                                          Envoy Air              10728   \n",
       "122431                                          Envoy Air              10728   \n",
       "122432                                          Envoy Air              10728   \n",
       "122433                                          Envoy Air              10728   \n",
       "122434                                          Envoy Air              10728   \n",
       "\n",
       "        DEST_AIRPORT_ID  MONTH    SUM_ ORIGIN  \n",
       "0                 14027      1     0.0    SUA  \n",
       "1                 10519      3     0.0    SUA  \n",
       "2                 11697      3     0.0    SUA  \n",
       "3                 11697      2     0.0    SUA  \n",
       "4                 10721      3     1.0    SUA  \n",
       "...                 ...    ...     ...    ...  \n",
       "122430            11298      4  2171.0    BPT  \n",
       "122431            11298      1  2224.0    BPT  \n",
       "122432            11298      3  2541.0    BPT  \n",
       "122433            11298      6  2490.0    BPT  \n",
       "122434            11298      5  2667.0    BPT  \n",
       "\n",
       "[122435 rows x 11 columns]"
      ]
     },
     "execution_count": 250,
     "metadata": {},
     "output_type": "execute_result"
    }
   ],
   "source": [
    "pd.merge(df_left, df_right, on='ORIGIN_AIRPORT_ID')"
   ]
  },
  {
   "cell_type": "code",
   "execution_count": 253,
   "metadata": {},
   "outputs": [
    {
     "name": "stdout",
     "output_type": "stream",
     "text": [
      "<class 'pandas.core.frame.DataFrame'>\n",
      "RangeIndex: 122435 entries, 0 to 122434\n",
      "Data columns (total 10 columns):\n",
      "UNIQUE_CARRIER         122435 non-null object\n",
      "PASSENGERS             122435 non-null float64\n",
      "FREIGHT                122435 non-null float64\n",
      "MAIL                   122435 non-null float64\n",
      "DISTANCE               122435 non-null float64\n",
      "UNIQUE_CARRIER_NAME    122435 non-null object\n",
      "ORIGIN_AIRPORT_ID      122435 non-null int64\n",
      "DEST_AIRPORT_ID        122435 non-null int64\n",
      "MONTH                  122435 non-null int64\n",
      "SUM_                   122435 non-null float64\n",
      "dtypes: float64(5), int64(3), object(2)\n",
      "memory usage: 9.3+ MB\n"
     ]
    }
   ],
   "source": [
    "df_left.info()"
   ]
  },
  {
   "cell_type": "code",
   "execution_count": 254,
   "metadata": {},
   "outputs": [
    {
     "name": "stdout",
     "output_type": "stream",
     "text": [
      "<class 'pandas.core.frame.DataFrame'>\n",
      "RangeIndex: 122435 entries, 0 to 122434\n",
      "Data columns (total 2 columns):\n",
      "ORIGIN    122435 non-null object\n",
      "DEST      122435 non-null object\n",
      "dtypes: object(2)\n",
      "memory usage: 1.9+ MB\n"
     ]
    }
   ],
   "source": [
    "df_dropped.info()"
   ]
  },
  {
   "cell_type": "code",
   "execution_count": 256,
   "metadata": {},
   "outputs": [
    {
     "data": {
      "text/html": [
       "<div>\n",
       "<style scoped>\n",
       "    .dataframe tbody tr th:only-of-type {\n",
       "        vertical-align: middle;\n",
       "    }\n",
       "\n",
       "    .dataframe tbody tr th {\n",
       "        vertical-align: top;\n",
       "    }\n",
       "\n",
       "    .dataframe thead th {\n",
       "        text-align: right;\n",
       "    }\n",
       "</style>\n",
       "<table border=\"1\" class=\"dataframe\">\n",
       "  <thead>\n",
       "    <tr style=\"text-align: right;\">\n",
       "      <th></th>\n",
       "      <th>DEST</th>\n",
       "      <th>DEST_AIRPORT_ID</th>\n",
       "      <th>DISTANCE</th>\n",
       "      <th>FREIGHT</th>\n",
       "      <th>MAIL</th>\n",
       "      <th>MONTH</th>\n",
       "      <th>ORIGIN</th>\n",
       "      <th>ORIGIN_AIRPORT_ID</th>\n",
       "      <th>PASSENGERS</th>\n",
       "      <th>SUM_</th>\n",
       "      <th>UNIQUE_CARRIER</th>\n",
       "      <th>UNIQUE_CARRIER_NAME</th>\n",
       "    </tr>\n",
       "  </thead>\n",
       "  <tbody>\n",
       "    <tr>\n",
       "      <td>0</td>\n",
       "      <td>PBI</td>\n",
       "      <td>14027</td>\n",
       "      <td>35.0</td>\n",
       "      <td>0.0</td>\n",
       "      <td>0.0</td>\n",
       "      <td>1</td>\n",
       "      <td>SUA</td>\n",
       "      <td>15030</td>\n",
       "      <td>0.0</td>\n",
       "      <td>0.0</td>\n",
       "      <td>27Q</td>\n",
       "      <td>Jet Aviation Flight Services, Inc.</td>\n",
       "    </tr>\n",
       "    <tr>\n",
       "      <td>1</td>\n",
       "      <td>BED</td>\n",
       "      <td>10540</td>\n",
       "      <td>160.0</td>\n",
       "      <td>0.0</td>\n",
       "      <td>0.0</td>\n",
       "      <td>1</td>\n",
       "      <td>SWF</td>\n",
       "      <td>15070</td>\n",
       "      <td>0.0</td>\n",
       "      <td>0.0</td>\n",
       "      <td>27Q</td>\n",
       "      <td>Jet Aviation Flight Services, Inc.</td>\n",
       "    </tr>\n",
       "    <tr>\n",
       "      <td>2</td>\n",
       "      <td>DPA</td>\n",
       "      <td>11376</td>\n",
       "      <td>740.0</td>\n",
       "      <td>0.0</td>\n",
       "      <td>0.0</td>\n",
       "      <td>1</td>\n",
       "      <td>TEB</td>\n",
       "      <td>15167</td>\n",
       "      <td>0.0</td>\n",
       "      <td>0.0</td>\n",
       "      <td>27Q</td>\n",
       "      <td>Jet Aviation Flight Services, Inc.</td>\n",
       "    </tr>\n",
       "    <tr>\n",
       "      <td>3</td>\n",
       "      <td>TSS</td>\n",
       "      <td>15346</td>\n",
       "      <td>9.0</td>\n",
       "      <td>0.0</td>\n",
       "      <td>0.0</td>\n",
       "      <td>1</td>\n",
       "      <td>TEB</td>\n",
       "      <td>15167</td>\n",
       "      <td>0.0</td>\n",
       "      <td>0.0</td>\n",
       "      <td>27Q</td>\n",
       "      <td>Jet Aviation Flight Services, Inc.</td>\n",
       "    </tr>\n",
       "    <tr>\n",
       "      <td>4</td>\n",
       "      <td>MDW</td>\n",
       "      <td>13232</td>\n",
       "      <td>44.0</td>\n",
       "      <td>0.0</td>\n",
       "      <td>0.0</td>\n",
       "      <td>1</td>\n",
       "      <td>UGN</td>\n",
       "      <td>15447</td>\n",
       "      <td>0.0</td>\n",
       "      <td>0.0</td>\n",
       "      <td>27Q</td>\n",
       "      <td>Jet Aviation Flight Services, Inc.</td>\n",
       "    </tr>\n",
       "    <tr>\n",
       "      <td>...</td>\n",
       "      <td>...</td>\n",
       "      <td>...</td>\n",
       "      <td>...</td>\n",
       "      <td>...</td>\n",
       "      <td>...</td>\n",
       "      <td>...</td>\n",
       "      <td>...</td>\n",
       "      <td>...</td>\n",
       "      <td>...</td>\n",
       "      <td>...</td>\n",
       "      <td>...</td>\n",
       "      <td>...</td>\n",
       "    </tr>\n",
       "    <tr>\n",
       "      <td>122430</td>\n",
       "      <td>MCO</td>\n",
       "      <td>13204</td>\n",
       "      <td>404.0</td>\n",
       "      <td>48063.0</td>\n",
       "      <td>35613.0</td>\n",
       "      <td>5</td>\n",
       "      <td>ATL</td>\n",
       "      <td>10397</td>\n",
       "      <td>94927.0</td>\n",
       "      <td>178603.0</td>\n",
       "      <td>DL</td>\n",
       "      <td>Delta Air Lines Inc.</td>\n",
       "    </tr>\n",
       "    <tr>\n",
       "      <td>122431</td>\n",
       "      <td>ATL</td>\n",
       "      <td>10397</td>\n",
       "      <td>404.0</td>\n",
       "      <td>125165.0</td>\n",
       "      <td>6280.0</td>\n",
       "      <td>5</td>\n",
       "      <td>MCO</td>\n",
       "      <td>13204</td>\n",
       "      <td>95102.0</td>\n",
       "      <td>226547.0</td>\n",
       "      <td>DL</td>\n",
       "      <td>Delta Air Lines Inc.</td>\n",
       "    </tr>\n",
       "    <tr>\n",
       "      <td>122432</td>\n",
       "      <td>MCO</td>\n",
       "      <td>13204</td>\n",
       "      <td>404.0</td>\n",
       "      <td>64551.0</td>\n",
       "      <td>28077.0</td>\n",
       "      <td>3</td>\n",
       "      <td>ATL</td>\n",
       "      <td>10397</td>\n",
       "      <td>96619.0</td>\n",
       "      <td>189247.0</td>\n",
       "      <td>DL</td>\n",
       "      <td>Delta Air Lines Inc.</td>\n",
       "    </tr>\n",
       "    <tr>\n",
       "      <td>122433</td>\n",
       "      <td>ANC</td>\n",
       "      <td>10299</td>\n",
       "      <td>1448.0</td>\n",
       "      <td>473666.0</td>\n",
       "      <td>55963.0</td>\n",
       "      <td>6</td>\n",
       "      <td>SEA</td>\n",
       "      <td>14747</td>\n",
       "      <td>97011.0</td>\n",
       "      <td>626640.0</td>\n",
       "      <td>AS</td>\n",
       "      <td>Alaska Airlines Inc.</td>\n",
       "    </tr>\n",
       "    <tr>\n",
       "      <td>122434</td>\n",
       "      <td>ATL</td>\n",
       "      <td>10397</td>\n",
       "      <td>404.0</td>\n",
       "      <td>210292.0</td>\n",
       "      <td>5431.0</td>\n",
       "      <td>3</td>\n",
       "      <td>MCO</td>\n",
       "      <td>13204</td>\n",
       "      <td>97329.0</td>\n",
       "      <td>313052.0</td>\n",
       "      <td>DL</td>\n",
       "      <td>Delta Air Lines Inc.</td>\n",
       "    </tr>\n",
       "  </tbody>\n",
       "</table>\n",
       "<p>122435 rows × 12 columns</p>\n",
       "</div>"
      ],
      "text/plain": [
       "       DEST  DEST_AIRPORT_ID  DISTANCE   FREIGHT     MAIL  MONTH ORIGIN  \\\n",
       "0       PBI            14027      35.0       0.0      0.0      1    SUA   \n",
       "1       BED            10540     160.0       0.0      0.0      1    SWF   \n",
       "2       DPA            11376     740.0       0.0      0.0      1    TEB   \n",
       "3       TSS            15346       9.0       0.0      0.0      1    TEB   \n",
       "4       MDW            13232      44.0       0.0      0.0      1    UGN   \n",
       "...     ...              ...       ...       ...      ...    ...    ...   \n",
       "122430  MCO            13204     404.0   48063.0  35613.0      5    ATL   \n",
       "122431  ATL            10397     404.0  125165.0   6280.0      5    MCO   \n",
       "122432  MCO            13204     404.0   64551.0  28077.0      3    ATL   \n",
       "122433  ANC            10299    1448.0  473666.0  55963.0      6    SEA   \n",
       "122434  ATL            10397     404.0  210292.0   5431.0      3    MCO   \n",
       "\n",
       "        ORIGIN_AIRPORT_ID  PASSENGERS      SUM_ UNIQUE_CARRIER  \\\n",
       "0                   15030         0.0       0.0            27Q   \n",
       "1                   15070         0.0       0.0            27Q   \n",
       "2                   15167         0.0       0.0            27Q   \n",
       "3                   15167         0.0       0.0            27Q   \n",
       "4                   15447         0.0       0.0            27Q   \n",
       "...                   ...         ...       ...            ...   \n",
       "122430              10397     94927.0  178603.0             DL   \n",
       "122431              13204     95102.0  226547.0             DL   \n",
       "122432              10397     96619.0  189247.0             DL   \n",
       "122433              14747     97011.0  626640.0             AS   \n",
       "122434              13204     97329.0  313052.0             DL   \n",
       "\n",
       "                       UNIQUE_CARRIER_NAME  \n",
       "0       Jet Aviation Flight Services, Inc.  \n",
       "1       Jet Aviation Flight Services, Inc.  \n",
       "2       Jet Aviation Flight Services, Inc.  \n",
       "3       Jet Aviation Flight Services, Inc.  \n",
       "4       Jet Aviation Flight Services, Inc.  \n",
       "...                                    ...  \n",
       "122430                Delta Air Lines Inc.  \n",
       "122431                Delta Air Lines Inc.  \n",
       "122432                Delta Air Lines Inc.  \n",
       "122433                Alaska Airlines Inc.  \n",
       "122434                Delta Air Lines Inc.  \n",
       "\n",
       "[122435 rows x 12 columns]"
      ]
     },
     "execution_count": 256,
     "metadata": {},
     "output_type": "execute_result"
    }
   ],
   "source": [
    "(\n",
    "    pd.concat([df_left, df_dropped], axis=1)\n",
    "     .sort_index(axis=1) # sort columns\n",
    ")"
   ]
  },
  {
   "cell_type": "code",
   "execution_count": 257,
   "metadata": {},
   "outputs": [],
   "source": [
    "df_top, df_bottom = df[:10], df[-10:]"
   ]
  },
  {
   "cell_type": "code",
   "execution_count": 261,
   "metadata": {},
   "outputs": [
    {
     "data": {
      "text/html": [
       "<div>\n",
       "<style scoped>\n",
       "    .dataframe tbody tr th:only-of-type {\n",
       "        vertical-align: middle;\n",
       "    }\n",
       "\n",
       "    .dataframe tbody tr th {\n",
       "        vertical-align: top;\n",
       "    }\n",
       "\n",
       "    .dataframe thead th {\n",
       "        text-align: right;\n",
       "    }\n",
       "</style>\n",
       "<table border=\"1\" class=\"dataframe\">\n",
       "  <thead>\n",
       "    <tr style=\"text-align: right;\">\n",
       "      <th></th>\n",
       "      <th>UNIQUE_CARRIER</th>\n",
       "      <th>PASSENGERS</th>\n",
       "      <th>FREIGHT</th>\n",
       "      <th>MAIL</th>\n",
       "      <th>DISTANCE</th>\n",
       "      <th>UNIQUE_CARRIER_NAME</th>\n",
       "      <th>ORIGIN_AIRPORT_ID</th>\n",
       "      <th>ORIGIN</th>\n",
       "      <th>DEST_AIRPORT_ID</th>\n",
       "      <th>DEST</th>\n",
       "      <th>MONTH</th>\n",
       "      <th>SUM_</th>\n",
       "    </tr>\n",
       "  </thead>\n",
       "  <tbody>\n",
       "    <tr>\n",
       "      <td>0</td>\n",
       "      <td>27Q</td>\n",
       "      <td>0.0</td>\n",
       "      <td>0.0</td>\n",
       "      <td>0.0</td>\n",
       "      <td>35.0</td>\n",
       "      <td>Jet Aviation Flight Services, Inc.</td>\n",
       "      <td>15030</td>\n",
       "      <td>SUA</td>\n",
       "      <td>14027</td>\n",
       "      <td>PBI</td>\n",
       "      <td>1</td>\n",
       "      <td>0.0</td>\n",
       "    </tr>\n",
       "    <tr>\n",
       "      <td>1</td>\n",
       "      <td>27Q</td>\n",
       "      <td>0.0</td>\n",
       "      <td>0.0</td>\n",
       "      <td>0.0</td>\n",
       "      <td>160.0</td>\n",
       "      <td>Jet Aviation Flight Services, Inc.</td>\n",
       "      <td>15070</td>\n",
       "      <td>SWF</td>\n",
       "      <td>10540</td>\n",
       "      <td>BED</td>\n",
       "      <td>1</td>\n",
       "      <td>0.0</td>\n",
       "    </tr>\n",
       "    <tr>\n",
       "      <td>2</td>\n",
       "      <td>27Q</td>\n",
       "      <td>0.0</td>\n",
       "      <td>0.0</td>\n",
       "      <td>0.0</td>\n",
       "      <td>740.0</td>\n",
       "      <td>Jet Aviation Flight Services, Inc.</td>\n",
       "      <td>15167</td>\n",
       "      <td>TEB</td>\n",
       "      <td>11376</td>\n",
       "      <td>DPA</td>\n",
       "      <td>1</td>\n",
       "      <td>0.0</td>\n",
       "    </tr>\n",
       "    <tr>\n",
       "      <td>3</td>\n",
       "      <td>27Q</td>\n",
       "      <td>0.0</td>\n",
       "      <td>0.0</td>\n",
       "      <td>0.0</td>\n",
       "      <td>9.0</td>\n",
       "      <td>Jet Aviation Flight Services, Inc.</td>\n",
       "      <td>15167</td>\n",
       "      <td>TEB</td>\n",
       "      <td>15346</td>\n",
       "      <td>TSS</td>\n",
       "      <td>1</td>\n",
       "      <td>0.0</td>\n",
       "    </tr>\n",
       "    <tr>\n",
       "      <td>4</td>\n",
       "      <td>27Q</td>\n",
       "      <td>0.0</td>\n",
       "      <td>0.0</td>\n",
       "      <td>0.0</td>\n",
       "      <td>44.0</td>\n",
       "      <td>Jet Aviation Flight Services, Inc.</td>\n",
       "      <td>15447</td>\n",
       "      <td>UGN</td>\n",
       "      <td>13232</td>\n",
       "      <td>MDW</td>\n",
       "      <td>1</td>\n",
       "      <td>0.0</td>\n",
       "    </tr>\n",
       "    <tr>\n",
       "      <td>5</td>\n",
       "      <td>27Q</td>\n",
       "      <td>0.0</td>\n",
       "      <td>0.0</td>\n",
       "      <td>0.0</td>\n",
       "      <td>36.0</td>\n",
       "      <td>Jet Aviation Flight Services, Inc.</td>\n",
       "      <td>15498</td>\n",
       "      <td>UT1</td>\n",
       "      <td>14869</td>\n",
       "      <td>SLC</td>\n",
       "      <td>1</td>\n",
       "      <td>0.0</td>\n",
       "    </tr>\n",
       "    <tr>\n",
       "      <td>6</td>\n",
       "      <td>27Q</td>\n",
       "      <td>0.0</td>\n",
       "      <td>0.0</td>\n",
       "      <td>0.0</td>\n",
       "      <td>1616.0</td>\n",
       "      <td>Jet Aviation Flight Services, Inc.</td>\n",
       "      <td>15167</td>\n",
       "      <td>TEB</td>\n",
       "      <td>14843</td>\n",
       "      <td>SJU</td>\n",
       "      <td>1</td>\n",
       "      <td>0.0</td>\n",
       "    </tr>\n",
       "    <tr>\n",
       "      <td>7</td>\n",
       "      <td>WL</td>\n",
       "      <td>0.0</td>\n",
       "      <td>0.0</td>\n",
       "      <td>0.0</td>\n",
       "      <td>477.0</td>\n",
       "      <td>Caribbean Sun Airlines, Inc. d/b/a World Atlan...</td>\n",
       "      <td>10185</td>\n",
       "      <td>AEX</td>\n",
       "      <td>10747</td>\n",
       "      <td>BRO</td>\n",
       "      <td>1</td>\n",
       "      <td>0.0</td>\n",
       "    </tr>\n",
       "    <tr>\n",
       "      <td>8</td>\n",
       "      <td>WL</td>\n",
       "      <td>0.0</td>\n",
       "      <td>0.0</td>\n",
       "      <td>0.0</td>\n",
       "      <td>374.0</td>\n",
       "      <td>Caribbean Sun Airlines, Inc. d/b/a World Atlan...</td>\n",
       "      <td>10185</td>\n",
       "      <td>AEX</td>\n",
       "      <td>14683</td>\n",
       "      <td>SAT</td>\n",
       "      <td>1</td>\n",
       "      <td>0.0</td>\n",
       "    </tr>\n",
       "    <tr>\n",
       "      <td>9</td>\n",
       "      <td>WL</td>\n",
       "      <td>0.0</td>\n",
       "      <td>0.0</td>\n",
       "      <td>0.0</td>\n",
       "      <td>477.0</td>\n",
       "      <td>Caribbean Sun Airlines, Inc. d/b/a World Atlan...</td>\n",
       "      <td>10747</td>\n",
       "      <td>BRO</td>\n",
       "      <td>10185</td>\n",
       "      <td>AEX</td>\n",
       "      <td>1</td>\n",
       "      <td>0.0</td>\n",
       "    </tr>\n",
       "    <tr>\n",
       "      <td>122425</td>\n",
       "      <td>DL</td>\n",
       "      <td>89017.0</td>\n",
       "      <td>41784.0</td>\n",
       "      <td>35131.0</td>\n",
       "      <td>404.0</td>\n",
       "      <td>Delta Air Lines Inc.</td>\n",
       "      <td>10397</td>\n",
       "      <td>ATL</td>\n",
       "      <td>13204</td>\n",
       "      <td>MCO</td>\n",
       "      <td>4</td>\n",
       "      <td>165932.0</td>\n",
       "    </tr>\n",
       "    <tr>\n",
       "      <td>122426</td>\n",
       "      <td>DL</td>\n",
       "      <td>89129.0</td>\n",
       "      <td>215055.0</td>\n",
       "      <td>20008.0</td>\n",
       "      <td>404.0</td>\n",
       "      <td>Delta Air Lines Inc.</td>\n",
       "      <td>13204</td>\n",
       "      <td>MCO</td>\n",
       "      <td>10397</td>\n",
       "      <td>ATL</td>\n",
       "      <td>1</td>\n",
       "      <td>324192.0</td>\n",
       "    </tr>\n",
       "    <tr>\n",
       "      <td>122427</td>\n",
       "      <td>DL</td>\n",
       "      <td>91315.0</td>\n",
       "      <td>92093.0</td>\n",
       "      <td>15741.0</td>\n",
       "      <td>404.0</td>\n",
       "      <td>Delta Air Lines Inc.</td>\n",
       "      <td>13204</td>\n",
       "      <td>MCO</td>\n",
       "      <td>10397</td>\n",
       "      <td>ATL</td>\n",
       "      <td>6</td>\n",
       "      <td>199149.0</td>\n",
       "    </tr>\n",
       "    <tr>\n",
       "      <td>122428</td>\n",
       "      <td>DL</td>\n",
       "      <td>91539.0</td>\n",
       "      <td>37513.0</td>\n",
       "      <td>89503.0</td>\n",
       "      <td>404.0</td>\n",
       "      <td>Delta Air Lines Inc.</td>\n",
       "      <td>10397</td>\n",
       "      <td>ATL</td>\n",
       "      <td>13204</td>\n",
       "      <td>MCO</td>\n",
       "      <td>6</td>\n",
       "      <td>218555.0</td>\n",
       "    </tr>\n",
       "    <tr>\n",
       "      <td>122429</td>\n",
       "      <td>DL</td>\n",
       "      <td>93322.0</td>\n",
       "      <td>138684.0</td>\n",
       "      <td>2829.0</td>\n",
       "      <td>404.0</td>\n",
       "      <td>Delta Air Lines Inc.</td>\n",
       "      <td>13204</td>\n",
       "      <td>MCO</td>\n",
       "      <td>10397</td>\n",
       "      <td>ATL</td>\n",
       "      <td>4</td>\n",
       "      <td>234835.0</td>\n",
       "    </tr>\n",
       "    <tr>\n",
       "      <td>122430</td>\n",
       "      <td>DL</td>\n",
       "      <td>94927.0</td>\n",
       "      <td>48063.0</td>\n",
       "      <td>35613.0</td>\n",
       "      <td>404.0</td>\n",
       "      <td>Delta Air Lines Inc.</td>\n",
       "      <td>10397</td>\n",
       "      <td>ATL</td>\n",
       "      <td>13204</td>\n",
       "      <td>MCO</td>\n",
       "      <td>5</td>\n",
       "      <td>178603.0</td>\n",
       "    </tr>\n",
       "    <tr>\n",
       "      <td>122431</td>\n",
       "      <td>DL</td>\n",
       "      <td>95102.0</td>\n",
       "      <td>125165.0</td>\n",
       "      <td>6280.0</td>\n",
       "      <td>404.0</td>\n",
       "      <td>Delta Air Lines Inc.</td>\n",
       "      <td>13204</td>\n",
       "      <td>MCO</td>\n",
       "      <td>10397</td>\n",
       "      <td>ATL</td>\n",
       "      <td>5</td>\n",
       "      <td>226547.0</td>\n",
       "    </tr>\n",
       "    <tr>\n",
       "      <td>122432</td>\n",
       "      <td>DL</td>\n",
       "      <td>96619.0</td>\n",
       "      <td>64551.0</td>\n",
       "      <td>28077.0</td>\n",
       "      <td>404.0</td>\n",
       "      <td>Delta Air Lines Inc.</td>\n",
       "      <td>10397</td>\n",
       "      <td>ATL</td>\n",
       "      <td>13204</td>\n",
       "      <td>MCO</td>\n",
       "      <td>3</td>\n",
       "      <td>189247.0</td>\n",
       "    </tr>\n",
       "    <tr>\n",
       "      <td>122433</td>\n",
       "      <td>AS</td>\n",
       "      <td>97011.0</td>\n",
       "      <td>473666.0</td>\n",
       "      <td>55963.0</td>\n",
       "      <td>1448.0</td>\n",
       "      <td>Alaska Airlines Inc.</td>\n",
       "      <td>14747</td>\n",
       "      <td>SEA</td>\n",
       "      <td>10299</td>\n",
       "      <td>ANC</td>\n",
       "      <td>6</td>\n",
       "      <td>626640.0</td>\n",
       "    </tr>\n",
       "    <tr>\n",
       "      <td>122434</td>\n",
       "      <td>DL</td>\n",
       "      <td>97329.0</td>\n",
       "      <td>210292.0</td>\n",
       "      <td>5431.0</td>\n",
       "      <td>404.0</td>\n",
       "      <td>Delta Air Lines Inc.</td>\n",
       "      <td>13204</td>\n",
       "      <td>MCO</td>\n",
       "      <td>10397</td>\n",
       "      <td>ATL</td>\n",
       "      <td>3</td>\n",
       "      <td>313052.0</td>\n",
       "    </tr>\n",
       "  </tbody>\n",
       "</table>\n",
       "</div>"
      ],
      "text/plain": [
       "       UNIQUE_CARRIER  PASSENGERS   FREIGHT     MAIL  DISTANCE  \\\n",
       "0                 27Q         0.0       0.0      0.0      35.0   \n",
       "1                 27Q         0.0       0.0      0.0     160.0   \n",
       "2                 27Q         0.0       0.0      0.0     740.0   \n",
       "3                 27Q         0.0       0.0      0.0       9.0   \n",
       "4                 27Q         0.0       0.0      0.0      44.0   \n",
       "5                 27Q         0.0       0.0      0.0      36.0   \n",
       "6                 27Q         0.0       0.0      0.0    1616.0   \n",
       "7                  WL         0.0       0.0      0.0     477.0   \n",
       "8                  WL         0.0       0.0      0.0     374.0   \n",
       "9                  WL         0.0       0.0      0.0     477.0   \n",
       "122425             DL     89017.0   41784.0  35131.0     404.0   \n",
       "122426             DL     89129.0  215055.0  20008.0     404.0   \n",
       "122427             DL     91315.0   92093.0  15741.0     404.0   \n",
       "122428             DL     91539.0   37513.0  89503.0     404.0   \n",
       "122429             DL     93322.0  138684.0   2829.0     404.0   \n",
       "122430             DL     94927.0   48063.0  35613.0     404.0   \n",
       "122431             DL     95102.0  125165.0   6280.0     404.0   \n",
       "122432             DL     96619.0   64551.0  28077.0     404.0   \n",
       "122433             AS     97011.0  473666.0  55963.0    1448.0   \n",
       "122434             DL     97329.0  210292.0   5431.0     404.0   \n",
       "\n",
       "                                      UNIQUE_CARRIER_NAME  ORIGIN_AIRPORT_ID  \\\n",
       "0                      Jet Aviation Flight Services, Inc.              15030   \n",
       "1                      Jet Aviation Flight Services, Inc.              15070   \n",
       "2                      Jet Aviation Flight Services, Inc.              15167   \n",
       "3                      Jet Aviation Flight Services, Inc.              15167   \n",
       "4                      Jet Aviation Flight Services, Inc.              15447   \n",
       "5                      Jet Aviation Flight Services, Inc.              15498   \n",
       "6                      Jet Aviation Flight Services, Inc.              15167   \n",
       "7       Caribbean Sun Airlines, Inc. d/b/a World Atlan...              10185   \n",
       "8       Caribbean Sun Airlines, Inc. d/b/a World Atlan...              10185   \n",
       "9       Caribbean Sun Airlines, Inc. d/b/a World Atlan...              10747   \n",
       "122425                               Delta Air Lines Inc.              10397   \n",
       "122426                               Delta Air Lines Inc.              13204   \n",
       "122427                               Delta Air Lines Inc.              13204   \n",
       "122428                               Delta Air Lines Inc.              10397   \n",
       "122429                               Delta Air Lines Inc.              13204   \n",
       "122430                               Delta Air Lines Inc.              10397   \n",
       "122431                               Delta Air Lines Inc.              13204   \n",
       "122432                               Delta Air Lines Inc.              10397   \n",
       "122433                               Alaska Airlines Inc.              14747   \n",
       "122434                               Delta Air Lines Inc.              13204   \n",
       "\n",
       "       ORIGIN  DEST_AIRPORT_ID DEST  MONTH      SUM_  \n",
       "0         SUA            14027  PBI      1       0.0  \n",
       "1         SWF            10540  BED      1       0.0  \n",
       "2         TEB            11376  DPA      1       0.0  \n",
       "3         TEB            15346  TSS      1       0.0  \n",
       "4         UGN            13232  MDW      1       0.0  \n",
       "5         UT1            14869  SLC      1       0.0  \n",
       "6         TEB            14843  SJU      1       0.0  \n",
       "7         AEX            10747  BRO      1       0.0  \n",
       "8         AEX            14683  SAT      1       0.0  \n",
       "9         BRO            10185  AEX      1       0.0  \n",
       "122425    ATL            13204  MCO      4  165932.0  \n",
       "122426    MCO            10397  ATL      1  324192.0  \n",
       "122427    MCO            10397  ATL      6  199149.0  \n",
       "122428    ATL            13204  MCO      6  218555.0  \n",
       "122429    MCO            10397  ATL      4  234835.0  \n",
       "122430    ATL            13204  MCO      5  178603.0  \n",
       "122431    MCO            10397  ATL      5  226547.0  \n",
       "122432    ATL            13204  MCO      3  189247.0  \n",
       "122433    SEA            10299  ANC      6  626640.0  \n",
       "122434    MCO            10397  ATL      3  313052.0  "
      ]
     },
     "execution_count": 261,
     "metadata": {},
     "output_type": "execute_result"
    }
   ],
   "source": [
    "pd.concat([df_top, df_bottom], axis=0)"
   ]
  },
  {
   "cell_type": "markdown",
   "metadata": {},
   "source": [
    "<hr>"
   ]
  },
  {
   "cell_type": "markdown",
   "metadata": {},
   "source": [
    "## Plotting results\n",
    "Sometimes it is better to visualize the results we have processed. Pandas *DataFrame* has a `DataFrame.plot()` method which allows for this purpose. The plotting library used by pandas is **matplotlib**. "
   ]
  },
  {
   "cell_type": "markdown",
   "metadata": {},
   "source": [
    "<div class=\"alert alert-info\" role=\"alert\">\n",
    "    \n",
    "<img src=\"./icons/list.png\"  width=\"20\" height=\"20\" align=\"left\"> &nbsp;  **Exercise 9** \n",
    "\n",
    "- show the number of flies for the different months of the year.\n",
    "- add the title and change the size of the plot.\n",
    "\n",
    "</div>"
   ]
  },
  {
   "cell_type": "markdown",
   "metadata": {},
   "source": [
    "<div class=\"alert alert-success\" role=\"alert\">\n",
    "    \n",
    "<img src=\"./icons/lightbulb.png\"  width=\"20\" height=\"20\" align=\"left\"> &nbsp; **MatplotLib Tip 1**: You can create a new figure with the `f = plt.figure(figsize=[10, 5])` and use it to add a subplot `ax = f.add_subplot()` which returns an *Axes* object. \n",
    "\n",
    "Please note:\n",
    "- The subplot can be passed to `DataFrame.plot()` call. \n",
    "- The referenced *Axes* object can then be used to set properties of the plot such as the title.\n",
    "\n",
    "For more references see the [official api](https://matplotlib.org/3.1.1/api/axes_api.html#axis-labels-title-and-legend) doc for Axes.\n",
    "\n",
    "</div>"
   ]
  },
  {
   "cell_type": "code",
   "execution_count": 263,
   "metadata": {},
   "outputs": [
    {
     "data": {
      "text/html": [
       "<div>\n",
       "<style scoped>\n",
       "    .dataframe tbody tr th:only-of-type {\n",
       "        vertical-align: middle;\n",
       "    }\n",
       "\n",
       "    .dataframe tbody tr th {\n",
       "        vertical-align: top;\n",
       "    }\n",
       "\n",
       "    .dataframe thead th {\n",
       "        text-align: right;\n",
       "    }\n",
       "</style>\n",
       "<table border=\"1\" class=\"dataframe\">\n",
       "  <thead>\n",
       "    <tr style=\"text-align: right;\">\n",
       "      <th></th>\n",
       "      <th>UNIQUE_CARRIER</th>\n",
       "      <th>PASSENGERS</th>\n",
       "      <th>FREIGHT</th>\n",
       "      <th>MAIL</th>\n",
       "      <th>DISTANCE</th>\n",
       "      <th>UNIQUE_CARRIER_NAME</th>\n",
       "      <th>ORIGIN_AIRPORT_ID</th>\n",
       "      <th>ORIGIN</th>\n",
       "      <th>DEST_AIRPORT_ID</th>\n",
       "      <th>DEST</th>\n",
       "      <th>SUM_</th>\n",
       "    </tr>\n",
       "    <tr>\n",
       "      <th>MONTH</th>\n",
       "      <th></th>\n",
       "      <th></th>\n",
       "      <th></th>\n",
       "      <th></th>\n",
       "      <th></th>\n",
       "      <th></th>\n",
       "      <th></th>\n",
       "      <th></th>\n",
       "      <th></th>\n",
       "      <th></th>\n",
       "      <th></th>\n",
       "    </tr>\n",
       "  </thead>\n",
       "  <tbody>\n",
       "    <tr>\n",
       "      <td>1</td>\n",
       "      <td>20797</td>\n",
       "      <td>20797</td>\n",
       "      <td>20797</td>\n",
       "      <td>20797</td>\n",
       "      <td>20797</td>\n",
       "      <td>20797</td>\n",
       "      <td>20797</td>\n",
       "      <td>20797</td>\n",
       "      <td>20797</td>\n",
       "      <td>20797</td>\n",
       "      <td>20797</td>\n",
       "    </tr>\n",
       "    <tr>\n",
       "      <td>2</td>\n",
       "      <td>19245</td>\n",
       "      <td>19245</td>\n",
       "      <td>19245</td>\n",
       "      <td>19245</td>\n",
       "      <td>19245</td>\n",
       "      <td>19245</td>\n",
       "      <td>19245</td>\n",
       "      <td>19245</td>\n",
       "      <td>19245</td>\n",
       "      <td>19245</td>\n",
       "      <td>19245</td>\n",
       "    </tr>\n",
       "    <tr>\n",
       "      <td>3</td>\n",
       "      <td>20413</td>\n",
       "      <td>20413</td>\n",
       "      <td>20413</td>\n",
       "      <td>20413</td>\n",
       "      <td>20413</td>\n",
       "      <td>20413</td>\n",
       "      <td>20413</td>\n",
       "      <td>20413</td>\n",
       "      <td>20413</td>\n",
       "      <td>20413</td>\n",
       "      <td>20413</td>\n",
       "    </tr>\n",
       "    <tr>\n",
       "      <td>4</td>\n",
       "      <td>20285</td>\n",
       "      <td>20285</td>\n",
       "      <td>20285</td>\n",
       "      <td>20285</td>\n",
       "      <td>20285</td>\n",
       "      <td>20285</td>\n",
       "      <td>20285</td>\n",
       "      <td>20285</td>\n",
       "      <td>20285</td>\n",
       "      <td>20285</td>\n",
       "      <td>20285</td>\n",
       "    </tr>\n",
       "    <tr>\n",
       "      <td>5</td>\n",
       "      <td>20274</td>\n",
       "      <td>20274</td>\n",
       "      <td>20274</td>\n",
       "      <td>20274</td>\n",
       "      <td>20274</td>\n",
       "      <td>20274</td>\n",
       "      <td>20274</td>\n",
       "      <td>20274</td>\n",
       "      <td>20274</td>\n",
       "      <td>20274</td>\n",
       "      <td>20274</td>\n",
       "    </tr>\n",
       "    <tr>\n",
       "      <td>6</td>\n",
       "      <td>21421</td>\n",
       "      <td>21421</td>\n",
       "      <td>21421</td>\n",
       "      <td>21421</td>\n",
       "      <td>21421</td>\n",
       "      <td>21421</td>\n",
       "      <td>21421</td>\n",
       "      <td>21421</td>\n",
       "      <td>21421</td>\n",
       "      <td>21421</td>\n",
       "      <td>21421</td>\n",
       "    </tr>\n",
       "  </tbody>\n",
       "</table>\n",
       "</div>"
      ],
      "text/plain": [
       "       UNIQUE_CARRIER  PASSENGERS  FREIGHT   MAIL  DISTANCE  \\\n",
       "MONTH                                                         \n",
       "1               20797       20797    20797  20797     20797   \n",
       "2               19245       19245    19245  19245     19245   \n",
       "3               20413       20413    20413  20413     20413   \n",
       "4               20285       20285    20285  20285     20285   \n",
       "5               20274       20274    20274  20274     20274   \n",
       "6               21421       21421    21421  21421     21421   \n",
       "\n",
       "       UNIQUE_CARRIER_NAME  ORIGIN_AIRPORT_ID  ORIGIN  DEST_AIRPORT_ID   DEST  \\\n",
       "MONTH                                                                           \n",
       "1                    20797              20797   20797            20797  20797   \n",
       "2                    19245              19245   19245            19245  19245   \n",
       "3                    20413              20413   20413            20413  20413   \n",
       "4                    20285              20285   20285            20285  20285   \n",
       "5                    20274              20274   20274            20274  20274   \n",
       "6                    21421              21421   21421            21421  21421   \n",
       "\n",
       "        SUM_  \n",
       "MONTH         \n",
       "1      20797  \n",
       "2      19245  \n",
       "3      20413  \n",
       "4      20285  \n",
       "5      20274  \n",
       "6      21421  "
      ]
     },
     "execution_count": 263,
     "metadata": {},
     "output_type": "execute_result"
    }
   ],
   "source": [
    "df.groupby(\"MONTH\").count()\n"
   ]
  },
  {
   "cell_type": "code",
   "execution_count": 279,
   "metadata": {},
   "outputs": [],
   "source": [
    "monthly_flies = (\n",
    "    df.groupby(\"MONTH\")\n",
    "    .count()\n",
    "    .loc[:, [\"UNIQUE_CARRIER\"]] # select a column\n",
    "    .rename({\"UNIQUE_CARRIER\": \"COUNT\"}, axis=1) # rename columns with axis=1\n",
    "    .reset_index() # reset the MONTH index\n",
    ")"
   ]
  },
  {
   "cell_type": "code",
   "execution_count": 282,
   "metadata": {},
   "outputs": [
    {
     "data": {
      "image/png": "[encoded data removed]",
      "text/plain": [
       "<Figure size 720x360 with 1 Axes>"
      ]
     },
     "metadata": {
      "needs_background": "light"
     },
     "output_type": "display_data"
    }
   ],
   "source": [
    "ax = monthly_flies.set_index(\"MONTH\").plot(figsize=(10, 5))\n",
    "_ = ax.set_title(\"Number of flights by month\")\n",
    "_ = ax.set_xticklabels([\"Jen\", \"Feb\", \"Mar\", \"Apr\", \"May\", \"Jun\"])"
   ]
  },
  {
   "cell_type": "code",
   "execution_count": 283,
   "metadata": {},
   "outputs": [
    {
     "data": {
      "image/png": "[encoded data removed]",
      "text/plain": [
       "<Figure size 720x360 with 1 Axes>"
      ]
     },
     "metadata": {
      "needs_background": "light"
     },
     "output_type": "display_data"
    }
   ],
   "source": [
    "ax = monthly_flies.set_index(\"MONTH\").plot(figsize=(10, 5), kind=\"bar\")\n",
    "_ = ax.set_title(\"Number of flights by month\")\n",
    "_ = ax.set_xticklabels([\"Jen\", \"Feb\", \"Mar\", \"Apr\", \"May\", \"Jun\"])"
   ]
  },
  {
   "cell_type": "code",
   "execution_count": 278,
   "metadata": {},
   "outputs": [
    {
     "data": {
      "image/png": "[encoded data removed]",
      "text/plain": [
       "<Figure size 720x360 with 1 Axes>"
      ]
     },
     "metadata": {
      "needs_background": "light"
     },
     "output_type": "display_data"
    }
   ],
   "source": [
    "f = plt.figure(figsize=[10, 5])\n",
    "ax = f.add_subplot()\n",
    "_ = monthly_flies.set_index(\"MONTH\").plot(ax=ax)\n",
    "_ = ax.set_title(\"Number of flights by month\")\n",
    "_ = ax.set_xticklabels([\"Jen\", \"Feb\", \"Mar\", \"Apr\", \"May\", \"Jun\"])"
   ]
  },
  {
   "cell_type": "code",
   "execution_count": 286,
   "metadata": {},
   "outputs": [],
   "source": [
    "df.to_csv(\"./my_example.csv\")"
   ]
  },
  {
   "cell_type": "code",
   "execution_count": 287,
   "metadata": {},
   "outputs": [
    {
     "name": "stdout",
     "output_type": "stream",
     "text": [
      " cache\t\t\t\t\t\t   images\r\n",
      " environment.yml\t\t\t\t   my_example.csv\r\n",
      "'Hands-On 1 Pandas Tutorial.ipynb'\t\t   README.md\r\n",
      "'Hands-On 1 Pandas Tutorial Live 11-11-20.ipynb'   requirements.txt\r\n",
      "'Hands-On 2  Supervised.ipynb'\t\t\t   solutions\r\n",
      "'Hands-On 3 Unsupervised.ipynb'\t\t\t   solved\r\n",
      "'Hands-On 4 Model selection.ipynb'\t\t   t100_domestic_market_bts.zip\r\n",
      " icons\r\n"
     ]
    }
   ],
   "source": [
    "! ls "
   ]
  },
  {
   "cell_type": "code",
   "execution_count": 288,
   "metadata": {},
   "outputs": [
    {
     "name": "stdout",
     "output_type": "stream",
     "text": [
      ",UNIQUE_CARRIER,PASSENGERS,FREIGHT,MAIL,DISTANCE,UNIQUE_CARRIER_NAME,ORIGIN_AIRPORT_ID,ORIGIN,DEST_AIRPORT_ID,DEST,MONTH,SUM_\r\n",
      "0,27Q,0.0,0.0,0.0,35.0,\"Jet Aviation Flight Services, Inc.\",15030,SUA,14027,PBI,1,0.0\r\n",
      "1,27Q,0.0,0.0,0.0,160.0,\"Jet Aviation Flight Services, Inc.\",15070,SWF,10540,BED,1,0.0\r\n",
      "2,27Q,0.0,0.0,0.0,740.0,\"Jet Aviation Flight Services, Inc.\",15167,TEB,11376,DPA,1,0.0\r\n",
      "3,27Q,0.0,0.0,0.0,9.0,\"Jet Aviation Flight Services, Inc.\",15167,TEB,15346,TSS,1,0.0\r\n",
      "4,27Q,0.0,0.0,0.0,44.0,\"Jet Aviation Flight Services, Inc.\",15447,UGN,13232,MDW,1,0.0\r\n",
      "5,27Q,0.0,0.0,0.0,36.0,\"Jet Aviation Flight Services, Inc.\",15498,UT1,14869,SLC,1,0.0\r\n",
      "6,27Q,0.0,0.0,0.0,1616.0,\"Jet Aviation Flight Services, Inc.\",15167,TEB,14843,SJU,1,0.0\r\n",
      "7,WL,0.0,0.0,0.0,477.0,\"Caribbean Sun Airlines, Inc. d/b/a World Atlantic Airlines\",10185,AEX,10747,BRO,1,0.0\r\n",
      "8,WL,0.0,0.0,0.0,374.0,\"Caribbean Sun Airlines, Inc. d/b/a World Atlantic Airlines\",10185,AEX,14683,SAT,1,0.0\r\n",
      "cat: write error: Broken pipe\r\n"
     ]
    }
   ],
   "source": [
    "! cat my_example.csv | head -n 10"
   ]
  },
  {
   "cell_type": "markdown",
   "metadata": {},
   "source": [
    "## Homeworks"
   ]
  },
  {
   "cell_type": "markdown",
   "metadata": {},
   "source": [
    "<div class=\"alert alert-danger\" role=\"alert\">\n",
    "    \n",
    "<img src=\"./icons/chemistry.png\"  width=\"20\" height=\"20\" align=\"left\"> &nbsp;  **Task 1**:  Plot the top 5 carriers based on their total distance.\n",
    "[**SOLUTION**](./solutions/handson1/solution_1.py)\n",
    "\n",
    "</div>"
   ]
  },
  {
   "cell_type": "code",
   "execution_count": null,
   "metadata": {},
   "outputs": [],
   "source": []
  },
  {
   "cell_type": "code",
   "execution_count": null,
   "metadata": {},
   "outputs": [],
   "source": []
  },
  {
   "cell_type": "code",
   "execution_count": null,
   "metadata": {},
   "outputs": [],
   "source": []
  },
  {
   "cell_type": "markdown",
   "metadata": {},
   "source": [
    "<div class=\"alert alert-danger\" role=\"alert\">\n",
    "    \n",
    "<img src=\"./icons/chemistry.png\"  width=\"20\" height=\"20\" align=\"left\"> &nbsp;  **Task 2**:  Plot the top 5 destinations based on the total number of passengers in April.\n",
    "[**SOLUTION**](./solutions/handson1/solution_2.py)\n",
    "</div>"
   ]
  },
  {
   "cell_type": "code",
   "execution_count": null,
   "metadata": {},
   "outputs": [],
   "source": []
  },
  {
   "cell_type": "code",
   "execution_count": null,
   "metadata": {},
   "outputs": [],
   "source": []
  },
  {
   "cell_type": "code",
   "execution_count": null,
   "metadata": {},
   "outputs": [],
   "source": []
  },
  {
   "cell_type": "markdown",
   "metadata": {},
   "source": [
    "<div class=\"alert alert-danger\" role=\"alert\">\n",
    "    \n",
    "<img src=\"./icons/chemistry.png\"  width=\"20\" height=\"20\" align=\"left\"> &nbsp;  **Task 3**:  Check the most crowded route (origin - destination) for *PASSENGERS*, *FREIGHT* and *MAIL*.\n",
    "[**SOLUTION**](./solutions/handson1/solution_3.py)\n",
    "</div>"
   ]
  },
  {
   "cell_type": "code",
   "execution_count": null,
   "metadata": {},
   "outputs": [],
   "source": []
  },
  {
   "cell_type": "code",
   "execution_count": null,
   "metadata": {},
   "outputs": [],
   "source": []
  },
  {
   "cell_type": "code",
   "execution_count": null,
   "metadata": {},
   "outputs": [],
   "source": []
  },
  {
   "cell_type": "markdown",
   "metadata": {},
   "source": [
    "<div class=\"alert alert-danger\" role=\"alert\">\n",
    "    \n",
    "<img src=\"./icons/chemistry.png\"  width=\"20\" height=\"20\" align=\"left\"> &nbsp;  **Task 4**:  Check if the number of outgoing passengers equals the total number of incoming passengers in all airports.\n",
    "[**SOLUTION**](./solutions/handson1/solution_4.py)\n",
    "\n",
    "</div>"
   ]
  },
  {
   "cell_type": "code",
   "execution_count": null,
   "metadata": {},
   "outputs": [],
   "source": []
  },
  {
   "cell_type": "code",
   "execution_count": null,
   "metadata": {},
   "outputs": [],
   "source": []
  },
  {
   "cell_type": "code",
   "execution_count": null,
   "metadata": {},
   "outputs": [],
   "source": []
  },
  {
   "cell_type": "markdown",
   "metadata": {
    "deletable": false,
    "editable": false,
    "run_control": {
     "frozen": true
    }
   },
   "source": [
    "<div hidden=True>\n",
    "    <img src=\"./icons/list.png\"  width=\"20\" height=\"20\" align=\"left\"> &nbsp; Icon made by <a href=\"https://www.flaticon.com/authors/smashicons\" title=\"Smashicons\">Smashicons</a> from <a href=\"https://www.flaticon.com/\"             title=\"Flaticon\">www.flaticon.com</a>\n",
    "\n",
    "\n",
    "<img src=\"./icons/lightbulb.png\"  width=\"20\" height=\"20\" align=\"left\"> &nbsp;Icon made by <a href=\"https://www.flaticon.com/authors/pixelmeetup\" title=\"Pixelmeetup\">Pixelmeetup</a> from <a href=\"https://www.flaticon.com/\"             title=\"Flaticon\">www.flaticon.com</a>\n",
    "\n",
    "<img src=\"./icons/new.png\"  width=\"20\" height=\"20\" align=\"left\"> &nbsp; Icon made by <a href=\"https://www.flaticon.com/authors/pixel-perfect\" title=\"Pixel perfect\">Pixel perfect</a> from <a href=\"https://www.flaticon.com/\"             title=\"Flaticon\">www.flaticon.com</a>\n",
    "\n",
    "<img src=\"./icons/chemistry.png\"  width=\"20\" height=\"20\" align=\"left\"> &nbsp; Icon made by <a href=\"https://www.flaticon.com/authors/popcorns-arts\" title=\"Icon Pond\">Icon Pond</a> from <a href=\"https://www.flaticon.com/\"             title=\"Flaticon\">www.flaticon.com</a></div>\n",
    "\n",
    "</div>"
   ]
  }
 ],
 "metadata": {
  "kernelspec": {
   "display_name": "Python 3",
   "language": "python",
   "name": "python3"
  },
  "language_info": {
   "codemirror_mode": {
    "name": "ipython",
    "version": 3
   },
   "file_extension": ".py",
   "mimetype": "text/x-python",
   "name": "python",
   "nbconvert_exporter": "python",
   "pygments_lexer": "ipython3",
   "version": "3.7.0"
  },
  "latex_envs": {
   "LaTeX_envs_menu_present": true,
   "autoclose": false,
   "autocomplete": true,
   "bibliofile": "biblio.bib",
   "cite_by": "apalike",
   "current_citInitial": 1,
   "eqLabelWithNumbers": true,
   "eqNumInitial": 1,
   "hotkeys": {
    "equation": "Ctrl-E",
    "itemize": "Ctrl-I"
   },
   "labels_anchors": false,
   "latex_user_defs": false,
   "report_style_numbering": false,
   "user_envs_cfg": false
  },
  "toc": {
   "base_numbering": 1,
   "nav_menu": {},
   "number_sections": true,
   "sideBar": true,
   "skip_h1_title": false,
   "title_cell": "Table of Contents",
   "title_sidebar": "Contents",
   "toc_cell": false,
   "toc_position": {
    "height": "calc(100% - 180px)",
    "left": "10px",
    "top": "150px",
    "width": "296.594px"
   },
   "toc_section_display": true,
   "toc_window_display": true
  },
  "varInspector": {
   "cols": {
    "lenName": 16,
    "lenType": 16,
    "lenVar": 40
   },
   "kernels_config": {
    "python": {
     "delete_cmd_postfix": "",
     "delete_cmd_prefix": "del ",
     "library": "var_list.py",
     "varRefreshCmd": "print(var_dic_list())"
    },
    "r": {
     "delete_cmd_postfix": ") ",
     "delete_cmd_prefix": "rm(",
     "library": "var_list.r",
     "varRefreshCmd": "cat(var_dic_list()) "
    }
   },
   "types_to_exclude": [
    "module",
    "function",
    "builtin_function_or_method",
    "instance",
    "_Feature"
   ],
   "window_display": false
  }
 },
 "nbformat": 4,
 "nbformat_minor": 2
}
