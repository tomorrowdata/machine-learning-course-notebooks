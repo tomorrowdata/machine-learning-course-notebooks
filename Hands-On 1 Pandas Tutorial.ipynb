{
 "cells": [
  {
   "cell_type": "markdown",
   "metadata": {
    "deletable": false,
    "editable": false,
    "run_control": {
     "frozen": true
    }
   },
   "source": [
    "<div hidden=True>\n",
    "    author: Marco Angius\n",
    "    company: TomorrowData srl\n",
    "    mail: marco.anguis@tomorrowdata.io\n",
    "    notebook-version: oct19\n",
    "    \n",
    "</div>"
   ]
  },
  {
   "cell_type": "markdown",
   "metadata": {},
   "source": [
    "# Hands-on 1: Pandas\n",
    "\n",
    "This section is meant to learn the most used pandas APIs. \n",
    "\n",
    "From the official [site](https://pandas.pydata.org/): \n",
    "> Pandas is an open source, BSD-licensed library providing high-performance, easy-to-use data structures and data analysis tools for the Python programming language.\n",
    "\n",
    "The examples provided in this notebook are based on data coming from the BTP (*Bureau of Transportation Statistics*) concerning **Air Carrier Statistics** of U.S Carriers retrieved [here](https://www.transtats.bts.gov/tables.asp?Table_ID=258&SYS_Table_Name=T_T100D_MARKET_US_CARRIER_ONLY). \n",
    "\n",
    "In detail the dataset is based on the *T-100 Domestic Market*: \n",
    "> This table contains domestic market data reported by U.S. air carriers, including carrier, origin, destination, and service class for enplaned passengers, freight and mail when both origin and destination airports are located within the boundaries of the United States and its territories.\n",
    "</div>\n",
    "\n",
    "## T-100 Domestic Market Dataset\n",
    "\n",
    "\n",
    "Details of selectable fields for the downloaded table can be found [here](https://www.transtats.bts.gov/DL_SelectFields.asp). \n",
    "\n",
    "The pre-downloaded data has the following columns: \n",
    "1. UniqueCarrier\n",
    "2. UniqueCarrierName\n",
    "3. CarrierRegion\n",
    "4. OriginAirportID\n",
    "5. Origin\n",
    "6. OriginCityName\n",
    "7. DestAirportID\n",
    "8. Dest\n",
    "9. DestCityName\n",
    "10. Month\n",
    "11. Passengeres\n",
    "12. Freight\n",
    "13. Mail\n",
    "14. Distance\n",
    "\n",
    "Only 2019 data has been downloaded in zip format. "
   ]
  },
  {
   "cell_type": "markdown",
   "metadata": {},
   "source": [
    "<hr>"
   ]
  },
  {
   "cell_type": "code",
   "execution_count": 68,
   "metadata": {
    "deletable": false,
    "editable": false
   },
   "outputs": [],
   "source": [
    "import pandas as pd\n",
    "import numpy as np\n",
    "import matplotlib.pyplot as plt"
   ]
  },
  {
   "cell_type": "markdown",
   "metadata": {},
   "source": [
    "## Load and Manipulate DataFrames with pandas\n",
    "\n",
    "> Pandas is well suited for many different kinds of data:\n",
    ">- Tabular data with heterogeneously-typed columns, as in an SQL table or Excel spreadsheet\n",
    ">- Ordered and unordered (not necessarily fixed-frequency) time series data.\n",
    ">- Arbitrary matrix data (homogeneously typed or heterogeneous) with row and column labels\n",
    ">- Any other form of observational / statistical data sets. The data actually need not be labeled at all to be placed into a pandas data structure\n",
    "\n",
    "Pandas allows for loading data from different formats (csv, parquet, json, excel...).\n",
    "The two main data structure used in padas are: \n",
    "- `pandas.DataFrame`: 2D labeled, size-mutable structure with heterogeneously -typed columns (tabular data)\n",
    "- `pandas.Series`: 1D labeled homogeneously-typed array (suited for time series)"
   ]
  },
  {
   "cell_type": "markdown",
   "metadata": {},
   "source": [
    "<hr>"
   ]
  },
  {
   "cell_type": "markdown",
   "metadata": {},
   "source": [
    "<div class=\"alert alert-info\" role=\"alert\">\n",
    "    \n",
    "<img src=\"./icons/list.png\"  width=\"20\" height=\"20\" align=\"left\"> &nbsp;  **Exercise 1**\n",
    "- load the *t100_domestic_market* dataset using the `pd.read_csv()`.\n",
    "- display information about the dataframe using `df.info()`.\n",
    "- show the first 5 rows of the dataframe using `df.head()`.\n",
    "\n",
    "Do columns contain null values?\n",
    "\n",
    "</div>"
   ]
  },
  {
   "cell_type": "markdown",
   "metadata": {},
   "source": [
    "<div class=\"alert alert-success\" role=\"alert\">\n",
    "    \n",
    "<img src=\"./icons/lightbulb.png\"  width=\"20\" height=\"20\" align=\"left\"> &nbsp; **Jupyter Notebooks Tip 1**: you can press `<tab>` to autocomplete or list the possible methods for an object.\n",
    "\n",
    "</div>"
   ]
  },
  {
   "cell_type": "code",
   "execution_count": 2,
   "metadata": {
    "deletable": false,
    "editable": false
   },
   "outputs": [],
   "source": [
    "AIRLINE_DATA = \"./t100_domestic_market_bts.zip\""
   ]
  },
  {
   "cell_type": "code",
   "execution_count": 3,
   "metadata": {},
   "outputs": [],
   "source": [
    "df = pd.read_csv(AIRLINE_DATA)"
   ]
  },
  {
   "cell_type": "code",
   "execution_count": 4,
   "metadata": {},
   "outputs": [
    {
     "name": "stdout",
     "output_type": "stream",
     "text": [
      "<class 'pandas.core.frame.DataFrame'>\n",
      "RangeIndex: 122435 entries, 0 to 122434\n",
      "Data columns (total 12 columns):\n",
      "PASSENGERS             122435 non-null float64\n",
      "FREIGHT                122435 non-null float64\n",
      "MAIL                   122435 non-null float64\n",
      "DISTANCE               122435 non-null float64\n",
      "UNIQUE_CARRIER         122435 non-null object\n",
      "UNIQUE_CARRIER_NAME    122435 non-null object\n",
      "ORIGIN_AIRPORT_ID      122435 non-null int64\n",
      "ORIGIN                 122435 non-null object\n",
      "DEST_AIRPORT_ID        122435 non-null int64\n",
      "DEST                   122435 non-null object\n",
      "MONTH                  122435 non-null int64\n",
      "Unnamed: 11            0 non-null float64\n",
      "dtypes: float64(5), int64(3), object(4)\n",
      "memory usage: 11.2+ MB\n"
     ]
    }
   ],
   "source": [
    "df.info()"
   ]
  },
  {
   "cell_type": "markdown",
   "metadata": {},
   "source": [
    "<div class=\"alert alert-success\" role=\"alert\">\n",
    "    \n",
    "<img src=\"./icons/lightbulb.png\"  width=\"20\" height=\"20\" align=\"left\"> &nbsp; **Pandas Tip 1**: it is possible to show statistics about the current dataframe `df.describe()` for numerical-only features. \n",
    "It provides: \n",
    "<ul>\n",
    "    <li>count: number of non-null samples in the dataframe for the given column</li>\n",
    "    <li>mean: mean values for the given column</li>\n",
    "    <li>std: standard deviation for the given column</li>\n",
    "    <li>min/max: min/max values for the given column</li>\n",
    "    <li>25%, 50%, 75%: percentiles for the given column</li>\n",
    "</ul>\n",
    "\n",
    "Percentiles are useful to check under which value a specified subset (percentage) of the observed data falls.\n",
    "\n",
    "</div>"
   ]
  },
  {
   "cell_type": "code",
   "execution_count": null,
   "metadata": {},
   "outputs": [],
   "source": []
  },
  {
   "cell_type": "markdown",
   "metadata": {},
   "source": [
    "<hr>"
   ]
  },
  {
   "cell_type": "markdown",
   "metadata": {},
   "source": [
    "<div class=\"alert alert-warning\" role=\"alert\">\n",
    "    \n",
    "<img src=\"./icons/new.png\"  width=\"20\" height=\"20\" align=\"left\"> &nbsp;  **NumPy** \n",
    "\n",
    "NumPy is the fundamental package for scientific computing with Python. It contains among other things:\n",
    "- a powerful N-dimensional array object\n",
    "- sophisticated (broadcasting) functions\n",
    "- tools for integrating C/C++ and Fortran code\n",
    "- useful linear algebra, Fourier transform, and random number capabilities\n",
    "\n",
    "Besides its obvious scientific uses, NumPy can also be used as an efficient multi-dimensional container of generic data. Arbitrary data-types can be defined. This allows NumPy to seamlessly and speedily integrate with a wide variety of databases.\n",
    "\n",
    "</div>"
   ]
  },
  {
   "cell_type": "markdown",
   "metadata": {},
   "source": [
    "\n",
    "<div align=\"center\">Example of slicing in pandas (same while using numpy arrays).</div>\n",
    "<img src=\"./images/nparray_slicing.png\"  width=\"900\" height=\"600\" align=\"center\">"
   ]
  },
  {
   "cell_type": "markdown",
   "metadata": {},
   "source": [
    "<div class=\"alert alert-info\" role=\"alert\">\n",
    "    \n",
    "<img src=\"./icons/list.png\"  width=\"20\" height=\"20\" align=\"left\"> &nbsp;  **Exercise 2**\n",
    "\n",
    "As you have probably observed there is a strange column named `Unnamed: 11`. We can drop it! \n",
    "- drop the column using `df.drop()`. Use the *inplace* parameter if you want!\n",
    "\n",
    "<br>\n",
    "\n",
    "The general syntax for slicing a collection in python is `[start:stop:step]`. If start or stop is omitted the default value is the first or last element respectively.  \n",
    "\n",
    "\n",
    "- show the first five rows to see if the column is still present. Use slicing `df[:5]`.\n",
    "- what if we want to show the last 5 rows? \n",
    "- what about the last 5 rows in descending order?\n",
    "\n",
    "<br>\n",
    "\n",
    "Once indexed, it is possible to locate rows by means of their integer position (use `DataFrame.iloc[]`) or by means of the index value (use `df.loc[]`). \n",
    "\n",
    "- set an index, for example the *UNIQUE_CARRIER* column. Use `df.set_index()`.\n",
    "- now try to find all rows related with the carrier id *27Q*. \n",
    "\n",
    "</div>"
   ]
  },
  {
   "cell_type": "markdown",
   "metadata": {},
   "source": [
    "<div class=\"alert alert-success\" role=\"alert\">\n",
    "    \n",
    "<img src=\"./icons/lightbulb.png\"  width=\"20\" height=\"20\" align=\"left\"> &nbsp; **Jupyter Notebooks Tip 2**: you can press `<left-shift> + <tab>` while the cursor is in between a function parenthesis to show the doc related with it\n",
    "\n",
    "</div>"
   ]
  },
  {
   "cell_type": "code",
   "execution_count": null,
   "metadata": {},
   "outputs": [],
   "source": []
  },
  {
   "cell_type": "code",
   "execution_count": null,
   "metadata": {},
   "outputs": [],
   "source": []
  },
  {
   "cell_type": "code",
   "execution_count": null,
   "metadata": {},
   "outputs": [],
   "source": []
  },
  {
   "cell_type": "code",
   "execution_count": null,
   "metadata": {},
   "outputs": [],
   "source": []
  },
  {
   "cell_type": "code",
   "execution_count": null,
   "metadata": {},
   "outputs": [],
   "source": []
  },
  {
   "cell_type": "code",
   "execution_count": null,
   "metadata": {},
   "outputs": [],
   "source": []
  },
  {
   "cell_type": "markdown",
   "metadata": {},
   "source": [
    "<hr>"
   ]
  },
  {
   "cell_type": "markdown",
   "metadata": {},
   "source": [
    "<div class=\"alert alert-info\" role=\"alert\">\n",
    "    \n",
    "<img src=\"./icons/list.png\"  width=\"20\" height=\"20\" align=\"left\"> &nbsp;  **Exercise 3** \n",
    "\n",
    "A column in a panda *DataFrame* can contain whatever type, also python list or dictionaries.\n",
    "\n",
    "It is also possible to select a single column or a subset of the columns. In any case, when a single column is selected what is returned is a `pandas.Series` object. Instead when multiple columns are selected a `pandas.DataFrame` is returned.\n",
    "\n",
    "- select the *UNIQUE_CARRIER_NAME* column. Use `df[\"column_name\"]` for selecting a single column.\n",
    "- select multiple columns by passing a list of column names instead of a single column name.\n",
    "\n",
    "There is another option available for selecting specific rows. This is done by means of a conditional statement. \n",
    "\n",
    "- Check what `df[\"PASSENGERS\"] > 0` returns and save it on a variable. Do you have a clue of what is going on under the hood?\n",
    "- Then try to select only the rows which satisfies the above condition. Use the variable as argument for the square bracket notation `df[]`.\n",
    "\n",
    "</div>"
   ]
  },
  {
   "cell_type": "code",
   "execution_count": null,
   "metadata": {},
   "outputs": [],
   "source": []
  },
  {
   "cell_type": "code",
   "execution_count": null,
   "metadata": {},
   "outputs": [],
   "source": []
  },
  {
   "cell_type": "markdown",
   "metadata": {},
   "source": [
    "<hr>"
   ]
  },
  {
   "cell_type": "markdown",
   "metadata": {},
   "source": [
    "<div class=\"alert alert-info\" role=\"alert\">\n",
    "    \n",
    "<img src=\"./icons/list.png\"  width=\"20\" height=\"20\" align=\"left\"> &nbsp;  **Exercise 4** \n",
    "\n",
    "It is possible to add a column to an existing *DataFrame*. This is useful if we want to compute some statistics or we need some custom filter criteria.\n",
    "\n",
    "- assigning a new column to an existing DataFrame. Use the syntax `df[\"new_column\"] = ...` to assign a new object to a column. Sum the *PASSENGERS*, *FREIGHT* and *MAIL* columns and assign the summed values to a new column.\n",
    "- check the results of the new column by getting some samples (try `df.sample(n_sample)`. \n",
    "- get the *UNIQUE_CARRIER* values for which the value of the new column is grater than 10'000. Use `Series.unique()` to keep only unique values of a Series object.\n",
    "\n",
    "Keep in mind that the assigned object should be either a `pandas.Series` or a `numpy.array` object (also python lists are possible). \n",
    "\n",
    "</div>"
   ]
  },
  {
   "cell_type": "markdown",
   "metadata": {},
   "source": [
    "<div class=\"alert alert-success\" role=\"alert\">\n",
    "    \n",
    "<img src=\"./icons/lightbulb.png\"  width=\"20\" height=\"20\" align=\"left\"> &nbsp; **Pandas Tip 2**: it is possible to retrieve the index of a `pandas.DataFrame` by accessing the `DataFrame.index` attribute. \n",
    "\n",
    "</div>"
   ]
  },
  {
   "cell_type": "code",
   "execution_count": null,
   "metadata": {},
   "outputs": [],
   "source": []
  },
  {
   "cell_type": "code",
   "execution_count": null,
   "metadata": {},
   "outputs": [],
   "source": []
  },
  {
   "cell_type": "code",
   "execution_count": null,
   "metadata": {},
   "outputs": [],
   "source": []
  },
  {
   "cell_type": "markdown",
   "metadata": {},
   "source": [
    "<hr>"
   ]
  },
  {
   "cell_type": "markdown",
   "metadata": {},
   "source": [
    "## Group by operations\n",
    "Like in SQL it is possible to perform *group by* operations on a *DataFrame*. This is performed by means of `DataFrame.groupby` method which accept a single column or a list of columns. The returned type is a `DataFrameGroupBy` which has methods to perform operations over the grouped entries. The API for the **GroupBy** objects can be found [here](https://pandas.pydata.org/pandas-docs/stable/reference/groupby.html) while the reference user-guide can be found [here](https://pandas.pydata.org/pandas-docs/stable/user_guide/groupby.html)."
   ]
  },
  {
   "cell_type": "markdown",
   "metadata": {},
   "source": [
    "<div class=\"alert alert-info\" role=\"alert\">\n",
    "    \n",
    "<img src=\"./icons/list.png\"  width=\"20\" height=\"20\" align=\"left\"> &nbsp;  **Exercise 5** \n",
    "\n",
    "- find the number of entries for each carrier. Use `DataFrameGroupBy.count()`.\n",
    "- find the total distance for each of the carrier. Use `DataFrameGroupBy.sum()`.\n",
    "\n",
    "Which is the carrier with the highest distance?\n",
    "\n",
    "</div>"
   ]
  },
  {
   "cell_type": "markdown",
   "metadata": {},
   "source": [
    "<div class=\"alert alert-success\" role=\"alert\">\n",
    "    \n",
    "<img src=\"./icons/lightbulb.png\"  width=\"20\" height=\"20\" align=\"left\"> &nbsp; **Pandas Tip 3**: due to `df.groupby()` applies only to columns and not index it is needed to reset the current index. Use `df.reset_index()` to achieve the goal. \n",
    "\n",
    "</div>"
   ]
  },
  {
   "cell_type": "code",
   "execution_count": null,
   "metadata": {},
   "outputs": [],
   "source": []
  },
  {
   "cell_type": "code",
   "execution_count": null,
   "metadata": {},
   "outputs": [],
   "source": []
  },
  {
   "cell_type": "markdown",
   "metadata": {},
   "source": [
    "<hr>"
   ]
  },
  {
   "cell_type": "markdown",
   "metadata": {},
   "source": [
    "## Combining and Merging\n",
    "It is possible to combine data in pandas in different ways: \n",
    "1. `pandas.merge` connects rows in DataFrames based on one or more keys. This will be familiar to users of SQL or other relational databases, as it implements database join operations.\n",
    "2. `pandas.concat` concatenates or “stacks” together objects along an axis.\n",
    "\n",
    "[Here](https://pandas.pydata.org/pandas-docs/stable/user_guide/merging.html#joining-on-index) it can be found a full guide on options available for the two methods. "
   ]
  },
  {
   "cell_type": "code",
   "execution_count": 5,
   "metadata": {
    "deletable": false,
    "editable": false
   },
   "outputs": [],
   "source": [
    "# preparing mock dataframe for next exercise\n",
    "df_left = df.drop(columns=[\"ORIGIN\", \"DEST\"])\n",
    "df_right = df[[\"ORIGIN_AIRPORT_ID\", \"ORIGIN\"]].drop_duplicates()\n",
    "df_right_dest = df[[\"DEST_AIRPORT_ID\", \"DEST\"]].drop_duplicates().sample(frac=0.7)\n",
    "df_dropped = df[[\"ORIGIN\", \"DEST\"]]"
   ]
  },
  {
   "cell_type": "markdown",
   "metadata": {},
   "source": [
    "<div class=\"alert alert-info\" role=\"alert\">\n",
    "    \n",
    "<img src=\"./icons/list.png\"  width=\"20\" height=\"20\" align=\"left\"> &nbsp;  **Exercise 6** \n",
    "\n",
    "- reconcile the information about the origin airport name by merging the prepared left and right dataset with the `pd.merge` pandas api. Merge by **ORIGIN_AIRPORT_ID**\n",
    "- add the dropped columns *df_dropped* to the *df_left* dataframe in order to reconstruct the original one. Use the `pd.concat` pandas api specifying the `axis` where is wanted to perform the concatenation. \n",
    "- from the **df** datataframe create two new dataframes taking the first 30 rows and rows from index 60 to 90 (included) using the already seen slicing operator. Then create a new dataframe adding the two derived ones.\n",
    "\n",
    "</div>"
   ]
  },
  {
   "cell_type": "markdown",
   "metadata": {},
   "source": [
    "<div class=\"alert alert-success\" role=\"alert\">\n",
    "    \n",
    "<img src=\"./icons/lightbulb.png\"  width=\"20\" height=\"20\" align=\"left\"> &nbsp; **Pandas Tip 4**: the `pd.merge` methods takes the left and right dataframes to be merged as parameters. In addition the `on=<columns>` parameter allows for specifying the key for the merge operation otherwise overlapping columns name are taken.\n",
    "\n",
    "The `how=<left|right|inner|outer>` parameter allows for settings the merging strategy which by default is set to *inner*. \n",
    "</div>"
   ]
  },
  {
   "cell_type": "markdown",
   "metadata": {},
   "source": [
    "<div class=\"alert alert-success\" role=\"alert\">\n",
    "    \n",
    "<img src=\"./icons/lightbulb.png\"  width=\"20\" height=\"20\" align=\"left\"> &nbsp; **Pandas Tip 5**: some pandas operations like `df.min`, `df.max` or `pd.concat` allows for specifying the axis where to perform such operation. There are two major aces in pandas: \n",
    "\n",
    "- axis 0: representing the rows (index)\n",
    "- axis 1: representing the columns\n",
    "\n",
    "</div>"
   ]
  },
  {
   "cell_type": "code",
   "execution_count": null,
   "metadata": {},
   "outputs": [],
   "source": []
  },
  {
   "cell_type": "code",
   "execution_count": null,
   "metadata": {},
   "outputs": [],
   "source": []
  },
  {
   "cell_type": "code",
   "execution_count": null,
   "metadata": {},
   "outputs": [],
   "source": []
  },
  {
   "cell_type": "markdown",
   "metadata": {},
   "source": [
    "<hr>"
   ]
  },
  {
   "cell_type": "markdown",
   "metadata": {},
   "source": [
    "## Plotting results\n",
    "Sometimes it is better to visualize the results we have processed. Pandas *DataFrame* has a `DataFrame.plot()` method which allows for this purpose. The plotting library used by pandas is **matplotlib**. "
   ]
  },
  {
   "cell_type": "markdown",
   "metadata": {},
   "source": [
    "<div class=\"alert alert-info\" role=\"alert\">\n",
    "    \n",
    "<img src=\"./icons/list.png\"  width=\"20\" height=\"20\" align=\"left\"> &nbsp;  **Exercise 7** \n",
    "\n",
    "- show the number of flies for the different months of the year.\n",
    "- add the title and change the size of the plot.\n",
    "\n",
    "</div>"
   ]
  },
  {
   "cell_type": "markdown",
   "metadata": {},
   "source": [
    "<div class=\"alert alert-success\" role=\"alert\">\n",
    "    \n",
    "<img src=\"./icons/lightbulb.png\"  width=\"20\" height=\"20\" align=\"left\"> &nbsp; **MatplotLib Tip 1**: You can create a new figure with the `f = plt.figure(figsize=[10, 5])` and use it to add a subplot `ax = f.add_subplot()` which returns an *Axes* object. \n",
    "\n",
    "Please note:\n",
    "- The subplot can be passed to `DataFrame.plot()` call. \n",
    "- The referenced *Axes* object can then be used to set properties of the plot such as the title.\n",
    "\n",
    "For more references see the [official api](https://matplotlib.org/3.1.1/api/axes_api.html#axis-labels-title-and-legend) doc for Axes.\n",
    "\n",
    "</div>"
   ]
  },
  {
   "cell_type": "code",
   "execution_count": null,
   "metadata": {},
   "outputs": [],
   "source": []
  },
  {
   "cell_type": "code",
   "execution_count": null,
   "metadata": {},
   "outputs": [],
   "source": []
  },
  {
   "cell_type": "markdown",
   "metadata": {},
   "source": [
    "## Homeworks"
   ]
  },
  {
   "cell_type": "markdown",
   "metadata": {},
   "source": [
    "<div class=\"alert alert-danger\" role=\"alert\">\n",
    "    \n",
    "<img src=\"./icons/chemistry.png\"  width=\"20\" height=\"20\" align=\"left\"> &nbsp;  **Task 1**:  Plot the top 5 carriers based on their total distance.\n",
    "[**SOLUTION**](./solutions/handson1/solution_1.py)\n",
    "\n",
    "</div>"
   ]
  },
  {
   "cell_type": "code",
   "execution_count": 13,
   "metadata": {},
   "outputs": [],
   "source": [
    "top_5_distance = (\n",
    "    df[[\"UNIQUE_CARRIER\", \"DISTANCE\"]] # select only the carrier code and the distance\n",
    "    .groupby(\"UNIQUE_CARRIER\") # group by distance and apply an aggregation operator\n",
    "    .sum()\n",
    "    .sort_values(\"DISTANCE\", ascending=False) # sort the aggregated value \n",
    "    .iloc[:5]\n",
    ")"
   ]
  },
  {
   "cell_type": "code",
   "execution_count": 14,
   "metadata": {},
   "outputs": [
    {
     "data": {
      "text/plain": [
       "<matplotlib.axes._subplots.AxesSubplot at 0x7f8b3f911d50>"
      ]
     },
     "execution_count": 14,
     "metadata": {},
     "output_type": "execute_result"
    },
    {
     "data": {
      "image/png": "[encoded data removed]",
      "text/plain": [
       "<Figure size 720x360 with 1 Axes>"
      ]
     },
     "metadata": {
      "needs_background": "light"
     },
     "output_type": "display_data"
    }
   ],
   "source": [
    "f = plt.figure(figsize=[10, 5])\n",
    "ax = f.add_subplot()\n",
    "top_5_distance.plot(kind=\"bar\", ax=ax)"
   ]
  },
  {
   "cell_type": "markdown",
   "metadata": {},
   "source": [
    "<div class=\"alert alert-danger\" role=\"alert\">\n",
    "    \n",
    "<img src=\"./icons/chemistry.png\"  width=\"20\" height=\"20\" align=\"left\"> &nbsp;  **Task 2**:  Plot the top 5 destinations based on the total number of passengers in April.\n",
    "[**SOLUTION**](./solutions/handson1/solution_2.py)\n",
    "</div>"
   ]
  },
  {
   "cell_type": "code",
   "execution_count": 17,
   "metadata": {},
   "outputs": [],
   "source": [
    "top_5_passengers_april = (\n",
    "    df[[\"DEST_AIRPORT_ID\", \"PASSENGERS\", \"MONTH\"]] # select the required columns\n",
    "    .groupby([\"DEST_AIRPORT_ID\", \"MONTH\"]) # group by destination airport id and month\n",
    "    .sum()\n",
    "    .query(\"MONTH == 4\") # filter out all other months except april\n",
    "    .sort_values(\"PASSENGERS\", ascending=False) # sort the aggregated value \n",
    "    .iloc[:5]\n",
    ")"
   ]
  },
  {
   "cell_type": "code",
   "execution_count": 18,
   "metadata": {},
   "outputs": [
    {
     "data": {
      "text/plain": [
       "<matplotlib.axes._subplots.AxesSubplot at 0x7f8b3d8c0dd0>"
      ]
     },
     "execution_count": 18,
     "metadata": {},
     "output_type": "execute_result"
    },
    {
     "data": {
      "image/png": "[encoded data removed]",
      "text/plain": [
       "<Figure size 720x360 with 1 Axes>"
      ]
     },
     "metadata": {
      "needs_background": "light"
     },
     "output_type": "display_data"
    }
   ],
   "source": [
    "f = plt.figure(figsize=[10, 5])\n",
    "ax = f.add_subplot()\n",
    "top_5_passengers_april.plot(kind=\"bar\", ax=ax)"
   ]
  },
  {
   "cell_type": "markdown",
   "metadata": {},
   "source": [
    "<div class=\"alert alert-danger\" role=\"alert\">\n",
    "    \n",
    "<img src=\"./icons/chemistry.png\"  width=\"20\" height=\"20\" align=\"left\"> &nbsp;  **Task 3**:  Check the most crowded route (origin - destination) for *PASSENGERS*, *FREIGHT* and *MAIL*.\n",
    "[**SOLUTION**](./solutions/handson1/solution_3.py)\n",
    "</div>"
   ]
  },
  {
   "cell_type": "code",
   "execution_count": 31,
   "metadata": {},
   "outputs": [],
   "source": [
    "# create a new feature (column) for the dataset using the origin and destination\n",
    "df[\"ROUTE\"] = (\n",
    "    df[[\"ORIGIN_AIRPORT_ID\", \"DEST_AIRPORT_ID\"]]\n",
    "    .apply(lambda x: \"_\".join([str(y) for y in x]), axis=1, raw=True)\n",
    ")"
   ]
  },
  {
   "cell_type": "code",
   "execution_count": 36,
   "metadata": {},
   "outputs": [],
   "source": [
    "aggreg_most_crowded = (\n",
    "    df[[\"ROUTE\", \"MAIL\", \"FREIGHT\", \"PASSENGERS\"]] # select the required columns\n",
    "    .groupby([\"ROUTE\"]) # group by the new ROUTE column \n",
    "    .sum()\n",
    ")"
   ]
  },
  {
   "cell_type": "code",
   "execution_count": 49,
   "metadata": {},
   "outputs": [
    {
     "data": {
      "text/plain": [
       "ORIGIN    ANC\n",
       "DEST      BET\n",
       "Name: 10299_10551, dtype: object"
      ]
     },
     "execution_count": 49,
     "metadata": {},
     "output_type": "execute_result"
    }
   ],
   "source": [
    "# get the top 1 route and take the index\n",
    "idx_mail = aggreg_most_crowded.MAIL.sort_values(ascending=False).index[0]\n",
    "# use the original dataset with the route column, set ROOUTE as index and locate the one of interest\n",
    "df.set_index(\"ROUTE\").loc[idx_mail][[\"ORIGIN\", \"DEST\"]].iloc[0]"
   ]
  },
  {
   "cell_type": "code",
   "execution_count": 50,
   "metadata": {},
   "outputs": [
    {
     "data": {
      "text/plain": [
       "ORIGIN    LAX\n",
       "DEST      SFO\n",
       "Name: 12892_14771, dtype: object"
      ]
     },
     "execution_count": 50,
     "metadata": {},
     "output_type": "execute_result"
    }
   ],
   "source": [
    "idx_pass = aggreg_most_crowded.PASSENGERS.sort_values(ascending=False).index[0]\n",
    "df.set_index(\"ROUTE\").loc[idx_pass][[\"ORIGIN\", \"DEST\"]].iloc[0]"
   ]
  },
  {
   "cell_type": "code",
   "execution_count": 51,
   "metadata": {},
   "outputs": [
    {
     "data": {
      "text/plain": [
       "ORIGIN    ANC\n",
       "DEST      SDF\n",
       "Name: 10299_14730, dtype: object"
      ]
     },
     "execution_count": 51,
     "metadata": {},
     "output_type": "execute_result"
    }
   ],
   "source": [
    "idx_freight = aggreg_most_crowded.FREIGHT.sort_values(ascending=False).index[0]\n",
    "df.set_index(\"ROUTE\").loc[idx_freight][[\"ORIGIN\", \"DEST\"]].iloc[0]"
   ]
  },
  {
   "cell_type": "markdown",
   "metadata": {},
   "source": [
    "<div class=\"alert alert-danger\" role=\"alert\">\n",
    "    \n",
    "<img src=\"./icons/chemistry.png\"  width=\"20\" height=\"20\" align=\"left\"> &nbsp;  **Task 4**:  Check if the number of outgoing passengers equals the total number of incoming passengers in all airports.\n",
    "[**SOLUTION**](./solutions/handson1/solution_4.py)\n",
    "\n",
    "</div>"
   ]
  },
  {
   "cell_type": "code",
   "execution_count": 81,
   "metadata": {},
   "outputs": [],
   "source": [
    "df_outgoing = df[[\"ORIGIN_AIRPORT_ID\", \"PASSENGERS\"]].groupby(\"ORIGIN_AIRPORT_ID\").sum()\n",
    "df_outgoing = df_outgoing.reset_index().rename({\"PASSENGERS\": \"OUTGOING\"}, axis=1)\n",
    "df_incoming =  df[[\"DEST_AIRPORT_ID\", \"PASSENGERS\"]].groupby(\"DEST_AIRPORT_ID\").sum()\n",
    "df_incoming = df_incoming.reset_index().rename({\"PASSENGERS\": \"INCOMING\"}, axis=1)"
   ]
  },
  {
   "cell_type": "code",
   "execution_count": 82,
   "metadata": {},
   "outputs": [],
   "source": [
    "# merge the two crafted dataframe using  the left_on and the rigth_on parameter of the merge\n",
    "# pay attention the merging strategy is inner join\n",
    "df_out_incom = pd.merge(df_outgoing, df_incoming, left_on=\"ORIGIN_AIRPORT_ID\", right_on=\"DEST_AIRPORT_ID\")"
   ]
  },
  {
   "cell_type": "code",
   "execution_count": 83,
   "metadata": {},
   "outputs": [],
   "source": [
    "df_out_incom[\"DIFF\"] = df_out_incom[\"OUTGOING\"] - df_out_incom[\"INCOMING\"]"
   ]
  },
  {
   "cell_type": "code",
   "execution_count": 85,
   "metadata": {},
   "outputs": [
    {
     "data": {
      "text/html": [
       "<div>\n",
       "<style scoped>\n",
       "    .dataframe tbody tr th:only-of-type {\n",
       "        vertical-align: middle;\n",
       "    }\n",
       "\n",
       "    .dataframe tbody tr th {\n",
       "        vertical-align: top;\n",
       "    }\n",
       "\n",
       "    .dataframe thead th {\n",
       "        text-align: right;\n",
       "    }\n",
       "</style>\n",
       "<table border=\"1\" class=\"dataframe\">\n",
       "  <thead>\n",
       "    <tr style=\"text-align: right;\">\n",
       "      <th></th>\n",
       "      <th>ORIGIN_AIRPORT_ID</th>\n",
       "      <th>OUTGOING</th>\n",
       "      <th>DEST_AIRPORT_ID</th>\n",
       "      <th>INCOMING</th>\n",
       "      <th>DIFF</th>\n",
       "    </tr>\n",
       "  </thead>\n",
       "  <tbody>\n",
       "    <tr>\n",
       "      <td>8</td>\n",
       "      <td>10088</td>\n",
       "      <td>2.0</td>\n",
       "      <td>10088</td>\n",
       "      <td>2.0</td>\n",
       "      <td>0.0</td>\n",
       "    </tr>\n",
       "    <tr>\n",
       "      <td>49</td>\n",
       "      <td>10309</td>\n",
       "      <td>4.0</td>\n",
       "      <td>10309</td>\n",
       "      <td>4.0</td>\n",
       "      <td>0.0</td>\n",
       "    </tr>\n",
       "    <tr>\n",
       "      <td>54</td>\n",
       "      <td>10329</td>\n",
       "      <td>31.0</td>\n",
       "      <td>10329</td>\n",
       "      <td>31.0</td>\n",
       "      <td>0.0</td>\n",
       "    </tr>\n",
       "    <tr>\n",
       "      <td>61</td>\n",
       "      <td>10380</td>\n",
       "      <td>13.0</td>\n",
       "      <td>10380</td>\n",
       "      <td>13.0</td>\n",
       "      <td>0.0</td>\n",
       "    </tr>\n",
       "    <tr>\n",
       "      <td>74</td>\n",
       "      <td>10440</td>\n",
       "      <td>9.0</td>\n",
       "      <td>10440</td>\n",
       "      <td>9.0</td>\n",
       "      <td>0.0</td>\n",
       "    </tr>\n",
       "    <tr>\n",
       "      <td>...</td>\n",
       "      <td>...</td>\n",
       "      <td>...</td>\n",
       "      <td>...</td>\n",
       "      <td>...</td>\n",
       "      <td>...</td>\n",
       "    </tr>\n",
       "    <tr>\n",
       "      <td>1027</td>\n",
       "      <td>16537</td>\n",
       "      <td>1.0</td>\n",
       "      <td>16537</td>\n",
       "      <td>1.0</td>\n",
       "      <td>0.0</td>\n",
       "    </tr>\n",
       "    <tr>\n",
       "      <td>1030</td>\n",
       "      <td>16543</td>\n",
       "      <td>4.0</td>\n",
       "      <td>16543</td>\n",
       "      <td>4.0</td>\n",
       "      <td>0.0</td>\n",
       "    </tr>\n",
       "    <tr>\n",
       "      <td>1033</td>\n",
       "      <td>16569</td>\n",
       "      <td>2.0</td>\n",
       "      <td>16569</td>\n",
       "      <td>2.0</td>\n",
       "      <td>0.0</td>\n",
       "    </tr>\n",
       "    <tr>\n",
       "      <td>1047</td>\n",
       "      <td>16843</td>\n",
       "      <td>8.0</td>\n",
       "      <td>16843</td>\n",
       "      <td>8.0</td>\n",
       "      <td>0.0</td>\n",
       "    </tr>\n",
       "    <tr>\n",
       "      <td>1051</td>\n",
       "      <td>16853</td>\n",
       "      <td>1.0</td>\n",
       "      <td>16853</td>\n",
       "      <td>1.0</td>\n",
       "      <td>0.0</td>\n",
       "    </tr>\n",
       "  </tbody>\n",
       "</table>\n",
       "<p>75 rows × 5 columns</p>\n",
       "</div>"
      ],
      "text/plain": [
       "      ORIGIN_AIRPORT_ID  OUTGOING  DEST_AIRPORT_ID  INCOMING  DIFF\n",
       "8                 10088       2.0            10088       2.0   0.0\n",
       "49                10309       4.0            10309       4.0   0.0\n",
       "54                10329      31.0            10329      31.0   0.0\n",
       "61                10380      13.0            10380      13.0   0.0\n",
       "74                10440       9.0            10440       9.0   0.0\n",
       "...                 ...       ...              ...       ...   ...\n",
       "1027              16537       1.0            16537       1.0   0.0\n",
       "1030              16543       4.0            16543       4.0   0.0\n",
       "1033              16569       2.0            16569       2.0   0.0\n",
       "1047              16843       8.0            16843       8.0   0.0\n",
       "1051              16853       1.0            16853       1.0   0.0\n",
       "\n",
       "[75 rows x 5 columns]"
      ]
     },
     "execution_count": 85,
     "metadata": {},
     "output_type": "execute_result"
    }
   ],
   "source": [
    "df_out_incom.query(\"DIFF == 0 and OUTGOING > 0\")"
   ]
  },
  {
   "cell_type": "markdown",
   "metadata": {
    "deletable": false,
    "editable": false,
    "run_control": {
     "frozen": true
    }
   },
   "source": [
    "<div hidden=True>\n",
    "    <img src=\"./icons/list.png\"  width=\"20\" height=\"20\" align=\"left\"> &nbsp; Icon made by <a href=\"https://www.flaticon.com/authors/smashicons\" title=\"Smashicons\">Smashicons</a> from <a href=\"https://www.flaticon.com/\"             title=\"Flaticon\">www.flaticon.com</a>\n",
    "\n",
    "\n",
    "<img src=\"./icons/lightbulb.png\"  width=\"20\" height=\"20\" align=\"left\"> &nbsp;Icon made by <a href=\"https://www.flaticon.com/authors/pixelmeetup\" title=\"Pixelmeetup\">Pixelmeetup</a> from <a href=\"https://www.flaticon.com/\"             title=\"Flaticon\">www.flaticon.com</a>\n",
    "\n",
    "<img src=\"./icons/new.png\"  width=\"20\" height=\"20\" align=\"left\"> &nbsp; Icon made by <a href=\"https://www.flaticon.com/authors/pixel-perfect\" title=\"Pixel perfect\">Pixel perfect</a> from <a href=\"https://www.flaticon.com/\"             title=\"Flaticon\">www.flaticon.com</a>\n",
    "\n",
    "<img src=\"./icons/chemistry.png\"  width=\"20\" height=\"20\" align=\"left\"> &nbsp; Icon made by <a href=\"https://www.flaticon.com/authors/popcorns-arts\" title=\"Icon Pond\">Icon Pond</a> from <a href=\"https://www.flaticon.com/\"             title=\"Flaticon\">www.flaticon.com</a></div>\n",
    "\n",
    "</div>"
   ]
  }
 ],
 "metadata": {
  "kernelspec": {
   "display_name": "Python 3",
   "language": "python",
   "name": "python3"
  },
  "language_info": {
   "codemirror_mode": {
    "name": "ipython",
    "version": 3
   },
   "file_extension": ".py",
   "mimetype": "text/x-python",
   "name": "python",
   "nbconvert_exporter": "python",
   "pygments_lexer": "ipython3",
   "version": "3.7.4"
  },
  "latex_envs": {
   "LaTeX_envs_menu_present": true,
   "autoclose": false,
   "autocomplete": true,
   "bibliofile": "biblio.bib",
   "cite_by": "apalike",
   "current_citInitial": 1,
   "eqLabelWithNumbers": true,
   "eqNumInitial": 1,
   "hotkeys": {
    "equation": "Ctrl-E",
    "itemize": "Ctrl-I"
   },
   "labels_anchors": false,
   "latex_user_defs": false,
   "report_style_numbering": false,
   "user_envs_cfg": false
  },
  "toc": {
   "base_numbering": 1,
   "nav_menu": {},
   "number_sections": true,
   "sideBar": true,
   "skip_h1_title": false,
   "title_cell": "Table of Contents",
   "title_sidebar": "Contents",
   "toc_cell": false,
   "toc_position": {},
   "toc_section_display": true,
   "toc_window_display": false
  },
  "varInspector": {
   "cols": {
    "lenName": 16,
    "lenType": 16,
    "lenVar": 40
   },
   "kernels_config": {
    "python": {
     "delete_cmd_postfix": "",
     "delete_cmd_prefix": "del ",
     "library": "var_list.py",
     "varRefreshCmd": "print(var_dic_list())"
    },
    "r": {
     "delete_cmd_postfix": ") ",
     "delete_cmd_prefix": "rm(",
     "library": "var_list.r",
     "varRefreshCmd": "cat(var_dic_list()) "
    }
   },
   "types_to_exclude": [
    "module",
    "function",
    "builtin_function_or_method",
    "instance",
    "_Feature"
   ],
   "window_display": false
  }
 },
 "nbformat": 4,
 "nbformat_minor": 2
}
