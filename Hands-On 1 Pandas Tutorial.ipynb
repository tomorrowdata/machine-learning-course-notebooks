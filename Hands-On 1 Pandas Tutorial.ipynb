{
 "cells": [
  {
   "cell_type": "markdown",
   "metadata": {
    "deletable": false,
    "editable": false,
    "run_control": {
     "frozen": true
    }
   },
   "source": [
    "<div hidden=True>\n",
    "    author: Marco Angius\n",
    "    company: TomorrowData srl\n",
    "    mail: marco.anguis@tomorrowdata.io\n",
    "    notebook-version: oct19\n",
    "    \n",
    "</div>"
   ]
  },
  {
   "cell_type": "markdown",
   "metadata": {},
   "source": [
    "# Hands-on 1: Python and Pandas\n",
    "\n",
    "This section is meant to learn some basics concepts of Python programming language which are used in the next sections and the following hands-on. After that one important Python library, Pandas, in analyzed in order to learn the fundamental building blocks for the next sessions."
   ]
  },
  {
   "cell_type": "markdown",
   "metadata": {},
   "source": [
    "# Python\n",
    "\n",
    "From the official [site](https://www.python.org/):\n",
    "\n",
    ">**Quick & Easy to Learn**\n",
    "Experienced programmers in any other language can pick up Python very quickly, and beginners find the clean syntax and indentation structure easy to learn. Whet your [appetite with our Python 3 overview](https://docs.python.org/3/tutorial/)\n",
    ">\n",
    ">**Compound Data Types**\n",
    "Lists (known as arrays in other languages) are one of the compound data types that Python understands. Lists can be indexed, sliced and manipulated with other built-in functions. [More about lists in Python 3](https://docs.python.org/3/tutorial/introduction.html#lists)\n",
    ">\n",
    ">**Intuitive Interpretation**\n",
    "Calculations are simple with Python, and expression syntax is straightforward: the operators +, -, * and / work as expected; parentheses `()` can be used for grouping. [More about simple math functions in Python 3](http://docs.python.org/3/tutorial/introduction.html#using-python-as-a-calculator)\n",
    ">\n",
    ">**All the Flow You’d Expect**\n",
    "Python knows the usual control flow statements that other languages speak `if`, `for`, `while` and `range` with some of its own twists, of course. [More control flow tools in Python 3](https://docs.python.org/3/tutorial/controlflow.html)\n",
    ">\n",
    ">**Functions Defined**\n",
    "The core of extensible programming is defining functions. Python allows mandatory and optional arguments, keyword arguments, and even arbitrary argument lists. [More about defining functions in Python 3](https://docs.python.org/3/tutorial/introduction.html#lists)\n",
    ">\n",
    ">```python \n",
    "def fib(n):\n",
    "    a, b = 0, 1\n",
    "    while a < n:\n",
    "        print(a, end=' ')\n",
    "        a, b = b, a+b\n",
    "    print(\"\\nDone!\")\n",
    ">```"
   ]
  },
  {
   "cell_type": "markdown",
   "metadata": {},
   "source": [
    "<div class=\"alert alert-success\" role=\"alert\">\n",
    "    \n",
    "<img src=\"./icons/lightbulb.png\"  width=\"20\" height=\"20\" align=\"left\"> &nbsp; **Python Types**: \n",
    "\n",
    "- `None`: The Python “null” value (only one instance of the None object exists)\n",
    "- `str`: String type; holds Unicode (UTF-8 encoded) strings\n",
    "- `bytes`: Raw ASCII bytes (or Unicode encoded as bytes)\n",
    "- `float`: Double-precision (64-bit) floating-point number (note there is no separate double type)\n",
    "- `bool`: A True or False value\n",
    "- `int`: Arbitrary precision signed integer\n",
    "\n",
    "*NOTE: despite the presence of types, Python employs an Object Models. Every string, number, function etc... is living inside a box called a `Python object`.*\n",
    "\n",
    "</div>"
   ]
  },
  {
   "cell_type": "code",
   "execution_count": 19,
   "metadata": {},
   "outputs": [],
   "source": [
    "# dynamic reference and strong types "
   ]
  },
  {
   "cell_type": "code",
   "execution_count": 20,
   "metadata": {},
   "outputs": [],
   "source": [
    "# imports and functions"
   ]
  },
  {
   "cell_type": "code",
   "execution_count": 21,
   "metadata": {},
   "outputs": [],
   "source": [
    "# binary operators and comparisons"
   ]
  },
  {
   "cell_type": "code",
   "execution_count": 23,
   "metadata": {},
   "outputs": [],
   "source": [
    "# mutable and immutable objects"
   ]
  },
  {
   "cell_type": "code",
   "execution_count": 24,
   "metadata": {},
   "outputs": [],
   "source": [
    "# type casting"
   ]
  },
  {
   "cell_type": "code",
   "execution_count": 25,
   "metadata": {},
   "outputs": [],
   "source": [
    "# control flow "
   ]
  },
  {
   "cell_type": "markdown",
   "metadata": {},
   "source": [
    "<div class=\"alert alert-success\" role=\"alert\">\n",
    "    \n",
    "<img src=\"./icons/lightbulb.png\"  width=\"20\" height=\"20\" align=\"left\"> &nbsp; **Python Built-In Data Structures**: \n",
    "\n",
    "- `tuple`: fixed length and immutable sequence of Python objects\n",
    "- `list`: variable length and mutable sequence of Python objects\n",
    "- `dict`: a flexible size collection of key-value pairs also called hash map. Key and values are Python objects.\n",
    "- `set`: unordered collection of unique elements. Like dicts but with no values. \n",
    "\n",
    "</div>"
   ]
  },
  {
   "cell_type": "code",
   "execution_count": null,
   "metadata": {},
   "outputs": [],
   "source": [
    "# tuple"
   ]
  },
  {
   "cell_type": "code",
   "execution_count": null,
   "metadata": {},
   "outputs": [],
   "source": [
    "# list"
   ]
  },
  {
   "cell_type": "code",
   "execution_count": null,
   "metadata": {},
   "outputs": [],
   "source": [
    "# dict"
   ]
  },
  {
   "cell_type": "code",
   "execution_count": null,
   "metadata": {},
   "outputs": [],
   "source": [
    "# set"
   ]
  },
  {
   "cell_type": "markdown",
   "metadata": {},
   "source": [
    "<div class=\"alert alert-success\" role=\"alert\">\n",
    "    \n",
    "<img src=\"./icons/lightbulb.png\"  width=\"20\" height=\"20\" align=\"left\"> &nbsp; **Python Functions**: \n",
    "\n",
    "Functions are one of the most used methods for code organization and reuse.\n",
    "\n",
    "- Function may present *positional* and *keyword* arguments. The latter are used for optional or default values and do not require to specify them in a precise order.\n",
    "\n",
    "- Functions can also return one or more values.\n",
    "\n",
    "- Functions Are Objects: they can be assigned to a variable or included in one of the previously seen data structures such as a list.\n",
    "\n",
    "- Anonymous (Lambda) functions: simple, single element function defined with the `lambda` keyword.\n",
    "\n",
    "\n",
    "</div>"
   ]
  },
  {
   "cell_type": "code",
   "execution_count": null,
   "metadata": {},
   "outputs": [],
   "source": [
    "# function example"
   ]
  },
  {
   "cell_type": "code",
   "execution_count": null,
   "metadata": {},
   "outputs": [],
   "source": [
    "# returned values (simple or other functions) "
   ]
  },
  {
   "cell_type": "code",
   "execution_count": null,
   "metadata": {},
   "outputs": [],
   "source": [
    "# functions as an object"
   ]
  },
  {
   "cell_type": "code",
   "execution_count": null,
   "metadata": {},
   "outputs": [],
   "source": [
    "# anonymous functions"
   ]
  },
  {
   "cell_type": "markdown",
   "metadata": {},
   "source": [
    "<div class=\"alert alert-success\" role=\"alert\">\n",
    "    \n",
    "<img src=\"./icons/lightbulb.png\"  width=\"20\" height=\"20\" align=\"left\"> &nbsp; **Python Classes**: \n",
    "\n",
    "Python also support Object-Oriented programming paradigm.Because everything in Python is an object is it important to analyze the basic concept around the `class` definition.  \n",
    "\n",
    "- `Attribute Reference`: define and access attributes (or fields) of a class.\n",
    "- `Instantiation`: use function notation and allows for creating an instance of a class.\n",
    "- `Method Objects`: define functions proper of a class which manipulates instance's attributes.\n",
    "\n",
    "</div>"
   ]
  },
  {
   "cell_type": "code",
   "execution_count": null,
   "metadata": {},
   "outputs": [],
   "source": [
    "# define a simple class"
   ]
  },
  {
   "cell_type": "code",
   "execution_count": null,
   "metadata": {},
   "outputs": [],
   "source": [
    "# create instances of the above defined class"
   ]
  },
  {
   "cell_type": "code",
   "execution_count": null,
   "metadata": {},
   "outputs": [],
   "source": [
    "# show instance and class variables"
   ]
  },
  {
   "cell_type": "markdown",
   "metadata": {},
   "source": [
    "<hr>"
   ]
  },
  {
   "cell_type": "markdown",
   "metadata": {},
   "source": [
    "# Pandas\n",
    "\n",
    "From the official [site](https://pandas.pydata.org/): \n",
    "> Pandas is an open source, BSD-licensed library providing high-performance, easy-to-use data structures and data analysis tools for the Python programming language.\n",
    "> Pandas is well suited for many different kinds of data:\n",
    ">- Tabular data with heterogeneously-typed columns, as in an SQL table or Excel spreadsheet\n",
    ">- Ordered and unordered (not necessarily fixed-frequency) time series data.\n",
    ">- Arbitrary matrix data (homogeneously typed or heterogeneous) with row and column labels\n",
    ">- Any other form of observational / statistical data sets. The data actually need not be labeled at all to be placed into a pandas data structure\n",
    "\n",
    "Pandas allows for loading data from different formats (csv, parquet, json, excel...).\n",
    "The two main data structure used in padas are: \n",
    "- `pandas.DataFrame`: 2D labeled, size-mutable structure with heterogeneously-typed columns (tabular data)\n",
    "- `pandas.Series`: 1D labeled homogeneously-typed array (suited for time series)"
   ]
  },
  {
   "cell_type": "code",
   "execution_count": 28,
   "metadata": {
    "deletable": false,
    "editable": false
   },
   "outputs": [],
   "source": [
    "import pandas as pd\n",
    "import numpy as np\n",
    "import matplotlib.pyplot as plt"
   ]
  },
  {
   "cell_type": "markdown",
   "metadata": {},
   "source": [
    "<div class=\"alert alert-info\" role=\"alert\">\n",
    "    \n",
    "<img src=\"./icons/list.png\"  width=\"20\" height=\"20\" align=\"left\"> &nbsp;  **Exercise 1: Series**\n",
    "\n",
    "A Series can be considered as an array containing the same values type with labels. Labels represent values of a Series's index. \n",
    "\n",
    "- Define a **Series** object by passing a list of values `pd.Series(list(range(10)))` and store it in a variable named *my_series*.\n",
    "- Update the index of *my_series* by assigning dates to the `my_series.index` attribute.  \n",
    "- Check if a value is included in *my_series* using the syntax: `<any-value> in my_series`.\n",
    "- Access one or more values by means of square bracket subscripting `s[<index-value>]`. It is possible to pass a list of index values.\n",
    "- Use `numpy.exp(my_series)` to apply any function to the series.  \n",
    "- Define another **Series** by passing a dictionary of key-value pairs , where the key is the index.\n",
    "\n",
    "</div>"
   ]
  },
  {
   "cell_type": "markdown",
   "metadata": {},
   "source": [
    "<div class=\"alert alert-success\" role=\"alert\">\n",
    "    \n",
    "<img src=\"./icons/lightbulb.png\"  width=\"20\" height=\"20\" align=\"left\"> &nbsp; **Pandas Tip 1**: it is possible to create a range of datetimes values by using the pandas function `pd.date_range()` [API](https://pandas.pydata.org/pandas-docs/stable/reference/api/pandas.date_range.html).\n",
    "\n",
    "The function takes several parameters, the most important: \n",
    "- `start`: start date (example \"2020-10-10\")\n",
    "- `end`: (optional) ending date (example \"2020-10-19\")\n",
    "- `freq`: define the sampling frequency for the defined boundaries. Use \"D\" for days, \"H\" for hours, etc...\n",
    "- `periods`: number of periods to generate (allows for more control)\n",
    "</div>"
   ]
  },
  {
   "cell_type": "code",
   "execution_count": null,
   "metadata": {},
   "outputs": [],
   "source": []
  },
  {
   "cell_type": "code",
   "execution_count": null,
   "metadata": {},
   "outputs": [],
   "source": []
  },
  {
   "cell_type": "code",
   "execution_count": null,
   "metadata": {},
   "outputs": [],
   "source": []
  },
  {
   "cell_type": "code",
   "execution_count": null,
   "metadata": {},
   "outputs": [],
   "source": []
  },
  {
   "cell_type": "code",
   "execution_count": null,
   "metadata": {},
   "outputs": [],
   "source": []
  },
  {
   "cell_type": "markdown",
   "metadata": {},
   "source": [
    "<div class=\"alert alert-info\" role=\"alert\">\n",
    "    \n",
    "<img src=\"./icons/list.png\"  width=\"20\" height=\"20\" align=\"left\"> &nbsp;  **Exercise 2: DataFrames**\n",
    "\n",
    "A DataFrame is a table and can be thought as a collection of Series sharing all the same index. The main concepts of a DataFrame are *raws* and *columns*, which are both indexed. \n",
    "\n",
    "- Define a `DataFrame` object by passing a dictionary of key-values pairs, where values is a list or an array of the same size (a dictionary is already provided). Assign the new instance to a variable called *my_frame*.\n",
    "\n",
    "- Set the index of the new Dataframe with the provided *timestamp* array.\n",
    "\n",
    "- Check for missing values. Use the method `my_frame.isna()`. \n",
    "\n",
    "- Fill missing values with the `my_frame.fillna()` method. It is also possible to drop missing values with `my_frame.dropna()`.\n",
    "\n",
    "- Define a new index with the `dp.date_range()` function, with a range from *'2020-10-01'* to *2020-11-02* and daily frequency.\n",
    "\n",
    "- Update the index of the *my_frame* using the `my_frame.reindex()` method. \n",
    "\n",
    "- Are there missing values after reindexing ? Check the [reindex](https://pandas.pydata.org/pandas-docs/stable/reference/api/pandas.DataFrame.reindex.html) official api for possible solutions. \n",
    "\n",
    "</div>"
   ]
  },
  {
   "cell_type": "markdown",
   "metadata": {},
   "source": [
    "<div class=\"alert alert-success\" role=\"alert\">\n",
    "    \n",
    "<img src=\"./icons/lightbulb.png\"  width=\"20\" height=\"20\" align=\"left\"> &nbsp; **Pandas Tip 2**: it is possible to specify the index while instantiating either a **Series** or a **DataFrame** with the `index` parameter. For a **DataFrame** it is also possible to specify column names with the `columns` parameter. \n",
    "\n",
    "</div>"
   ]
  },
  {
   "cell_type": "code",
   "execution_count": 165,
   "metadata": {
    "deletable": false,
    "editable": false
   },
   "outputs": [],
   "source": [
    "samples = 30\n",
    "frame_dict = {\n",
    "    'Temperature': [x if int(x) != 23 else None for x in np.random.normal(loc=22, scale=3, size=samples)],\n",
    "    'Humidity': [x if int(x) != 57 else None for x in np.random.normal(loc=55, scale=5, size=samples)]\n",
    "}\n",
    "timestamp = pd.date_range(start='2020-10-01', periods=samples, freq='D')"
   ]
  },
  {
   "cell_type": "code",
   "execution_count": null,
   "metadata": {},
   "outputs": [],
   "source": []
  },
  {
   "cell_type": "code",
   "execution_count": null,
   "metadata": {},
   "outputs": [],
   "source": []
  },
  {
   "cell_type": "code",
   "execution_count": null,
   "metadata": {},
   "outputs": [],
   "source": []
  },
  {
   "cell_type": "code",
   "execution_count": null,
   "metadata": {},
   "outputs": [],
   "source": []
  },
  {
   "cell_type": "markdown",
   "metadata": {},
   "source": [
    "<hr>"
   ]
  },
  {
   "cell_type": "markdown",
   "metadata": {},
   "source": [
    "## Load and Manipulate DataFrames with pandas\n",
    "\n",
    "The examples provided in this notebook are based on data coming from the BTP (*Bureau of Transportation Statistics*) concerning **Air Carrier Statistics** of U.S Carriers retrieved [here](https://www.transtats.bts.gov/tables.asp?Table_ID=258&SYS_Table_Name=T_T100D_MARKET_US_CARRIER_ONLY). \n",
    "\n",
    "In detail the dataset is based on the *T-100 Domestic Market*: \n",
    "> This table contains domestic market data reported by U.S. air carriers, including carrier, origin, destination, and service class for enplaned passengers, freight and mail when both origin and destination airports are located within the boundaries of the United States and its territories.\n",
    "</div>\n",
    "\n",
    "## T-100 Domestic Market Dataset\n",
    "\n",
    "\n",
    "Details of selectable fields for the downloaded table can be found [here](https://www.transtats.bts.gov/DL_SelectFields.asp). \n",
    "\n",
    "The pre-downloaded data has the following columns: \n",
    "1. UniqueCarrier\n",
    "2. UniqueCarrierName\n",
    "3. CarrierRegion\n",
    "4. OriginAirportID\n",
    "5. Origin\n",
    "6. OriginCityName\n",
    "7. DestAirportID\n",
    "8. Dest\n",
    "9. DestCityName\n",
    "10. Month\n",
    "11. Passengeres\n",
    "12. Freight\n",
    "13. Mail\n",
    "14. Distance\n",
    "\n",
    "Only 2019 data has been downloaded in zip format. "
   ]
  },
  {
   "cell_type": "markdown",
   "metadata": {},
   "source": [
    "<hr>"
   ]
  },
  {
   "cell_type": "markdown",
   "metadata": {},
   "source": [
    "<div class=\"alert alert-info\" role=\"alert\">\n",
    "    \n",
    "<img src=\"./icons/list.png\"  width=\"20\" height=\"20\" align=\"left\"> &nbsp;  **Exercise 3**\n",
    "- load the *t100_domestic_market* dataset using the `pd.read_csv()`.\n",
    "- display information about the dataframe using `df.info()`.\n",
    "- show the first 5 rows of the dataframe using `df.head()`.\n",
    "\n",
    "Do columns contain null values?\n",
    "\n",
    "</div>"
   ]
  },
  {
   "cell_type": "markdown",
   "metadata": {},
   "source": [
    "<div class=\"alert alert-success\" role=\"alert\">\n",
    "    \n",
    "<img src=\"./icons/lightbulb.png\"  width=\"20\" height=\"20\" align=\"left\"> &nbsp; **Jupyter Notebooks Tip 1**: you can press `<tab>` to autocomplete or list the possible methods for an object.\n",
    "\n",
    "</div>"
   ]
  },
  {
   "cell_type": "code",
   "execution_count": 2,
   "metadata": {
    "deletable": false,
    "editable": false
   },
   "outputs": [],
   "source": [
    "AIRLINE_DATA = \"./t100_domestic_market_bts.zip\""
   ]
  },
  {
   "cell_type": "code",
   "execution_count": null,
   "metadata": {},
   "outputs": [],
   "source": []
  },
  {
   "cell_type": "code",
   "execution_count": null,
   "metadata": {},
   "outputs": [],
   "source": []
  },
  {
   "cell_type": "code",
   "execution_count": null,
   "metadata": {},
   "outputs": [],
   "source": []
  },
  {
   "cell_type": "markdown",
   "metadata": {},
   "source": [
    "<div class=\"alert alert-success\" role=\"alert\">\n",
    "    \n",
    "<img src=\"./icons/lightbulb.png\"  width=\"20\" height=\"20\" align=\"left\"> &nbsp; **Pandas Tip 3**: it is possible to show statistics about the current dataframe `df.describe()` for numerical-only features. \n",
    "It provides: \n",
    "<ul>\n",
    "    <li>count: number of non-null samples in the dataframe for the given column</li>\n",
    "    <li>mean: mean values for the given column</li>\n",
    "    <li>std: standard deviation for the given column</li>\n",
    "    <li>min/max: min/max values for the given column</li>\n",
    "    <li>25%, 50%, 75%: percentiles for the given column</li>\n",
    "</ul>\n",
    "\n",
    "Percentiles are useful to check under which value a specified subset (percentage) of the observed data falls.\n",
    "\n",
    "</div>"
   ]
  },
  {
   "cell_type": "markdown",
   "metadata": {},
   "source": [
    "<hr>"
   ]
  },
  {
   "cell_type": "markdown",
   "metadata": {},
   "source": [
    "<div class=\"alert alert-warning\" role=\"alert\">\n",
    "    \n",
    "<img src=\"./icons/new.png\"  width=\"20\" height=\"20\" align=\"left\"> &nbsp;  **NumPy** \n",
    "\n",
    "NumPy is the fundamental package for scientific computing with Python. It contains among other things:\n",
    "- a powerful N-dimensional array object called `ndarray`\n",
    "- mathematical functions for fast operations\n",
    "- tools for integrating C/C++ and Fortran code\n",
    "- useful linear algebra, Fourier transform, and random number capabilities\n",
    "\n",
    "Besides its obvious scientific uses, NumPy can also be used as an efficient multi-dimensional container of generic data. Arbitrary data-types can be defined. This allows NumPy to seamlessly and speedily integrate with a wide variety of databases.\n",
    "\n",
    "</div>"
   ]
  },
  {
   "cell_type": "markdown",
   "metadata": {},
   "source": [
    "\n",
    "<div align=\"center\">Example of slicing in pandas (same while using numpy arrays).</div>\n",
    "<img src=\"./images/nparray_slicing.png\"  width=\"900\" height=\"600\" align=\"center\">"
   ]
  },
  {
   "cell_type": "markdown",
   "metadata": {},
   "source": [
    "<div class=\"alert alert-info\" role=\"alert\">\n",
    "    \n",
    "<img src=\"./icons/list.png\"  width=\"20\" height=\"20\" align=\"left\"> &nbsp;  **Exercise 4**\n",
    "\n",
    "As you have probably observed there is a strange column named `Unnamed: 11`. We can drop it! \n",
    "- drop the column using `df.drop()`. Use the *inplace* parameter if you want!\n",
    "\n",
    "<br>\n",
    "\n",
    "The general syntax for slicing a collection in python is `[start:stop:step]`. If start or stop is omitted the default value is the first or last element respectively.  \n",
    "\n",
    "\n",
    "- show the first five rows to see if the column is still present. Use slicing `df[:5]`.\n",
    "- what if we want to show the last 5 rows? \n",
    "- what about the last 5 rows in descending order?\n",
    "\n",
    "<br>\n",
    "\n",
    "Once indexed, it is possible to locate rows by means of their integer position (use `DataFrame.iloc[]`) or by means of the index value (use `df.loc[]`). \n",
    "\n",
    "- set an index, for example the *UNIQUE_CARRIER* column. Use `df.set_index()`.\n",
    "- now try to find all rows related with the carrier id *27Q*. \n",
    "\n",
    "</div>"
   ]
  },
  {
   "cell_type": "markdown",
   "metadata": {},
   "source": [
    "<div class=\"alert alert-success\" role=\"alert\">\n",
    "    \n",
    "<img src=\"./icons/lightbulb.png\"  width=\"20\" height=\"20\" align=\"left\"> &nbsp; **Jupyter Notebooks Tip 2**: you can press `<left-shift> + <tab>` while the cursor is in between a function parenthesis to show the doc related with it\n",
    "\n",
    "</div>"
   ]
  },
  {
   "cell_type": "code",
   "execution_count": null,
   "metadata": {},
   "outputs": [],
   "source": []
  },
  {
   "cell_type": "code",
   "execution_count": null,
   "metadata": {},
   "outputs": [],
   "source": []
  },
  {
   "cell_type": "code",
   "execution_count": null,
   "metadata": {},
   "outputs": [],
   "source": []
  },
  {
   "cell_type": "code",
   "execution_count": null,
   "metadata": {},
   "outputs": [],
   "source": []
  },
  {
   "cell_type": "code",
   "execution_count": null,
   "metadata": {},
   "outputs": [],
   "source": []
  },
  {
   "cell_type": "code",
   "execution_count": null,
   "metadata": {},
   "outputs": [],
   "source": []
  },
  {
   "cell_type": "markdown",
   "metadata": {},
   "source": [
    "<hr>"
   ]
  },
  {
   "cell_type": "markdown",
   "metadata": {},
   "source": [
    "<div class=\"alert alert-info\" role=\"alert\">\n",
    "    \n",
    "<img src=\"./icons/list.png\"  width=\"20\" height=\"20\" align=\"left\"> &nbsp;  **Exercise 5** \n",
    "\n",
    "A column in a panda *DataFrame* can contain whatever type, also python list or dictionaries.\n",
    "\n",
    "It is also possible to select a single column or a subset of the columns. In any case, when a single column is selected what is returned is a `pandas.Series` object. Instead when multiple columns are selected a `pandas.DataFrame` is returned.\n",
    "\n",
    "- select the *UNIQUE_CARRIER_NAME* column. Use `df[\"column_name\"]` for selecting a single column.\n",
    "- select multiple columns by passing a list of column names instead of a single column name.\n",
    "\n",
    "There is another option available for selecting specific rows. This is done by means of a conditional statement. \n",
    "\n",
    "- Check what `df[\"PASSENGERS\"] > 0` returns and save it on a variable. Do you have a clue of what is going on under the hood?\n",
    "- Then try to select only the rows which satisfies the above condition. Use the variable as argument for the square bracket notation `df[]`.\n",
    "\n",
    "</div>"
   ]
  },
  {
   "cell_type": "code",
   "execution_count": null,
   "metadata": {},
   "outputs": [],
   "source": []
  },
  {
   "cell_type": "code",
   "execution_count": null,
   "metadata": {},
   "outputs": [],
   "source": []
  },
  {
   "cell_type": "markdown",
   "metadata": {},
   "source": [
    "<hr>"
   ]
  },
  {
   "cell_type": "markdown",
   "metadata": {},
   "source": [
    "<div class=\"alert alert-info\" role=\"alert\">\n",
    "    \n",
    "<img src=\"./icons/list.png\"  width=\"20\" height=\"20\" align=\"left\"> &nbsp;  **Exercise 6** \n",
    "\n",
    "It is possible to add a column to an existing *DataFrame*. This is useful if we want to compute some statistics or we need some custom filter criteria.\n",
    "\n",
    "- assigning a new column to an existing DataFrame. Use the syntax `df[\"new_column\"] = ...` to assign a new object to a column. Sum the *PASSENGERS*, *FREIGHT* and *MAIL* columns and assign the summed values to a new column.\n",
    "- check the results of the new column by getting some samples (try `df.sample(n_sample)`. \n",
    "- get the *UNIQUE_CARRIER* values for which the value of the new column is grater than 10'000. Use `Series.unique()` to keep only unique values of a Series object.\n",
    "\n",
    "Keep in mind that the assigned object should be either a `pandas.Series` or a `numpy.array` object (also python lists are possible). \n",
    "\n",
    "</div>"
   ]
  },
  {
   "cell_type": "code",
   "execution_count": null,
   "metadata": {},
   "outputs": [],
   "source": []
  },
  {
   "cell_type": "code",
   "execution_count": null,
   "metadata": {},
   "outputs": [],
   "source": []
  },
  {
   "cell_type": "code",
   "execution_count": null,
   "metadata": {},
   "outputs": [],
   "source": []
  },
  {
   "cell_type": "markdown",
   "metadata": {},
   "source": [
    "<hr>"
   ]
  },
  {
   "cell_type": "markdown",
   "metadata": {},
   "source": [
    "## Group by operations\n",
    "Like in SQL it is possible to perform *group by* operations on a *DataFrame*. This is performed by means of `DataFrame.groupby` method which accept a single column or a list of columns. The returned type is a `DataFrameGroupBy` which has methods to perform operations over the grouped entries. The API for the **GroupBy** objects can be found [here](https://pandas.pydata.org/pandas-docs/stable/reference/groupby.html) while the reference user-guide can be found [here](https://pandas.pydata.org/pandas-docs/stable/user_guide/groupby.html)."
   ]
  },
  {
   "cell_type": "markdown",
   "metadata": {},
   "source": [
    "<div class=\"alert alert-info\" role=\"alert\">\n",
    "    \n",
    "<img src=\"./icons/list.png\"  width=\"20\" height=\"20\" align=\"left\"> &nbsp;  **Exercise 7** \n",
    "\n",
    "- find the number of entries for each carrier. Use `DataFrameGroupBy.count()`.\n",
    "- find the total distance for each of the carrier. Use `DataFrameGroupBy.sum()`.\n",
    "\n",
    "Which is the carrier with the highest distance?\n",
    "\n",
    "</div>"
   ]
  },
  {
   "cell_type": "markdown",
   "metadata": {},
   "source": [
    "<div class=\"alert alert-success\" role=\"alert\">\n",
    "    \n",
    "<img src=\"./icons/lightbulb.png\"  width=\"20\" height=\"20\" align=\"left\"> &nbsp; **Pandas Tip 4**: due to `df.groupby()` applies only to columns and not index it is needed to reset the current index. Use `df.reset_index()` to achieve the goal. \n",
    "\n",
    "</div>"
   ]
  },
  {
   "cell_type": "code",
   "execution_count": null,
   "metadata": {},
   "outputs": [],
   "source": []
  },
  {
   "cell_type": "code",
   "execution_count": null,
   "metadata": {},
   "outputs": [],
   "source": []
  },
  {
   "cell_type": "markdown",
   "metadata": {},
   "source": [
    "<hr>"
   ]
  },
  {
   "cell_type": "markdown",
   "metadata": {},
   "source": [
    "## Combining and Merging\n",
    "It is possible to combine data in pandas in different ways: \n",
    "1. `pandas.merge` connects rows in DataFrames based on one or more keys. This will be familiar to users of SQL or other relational databases, as it implements database join operations.\n",
    "2. `pandas.concat` concatenates or “stacks” together objects along an axis.\n",
    "\n",
    "[Here](https://pandas.pydata.org/pandas-docs/stable/user_guide/merging.html#joining-on-index) it can be found a full guide on options available for the two methods. "
   ]
  },
  {
   "cell_type": "code",
   "execution_count": 5,
   "metadata": {
    "deletable": false,
    "editable": false
   },
   "outputs": [],
   "source": [
    "# preparing mock dataframe for next exercise\n",
    "df_left = df.drop(columns=[\"ORIGIN\", \"DEST\"])\n",
    "df_right = df[[\"ORIGIN_AIRPORT_ID\", \"ORIGIN\"]].drop_duplicates()\n",
    "df_right_dest = df[[\"DEST_AIRPORT_ID\", \"DEST\"]].drop_duplicates().sample(frac=0.7)\n",
    "df_dropped = df[[\"ORIGIN\", \"DEST\"]]"
   ]
  },
  {
   "cell_type": "markdown",
   "metadata": {},
   "source": [
    "<div class=\"alert alert-info\" role=\"alert\">\n",
    "    \n",
    "<img src=\"./icons/list.png\"  width=\"20\" height=\"20\" align=\"left\"> &nbsp;  **Exercise 8** \n",
    "\n",
    "- reconcile the information about the origin airport name by merging the prepared left and right dataset with the `pd.merge` pandas api. Merge by **ORIGIN_AIRPORT_ID**\n",
    "- add the dropped columns *df_dropped* to the *df_left* dataframe in order to reconstruct the original one. Use the `pd.concat` pandas api specifying the `axis` where is wanted to perform the concatenation. \n",
    "- from the **df** datataframe create two new dataframes taking the first 30 rows and rows from index 60 to 90 (included) using the already seen slicing operator. Then create a new dataframe adding the two derived ones.\n",
    "\n",
    "</div>"
   ]
  },
  {
   "cell_type": "markdown",
   "metadata": {},
   "source": [
    "<div class=\"alert alert-success\" role=\"alert\">\n",
    "    \n",
    "<img src=\"./icons/lightbulb.png\"  width=\"20\" height=\"20\" align=\"left\"> &nbsp; **Pandas Tip 5**: the `pd.merge` methods takes the left and right dataframes to be merged as parameters. In addition the `on=<columns>` parameter allows for specifying the key for the merge operation otherwise overlapping columns name are taken.\n",
    "\n",
    "The `how=<left|right|inner|outer>` parameter allows for settings the merging strategy which by default is set to *inner*. \n",
    "</div>"
   ]
  },
  {
   "cell_type": "markdown",
   "metadata": {},
   "source": [
    "<div class=\"alert alert-success\" role=\"alert\">\n",
    "    \n",
    "<img src=\"./icons/lightbulb.png\"  width=\"20\" height=\"20\" align=\"left\"> &nbsp; **Pandas Tip 6**: some pandas operations like `df.min`, `df.max` or `pd.concat` allows for specifying the axis where to perform such operation. There are two major aces in pandas: \n",
    "\n",
    "- axis 0: representing the rows (index)\n",
    "- axis 1: representing the columns\n",
    "\n",
    "</div>"
   ]
  },
  {
   "cell_type": "code",
   "execution_count": null,
   "metadata": {},
   "outputs": [],
   "source": []
  },
  {
   "cell_type": "code",
   "execution_count": null,
   "metadata": {},
   "outputs": [],
   "source": []
  },
  {
   "cell_type": "code",
   "execution_count": null,
   "metadata": {},
   "outputs": [],
   "source": []
  },
  {
   "cell_type": "markdown",
   "metadata": {},
   "source": [
    "<hr>"
   ]
  },
  {
   "cell_type": "markdown",
   "metadata": {},
   "source": [
    "## Plotting results\n",
    "Sometimes it is better to visualize the results we have processed. Pandas *DataFrame* has a `DataFrame.plot()` method which allows for this purpose. The plotting library used by pandas is **matplotlib**. "
   ]
  },
  {
   "cell_type": "markdown",
   "metadata": {},
   "source": [
    "<div class=\"alert alert-info\" role=\"alert\">\n",
    "    \n",
    "<img src=\"./icons/list.png\"  width=\"20\" height=\"20\" align=\"left\"> &nbsp;  **Exercise 9** \n",
    "\n",
    "- show the number of flies for the different months of the year.\n",
    "- add the title and change the size of the plot.\n",
    "\n",
    "</div>"
   ]
  },
  {
   "cell_type": "markdown",
   "metadata": {},
   "source": [
    "<div class=\"alert alert-success\" role=\"alert\">\n",
    "    \n",
    "<img src=\"./icons/lightbulb.png\"  width=\"20\" height=\"20\" align=\"left\"> &nbsp; **MatplotLib Tip 1**: You can create a new figure with the `f = plt.figure(figsize=[10, 5])` and use it to add a subplot `ax = f.add_subplot()` which returns an *Axes* object. \n",
    "\n",
    "Please note:\n",
    "- The subplot can be passed to `DataFrame.plot()` call. \n",
    "- The referenced *Axes* object can then be used to set properties of the plot such as the title.\n",
    "\n",
    "For more references see the [official api](https://matplotlib.org/3.1.1/api/axes_api.html#axis-labels-title-and-legend) doc for Axes.\n",
    "\n",
    "</div>"
   ]
  },
  {
   "cell_type": "code",
   "execution_count": null,
   "metadata": {},
   "outputs": [],
   "source": []
  },
  {
   "cell_type": "code",
   "execution_count": null,
   "metadata": {},
   "outputs": [],
   "source": []
  },
  {
   "cell_type": "markdown",
   "metadata": {},
   "source": [
    "## Homeworks"
   ]
  },
  {
   "cell_type": "markdown",
   "metadata": {},
   "source": [
    "<div class=\"alert alert-danger\" role=\"alert\">\n",
    "    \n",
    "<img src=\"./icons/chemistry.png\"  width=\"20\" height=\"20\" align=\"left\"> &nbsp;  **Task 1**:  Plot the top 5 carriers based on their total distance.\n",
    "[**SOLUTION**](./solutions/handson1/solution_1.py)\n",
    "\n",
    "</div>"
   ]
  },
  {
   "cell_type": "code",
   "execution_count": null,
   "metadata": {},
   "outputs": [],
   "source": []
  },
  {
   "cell_type": "code",
   "execution_count": null,
   "metadata": {},
   "outputs": [],
   "source": []
  },
  {
   "cell_type": "code",
   "execution_count": null,
   "metadata": {},
   "outputs": [],
   "source": []
  },
  {
   "cell_type": "markdown",
   "metadata": {},
   "source": [
    "<div class=\"alert alert-danger\" role=\"alert\">\n",
    "    \n",
    "<img src=\"./icons/chemistry.png\"  width=\"20\" height=\"20\" align=\"left\"> &nbsp;  **Task 2**:  Plot the top 5 destinations based on the total number of passengers in April.\n",
    "[**SOLUTION**](./solutions/handson1/solution_2.py)\n",
    "</div>"
   ]
  },
  {
   "cell_type": "code",
   "execution_count": null,
   "metadata": {},
   "outputs": [],
   "source": []
  },
  {
   "cell_type": "code",
   "execution_count": null,
   "metadata": {},
   "outputs": [],
   "source": []
  },
  {
   "cell_type": "code",
   "execution_count": null,
   "metadata": {},
   "outputs": [],
   "source": []
  },
  {
   "cell_type": "markdown",
   "metadata": {},
   "source": [
    "<div class=\"alert alert-danger\" role=\"alert\">\n",
    "    \n",
    "<img src=\"./icons/chemistry.png\"  width=\"20\" height=\"20\" align=\"left\"> &nbsp;  **Task 3**:  Check the most crowded route (origin - destination) for *PASSENGERS*, *FREIGHT* and *MAIL*.\n",
    "[**SOLUTION**](./solutions/handson1/solution_3.py)\n",
    "</div>"
   ]
  },
  {
   "cell_type": "code",
   "execution_count": null,
   "metadata": {},
   "outputs": [],
   "source": []
  },
  {
   "cell_type": "code",
   "execution_count": null,
   "metadata": {},
   "outputs": [],
   "source": []
  },
  {
   "cell_type": "code",
   "execution_count": null,
   "metadata": {},
   "outputs": [],
   "source": []
  },
  {
   "cell_type": "markdown",
   "metadata": {},
   "source": [
    "<div class=\"alert alert-danger\" role=\"alert\">\n",
    "    \n",
    "<img src=\"./icons/chemistry.png\"  width=\"20\" height=\"20\" align=\"left\"> &nbsp;  **Task 4**:  Check if the number of outgoing passengers equals the total number of incoming passengers in all airports.\n",
    "[**SOLUTION**](./solutions/handson1/solution_4.py)\n",
    "\n",
    "</div>"
   ]
  },
  {
   "cell_type": "code",
   "execution_count": null,
   "metadata": {},
   "outputs": [],
   "source": []
  },
  {
   "cell_type": "code",
   "execution_count": null,
   "metadata": {},
   "outputs": [],
   "source": []
  },
  {
   "cell_type": "code",
   "execution_count": null,
   "metadata": {},
   "outputs": [],
   "source": []
  },
  {
   "cell_type": "markdown",
   "metadata": {
    "deletable": false,
    "editable": false,
    "run_control": {
     "frozen": true
    }
   },
   "source": [
    "<div hidden=True>\n",
    "    <img src=\"./icons/list.png\"  width=\"20\" height=\"20\" align=\"left\"> &nbsp; Icon made by <a href=\"https://www.flaticon.com/authors/smashicons\" title=\"Smashicons\">Smashicons</a> from <a href=\"https://www.flaticon.com/\"             title=\"Flaticon\">www.flaticon.com</a>\n",
    "\n",
    "\n",
    "<img src=\"./icons/lightbulb.png\"  width=\"20\" height=\"20\" align=\"left\"> &nbsp;Icon made by <a href=\"https://www.flaticon.com/authors/pixelmeetup\" title=\"Pixelmeetup\">Pixelmeetup</a> from <a href=\"https://www.flaticon.com/\"             title=\"Flaticon\">www.flaticon.com</a>\n",
    "\n",
    "<img src=\"./icons/new.png\"  width=\"20\" height=\"20\" align=\"left\"> &nbsp; Icon made by <a href=\"https://www.flaticon.com/authors/pixel-perfect\" title=\"Pixel perfect\">Pixel perfect</a> from <a href=\"https://www.flaticon.com/\"             title=\"Flaticon\">www.flaticon.com</a>\n",
    "\n",
    "<img src=\"./icons/chemistry.png\"  width=\"20\" height=\"20\" align=\"left\"> &nbsp; Icon made by <a href=\"https://www.flaticon.com/authors/popcorns-arts\" title=\"Icon Pond\">Icon Pond</a> from <a href=\"https://www.flaticon.com/\"             title=\"Flaticon\">www.flaticon.com</a></div>\n",
    "\n",
    "</div>"
   ]
  }
 ],
 "metadata": {
  "kernelspec": {
   "display_name": "Python 3",
   "language": "python",
   "name": "python3"
  },
  "language_info": {
   "codemirror_mode": {
    "name": "ipython",
    "version": 3
   },
   "file_extension": ".py",
   "mimetype": "text/x-python",
   "name": "python",
   "nbconvert_exporter": "python",
   "pygments_lexer": "ipython3",
   "version": "3.7.4"
  },
  "latex_envs": {
   "LaTeX_envs_menu_present": true,
   "autoclose": false,
   "autocomplete": true,
   "bibliofile": "biblio.bib",
   "cite_by": "apalike",
   "current_citInitial": 1,
   "eqLabelWithNumbers": true,
   "eqNumInitial": 1,
   "hotkeys": {
    "equation": "Ctrl-E",
    "itemize": "Ctrl-I"
   },
   "labels_anchors": false,
   "latex_user_defs": false,
   "report_style_numbering": false,
   "user_envs_cfg": false
  },
  "toc": {
   "base_numbering": 1,
   "nav_menu": {},
   "number_sections": true,
   "sideBar": true,
   "skip_h1_title": false,
   "title_cell": "Table of Contents",
   "title_sidebar": "Contents",
   "toc_cell": false,
   "toc_position": {},
   "toc_section_display": true,
   "toc_window_display": false
  },
  "varInspector": {
   "cols": {
    "lenName": 16,
    "lenType": 16,
    "lenVar": 40
   },
   "kernels_config": {
    "python": {
     "delete_cmd_postfix": "",
     "delete_cmd_prefix": "del ",
     "library": "var_list.py",
     "varRefreshCmd": "print(var_dic_list())"
    },
    "r": {
     "delete_cmd_postfix": ") ",
     "delete_cmd_prefix": "rm(",
     "library": "var_list.r",
     "varRefreshCmd": "cat(var_dic_list()) "
    }
   },
   "types_to_exclude": [
    "module",
    "function",
    "builtin_function_or_method",
    "instance",
    "_Feature"
   ],
   "window_display": false
  }
 },
 "nbformat": 4,
 "nbformat_minor": 2
}
